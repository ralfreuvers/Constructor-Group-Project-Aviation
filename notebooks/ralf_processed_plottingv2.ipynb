{
 "cells": [
  {
   "cell_type": "markdown",
   "metadata": {},
   "source": [
    "# Plots"
   ]
  },
  {
   "cell_type": "code",
   "execution_count": 209,
   "metadata": {},
   "outputs": [],
   "source": [
    "import pandas as pd\n",
    "import plotly.graph_objects as go\n",
    "import plotly.express as px\n",
    "import numpy as np\n",
    "import json\n",
    "from plotly.subplots import make_subplots"
   ]
  },
  {
   "cell_type": "code",
   "execution_count": 170,
   "metadata": {},
   "outputs": [
    {
     "name": "stdout",
     "output_type": "stream",
     "text": [
      "<class 'pandas.core.frame.DataFrame'>\n",
      "RangeIndex: 635 entries, 0 to 634\n",
      "Data columns (total 20 columns):\n",
      " #   Column          Non-Null Count  Dtype  \n",
      "---  ------          --------------  -----  \n",
      " 0   flight_id       635 non-null    object \n",
      " 1   icao24          635 non-null    object \n",
      " 2   registration    635 non-null    object \n",
      " 3   typecode        635 non-null    object \n",
      " 4   origin          623 non-null    object \n",
      " 5   landing         447 non-null    object \n",
      " 6   destination     621 non-null    object \n",
      " 7   diverted        219 non-null    object \n",
      " 8   tweet_problem   301 non-null    object \n",
      " 9   tweet_result    301 non-null    object \n",
      " 10  tweet_fueldump  301 non-null    object \n",
      " 11  avh_id          84 non-null     object \n",
      " 12  avh_problem     84 non-null     object \n",
      " 13  avh_result      84 non-null     object \n",
      " 14  avh_fueldump    84 non-null     object \n",
      " 15  airlineName     635 non-null    object \n",
      " 16  isFreighter     635 non-null    bool   \n",
      " 17  productionLine  635 non-null    object \n",
      " 18  ageYears        635 non-null    float64\n",
      " 19  manufacturer    635 non-null    object \n",
      "dtypes: bool(1), float64(1), object(18)\n",
      "memory usage: 95.0+ KB\n"
     ]
    }
   ],
   "source": [
    "df = pd.read_csv('../data/processed/squawk7700_processed_final_v2.csv')\n",
    "df.info()"
   ]
  },
  {
   "cell_type": "markdown",
   "metadata": {},
   "source": [
    "## Age BAR"
   ]
  },
  {
   "cell_type": "markdown",
   "metadata": {},
   "source": [
    "##### Data prep"
   ]
  },
  {
   "cell_type": "code",
   "execution_count": 171,
   "metadata": {},
   "outputs": [],
   "source": [
    "bins = np.arange(0, df['ageYears'].max() + 5, 5)\n",
    "df['age_categories'] = pd.cut(df['ageYears'], bins=bins, right=False)"
   ]
  },
  {
   "cell_type": "code",
   "execution_count": 172,
   "metadata": {},
   "outputs": [
    {
     "data": {
      "text/html": [
       "<div>\n",
       "<style scoped>\n",
       "    .dataframe tbody tr th:only-of-type {\n",
       "        vertical-align: middle;\n",
       "    }\n",
       "\n",
       "    .dataframe tbody tr th {\n",
       "        vertical-align: top;\n",
       "    }\n",
       "\n",
       "    .dataframe thead th {\n",
       "        text-align: right;\n",
       "    }\n",
       "</style>\n",
       "<table border=\"1\" class=\"dataframe\">\n",
       "  <thead>\n",
       "    <tr style=\"text-align: right;\">\n",
       "      <th></th>\n",
       "      <th>flight_id</th>\n",
       "      <th>icao24</th>\n",
       "      <th>registration</th>\n",
       "      <th>typecode</th>\n",
       "      <th>origin</th>\n",
       "      <th>landing</th>\n",
       "      <th>destination</th>\n",
       "      <th>diverted</th>\n",
       "      <th>tweet_problem</th>\n",
       "      <th>tweet_result</th>\n",
       "      <th>...</th>\n",
       "      <th>avh_id</th>\n",
       "      <th>avh_problem</th>\n",
       "      <th>avh_result</th>\n",
       "      <th>avh_fueldump</th>\n",
       "      <th>airlineName</th>\n",
       "      <th>isFreighter</th>\n",
       "      <th>productionLine</th>\n",
       "      <th>ageYears</th>\n",
       "      <th>manufacturer</th>\n",
       "      <th>age_categories</th>\n",
       "    </tr>\n",
       "  </thead>\n",
       "  <tbody>\n",
       "    <tr>\n",
       "      <th>0</th>\n",
       "      <td>ARG1511_20180101</td>\n",
       "      <td>e06442</td>\n",
       "      <td>LV-FQB</td>\n",
       "      <td>B738</td>\n",
       "      <td>SACO</td>\n",
       "      <td>SABE</td>\n",
       "      <td>SABE</td>\n",
       "      <td>NaN</td>\n",
       "      <td>NaN</td>\n",
       "      <td>NaN</td>\n",
       "      <td>...</td>\n",
       "      <td>NaN</td>\n",
       "      <td>NaN</td>\n",
       "      <td>NaN</td>\n",
       "      <td>NaN</td>\n",
       "      <td>Aerolineas Argentinas</td>\n",
       "      <td>False</td>\n",
       "      <td>Boeing 737 NG</td>\n",
       "      <td>13.2</td>\n",
       "      <td>Boeing</td>\n",
       "      <td>[10.0, 15.0)</td>\n",
       "    </tr>\n",
       "    <tr>\n",
       "      <th>1</th>\n",
       "      <td>DAL14_20180101</td>\n",
       "      <td>a14c29</td>\n",
       "      <td>N183DN</td>\n",
       "      <td>B763</td>\n",
       "      <td>KATL</td>\n",
       "      <td>NaN</td>\n",
       "      <td>EDDF</td>\n",
       "      <td>NaN</td>\n",
       "      <td>NaN</td>\n",
       "      <td>NaN</td>\n",
       "      <td>...</td>\n",
       "      <td>NaN</td>\n",
       "      <td>NaN</td>\n",
       "      <td>NaN</td>\n",
       "      <td>NaN</td>\n",
       "      <td>Delta Air Lines</td>\n",
       "      <td>False</td>\n",
       "      <td>Boeing 767</td>\n",
       "      <td>31.6</td>\n",
       "      <td>Boeing</td>\n",
       "      <td>[30.0, 35.0)</td>\n",
       "    </tr>\n",
       "    <tr>\n",
       "      <th>2</th>\n",
       "      <td>JBU263_20180108</td>\n",
       "      <td>aa600a</td>\n",
       "      <td>N768JB</td>\n",
       "      <td>A320</td>\n",
       "      <td>KJFK</td>\n",
       "      <td>NaN</td>\n",
       "      <td>KSEA</td>\n",
       "      <td>NaN</td>\n",
       "      <td>NaN</td>\n",
       "      <td>NaN</td>\n",
       "      <td>...</td>\n",
       "      <td>NaN</td>\n",
       "      <td>NaN</td>\n",
       "      <td>NaN</td>\n",
       "      <td>NaN</td>\n",
       "      <td>JetBlue Airways</td>\n",
       "      <td>False</td>\n",
       "      <td>Airbus A320</td>\n",
       "      <td>15.9</td>\n",
       "      <td>Airbus</td>\n",
       "      <td>[15.0, 20.0)</td>\n",
       "    </tr>\n",
       "    <tr>\n",
       "      <th>3</th>\n",
       "      <td>DAL65_20180108</td>\n",
       "      <td>ab2855</td>\n",
       "      <td>N818NW</td>\n",
       "      <td>A333</td>\n",
       "      <td>KATL</td>\n",
       "      <td>KLAX</td>\n",
       "      <td>KLAX</td>\n",
       "      <td>NaN</td>\n",
       "      <td>NaN</td>\n",
       "      <td>NaN</td>\n",
       "      <td>...</td>\n",
       "      <td>NaN</td>\n",
       "      <td>NaN</td>\n",
       "      <td>NaN</td>\n",
       "      <td>NaN</td>\n",
       "      <td>Delta Air Lines</td>\n",
       "      <td>False</td>\n",
       "      <td>Airbus A330</td>\n",
       "      <td>17.4</td>\n",
       "      <td>Airbus</td>\n",
       "      <td>[15.0, 20.0)</td>\n",
       "    </tr>\n",
       "    <tr>\n",
       "      <th>4</th>\n",
       "      <td>EDW24_20180111</td>\n",
       "      <td>4b1901</td>\n",
       "      <td>HB-JMF</td>\n",
       "      <td>A343</td>\n",
       "      <td>LSZH</td>\n",
       "      <td>LSZH</td>\n",
       "      <td>MMUN</td>\n",
       "      <td>LSZH</td>\n",
       "      <td>engine</td>\n",
       "      <td>return</td>\n",
       "      <td>...</td>\n",
       "      <td>4b382175</td>\n",
       "      <td>engine</td>\n",
       "      <td>return</td>\n",
       "      <td>unknown</td>\n",
       "      <td>Edelweiss Air</td>\n",
       "      <td>False</td>\n",
       "      <td>Airbus A340</td>\n",
       "      <td>21.1</td>\n",
       "      <td>Airbus</td>\n",
       "      <td>[20.0, 25.0)</td>\n",
       "    </tr>\n",
       "  </tbody>\n",
       "</table>\n",
       "<p>5 rows × 21 columns</p>\n",
       "</div>"
      ],
      "text/plain": [
       "          flight_id  icao24 registration typecode origin landing destination  \\\n",
       "0  ARG1511_20180101  e06442       LV-FQB     B738   SACO    SABE        SABE   \n",
       "1    DAL14_20180101  a14c29       N183DN     B763   KATL     NaN        EDDF   \n",
       "2   JBU263_20180108  aa600a       N768JB     A320   KJFK     NaN        KSEA   \n",
       "3    DAL65_20180108  ab2855       N818NW     A333   KATL    KLAX        KLAX   \n",
       "4    EDW24_20180111  4b1901       HB-JMF     A343   LSZH    LSZH        MMUN   \n",
       "\n",
       "  diverted tweet_problem tweet_result  ...    avh_id avh_problem avh_result  \\\n",
       "0      NaN           NaN          NaN  ...       NaN         NaN        NaN   \n",
       "1      NaN           NaN          NaN  ...       NaN         NaN        NaN   \n",
       "2      NaN           NaN          NaN  ...       NaN         NaN        NaN   \n",
       "3      NaN           NaN          NaN  ...       NaN         NaN        NaN   \n",
       "4     LSZH        engine       return  ...  4b382175      engine     return   \n",
       "\n",
       "  avh_fueldump            airlineName isFreighter  productionLine ageYears  \\\n",
       "0          NaN  Aerolineas Argentinas       False   Boeing 737 NG     13.2   \n",
       "1          NaN        Delta Air Lines       False      Boeing 767     31.6   \n",
       "2          NaN        JetBlue Airways       False     Airbus A320     15.9   \n",
       "3          NaN        Delta Air Lines       False     Airbus A330     17.4   \n",
       "4      unknown          Edelweiss Air       False     Airbus A340     21.1   \n",
       "\n",
       "   manufacturer age_categories  \n",
       "0        Boeing   [10.0, 15.0)  \n",
       "1        Boeing   [30.0, 35.0)  \n",
       "2        Airbus   [15.0, 20.0)  \n",
       "3        Airbus   [15.0, 20.0)  \n",
       "4        Airbus   [20.0, 25.0)  \n",
       "\n",
       "[5 rows x 21 columns]"
      ]
     },
     "execution_count": 172,
     "metadata": {},
     "output_type": "execute_result"
    }
   ],
   "source": [
    "df.head()"
   ]
  },
  {
   "cell_type": "code",
   "execution_count": 173,
   "metadata": {},
   "outputs": [
    {
     "data": {
      "text/html": [
       "<div>\n",
       "<style scoped>\n",
       "    .dataframe tbody tr th:only-of-type {\n",
       "        vertical-align: middle;\n",
       "    }\n",
       "\n",
       "    .dataframe tbody tr th {\n",
       "        vertical-align: top;\n",
       "    }\n",
       "\n",
       "    .dataframe thead th {\n",
       "        text-align: right;\n",
       "    }\n",
       "</style>\n",
       "<table border=\"1\" class=\"dataframe\">\n",
       "  <thead>\n",
       "    <tr style=\"text-align: right;\">\n",
       "      <th></th>\n",
       "      <th>age_categories</th>\n",
       "      <th>count</th>\n",
       "      <th>age_categories_str</th>\n",
       "    </tr>\n",
       "  </thead>\n",
       "  <tbody>\n",
       "    <tr>\n",
       "      <th>0</th>\n",
       "      <td>[0.0, 5.0)</td>\n",
       "      <td>0</td>\n",
       "      <td>[0.0, 5.0)</td>\n",
       "    </tr>\n",
       "    <tr>\n",
       "      <th>1</th>\n",
       "      <td>[5.0, 10.0)</td>\n",
       "      <td>155</td>\n",
       "      <td>[5.0, 10.0)</td>\n",
       "    </tr>\n",
       "    <tr>\n",
       "      <th>2</th>\n",
       "      <td>[10.0, 15.0)</td>\n",
       "      <td>121</td>\n",
       "      <td>[10.0, 15.0)</td>\n",
       "    </tr>\n",
       "    <tr>\n",
       "      <th>3</th>\n",
       "      <td>[15.0, 20.0)</td>\n",
       "      <td>115</td>\n",
       "      <td>[15.0, 20.0)</td>\n",
       "    </tr>\n",
       "    <tr>\n",
       "      <th>4</th>\n",
       "      <td>[20.0, 25.0)</td>\n",
       "      <td>132</td>\n",
       "      <td>[20.0, 25.0)</td>\n",
       "    </tr>\n",
       "    <tr>\n",
       "      <th>5</th>\n",
       "      <td>[25.0, 30.0)</td>\n",
       "      <td>67</td>\n",
       "      <td>[25.0, 30.0)</td>\n",
       "    </tr>\n",
       "    <tr>\n",
       "      <th>6</th>\n",
       "      <td>[30.0, 35.0)</td>\n",
       "      <td>37</td>\n",
       "      <td>[30.0, 35.0)</td>\n",
       "    </tr>\n",
       "    <tr>\n",
       "      <th>7</th>\n",
       "      <td>[35.0, 40.0)</td>\n",
       "      <td>6</td>\n",
       "      <td>[35.0, 40.0)</td>\n",
       "    </tr>\n",
       "    <tr>\n",
       "      <th>8</th>\n",
       "      <td>[40.0, 45.0)</td>\n",
       "      <td>0</td>\n",
       "      <td>[40.0, 45.0)</td>\n",
       "    </tr>\n",
       "    <tr>\n",
       "      <th>9</th>\n",
       "      <td>[45.0, 50.0)</td>\n",
       "      <td>2</td>\n",
       "      <td>[45.0, 50.0)</td>\n",
       "    </tr>\n",
       "  </tbody>\n",
       "</table>\n",
       "</div>"
      ],
      "text/plain": [
       "  age_categories  count age_categories_str\n",
       "0     [0.0, 5.0)      0         [0.0, 5.0)\n",
       "1    [5.0, 10.0)    155        [5.0, 10.0)\n",
       "2   [10.0, 15.0)    121       [10.0, 15.0)\n",
       "3   [15.0, 20.0)    115       [15.0, 20.0)\n",
       "4   [20.0, 25.0)    132       [20.0, 25.0)\n",
       "5   [25.0, 30.0)     67       [25.0, 30.0)\n",
       "6   [30.0, 35.0)     37       [30.0, 35.0)\n",
       "7   [35.0, 40.0)      6       [35.0, 40.0)\n",
       "8   [40.0, 45.0)      0       [40.0, 45.0)\n",
       "9   [45.0, 50.0)      2       [45.0, 50.0)"
      ]
     },
     "execution_count": 173,
     "metadata": {},
     "output_type": "execute_result"
    }
   ],
   "source": [
    "age_category_counts = df['age_categories'].value_counts().sort_index().reset_index()\n",
    "age_category_counts['age_categories_str'] = age_category_counts['age_categories'].astype(str)\n",
    "age_category_counts"
   ]
  },
  {
   "cell_type": "code",
   "execution_count": 174,
   "metadata": {},
   "outputs": [
    {
     "data": {
      "text/plain": [
       "Interval(0.0, 5.0, closed='left')"
      ]
     },
     "execution_count": 174,
     "metadata": {},
     "output_type": "execute_result"
    }
   ],
   "source": [
    "age_category_counts['age_categories'][0]"
   ]
  },
  {
   "cell_type": "markdown",
   "metadata": {},
   "source": [
    "##### Plot"
   ]
  },
  {
   "cell_type": "code",
   "execution_count": 175,
   "metadata": {},
   "outputs": [
    {
     "data": {
      "application/vnd.plotly.v1+json": {
       "config": {
        "plotlyServerURL": "https://plot.ly"
       },
       "data": [
        {
         "marker": {
          "color": "red"
         },
         "name": "Age",
         "type": "bar",
         "x": [
          "[0.0, 5.0)",
          "[5.0, 10.0)",
          "[10.0, 15.0)",
          "[15.0, 20.0)",
          "[20.0, 25.0)",
          "[25.0, 30.0)",
          "[30.0, 35.0)",
          "[35.0, 40.0)",
          "[40.0, 45.0)",
          "[45.0, 50.0)"
         ],
         "y": [
          0,
          155,
          121,
          115,
          132,
          67,
          37,
          6,
          0,
          2
         ]
        }
       ],
       "layout": {
        "template": {
         "data": {
          "bar": [
           {
            "error_x": {
             "color": "#2a3f5f"
            },
            "error_y": {
             "color": "#2a3f5f"
            },
            "marker": {
             "line": {
              "color": "#E5ECF6",
              "width": 0.5
             },
             "pattern": {
              "fillmode": "overlay",
              "size": 10,
              "solidity": 0.2
             }
            },
            "type": "bar"
           }
          ],
          "barpolar": [
           {
            "marker": {
             "line": {
              "color": "#E5ECF6",
              "width": 0.5
             },
             "pattern": {
              "fillmode": "overlay",
              "size": 10,
              "solidity": 0.2
             }
            },
            "type": "barpolar"
           }
          ],
          "carpet": [
           {
            "aaxis": {
             "endlinecolor": "#2a3f5f",
             "gridcolor": "white",
             "linecolor": "white",
             "minorgridcolor": "white",
             "startlinecolor": "#2a3f5f"
            },
            "baxis": {
             "endlinecolor": "#2a3f5f",
             "gridcolor": "white",
             "linecolor": "white",
             "minorgridcolor": "white",
             "startlinecolor": "#2a3f5f"
            },
            "type": "carpet"
           }
          ],
          "choropleth": [
           {
            "colorbar": {
             "outlinewidth": 0,
             "ticks": ""
            },
            "type": "choropleth"
           }
          ],
          "contour": [
           {
            "colorbar": {
             "outlinewidth": 0,
             "ticks": ""
            },
            "colorscale": [
             [
              0,
              "#0d0887"
             ],
             [
              0.1111111111111111,
              "#46039f"
             ],
             [
              0.2222222222222222,
              "#7201a8"
             ],
             [
              0.3333333333333333,
              "#9c179e"
             ],
             [
              0.4444444444444444,
              "#bd3786"
             ],
             [
              0.5555555555555556,
              "#d8576b"
             ],
             [
              0.6666666666666666,
              "#ed7953"
             ],
             [
              0.7777777777777778,
              "#fb9f3a"
             ],
             [
              0.8888888888888888,
              "#fdca26"
             ],
             [
              1,
              "#f0f921"
             ]
            ],
            "type": "contour"
           }
          ],
          "contourcarpet": [
           {
            "colorbar": {
             "outlinewidth": 0,
             "ticks": ""
            },
            "type": "contourcarpet"
           }
          ],
          "heatmap": [
           {
            "colorbar": {
             "outlinewidth": 0,
             "ticks": ""
            },
            "colorscale": [
             [
              0,
              "#0d0887"
             ],
             [
              0.1111111111111111,
              "#46039f"
             ],
             [
              0.2222222222222222,
              "#7201a8"
             ],
             [
              0.3333333333333333,
              "#9c179e"
             ],
             [
              0.4444444444444444,
              "#bd3786"
             ],
             [
              0.5555555555555556,
              "#d8576b"
             ],
             [
              0.6666666666666666,
              "#ed7953"
             ],
             [
              0.7777777777777778,
              "#fb9f3a"
             ],
             [
              0.8888888888888888,
              "#fdca26"
             ],
             [
              1,
              "#f0f921"
             ]
            ],
            "type": "heatmap"
           }
          ],
          "heatmapgl": [
           {
            "colorbar": {
             "outlinewidth": 0,
             "ticks": ""
            },
            "colorscale": [
             [
              0,
              "#0d0887"
             ],
             [
              0.1111111111111111,
              "#46039f"
             ],
             [
              0.2222222222222222,
              "#7201a8"
             ],
             [
              0.3333333333333333,
              "#9c179e"
             ],
             [
              0.4444444444444444,
              "#bd3786"
             ],
             [
              0.5555555555555556,
              "#d8576b"
             ],
             [
              0.6666666666666666,
              "#ed7953"
             ],
             [
              0.7777777777777778,
              "#fb9f3a"
             ],
             [
              0.8888888888888888,
              "#fdca26"
             ],
             [
              1,
              "#f0f921"
             ]
            ],
            "type": "heatmapgl"
           }
          ],
          "histogram": [
           {
            "marker": {
             "pattern": {
              "fillmode": "overlay",
              "size": 10,
              "solidity": 0.2
             }
            },
            "type": "histogram"
           }
          ],
          "histogram2d": [
           {
            "colorbar": {
             "outlinewidth": 0,
             "ticks": ""
            },
            "colorscale": [
             [
              0,
              "#0d0887"
             ],
             [
              0.1111111111111111,
              "#46039f"
             ],
             [
              0.2222222222222222,
              "#7201a8"
             ],
             [
              0.3333333333333333,
              "#9c179e"
             ],
             [
              0.4444444444444444,
              "#bd3786"
             ],
             [
              0.5555555555555556,
              "#d8576b"
             ],
             [
              0.6666666666666666,
              "#ed7953"
             ],
             [
              0.7777777777777778,
              "#fb9f3a"
             ],
             [
              0.8888888888888888,
              "#fdca26"
             ],
             [
              1,
              "#f0f921"
             ]
            ],
            "type": "histogram2d"
           }
          ],
          "histogram2dcontour": [
           {
            "colorbar": {
             "outlinewidth": 0,
             "ticks": ""
            },
            "colorscale": [
             [
              0,
              "#0d0887"
             ],
             [
              0.1111111111111111,
              "#46039f"
             ],
             [
              0.2222222222222222,
              "#7201a8"
             ],
             [
              0.3333333333333333,
              "#9c179e"
             ],
             [
              0.4444444444444444,
              "#bd3786"
             ],
             [
              0.5555555555555556,
              "#d8576b"
             ],
             [
              0.6666666666666666,
              "#ed7953"
             ],
             [
              0.7777777777777778,
              "#fb9f3a"
             ],
             [
              0.8888888888888888,
              "#fdca26"
             ],
             [
              1,
              "#f0f921"
             ]
            ],
            "type": "histogram2dcontour"
           }
          ],
          "mesh3d": [
           {
            "colorbar": {
             "outlinewidth": 0,
             "ticks": ""
            },
            "type": "mesh3d"
           }
          ],
          "parcoords": [
           {
            "line": {
             "colorbar": {
              "outlinewidth": 0,
              "ticks": ""
             }
            },
            "type": "parcoords"
           }
          ],
          "pie": [
           {
            "automargin": true,
            "type": "pie"
           }
          ],
          "scatter": [
           {
            "fillpattern": {
             "fillmode": "overlay",
             "size": 10,
             "solidity": 0.2
            },
            "type": "scatter"
           }
          ],
          "scatter3d": [
           {
            "line": {
             "colorbar": {
              "outlinewidth": 0,
              "ticks": ""
             }
            },
            "marker": {
             "colorbar": {
              "outlinewidth": 0,
              "ticks": ""
             }
            },
            "type": "scatter3d"
           }
          ],
          "scattercarpet": [
           {
            "marker": {
             "colorbar": {
              "outlinewidth": 0,
              "ticks": ""
             }
            },
            "type": "scattercarpet"
           }
          ],
          "scattergeo": [
           {
            "marker": {
             "colorbar": {
              "outlinewidth": 0,
              "ticks": ""
             }
            },
            "type": "scattergeo"
           }
          ],
          "scattergl": [
           {
            "marker": {
             "colorbar": {
              "outlinewidth": 0,
              "ticks": ""
             }
            },
            "type": "scattergl"
           }
          ],
          "scattermapbox": [
           {
            "marker": {
             "colorbar": {
              "outlinewidth": 0,
              "ticks": ""
             }
            },
            "type": "scattermapbox"
           }
          ],
          "scatterpolar": [
           {
            "marker": {
             "colorbar": {
              "outlinewidth": 0,
              "ticks": ""
             }
            },
            "type": "scatterpolar"
           }
          ],
          "scatterpolargl": [
           {
            "marker": {
             "colorbar": {
              "outlinewidth": 0,
              "ticks": ""
             }
            },
            "type": "scatterpolargl"
           }
          ],
          "scatterternary": [
           {
            "marker": {
             "colorbar": {
              "outlinewidth": 0,
              "ticks": ""
             }
            },
            "type": "scatterternary"
           }
          ],
          "surface": [
           {
            "colorbar": {
             "outlinewidth": 0,
             "ticks": ""
            },
            "colorscale": [
             [
              0,
              "#0d0887"
             ],
             [
              0.1111111111111111,
              "#46039f"
             ],
             [
              0.2222222222222222,
              "#7201a8"
             ],
             [
              0.3333333333333333,
              "#9c179e"
             ],
             [
              0.4444444444444444,
              "#bd3786"
             ],
             [
              0.5555555555555556,
              "#d8576b"
             ],
             [
              0.6666666666666666,
              "#ed7953"
             ],
             [
              0.7777777777777778,
              "#fb9f3a"
             ],
             [
              0.8888888888888888,
              "#fdca26"
             ],
             [
              1,
              "#f0f921"
             ]
            ],
            "type": "surface"
           }
          ],
          "table": [
           {
            "cells": {
             "fill": {
              "color": "#EBF0F8"
             },
             "line": {
              "color": "white"
             }
            },
            "header": {
             "fill": {
              "color": "#C8D4E3"
             },
             "line": {
              "color": "white"
             }
            },
            "type": "table"
           }
          ]
         },
         "layout": {
          "annotationdefaults": {
           "arrowcolor": "#2a3f5f",
           "arrowhead": 0,
           "arrowwidth": 1
          },
          "autotypenumbers": "strict",
          "coloraxis": {
           "colorbar": {
            "outlinewidth": 0,
            "ticks": ""
           }
          },
          "colorscale": {
           "diverging": [
            [
             0,
             "#8e0152"
            ],
            [
             0.1,
             "#c51b7d"
            ],
            [
             0.2,
             "#de77ae"
            ],
            [
             0.3,
             "#f1b6da"
            ],
            [
             0.4,
             "#fde0ef"
            ],
            [
             0.5,
             "#f7f7f7"
            ],
            [
             0.6,
             "#e6f5d0"
            ],
            [
             0.7,
             "#b8e186"
            ],
            [
             0.8,
             "#7fbc41"
            ],
            [
             0.9,
             "#4d9221"
            ],
            [
             1,
             "#276419"
            ]
           ],
           "sequential": [
            [
             0,
             "#0d0887"
            ],
            [
             0.1111111111111111,
             "#46039f"
            ],
            [
             0.2222222222222222,
             "#7201a8"
            ],
            [
             0.3333333333333333,
             "#9c179e"
            ],
            [
             0.4444444444444444,
             "#bd3786"
            ],
            [
             0.5555555555555556,
             "#d8576b"
            ],
            [
             0.6666666666666666,
             "#ed7953"
            ],
            [
             0.7777777777777778,
             "#fb9f3a"
            ],
            [
             0.8888888888888888,
             "#fdca26"
            ],
            [
             1,
             "#f0f921"
            ]
           ],
           "sequentialminus": [
            [
             0,
             "#0d0887"
            ],
            [
             0.1111111111111111,
             "#46039f"
            ],
            [
             0.2222222222222222,
             "#7201a8"
            ],
            [
             0.3333333333333333,
             "#9c179e"
            ],
            [
             0.4444444444444444,
             "#bd3786"
            ],
            [
             0.5555555555555556,
             "#d8576b"
            ],
            [
             0.6666666666666666,
             "#ed7953"
            ],
            [
             0.7777777777777778,
             "#fb9f3a"
            ],
            [
             0.8888888888888888,
             "#fdca26"
            ],
            [
             1,
             "#f0f921"
            ]
           ]
          },
          "colorway": [
           "#636efa",
           "#EF553B",
           "#00cc96",
           "#ab63fa",
           "#FFA15A",
           "#19d3f3",
           "#FF6692",
           "#B6E880",
           "#FF97FF",
           "#FECB52"
          ],
          "font": {
           "color": "#2a3f5f"
          },
          "geo": {
           "bgcolor": "white",
           "lakecolor": "white",
           "landcolor": "#E5ECF6",
           "showlakes": true,
           "showland": true,
           "subunitcolor": "white"
          },
          "hoverlabel": {
           "align": "left"
          },
          "hovermode": "closest",
          "mapbox": {
           "style": "light"
          },
          "paper_bgcolor": "white",
          "plot_bgcolor": "#E5ECF6",
          "polar": {
           "angularaxis": {
            "gridcolor": "white",
            "linecolor": "white",
            "ticks": ""
           },
           "bgcolor": "#E5ECF6",
           "radialaxis": {
            "gridcolor": "white",
            "linecolor": "white",
            "ticks": ""
           }
          },
          "scene": {
           "xaxis": {
            "backgroundcolor": "#E5ECF6",
            "gridcolor": "white",
            "gridwidth": 2,
            "linecolor": "white",
            "showbackground": true,
            "ticks": "",
            "zerolinecolor": "white"
           },
           "yaxis": {
            "backgroundcolor": "#E5ECF6",
            "gridcolor": "white",
            "gridwidth": 2,
            "linecolor": "white",
            "showbackground": true,
            "ticks": "",
            "zerolinecolor": "white"
           },
           "zaxis": {
            "backgroundcolor": "#E5ECF6",
            "gridcolor": "white",
            "gridwidth": 2,
            "linecolor": "white",
            "showbackground": true,
            "ticks": "",
            "zerolinecolor": "white"
           }
          },
          "shapedefaults": {
           "line": {
            "color": "#2a3f5f"
           }
          },
          "ternary": {
           "aaxis": {
            "gridcolor": "white",
            "linecolor": "white",
            "ticks": ""
           },
           "baxis": {
            "gridcolor": "white",
            "linecolor": "white",
            "ticks": ""
           },
           "bgcolor": "#E5ECF6",
           "caxis": {
            "gridcolor": "white",
            "linecolor": "white",
            "ticks": ""
           }
          },
          "title": {
           "x": 0.05
          },
          "xaxis": {
           "automargin": true,
           "gridcolor": "white",
           "linecolor": "white",
           "ticks": "",
           "title": {
            "standoff": 15
           },
           "zerolinecolor": "white",
           "zerolinewidth": 2
          },
          "yaxis": {
           "automargin": true,
           "gridcolor": "white",
           "linecolor": "white",
           "ticks": "",
           "title": {
            "standoff": 15
           },
           "zerolinecolor": "white",
           "zerolinewidth": 2
          }
         }
        },
        "title": {
         "font": {
          "size": 24
         },
         "text": "Number of IFE Aircrafts per Age Category"
        },
        "xaxis": {
         "title": {
          "text": "Age Category (Years)"
         }
        },
        "yaxis": {
         "title": {
          "text": "IFE Aircraft Frequency"
         }
        }
       }
      }
     },
     "metadata": {},
     "output_type": "display_data"
    }
   ],
   "source": [
    "fig = go.Figure(data=[\n",
    "    go.Bar(x=age_category_counts['age_categories_str'], y=age_category_counts['count'], name=\"Age\", marker_color=\"red\")\n",
    "])\n",
    "\n",
    "fig.update_layout(\n",
    "    title={'text': \"Number of IFE Aircrafts per Age Category\", 'font': {\"size\": 24}},\n",
    "    xaxis_title=\"Age Category (Years)\",\n",
    "    yaxis_title=\"IFE Aircraft Frequency\"\n",
    ")"
   ]
  },
  {
   "cell_type": "markdown",
   "metadata": {},
   "source": [
    "## Frequency per type BAR"
   ]
  },
  {
   "cell_type": "markdown",
   "metadata": {},
   "source": [
    "##### Data prep"
   ]
  },
  {
   "cell_type": "code",
   "execution_count": 176,
   "metadata": {},
   "outputs": [
    {
     "data": {
      "text/plain": [
       "Index(['Boeing 737 NG', 'Airbus A320', 'Airbus A319', 'Boeing 777',\n",
       "       'Boeing 767', 'Airbus A321', 'Embraer ERJ170', 'Airbus A330',\n",
       "       'Boeing 757', 'Boeing 787', 'Boeing 747', 'Canadair CRJ 900',\n",
       "       'Airbus A300', 'Canadair CRJ 100', 'Bombardier DHC-8',\n",
       "       'McDonnell Douglas MD-11', 'Embraer ERJ145', 'Airbus A380',\n",
       "       'Boeing 737 Classic', 'Sukhoi Superjet 100', 'Airbus A220',\n",
       "       'Boeing 717', 'Airbus A340', 'Airbus A350', 'McDonnell Douglas MD-90',\n",
       "       'Embraer ERJ190', 'ATR 72', 'BAe Avro RJ', 'Airubs A318',\n",
       "       'Embraer ERJ135', 'Boeing 737 Original', 'Canadair CRJ 700',\n",
       "       'Canadair CRJ', 'Fokker 100', 'Airbus A320 NEO',\n",
       "       'McDonnell Douglas MD-88', 'Boeing 727', 'Embraer ERJ140'],\n",
       "      dtype='object', name='productionLine')"
      ]
     },
     "execution_count": 176,
     "metadata": {},
     "output_type": "execute_result"
    }
   ],
   "source": [
    "type_name_frequency = df.groupby('productionLine').flight_id.count().sort_values(ascending=False)\n",
    "type_name_frequency.index"
   ]
  },
  {
   "cell_type": "code",
   "execution_count": 177,
   "metadata": {},
   "outputs": [
    {
     "data": {
      "text/plain": [
       "0       Boeing 737 NG\n",
       "1          Boeing 767\n",
       "2         Airbus A320\n",
       "3         Airbus A330\n",
       "4         Airbus A340\n",
       "            ...      \n",
       "630       Airbus A320\n",
       "631        Boeing 787\n",
       "632     Boeing 737 NG\n",
       "633     Boeing 737 NG\n",
       "634    Embraer ERJ170\n",
       "Name: productionLine, Length: 635, dtype: object"
      ]
     },
     "execution_count": 177,
     "metadata": {},
     "output_type": "execute_result"
    }
   ],
   "source": [
    "df['productionLine']"
   ]
  },
  {
   "cell_type": "markdown",
   "metadata": {},
   "source": [
    "##### Plot"
   ]
  },
  {
   "cell_type": "code",
   "execution_count": 205,
   "metadata": {},
   "outputs": [
    {
     "data": {
      "application/vnd.plotly.v1+json": {
       "config": {
        "plotlyServerURL": "https://plot.ly"
       },
       "data": [
        {
         "marker": {
          "color": "green"
         },
         "name": "Type",
         "type": "bar",
         "x": [
          "Boeing 737 NG",
          "Airbus A320",
          "Airbus A319",
          "Boeing 777",
          "Boeing 767",
          "Airbus A321",
          "Embraer ERJ170",
          "Airbus A330",
          "Boeing 757",
          "Boeing 787",
          "Boeing 747",
          "Canadair CRJ 900",
          "Airbus A300",
          "Canadair CRJ 100",
          "Bombardier DHC-8",
          "McDonnell Douglas MD-11",
          "Embraer ERJ145",
          "Airbus A380",
          "Boeing 737 Classic",
          "Sukhoi Superjet 100",
          "Airbus A220",
          "Boeing 717",
          "Airbus A340",
          "Airbus A350",
          "McDonnell Douglas MD-90",
          "Embraer ERJ190",
          "ATR 72",
          "BAe Avro RJ",
          "Airubs A318",
          "Embraer ERJ135",
          "Boeing 737 Original",
          "Canadair CRJ 700",
          "Canadair CRJ",
          "Fokker 100",
          "Airbus A320 NEO",
          "McDonnell Douglas MD-88",
          "Boeing 727",
          "Embraer ERJ140"
         ],
         "y": [
          0.247244094488189,
          0.15590551181102363,
          0.06929133858267716,
          0.05669291338582677,
          0.05669291338582677,
          0.05511811023622047,
          0.05196850393700787,
          0.050393700787401574,
          0.03937007874015748,
          0.03937007874015748,
          0.026771653543307086,
          0.023622047244094488,
          0.015748031496062992,
          0.012598425196850394,
          0.012598425196850394,
          0.011023622047244094,
          0.009448818897637795,
          0.007874015748031496,
          0.007874015748031496,
          0.004724409448818898,
          0.004724409448818898,
          0.004724409448818898,
          0.004724409448818898,
          0.0031496062992125984,
          0.0031496062992125984,
          0.0031496062992125984,
          0.0031496062992125984,
          0.0031496062992125984,
          0.0015748031496062992,
          0.0015748031496062992,
          0.0015748031496062992,
          0.0015748031496062992,
          0.0015748031496062992,
          0.0015748031496062992,
          0.0015748031496062992,
          0.0015748031496062992,
          0.0015748031496062992,
          0.0015748031496062992
         ]
        }
       ],
       "layout": {
        "template": {
         "data": {
          "bar": [
           {
            "error_x": {
             "color": "#2a3f5f"
            },
            "error_y": {
             "color": "#2a3f5f"
            },
            "marker": {
             "line": {
              "color": "#E5ECF6",
              "width": 0.5
             },
             "pattern": {
              "fillmode": "overlay",
              "size": 10,
              "solidity": 0.2
             }
            },
            "type": "bar"
           }
          ],
          "barpolar": [
           {
            "marker": {
             "line": {
              "color": "#E5ECF6",
              "width": 0.5
             },
             "pattern": {
              "fillmode": "overlay",
              "size": 10,
              "solidity": 0.2
             }
            },
            "type": "barpolar"
           }
          ],
          "carpet": [
           {
            "aaxis": {
             "endlinecolor": "#2a3f5f",
             "gridcolor": "white",
             "linecolor": "white",
             "minorgridcolor": "white",
             "startlinecolor": "#2a3f5f"
            },
            "baxis": {
             "endlinecolor": "#2a3f5f",
             "gridcolor": "white",
             "linecolor": "white",
             "minorgridcolor": "white",
             "startlinecolor": "#2a3f5f"
            },
            "type": "carpet"
           }
          ],
          "choropleth": [
           {
            "colorbar": {
             "outlinewidth": 0,
             "ticks": ""
            },
            "type": "choropleth"
           }
          ],
          "contour": [
           {
            "colorbar": {
             "outlinewidth": 0,
             "ticks": ""
            },
            "colorscale": [
             [
              0,
              "#0d0887"
             ],
             [
              0.1111111111111111,
              "#46039f"
             ],
             [
              0.2222222222222222,
              "#7201a8"
             ],
             [
              0.3333333333333333,
              "#9c179e"
             ],
             [
              0.4444444444444444,
              "#bd3786"
             ],
             [
              0.5555555555555556,
              "#d8576b"
             ],
             [
              0.6666666666666666,
              "#ed7953"
             ],
             [
              0.7777777777777778,
              "#fb9f3a"
             ],
             [
              0.8888888888888888,
              "#fdca26"
             ],
             [
              1,
              "#f0f921"
             ]
            ],
            "type": "contour"
           }
          ],
          "contourcarpet": [
           {
            "colorbar": {
             "outlinewidth": 0,
             "ticks": ""
            },
            "type": "contourcarpet"
           }
          ],
          "heatmap": [
           {
            "colorbar": {
             "outlinewidth": 0,
             "ticks": ""
            },
            "colorscale": [
             [
              0,
              "#0d0887"
             ],
             [
              0.1111111111111111,
              "#46039f"
             ],
             [
              0.2222222222222222,
              "#7201a8"
             ],
             [
              0.3333333333333333,
              "#9c179e"
             ],
             [
              0.4444444444444444,
              "#bd3786"
             ],
             [
              0.5555555555555556,
              "#d8576b"
             ],
             [
              0.6666666666666666,
              "#ed7953"
             ],
             [
              0.7777777777777778,
              "#fb9f3a"
             ],
             [
              0.8888888888888888,
              "#fdca26"
             ],
             [
              1,
              "#f0f921"
             ]
            ],
            "type": "heatmap"
           }
          ],
          "heatmapgl": [
           {
            "colorbar": {
             "outlinewidth": 0,
             "ticks": ""
            },
            "colorscale": [
             [
              0,
              "#0d0887"
             ],
             [
              0.1111111111111111,
              "#46039f"
             ],
             [
              0.2222222222222222,
              "#7201a8"
             ],
             [
              0.3333333333333333,
              "#9c179e"
             ],
             [
              0.4444444444444444,
              "#bd3786"
             ],
             [
              0.5555555555555556,
              "#d8576b"
             ],
             [
              0.6666666666666666,
              "#ed7953"
             ],
             [
              0.7777777777777778,
              "#fb9f3a"
             ],
             [
              0.8888888888888888,
              "#fdca26"
             ],
             [
              1,
              "#f0f921"
             ]
            ],
            "type": "heatmapgl"
           }
          ],
          "histogram": [
           {
            "marker": {
             "pattern": {
              "fillmode": "overlay",
              "size": 10,
              "solidity": 0.2
             }
            },
            "type": "histogram"
           }
          ],
          "histogram2d": [
           {
            "colorbar": {
             "outlinewidth": 0,
             "ticks": ""
            },
            "colorscale": [
             [
              0,
              "#0d0887"
             ],
             [
              0.1111111111111111,
              "#46039f"
             ],
             [
              0.2222222222222222,
              "#7201a8"
             ],
             [
              0.3333333333333333,
              "#9c179e"
             ],
             [
              0.4444444444444444,
              "#bd3786"
             ],
             [
              0.5555555555555556,
              "#d8576b"
             ],
             [
              0.6666666666666666,
              "#ed7953"
             ],
             [
              0.7777777777777778,
              "#fb9f3a"
             ],
             [
              0.8888888888888888,
              "#fdca26"
             ],
             [
              1,
              "#f0f921"
             ]
            ],
            "type": "histogram2d"
           }
          ],
          "histogram2dcontour": [
           {
            "colorbar": {
             "outlinewidth": 0,
             "ticks": ""
            },
            "colorscale": [
             [
              0,
              "#0d0887"
             ],
             [
              0.1111111111111111,
              "#46039f"
             ],
             [
              0.2222222222222222,
              "#7201a8"
             ],
             [
              0.3333333333333333,
              "#9c179e"
             ],
             [
              0.4444444444444444,
              "#bd3786"
             ],
             [
              0.5555555555555556,
              "#d8576b"
             ],
             [
              0.6666666666666666,
              "#ed7953"
             ],
             [
              0.7777777777777778,
              "#fb9f3a"
             ],
             [
              0.8888888888888888,
              "#fdca26"
             ],
             [
              1,
              "#f0f921"
             ]
            ],
            "type": "histogram2dcontour"
           }
          ],
          "mesh3d": [
           {
            "colorbar": {
             "outlinewidth": 0,
             "ticks": ""
            },
            "type": "mesh3d"
           }
          ],
          "parcoords": [
           {
            "line": {
             "colorbar": {
              "outlinewidth": 0,
              "ticks": ""
             }
            },
            "type": "parcoords"
           }
          ],
          "pie": [
           {
            "automargin": true,
            "type": "pie"
           }
          ],
          "scatter": [
           {
            "fillpattern": {
             "fillmode": "overlay",
             "size": 10,
             "solidity": 0.2
            },
            "type": "scatter"
           }
          ],
          "scatter3d": [
           {
            "line": {
             "colorbar": {
              "outlinewidth": 0,
              "ticks": ""
             }
            },
            "marker": {
             "colorbar": {
              "outlinewidth": 0,
              "ticks": ""
             }
            },
            "type": "scatter3d"
           }
          ],
          "scattercarpet": [
           {
            "marker": {
             "colorbar": {
              "outlinewidth": 0,
              "ticks": ""
             }
            },
            "type": "scattercarpet"
           }
          ],
          "scattergeo": [
           {
            "marker": {
             "colorbar": {
              "outlinewidth": 0,
              "ticks": ""
             }
            },
            "type": "scattergeo"
           }
          ],
          "scattergl": [
           {
            "marker": {
             "colorbar": {
              "outlinewidth": 0,
              "ticks": ""
             }
            },
            "type": "scattergl"
           }
          ],
          "scattermapbox": [
           {
            "marker": {
             "colorbar": {
              "outlinewidth": 0,
              "ticks": ""
             }
            },
            "type": "scattermapbox"
           }
          ],
          "scatterpolar": [
           {
            "marker": {
             "colorbar": {
              "outlinewidth": 0,
              "ticks": ""
             }
            },
            "type": "scatterpolar"
           }
          ],
          "scatterpolargl": [
           {
            "marker": {
             "colorbar": {
              "outlinewidth": 0,
              "ticks": ""
             }
            },
            "type": "scatterpolargl"
           }
          ],
          "scatterternary": [
           {
            "marker": {
             "colorbar": {
              "outlinewidth": 0,
              "ticks": ""
             }
            },
            "type": "scatterternary"
           }
          ],
          "surface": [
           {
            "colorbar": {
             "outlinewidth": 0,
             "ticks": ""
            },
            "colorscale": [
             [
              0,
              "#0d0887"
             ],
             [
              0.1111111111111111,
              "#46039f"
             ],
             [
              0.2222222222222222,
              "#7201a8"
             ],
             [
              0.3333333333333333,
              "#9c179e"
             ],
             [
              0.4444444444444444,
              "#bd3786"
             ],
             [
              0.5555555555555556,
              "#d8576b"
             ],
             [
              0.6666666666666666,
              "#ed7953"
             ],
             [
              0.7777777777777778,
              "#fb9f3a"
             ],
             [
              0.8888888888888888,
              "#fdca26"
             ],
             [
              1,
              "#f0f921"
             ]
            ],
            "type": "surface"
           }
          ],
          "table": [
           {
            "cells": {
             "fill": {
              "color": "#EBF0F8"
             },
             "line": {
              "color": "white"
             }
            },
            "header": {
             "fill": {
              "color": "#C8D4E3"
             },
             "line": {
              "color": "white"
             }
            },
            "type": "table"
           }
          ]
         },
         "layout": {
          "annotationdefaults": {
           "arrowcolor": "#2a3f5f",
           "arrowhead": 0,
           "arrowwidth": 1
          },
          "autotypenumbers": "strict",
          "coloraxis": {
           "colorbar": {
            "outlinewidth": 0,
            "ticks": ""
           }
          },
          "colorscale": {
           "diverging": [
            [
             0,
             "#8e0152"
            ],
            [
             0.1,
             "#c51b7d"
            ],
            [
             0.2,
             "#de77ae"
            ],
            [
             0.3,
             "#f1b6da"
            ],
            [
             0.4,
             "#fde0ef"
            ],
            [
             0.5,
             "#f7f7f7"
            ],
            [
             0.6,
             "#e6f5d0"
            ],
            [
             0.7,
             "#b8e186"
            ],
            [
             0.8,
             "#7fbc41"
            ],
            [
             0.9,
             "#4d9221"
            ],
            [
             1,
             "#276419"
            ]
           ],
           "sequential": [
            [
             0,
             "#0d0887"
            ],
            [
             0.1111111111111111,
             "#46039f"
            ],
            [
             0.2222222222222222,
             "#7201a8"
            ],
            [
             0.3333333333333333,
             "#9c179e"
            ],
            [
             0.4444444444444444,
             "#bd3786"
            ],
            [
             0.5555555555555556,
             "#d8576b"
            ],
            [
             0.6666666666666666,
             "#ed7953"
            ],
            [
             0.7777777777777778,
             "#fb9f3a"
            ],
            [
             0.8888888888888888,
             "#fdca26"
            ],
            [
             1,
             "#f0f921"
            ]
           ],
           "sequentialminus": [
            [
             0,
             "#0d0887"
            ],
            [
             0.1111111111111111,
             "#46039f"
            ],
            [
             0.2222222222222222,
             "#7201a8"
            ],
            [
             0.3333333333333333,
             "#9c179e"
            ],
            [
             0.4444444444444444,
             "#bd3786"
            ],
            [
             0.5555555555555556,
             "#d8576b"
            ],
            [
             0.6666666666666666,
             "#ed7953"
            ],
            [
             0.7777777777777778,
             "#fb9f3a"
            ],
            [
             0.8888888888888888,
             "#fdca26"
            ],
            [
             1,
             "#f0f921"
            ]
           ]
          },
          "colorway": [
           "#636efa",
           "#EF553B",
           "#00cc96",
           "#ab63fa",
           "#FFA15A",
           "#19d3f3",
           "#FF6692",
           "#B6E880",
           "#FF97FF",
           "#FECB52"
          ],
          "font": {
           "color": "#2a3f5f"
          },
          "geo": {
           "bgcolor": "white",
           "lakecolor": "white",
           "landcolor": "#E5ECF6",
           "showlakes": true,
           "showland": true,
           "subunitcolor": "white"
          },
          "hoverlabel": {
           "align": "left"
          },
          "hovermode": "closest",
          "mapbox": {
           "style": "light"
          },
          "paper_bgcolor": "white",
          "plot_bgcolor": "#E5ECF6",
          "polar": {
           "angularaxis": {
            "gridcolor": "white",
            "linecolor": "white",
            "ticks": ""
           },
           "bgcolor": "#E5ECF6",
           "radialaxis": {
            "gridcolor": "white",
            "linecolor": "white",
            "ticks": ""
           }
          },
          "scene": {
           "xaxis": {
            "backgroundcolor": "#E5ECF6",
            "gridcolor": "white",
            "gridwidth": 2,
            "linecolor": "white",
            "showbackground": true,
            "ticks": "",
            "zerolinecolor": "white"
           },
           "yaxis": {
            "backgroundcolor": "#E5ECF6",
            "gridcolor": "white",
            "gridwidth": 2,
            "linecolor": "white",
            "showbackground": true,
            "ticks": "",
            "zerolinecolor": "white"
           },
           "zaxis": {
            "backgroundcolor": "#E5ECF6",
            "gridcolor": "white",
            "gridwidth": 2,
            "linecolor": "white",
            "showbackground": true,
            "ticks": "",
            "zerolinecolor": "white"
           }
          },
          "shapedefaults": {
           "line": {
            "color": "#2a3f5f"
           }
          },
          "ternary": {
           "aaxis": {
            "gridcolor": "white",
            "linecolor": "white",
            "ticks": ""
           },
           "baxis": {
            "gridcolor": "white",
            "linecolor": "white",
            "ticks": ""
           },
           "bgcolor": "#E5ECF6",
           "caxis": {
            "gridcolor": "white",
            "linecolor": "white",
            "ticks": ""
           }
          },
          "title": {
           "x": 0.05
          },
          "xaxis": {
           "automargin": true,
           "gridcolor": "white",
           "linecolor": "white",
           "ticks": "",
           "title": {
            "standoff": 15
           },
           "zerolinecolor": "white",
           "zerolinewidth": 2
          },
          "yaxis": {
           "automargin": true,
           "gridcolor": "white",
           "linecolor": "white",
           "ticks": "",
           "title": {
            "standoff": 15
           },
           "zerolinecolor": "white",
           "zerolinewidth": 2
          }
         }
        },
        "title": {
         "font": {
          "size": 24
         },
         "text": "Most Frequent IFE Aircrafts"
        },
        "xaxis": {
         "title": {
          "text": "Aircraft Type"
         }
        },
        "yaxis": {
         "title": {
          "text": "IFE Aircraft Rel Freq"
         }
        }
       }
      }
     },
     "metadata": {},
     "output_type": "display_data"
    }
   ],
   "source": [
    "fig2 = go.Figure(data=[\n",
    "    go.Bar(x=type_name_frequency.index, y=type_name_frequency.values/type_name_frequency.values.sum(), name=\"Type\", marker_color=\"green\")\n",
    "])\n",
    "\n",
    "fig2.update_layout(\n",
    "    title={'text': \"Most Frequent IFE Aircrafts\", 'font': {\"size\": 24}},\n",
    "    xaxis_title=\"Aircraft Type\",\n",
    "    yaxis_title=\"IFE Aircraft Rel Freq\",\n",
    ")"
   ]
  },
  {
   "cell_type": "markdown",
   "metadata": {},
   "source": [
    "## Age + Frequency SCATTER"
   ]
  },
  {
   "cell_type": "markdown",
   "metadata": {},
   "source": [
    "##### Data Prep"
   ]
  },
  {
   "cell_type": "code",
   "execution_count": 179,
   "metadata": {},
   "outputs": [
    {
     "data": {
      "text/html": [
       "<div>\n",
       "<style scoped>\n",
       "    .dataframe tbody tr th:only-of-type {\n",
       "        vertical-align: middle;\n",
       "    }\n",
       "\n",
       "    .dataframe tbody tr th {\n",
       "        vertical-align: top;\n",
       "    }\n",
       "\n",
       "    .dataframe thead th {\n",
       "        text-align: right;\n",
       "    }\n",
       "</style>\n",
       "<table border=\"1\" class=\"dataframe\">\n",
       "  <thead>\n",
       "    <tr style=\"text-align: right;\">\n",
       "      <th></th>\n",
       "      <th>productionLine</th>\n",
       "      <th>frequency</th>\n",
       "    </tr>\n",
       "  </thead>\n",
       "  <tbody>\n",
       "    <tr>\n",
       "      <th>0</th>\n",
       "      <td>Boeing 737 NG</td>\n",
       "      <td>157</td>\n",
       "    </tr>\n",
       "    <tr>\n",
       "      <th>1</th>\n",
       "      <td>Airbus A320</td>\n",
       "      <td>99</td>\n",
       "    </tr>\n",
       "    <tr>\n",
       "      <th>2</th>\n",
       "      <td>Airbus A319</td>\n",
       "      <td>44</td>\n",
       "    </tr>\n",
       "    <tr>\n",
       "      <th>3</th>\n",
       "      <td>Boeing 777</td>\n",
       "      <td>36</td>\n",
       "    </tr>\n",
       "    <tr>\n",
       "      <th>4</th>\n",
       "      <td>Boeing 767</td>\n",
       "      <td>36</td>\n",
       "    </tr>\n",
       "    <tr>\n",
       "      <th>5</th>\n",
       "      <td>Airbus A321</td>\n",
       "      <td>35</td>\n",
       "    </tr>\n",
       "    <tr>\n",
       "      <th>6</th>\n",
       "      <td>Embraer ERJ170</td>\n",
       "      <td>33</td>\n",
       "    </tr>\n",
       "    <tr>\n",
       "      <th>7</th>\n",
       "      <td>Airbus A330</td>\n",
       "      <td>32</td>\n",
       "    </tr>\n",
       "    <tr>\n",
       "      <th>8</th>\n",
       "      <td>Boeing 757</td>\n",
       "      <td>25</td>\n",
       "    </tr>\n",
       "    <tr>\n",
       "      <th>9</th>\n",
       "      <td>Boeing 787</td>\n",
       "      <td>25</td>\n",
       "    </tr>\n",
       "    <tr>\n",
       "      <th>10</th>\n",
       "      <td>Boeing 747</td>\n",
       "      <td>17</td>\n",
       "    </tr>\n",
       "    <tr>\n",
       "      <th>11</th>\n",
       "      <td>Canadair CRJ 900</td>\n",
       "      <td>15</td>\n",
       "    </tr>\n",
       "    <tr>\n",
       "      <th>12</th>\n",
       "      <td>Airbus A300</td>\n",
       "      <td>10</td>\n",
       "    </tr>\n",
       "    <tr>\n",
       "      <th>13</th>\n",
       "      <td>Canadair CRJ 100</td>\n",
       "      <td>8</td>\n",
       "    </tr>\n",
       "    <tr>\n",
       "      <th>14</th>\n",
       "      <td>Bombardier DHC-8</td>\n",
       "      <td>8</td>\n",
       "    </tr>\n",
       "    <tr>\n",
       "      <th>15</th>\n",
       "      <td>McDonnell Douglas MD-11</td>\n",
       "      <td>7</td>\n",
       "    </tr>\n",
       "    <tr>\n",
       "      <th>16</th>\n",
       "      <td>Embraer ERJ145</td>\n",
       "      <td>6</td>\n",
       "    </tr>\n",
       "    <tr>\n",
       "      <th>17</th>\n",
       "      <td>Airbus A380</td>\n",
       "      <td>5</td>\n",
       "    </tr>\n",
       "    <tr>\n",
       "      <th>18</th>\n",
       "      <td>Boeing 737 Classic</td>\n",
       "      <td>5</td>\n",
       "    </tr>\n",
       "    <tr>\n",
       "      <th>19</th>\n",
       "      <td>Sukhoi Superjet 100</td>\n",
       "      <td>3</td>\n",
       "    </tr>\n",
       "    <tr>\n",
       "      <th>20</th>\n",
       "      <td>Airbus A220</td>\n",
       "      <td>3</td>\n",
       "    </tr>\n",
       "    <tr>\n",
       "      <th>21</th>\n",
       "      <td>Boeing 717</td>\n",
       "      <td>3</td>\n",
       "    </tr>\n",
       "    <tr>\n",
       "      <th>22</th>\n",
       "      <td>Airbus A340</td>\n",
       "      <td>3</td>\n",
       "    </tr>\n",
       "    <tr>\n",
       "      <th>23</th>\n",
       "      <td>Airbus A350</td>\n",
       "      <td>2</td>\n",
       "    </tr>\n",
       "    <tr>\n",
       "      <th>24</th>\n",
       "      <td>McDonnell Douglas MD-90</td>\n",
       "      <td>2</td>\n",
       "    </tr>\n",
       "    <tr>\n",
       "      <th>25</th>\n",
       "      <td>Embraer ERJ190</td>\n",
       "      <td>2</td>\n",
       "    </tr>\n",
       "    <tr>\n",
       "      <th>26</th>\n",
       "      <td>ATR 72</td>\n",
       "      <td>2</td>\n",
       "    </tr>\n",
       "    <tr>\n",
       "      <th>27</th>\n",
       "      <td>BAe Avro RJ</td>\n",
       "      <td>2</td>\n",
       "    </tr>\n",
       "    <tr>\n",
       "      <th>28</th>\n",
       "      <td>Airubs A318</td>\n",
       "      <td>1</td>\n",
       "    </tr>\n",
       "    <tr>\n",
       "      <th>29</th>\n",
       "      <td>Embraer ERJ135</td>\n",
       "      <td>1</td>\n",
       "    </tr>\n",
       "    <tr>\n",
       "      <th>30</th>\n",
       "      <td>Boeing 737 Original</td>\n",
       "      <td>1</td>\n",
       "    </tr>\n",
       "    <tr>\n",
       "      <th>31</th>\n",
       "      <td>Canadair CRJ 700</td>\n",
       "      <td>1</td>\n",
       "    </tr>\n",
       "    <tr>\n",
       "      <th>32</th>\n",
       "      <td>Canadair CRJ</td>\n",
       "      <td>1</td>\n",
       "    </tr>\n",
       "    <tr>\n",
       "      <th>33</th>\n",
       "      <td>Fokker 100</td>\n",
       "      <td>1</td>\n",
       "    </tr>\n",
       "    <tr>\n",
       "      <th>34</th>\n",
       "      <td>Airbus A320 NEO</td>\n",
       "      <td>1</td>\n",
       "    </tr>\n",
       "    <tr>\n",
       "      <th>35</th>\n",
       "      <td>McDonnell Douglas MD-88</td>\n",
       "      <td>1</td>\n",
       "    </tr>\n",
       "    <tr>\n",
       "      <th>36</th>\n",
       "      <td>Boeing 727</td>\n",
       "      <td>1</td>\n",
       "    </tr>\n",
       "    <tr>\n",
       "      <th>37</th>\n",
       "      <td>Embraer ERJ140</td>\n",
       "      <td>1</td>\n",
       "    </tr>\n",
       "  </tbody>\n",
       "</table>\n",
       "</div>"
      ],
      "text/plain": [
       "             productionLine  frequency\n",
       "0             Boeing 737 NG        157\n",
       "1               Airbus A320         99\n",
       "2               Airbus A319         44\n",
       "3                Boeing 777         36\n",
       "4                Boeing 767         36\n",
       "5               Airbus A321         35\n",
       "6            Embraer ERJ170         33\n",
       "7               Airbus A330         32\n",
       "8                Boeing 757         25\n",
       "9                Boeing 787         25\n",
       "10               Boeing 747         17\n",
       "11         Canadair CRJ 900         15\n",
       "12              Airbus A300         10\n",
       "13         Canadair CRJ 100          8\n",
       "14         Bombardier DHC-8          8\n",
       "15  McDonnell Douglas MD-11          7\n",
       "16           Embraer ERJ145          6\n",
       "17              Airbus A380          5\n",
       "18       Boeing 737 Classic          5\n",
       "19      Sukhoi Superjet 100          3\n",
       "20              Airbus A220          3\n",
       "21               Boeing 717          3\n",
       "22              Airbus A340          3\n",
       "23              Airbus A350          2\n",
       "24  McDonnell Douglas MD-90          2\n",
       "25           Embraer ERJ190          2\n",
       "26                   ATR 72          2\n",
       "27              BAe Avro RJ          2\n",
       "28              Airubs A318          1\n",
       "29           Embraer ERJ135          1\n",
       "30      Boeing 737 Original          1\n",
       "31         Canadair CRJ 700          1\n",
       "32             Canadair CRJ          1\n",
       "33               Fokker 100          1\n",
       "34          Airbus A320 NEO          1\n",
       "35  McDonnell Douglas MD-88          1\n",
       "36               Boeing 727          1\n",
       "37           Embraer ERJ140          1"
      ]
     },
     "execution_count": 179,
     "metadata": {},
     "output_type": "execute_result"
    }
   ],
   "source": [
    "type_name_frequency_df = type_name_frequency.reset_index()\n",
    "type_name_frequency_df.rename(columns={'flight_id':'frequency'},inplace=True)\n",
    "type_name_frequency_df"
   ]
  },
  {
   "cell_type": "code",
   "execution_count": 180,
   "metadata": {},
   "outputs": [
    {
     "data": {
      "text/html": [
       "<div>\n",
       "<style scoped>\n",
       "    .dataframe tbody tr th:only-of-type {\n",
       "        vertical-align: middle;\n",
       "    }\n",
       "\n",
       "    .dataframe tbody tr th {\n",
       "        vertical-align: top;\n",
       "    }\n",
       "\n",
       "    .dataframe thead th {\n",
       "        text-align: right;\n",
       "    }\n",
       "</style>\n",
       "<table border=\"1\" class=\"dataframe\">\n",
       "  <thead>\n",
       "    <tr style=\"text-align: right;\">\n",
       "      <th></th>\n",
       "      <th>productionLine</th>\n",
       "      <th>ageYears_median</th>\n",
       "    </tr>\n",
       "  </thead>\n",
       "  <tbody>\n",
       "    <tr>\n",
       "      <th>0</th>\n",
       "      <td>ATR 72</td>\n",
       "      <td>9.65</td>\n",
       "    </tr>\n",
       "    <tr>\n",
       "      <th>1</th>\n",
       "      <td>Airbus A220</td>\n",
       "      <td>6.80</td>\n",
       "    </tr>\n",
       "    <tr>\n",
       "      <th>2</th>\n",
       "      <td>Airbus A300</td>\n",
       "      <td>29.55</td>\n",
       "    </tr>\n",
       "    <tr>\n",
       "      <th>3</th>\n",
       "      <td>Airbus A319</td>\n",
       "      <td>19.65</td>\n",
       "    </tr>\n",
       "    <tr>\n",
       "      <th>4</th>\n",
       "      <td>Airbus A320</td>\n",
       "      <td>14.50</td>\n",
       "    </tr>\n",
       "    <tr>\n",
       "      <th>5</th>\n",
       "      <td>Airbus A320 NEO</td>\n",
       "      <td>5.80</td>\n",
       "    </tr>\n",
       "    <tr>\n",
       "      <th>6</th>\n",
       "      <td>Airbus A321</td>\n",
       "      <td>9.40</td>\n",
       "    </tr>\n",
       "    <tr>\n",
       "      <th>7</th>\n",
       "      <td>Airbus A330</td>\n",
       "      <td>16.95</td>\n",
       "    </tr>\n",
       "    <tr>\n",
       "      <th>8</th>\n",
       "      <td>Airbus A340</td>\n",
       "      <td>21.10</td>\n",
       "    </tr>\n",
       "    <tr>\n",
       "      <th>9</th>\n",
       "      <td>Airbus A350</td>\n",
       "      <td>9.45</td>\n",
       "    </tr>\n",
       "    <tr>\n",
       "      <th>10</th>\n",
       "      <td>Airbus A380</td>\n",
       "      <td>11.70</td>\n",
       "    </tr>\n",
       "    <tr>\n",
       "      <th>11</th>\n",
       "      <td>Airubs A318</td>\n",
       "      <td>21.00</td>\n",
       "    </tr>\n",
       "    <tr>\n",
       "      <th>12</th>\n",
       "      <td>BAe Avro RJ</td>\n",
       "      <td>26.35</td>\n",
       "    </tr>\n",
       "    <tr>\n",
       "      <th>13</th>\n",
       "      <td>Boeing 717</td>\n",
       "      <td>24.30</td>\n",
       "    </tr>\n",
       "    <tr>\n",
       "      <th>14</th>\n",
       "      <td>Boeing 727</td>\n",
       "      <td>17.60</td>\n",
       "    </tr>\n",
       "    <tr>\n",
       "      <th>15</th>\n",
       "      <td>Boeing 737 Classic</td>\n",
       "      <td>32.70</td>\n",
       "    </tr>\n",
       "    <tr>\n",
       "      <th>16</th>\n",
       "      <td>Boeing 737 NG</td>\n",
       "      <td>15.30</td>\n",
       "    </tr>\n",
       "    <tr>\n",
       "      <th>17</th>\n",
       "      <td>Boeing 737 Original</td>\n",
       "      <td>45.60</td>\n",
       "    </tr>\n",
       "    <tr>\n",
       "      <th>18</th>\n",
       "      <td>Boeing 747</td>\n",
       "      <td>22.30</td>\n",
       "    </tr>\n",
       "    <tr>\n",
       "      <th>19</th>\n",
       "      <td>Boeing 757</td>\n",
       "      <td>26.80</td>\n",
       "    </tr>\n",
       "    <tr>\n",
       "      <th>20</th>\n",
       "      <td>Boeing 767</td>\n",
       "      <td>25.85</td>\n",
       "    </tr>\n",
       "    <tr>\n",
       "      <th>21</th>\n",
       "      <td>Boeing 777</td>\n",
       "      <td>19.25</td>\n",
       "    </tr>\n",
       "    <tr>\n",
       "      <th>22</th>\n",
       "      <td>Boeing 787</td>\n",
       "      <td>9.10</td>\n",
       "    </tr>\n",
       "    <tr>\n",
       "      <th>23</th>\n",
       "      <td>Bombardier DHC-8</td>\n",
       "      <td>16.35</td>\n",
       "    </tr>\n",
       "    <tr>\n",
       "      <th>24</th>\n",
       "      <td>Canadair CRJ</td>\n",
       "      <td>21.10</td>\n",
       "    </tr>\n",
       "    <tr>\n",
       "      <th>25</th>\n",
       "      <td>Canadair CRJ 100</td>\n",
       "      <td>22.40</td>\n",
       "    </tr>\n",
       "    <tr>\n",
       "      <th>26</th>\n",
       "      <td>Canadair CRJ 700</td>\n",
       "      <td>22.10</td>\n",
       "    </tr>\n",
       "    <tr>\n",
       "      <th>27</th>\n",
       "      <td>Canadair CRJ 900</td>\n",
       "      <td>15.90</td>\n",
       "    </tr>\n",
       "    <tr>\n",
       "      <th>28</th>\n",
       "      <td>Embraer ERJ135</td>\n",
       "      <td>23.00</td>\n",
       "    </tr>\n",
       "    <tr>\n",
       "      <th>29</th>\n",
       "      <td>Embraer ERJ140</td>\n",
       "      <td>21.20</td>\n",
       "    </tr>\n",
       "    <tr>\n",
       "      <th>30</th>\n",
       "      <td>Embraer ERJ145</td>\n",
       "      <td>20.70</td>\n",
       "    </tr>\n",
       "    <tr>\n",
       "      <th>31</th>\n",
       "      <td>Embraer ERJ170</td>\n",
       "      <td>9.30</td>\n",
       "    </tr>\n",
       "    <tr>\n",
       "      <th>32</th>\n",
       "      <td>Embraer ERJ190</td>\n",
       "      <td>14.90</td>\n",
       "    </tr>\n",
       "    <tr>\n",
       "      <th>33</th>\n",
       "      <td>Fokker 100</td>\n",
       "      <td>30.60</td>\n",
       "    </tr>\n",
       "    <tr>\n",
       "      <th>34</th>\n",
       "      <td>McDonnell Douglas MD-11</td>\n",
       "      <td>32.40</td>\n",
       "    </tr>\n",
       "    <tr>\n",
       "      <th>35</th>\n",
       "      <td>McDonnell Douglas MD-88</td>\n",
       "      <td>37.70</td>\n",
       "    </tr>\n",
       "    <tr>\n",
       "      <th>36</th>\n",
       "      <td>McDonnell Douglas MD-90</td>\n",
       "      <td>25.65</td>\n",
       "    </tr>\n",
       "    <tr>\n",
       "      <th>37</th>\n",
       "      <td>Sukhoi Superjet 100</td>\n",
       "      <td>10.40</td>\n",
       "    </tr>\n",
       "  </tbody>\n",
       "</table>\n",
       "</div>"
      ],
      "text/plain": [
       "             productionLine  ageYears_median\n",
       "0                    ATR 72             9.65\n",
       "1               Airbus A220             6.80\n",
       "2               Airbus A300            29.55\n",
       "3               Airbus A319            19.65\n",
       "4               Airbus A320            14.50\n",
       "5           Airbus A320 NEO             5.80\n",
       "6               Airbus A321             9.40\n",
       "7               Airbus A330            16.95\n",
       "8               Airbus A340            21.10\n",
       "9               Airbus A350             9.45\n",
       "10              Airbus A380            11.70\n",
       "11              Airubs A318            21.00\n",
       "12              BAe Avro RJ            26.35\n",
       "13               Boeing 717            24.30\n",
       "14               Boeing 727            17.60\n",
       "15       Boeing 737 Classic            32.70\n",
       "16            Boeing 737 NG            15.30\n",
       "17      Boeing 737 Original            45.60\n",
       "18               Boeing 747            22.30\n",
       "19               Boeing 757            26.80\n",
       "20               Boeing 767            25.85\n",
       "21               Boeing 777            19.25\n",
       "22               Boeing 787             9.10\n",
       "23         Bombardier DHC-8            16.35\n",
       "24             Canadair CRJ            21.10\n",
       "25         Canadair CRJ 100            22.40\n",
       "26         Canadair CRJ 700            22.10\n",
       "27         Canadair CRJ 900            15.90\n",
       "28           Embraer ERJ135            23.00\n",
       "29           Embraer ERJ140            21.20\n",
       "30           Embraer ERJ145            20.70\n",
       "31           Embraer ERJ170             9.30\n",
       "32           Embraer ERJ190            14.90\n",
       "33               Fokker 100            30.60\n",
       "34  McDonnell Douglas MD-11            32.40\n",
       "35  McDonnell Douglas MD-88            37.70\n",
       "36  McDonnell Douglas MD-90            25.65\n",
       "37      Sukhoi Superjet 100            10.40"
      ]
     },
     "execution_count": 180,
     "metadata": {},
     "output_type": "execute_result"
    }
   ],
   "source": [
    "median_age = df.groupby('productionLine').ageYears.median()\n",
    "median_age.dropna(inplace=True)\n",
    "median_age_df = median_age.reset_index()\n",
    "median_age_df.rename(columns={'ageYears':'ageYears_median'}, inplace=True)\n",
    "median_age_df"
   ]
  },
  {
   "cell_type": "code",
   "execution_count": 181,
   "metadata": {},
   "outputs": [
    {
     "data": {
      "text/html": [
       "<div>\n",
       "<style scoped>\n",
       "    .dataframe tbody tr th:only-of-type {\n",
       "        vertical-align: middle;\n",
       "    }\n",
       "\n",
       "    .dataframe tbody tr th {\n",
       "        vertical-align: top;\n",
       "    }\n",
       "\n",
       "    .dataframe thead th {\n",
       "        text-align: right;\n",
       "    }\n",
       "</style>\n",
       "<table border=\"1\" class=\"dataframe\">\n",
       "  <thead>\n",
       "    <tr style=\"text-align: right;\">\n",
       "      <th></th>\n",
       "      <th>productionLine</th>\n",
       "      <th>frequency</th>\n",
       "      <th>ageYears_median</th>\n",
       "    </tr>\n",
       "  </thead>\n",
       "  <tbody>\n",
       "    <tr>\n",
       "      <th>0</th>\n",
       "      <td>Boeing 737 NG</td>\n",
       "      <td>157</td>\n",
       "      <td>15.30</td>\n",
       "    </tr>\n",
       "    <tr>\n",
       "      <th>1</th>\n",
       "      <td>Airbus A320</td>\n",
       "      <td>99</td>\n",
       "      <td>14.50</td>\n",
       "    </tr>\n",
       "    <tr>\n",
       "      <th>2</th>\n",
       "      <td>Airbus A319</td>\n",
       "      <td>44</td>\n",
       "      <td>19.65</td>\n",
       "    </tr>\n",
       "    <tr>\n",
       "      <th>3</th>\n",
       "      <td>Boeing 777</td>\n",
       "      <td>36</td>\n",
       "      <td>19.25</td>\n",
       "    </tr>\n",
       "    <tr>\n",
       "      <th>4</th>\n",
       "      <td>Boeing 767</td>\n",
       "      <td>36</td>\n",
       "      <td>25.85</td>\n",
       "    </tr>\n",
       "    <tr>\n",
       "      <th>5</th>\n",
       "      <td>Airbus A321</td>\n",
       "      <td>35</td>\n",
       "      <td>9.40</td>\n",
       "    </tr>\n",
       "    <tr>\n",
       "      <th>6</th>\n",
       "      <td>Embraer ERJ170</td>\n",
       "      <td>33</td>\n",
       "      <td>9.30</td>\n",
       "    </tr>\n",
       "    <tr>\n",
       "      <th>7</th>\n",
       "      <td>Airbus A330</td>\n",
       "      <td>32</td>\n",
       "      <td>16.95</td>\n",
       "    </tr>\n",
       "    <tr>\n",
       "      <th>8</th>\n",
       "      <td>Boeing 757</td>\n",
       "      <td>25</td>\n",
       "      <td>26.80</td>\n",
       "    </tr>\n",
       "    <tr>\n",
       "      <th>9</th>\n",
       "      <td>Boeing 787</td>\n",
       "      <td>25</td>\n",
       "      <td>9.10</td>\n",
       "    </tr>\n",
       "    <tr>\n",
       "      <th>10</th>\n",
       "      <td>Boeing 747</td>\n",
       "      <td>17</td>\n",
       "      <td>22.30</td>\n",
       "    </tr>\n",
       "    <tr>\n",
       "      <th>11</th>\n",
       "      <td>Canadair CRJ 900</td>\n",
       "      <td>15</td>\n",
       "      <td>15.90</td>\n",
       "    </tr>\n",
       "    <tr>\n",
       "      <th>12</th>\n",
       "      <td>Airbus A300</td>\n",
       "      <td>10</td>\n",
       "      <td>29.55</td>\n",
       "    </tr>\n",
       "    <tr>\n",
       "      <th>13</th>\n",
       "      <td>Canadair CRJ 100</td>\n",
       "      <td>8</td>\n",
       "      <td>22.40</td>\n",
       "    </tr>\n",
       "    <tr>\n",
       "      <th>14</th>\n",
       "      <td>Bombardier DHC-8</td>\n",
       "      <td>8</td>\n",
       "      <td>16.35</td>\n",
       "    </tr>\n",
       "    <tr>\n",
       "      <th>15</th>\n",
       "      <td>McDonnell Douglas MD-11</td>\n",
       "      <td>7</td>\n",
       "      <td>32.40</td>\n",
       "    </tr>\n",
       "    <tr>\n",
       "      <th>16</th>\n",
       "      <td>Embraer ERJ145</td>\n",
       "      <td>6</td>\n",
       "      <td>20.70</td>\n",
       "    </tr>\n",
       "    <tr>\n",
       "      <th>17</th>\n",
       "      <td>Airbus A380</td>\n",
       "      <td>5</td>\n",
       "      <td>11.70</td>\n",
       "    </tr>\n",
       "    <tr>\n",
       "      <th>18</th>\n",
       "      <td>Boeing 737 Classic</td>\n",
       "      <td>5</td>\n",
       "      <td>32.70</td>\n",
       "    </tr>\n",
       "    <tr>\n",
       "      <th>19</th>\n",
       "      <td>Sukhoi Superjet 100</td>\n",
       "      <td>3</td>\n",
       "      <td>10.40</td>\n",
       "    </tr>\n",
       "    <tr>\n",
       "      <th>20</th>\n",
       "      <td>Airbus A220</td>\n",
       "      <td>3</td>\n",
       "      <td>6.80</td>\n",
       "    </tr>\n",
       "    <tr>\n",
       "      <th>21</th>\n",
       "      <td>Boeing 717</td>\n",
       "      <td>3</td>\n",
       "      <td>24.30</td>\n",
       "    </tr>\n",
       "    <tr>\n",
       "      <th>22</th>\n",
       "      <td>Airbus A340</td>\n",
       "      <td>3</td>\n",
       "      <td>21.10</td>\n",
       "    </tr>\n",
       "    <tr>\n",
       "      <th>23</th>\n",
       "      <td>Airbus A350</td>\n",
       "      <td>2</td>\n",
       "      <td>9.45</td>\n",
       "    </tr>\n",
       "    <tr>\n",
       "      <th>24</th>\n",
       "      <td>McDonnell Douglas MD-90</td>\n",
       "      <td>2</td>\n",
       "      <td>25.65</td>\n",
       "    </tr>\n",
       "    <tr>\n",
       "      <th>25</th>\n",
       "      <td>Embraer ERJ190</td>\n",
       "      <td>2</td>\n",
       "      <td>14.90</td>\n",
       "    </tr>\n",
       "    <tr>\n",
       "      <th>26</th>\n",
       "      <td>ATR 72</td>\n",
       "      <td>2</td>\n",
       "      <td>9.65</td>\n",
       "    </tr>\n",
       "    <tr>\n",
       "      <th>27</th>\n",
       "      <td>BAe Avro RJ</td>\n",
       "      <td>2</td>\n",
       "      <td>26.35</td>\n",
       "    </tr>\n",
       "    <tr>\n",
       "      <th>28</th>\n",
       "      <td>Airubs A318</td>\n",
       "      <td>1</td>\n",
       "      <td>21.00</td>\n",
       "    </tr>\n",
       "    <tr>\n",
       "      <th>29</th>\n",
       "      <td>Embraer ERJ135</td>\n",
       "      <td>1</td>\n",
       "      <td>23.00</td>\n",
       "    </tr>\n",
       "    <tr>\n",
       "      <th>30</th>\n",
       "      <td>Boeing 737 Original</td>\n",
       "      <td>1</td>\n",
       "      <td>45.60</td>\n",
       "    </tr>\n",
       "    <tr>\n",
       "      <th>31</th>\n",
       "      <td>Canadair CRJ 700</td>\n",
       "      <td>1</td>\n",
       "      <td>22.10</td>\n",
       "    </tr>\n",
       "    <tr>\n",
       "      <th>32</th>\n",
       "      <td>Canadair CRJ</td>\n",
       "      <td>1</td>\n",
       "      <td>21.10</td>\n",
       "    </tr>\n",
       "    <tr>\n",
       "      <th>33</th>\n",
       "      <td>Fokker 100</td>\n",
       "      <td>1</td>\n",
       "      <td>30.60</td>\n",
       "    </tr>\n",
       "    <tr>\n",
       "      <th>34</th>\n",
       "      <td>Airbus A320 NEO</td>\n",
       "      <td>1</td>\n",
       "      <td>5.80</td>\n",
       "    </tr>\n",
       "    <tr>\n",
       "      <th>35</th>\n",
       "      <td>McDonnell Douglas MD-88</td>\n",
       "      <td>1</td>\n",
       "      <td>37.70</td>\n",
       "    </tr>\n",
       "    <tr>\n",
       "      <th>36</th>\n",
       "      <td>Boeing 727</td>\n",
       "      <td>1</td>\n",
       "      <td>17.60</td>\n",
       "    </tr>\n",
       "    <tr>\n",
       "      <th>37</th>\n",
       "      <td>Embraer ERJ140</td>\n",
       "      <td>1</td>\n",
       "      <td>21.20</td>\n",
       "    </tr>\n",
       "  </tbody>\n",
       "</table>\n",
       "</div>"
      ],
      "text/plain": [
       "             productionLine  frequency  ageYears_median\n",
       "0             Boeing 737 NG        157            15.30\n",
       "1               Airbus A320         99            14.50\n",
       "2               Airbus A319         44            19.65\n",
       "3                Boeing 777         36            19.25\n",
       "4                Boeing 767         36            25.85\n",
       "5               Airbus A321         35             9.40\n",
       "6            Embraer ERJ170         33             9.30\n",
       "7               Airbus A330         32            16.95\n",
       "8                Boeing 757         25            26.80\n",
       "9                Boeing 787         25             9.10\n",
       "10               Boeing 747         17            22.30\n",
       "11         Canadair CRJ 900         15            15.90\n",
       "12              Airbus A300         10            29.55\n",
       "13         Canadair CRJ 100          8            22.40\n",
       "14         Bombardier DHC-8          8            16.35\n",
       "15  McDonnell Douglas MD-11          7            32.40\n",
       "16           Embraer ERJ145          6            20.70\n",
       "17              Airbus A380          5            11.70\n",
       "18       Boeing 737 Classic          5            32.70\n",
       "19      Sukhoi Superjet 100          3            10.40\n",
       "20              Airbus A220          3             6.80\n",
       "21               Boeing 717          3            24.30\n",
       "22              Airbus A340          3            21.10\n",
       "23              Airbus A350          2             9.45\n",
       "24  McDonnell Douglas MD-90          2            25.65\n",
       "25           Embraer ERJ190          2            14.90\n",
       "26                   ATR 72          2             9.65\n",
       "27              BAe Avro RJ          2            26.35\n",
       "28              Airubs A318          1            21.00\n",
       "29           Embraer ERJ135          1            23.00\n",
       "30      Boeing 737 Original          1            45.60\n",
       "31         Canadair CRJ 700          1            22.10\n",
       "32             Canadair CRJ          1            21.10\n",
       "33               Fokker 100          1            30.60\n",
       "34          Airbus A320 NEO          1             5.80\n",
       "35  McDonnell Douglas MD-88          1            37.70\n",
       "36               Boeing 727          1            17.60\n",
       "37           Embraer ERJ140          1            21.20"
      ]
     },
     "execution_count": 181,
     "metadata": {},
     "output_type": "execute_result"
    }
   ],
   "source": [
    "freq_medianage_merged = type_name_frequency_df.merge(median_age_df, on='productionLine')\n",
    "freq_medianage_merged"
   ]
  },
  {
   "cell_type": "markdown",
   "metadata": {},
   "source": [
    "##### Plot"
   ]
  },
  {
   "cell_type": "code",
   "execution_count": 182,
   "metadata": {},
   "outputs": [
    {
     "data": {
      "application/vnd.plotly.v1+json": {
       "config": {
        "plotlyServerURL": "https://plot.ly"
       },
       "data": [
        {
         "hovertext": [
          "Boeing 737 NG",
          "Airbus A320",
          "Airbus A319",
          "Boeing 777",
          "Boeing 767",
          "Airbus A321",
          "Embraer ERJ170",
          "Airbus A330",
          "Boeing 757",
          "Boeing 787",
          "Boeing 747",
          "Canadair CRJ 900",
          "Airbus A300",
          "Canadair CRJ 100",
          "Bombardier DHC-8",
          "McDonnell Douglas MD-11",
          "Embraer ERJ145",
          "Airbus A380",
          "Boeing 737 Classic",
          "Sukhoi Superjet 100",
          "Airbus A220",
          "Boeing 717",
          "Airbus A340",
          "Airbus A350",
          "McDonnell Douglas MD-90",
          "Embraer ERJ190",
          "ATR 72",
          "BAe Avro RJ",
          "Airubs A318",
          "Embraer ERJ135",
          "Boeing 737 Original",
          "Canadair CRJ 700",
          "Canadair CRJ",
          "Fokker 100",
          "Airbus A320 NEO",
          "McDonnell Douglas MD-88",
          "Boeing 727",
          "Embraer ERJ140"
         ],
         "marker": {
          "color": "blue"
         },
         "mode": "markers",
         "name": "Type",
         "type": "scatter",
         "x": [
          15.3,
          14.5,
          19.65,
          19.25,
          25.85,
          9.4,
          9.3,
          16.95,
          26.8,
          9.1,
          22.3,
          15.9,
          29.549999999999997,
          22.4,
          16.35,
          32.4,
          20.700000000000003,
          11.7,
          32.7,
          10.4,
          6.8,
          24.3,
          21.1,
          9.45,
          25.65,
          14.899999999999999,
          9.65,
          26.35,
          21,
          23,
          45.6,
          22.1,
          21.1,
          30.6,
          5.8,
          37.7,
          17.6,
          21.2
         ],
         "y": [
          157,
          99,
          44,
          36,
          36,
          35,
          33,
          32,
          25,
          25,
          17,
          15,
          10,
          8,
          8,
          7,
          6,
          5,
          5,
          3,
          3,
          3,
          3,
          2,
          2,
          2,
          2,
          2,
          1,
          1,
          1,
          1,
          1,
          1,
          1,
          1,
          1,
          1
         ]
        }
       ],
       "layout": {
        "template": {
         "data": {
          "bar": [
           {
            "error_x": {
             "color": "#2a3f5f"
            },
            "error_y": {
             "color": "#2a3f5f"
            },
            "marker": {
             "line": {
              "color": "#E5ECF6",
              "width": 0.5
             },
             "pattern": {
              "fillmode": "overlay",
              "size": 10,
              "solidity": 0.2
             }
            },
            "type": "bar"
           }
          ],
          "barpolar": [
           {
            "marker": {
             "line": {
              "color": "#E5ECF6",
              "width": 0.5
             },
             "pattern": {
              "fillmode": "overlay",
              "size": 10,
              "solidity": 0.2
             }
            },
            "type": "barpolar"
           }
          ],
          "carpet": [
           {
            "aaxis": {
             "endlinecolor": "#2a3f5f",
             "gridcolor": "white",
             "linecolor": "white",
             "minorgridcolor": "white",
             "startlinecolor": "#2a3f5f"
            },
            "baxis": {
             "endlinecolor": "#2a3f5f",
             "gridcolor": "white",
             "linecolor": "white",
             "minorgridcolor": "white",
             "startlinecolor": "#2a3f5f"
            },
            "type": "carpet"
           }
          ],
          "choropleth": [
           {
            "colorbar": {
             "outlinewidth": 0,
             "ticks": ""
            },
            "type": "choropleth"
           }
          ],
          "contour": [
           {
            "colorbar": {
             "outlinewidth": 0,
             "ticks": ""
            },
            "colorscale": [
             [
              0,
              "#0d0887"
             ],
             [
              0.1111111111111111,
              "#46039f"
             ],
             [
              0.2222222222222222,
              "#7201a8"
             ],
             [
              0.3333333333333333,
              "#9c179e"
             ],
             [
              0.4444444444444444,
              "#bd3786"
             ],
             [
              0.5555555555555556,
              "#d8576b"
             ],
             [
              0.6666666666666666,
              "#ed7953"
             ],
             [
              0.7777777777777778,
              "#fb9f3a"
             ],
             [
              0.8888888888888888,
              "#fdca26"
             ],
             [
              1,
              "#f0f921"
             ]
            ],
            "type": "contour"
           }
          ],
          "contourcarpet": [
           {
            "colorbar": {
             "outlinewidth": 0,
             "ticks": ""
            },
            "type": "contourcarpet"
           }
          ],
          "heatmap": [
           {
            "colorbar": {
             "outlinewidth": 0,
             "ticks": ""
            },
            "colorscale": [
             [
              0,
              "#0d0887"
             ],
             [
              0.1111111111111111,
              "#46039f"
             ],
             [
              0.2222222222222222,
              "#7201a8"
             ],
             [
              0.3333333333333333,
              "#9c179e"
             ],
             [
              0.4444444444444444,
              "#bd3786"
             ],
             [
              0.5555555555555556,
              "#d8576b"
             ],
             [
              0.6666666666666666,
              "#ed7953"
             ],
             [
              0.7777777777777778,
              "#fb9f3a"
             ],
             [
              0.8888888888888888,
              "#fdca26"
             ],
             [
              1,
              "#f0f921"
             ]
            ],
            "type": "heatmap"
           }
          ],
          "heatmapgl": [
           {
            "colorbar": {
             "outlinewidth": 0,
             "ticks": ""
            },
            "colorscale": [
             [
              0,
              "#0d0887"
             ],
             [
              0.1111111111111111,
              "#46039f"
             ],
             [
              0.2222222222222222,
              "#7201a8"
             ],
             [
              0.3333333333333333,
              "#9c179e"
             ],
             [
              0.4444444444444444,
              "#bd3786"
             ],
             [
              0.5555555555555556,
              "#d8576b"
             ],
             [
              0.6666666666666666,
              "#ed7953"
             ],
             [
              0.7777777777777778,
              "#fb9f3a"
             ],
             [
              0.8888888888888888,
              "#fdca26"
             ],
             [
              1,
              "#f0f921"
             ]
            ],
            "type": "heatmapgl"
           }
          ],
          "histogram": [
           {
            "marker": {
             "pattern": {
              "fillmode": "overlay",
              "size": 10,
              "solidity": 0.2
             }
            },
            "type": "histogram"
           }
          ],
          "histogram2d": [
           {
            "colorbar": {
             "outlinewidth": 0,
             "ticks": ""
            },
            "colorscale": [
             [
              0,
              "#0d0887"
             ],
             [
              0.1111111111111111,
              "#46039f"
             ],
             [
              0.2222222222222222,
              "#7201a8"
             ],
             [
              0.3333333333333333,
              "#9c179e"
             ],
             [
              0.4444444444444444,
              "#bd3786"
             ],
             [
              0.5555555555555556,
              "#d8576b"
             ],
             [
              0.6666666666666666,
              "#ed7953"
             ],
             [
              0.7777777777777778,
              "#fb9f3a"
             ],
             [
              0.8888888888888888,
              "#fdca26"
             ],
             [
              1,
              "#f0f921"
             ]
            ],
            "type": "histogram2d"
           }
          ],
          "histogram2dcontour": [
           {
            "colorbar": {
             "outlinewidth": 0,
             "ticks": ""
            },
            "colorscale": [
             [
              0,
              "#0d0887"
             ],
             [
              0.1111111111111111,
              "#46039f"
             ],
             [
              0.2222222222222222,
              "#7201a8"
             ],
             [
              0.3333333333333333,
              "#9c179e"
             ],
             [
              0.4444444444444444,
              "#bd3786"
             ],
             [
              0.5555555555555556,
              "#d8576b"
             ],
             [
              0.6666666666666666,
              "#ed7953"
             ],
             [
              0.7777777777777778,
              "#fb9f3a"
             ],
             [
              0.8888888888888888,
              "#fdca26"
             ],
             [
              1,
              "#f0f921"
             ]
            ],
            "type": "histogram2dcontour"
           }
          ],
          "mesh3d": [
           {
            "colorbar": {
             "outlinewidth": 0,
             "ticks": ""
            },
            "type": "mesh3d"
           }
          ],
          "parcoords": [
           {
            "line": {
             "colorbar": {
              "outlinewidth": 0,
              "ticks": ""
             }
            },
            "type": "parcoords"
           }
          ],
          "pie": [
           {
            "automargin": true,
            "type": "pie"
           }
          ],
          "scatter": [
           {
            "fillpattern": {
             "fillmode": "overlay",
             "size": 10,
             "solidity": 0.2
            },
            "type": "scatter"
           }
          ],
          "scatter3d": [
           {
            "line": {
             "colorbar": {
              "outlinewidth": 0,
              "ticks": ""
             }
            },
            "marker": {
             "colorbar": {
              "outlinewidth": 0,
              "ticks": ""
             }
            },
            "type": "scatter3d"
           }
          ],
          "scattercarpet": [
           {
            "marker": {
             "colorbar": {
              "outlinewidth": 0,
              "ticks": ""
             }
            },
            "type": "scattercarpet"
           }
          ],
          "scattergeo": [
           {
            "marker": {
             "colorbar": {
              "outlinewidth": 0,
              "ticks": ""
             }
            },
            "type": "scattergeo"
           }
          ],
          "scattergl": [
           {
            "marker": {
             "colorbar": {
              "outlinewidth": 0,
              "ticks": ""
             }
            },
            "type": "scattergl"
           }
          ],
          "scattermapbox": [
           {
            "marker": {
             "colorbar": {
              "outlinewidth": 0,
              "ticks": ""
             }
            },
            "type": "scattermapbox"
           }
          ],
          "scatterpolar": [
           {
            "marker": {
             "colorbar": {
              "outlinewidth": 0,
              "ticks": ""
             }
            },
            "type": "scatterpolar"
           }
          ],
          "scatterpolargl": [
           {
            "marker": {
             "colorbar": {
              "outlinewidth": 0,
              "ticks": ""
             }
            },
            "type": "scatterpolargl"
           }
          ],
          "scatterternary": [
           {
            "marker": {
             "colorbar": {
              "outlinewidth": 0,
              "ticks": ""
             }
            },
            "type": "scatterternary"
           }
          ],
          "surface": [
           {
            "colorbar": {
             "outlinewidth": 0,
             "ticks": ""
            },
            "colorscale": [
             [
              0,
              "#0d0887"
             ],
             [
              0.1111111111111111,
              "#46039f"
             ],
             [
              0.2222222222222222,
              "#7201a8"
             ],
             [
              0.3333333333333333,
              "#9c179e"
             ],
             [
              0.4444444444444444,
              "#bd3786"
             ],
             [
              0.5555555555555556,
              "#d8576b"
             ],
             [
              0.6666666666666666,
              "#ed7953"
             ],
             [
              0.7777777777777778,
              "#fb9f3a"
             ],
             [
              0.8888888888888888,
              "#fdca26"
             ],
             [
              1,
              "#f0f921"
             ]
            ],
            "type": "surface"
           }
          ],
          "table": [
           {
            "cells": {
             "fill": {
              "color": "#EBF0F8"
             },
             "line": {
              "color": "white"
             }
            },
            "header": {
             "fill": {
              "color": "#C8D4E3"
             },
             "line": {
              "color": "white"
             }
            },
            "type": "table"
           }
          ]
         },
         "layout": {
          "annotationdefaults": {
           "arrowcolor": "#2a3f5f",
           "arrowhead": 0,
           "arrowwidth": 1
          },
          "autotypenumbers": "strict",
          "coloraxis": {
           "colorbar": {
            "outlinewidth": 0,
            "ticks": ""
           }
          },
          "colorscale": {
           "diverging": [
            [
             0,
             "#8e0152"
            ],
            [
             0.1,
             "#c51b7d"
            ],
            [
             0.2,
             "#de77ae"
            ],
            [
             0.3,
             "#f1b6da"
            ],
            [
             0.4,
             "#fde0ef"
            ],
            [
             0.5,
             "#f7f7f7"
            ],
            [
             0.6,
             "#e6f5d0"
            ],
            [
             0.7,
             "#b8e186"
            ],
            [
             0.8,
             "#7fbc41"
            ],
            [
             0.9,
             "#4d9221"
            ],
            [
             1,
             "#276419"
            ]
           ],
           "sequential": [
            [
             0,
             "#0d0887"
            ],
            [
             0.1111111111111111,
             "#46039f"
            ],
            [
             0.2222222222222222,
             "#7201a8"
            ],
            [
             0.3333333333333333,
             "#9c179e"
            ],
            [
             0.4444444444444444,
             "#bd3786"
            ],
            [
             0.5555555555555556,
             "#d8576b"
            ],
            [
             0.6666666666666666,
             "#ed7953"
            ],
            [
             0.7777777777777778,
             "#fb9f3a"
            ],
            [
             0.8888888888888888,
             "#fdca26"
            ],
            [
             1,
             "#f0f921"
            ]
           ],
           "sequentialminus": [
            [
             0,
             "#0d0887"
            ],
            [
             0.1111111111111111,
             "#46039f"
            ],
            [
             0.2222222222222222,
             "#7201a8"
            ],
            [
             0.3333333333333333,
             "#9c179e"
            ],
            [
             0.4444444444444444,
             "#bd3786"
            ],
            [
             0.5555555555555556,
             "#d8576b"
            ],
            [
             0.6666666666666666,
             "#ed7953"
            ],
            [
             0.7777777777777778,
             "#fb9f3a"
            ],
            [
             0.8888888888888888,
             "#fdca26"
            ],
            [
             1,
             "#f0f921"
            ]
           ]
          },
          "colorway": [
           "#636efa",
           "#EF553B",
           "#00cc96",
           "#ab63fa",
           "#FFA15A",
           "#19d3f3",
           "#FF6692",
           "#B6E880",
           "#FF97FF",
           "#FECB52"
          ],
          "font": {
           "color": "#2a3f5f"
          },
          "geo": {
           "bgcolor": "white",
           "lakecolor": "white",
           "landcolor": "#E5ECF6",
           "showlakes": true,
           "showland": true,
           "subunitcolor": "white"
          },
          "hoverlabel": {
           "align": "left"
          },
          "hovermode": "closest",
          "mapbox": {
           "style": "light"
          },
          "paper_bgcolor": "white",
          "plot_bgcolor": "#E5ECF6",
          "polar": {
           "angularaxis": {
            "gridcolor": "white",
            "linecolor": "white",
            "ticks": ""
           },
           "bgcolor": "#E5ECF6",
           "radialaxis": {
            "gridcolor": "white",
            "linecolor": "white",
            "ticks": ""
           }
          },
          "scene": {
           "xaxis": {
            "backgroundcolor": "#E5ECF6",
            "gridcolor": "white",
            "gridwidth": 2,
            "linecolor": "white",
            "showbackground": true,
            "ticks": "",
            "zerolinecolor": "white"
           },
           "yaxis": {
            "backgroundcolor": "#E5ECF6",
            "gridcolor": "white",
            "gridwidth": 2,
            "linecolor": "white",
            "showbackground": true,
            "ticks": "",
            "zerolinecolor": "white"
           },
           "zaxis": {
            "backgroundcolor": "#E5ECF6",
            "gridcolor": "white",
            "gridwidth": 2,
            "linecolor": "white",
            "showbackground": true,
            "ticks": "",
            "zerolinecolor": "white"
           }
          },
          "shapedefaults": {
           "line": {
            "color": "#2a3f5f"
           }
          },
          "ternary": {
           "aaxis": {
            "gridcolor": "white",
            "linecolor": "white",
            "ticks": ""
           },
           "baxis": {
            "gridcolor": "white",
            "linecolor": "white",
            "ticks": ""
           },
           "bgcolor": "#E5ECF6",
           "caxis": {
            "gridcolor": "white",
            "linecolor": "white",
            "ticks": ""
           }
          },
          "title": {
           "x": 0.05
          },
          "xaxis": {
           "automargin": true,
           "gridcolor": "white",
           "linecolor": "white",
           "ticks": "",
           "title": {
            "standoff": 15
           },
           "zerolinecolor": "white",
           "zerolinewidth": 2
          },
          "yaxis": {
           "automargin": true,
           "gridcolor": "white",
           "linecolor": "white",
           "ticks": "",
           "title": {
            "standoff": 15
           },
           "zerolinecolor": "white",
           "zerolinewidth": 2
          }
         }
        },
        "title": {
         "font": {
          "size": 24
         },
         "text": "Age and Frequency per Aircraft Type"
        },
        "xaxis": {
         "title": {
          "text": "Median Age (Years)"
         }
        },
        "yaxis": {
         "title": {
          "text": "IFE Aircraft Frequency"
         }
        }
       }
      }
     },
     "metadata": {},
     "output_type": "display_data"
    }
   ],
   "source": [
    "fig3 = go.Figure(data=[\n",
    "    go.Scatter(x=freq_medianage_merged['ageYears_median'], y=freq_medianage_merged['frequency'], name=\"Type\",mode='markers',hovertext=freq_medianage_merged['productionLine'], marker_color=\"blue\")\n",
    "])\n",
    "\n",
    "fig3.update_layout(\n",
    "    title={'text': \"Age and Frequency per Aircraft Type\", 'font': {\"size\": 24}},\n",
    "    xaxis_title=\"Median Age (Years)\",\n",
    "    yaxis_title=\"IFE Aircraft Frequency\",\n",
    ")"
   ]
  },
  {
   "cell_type": "code",
   "execution_count": 183,
   "metadata": {},
   "outputs": [],
   "source": [
    "production_dict = {'ATR 72' : '',\n",
    "                   'Airbus A220' :'', \n",
    "                   'Airbus A300' :'',\n",
    "                   'Airbus A319' :'',\n",
    "                   'Airbus A320' :'',\n",
    "                   'Airbus A320 NEO' :'',\n",
    "                   'Airbus A321' :'',\n",
    "                   'Airbus A330' :'',\n",
    "                   'Airbus A340' :'',\n",
    "                   'Airbus A350' :'',\n",
    "                   'Airbus A380' :'',\n",
    "                   'Airubs A318' :'',\n",
    "                   'BAe Avro RJ' :'',\n",
    "                   'Boeing 717' :'',\n",
    "                   'Boeing 727' :'',\n",
    "                   'Boeing 737' :'',\n",
    "                   'Boeing 737 Classic' :'', \n",
    "                   'Boeing 737 NG' :'',\n",
    "                   'Boeing 737 Original' :'',\n",
    "                   'Boeing 747' :'',\n",
    "                   'Boeing 757' :'',\n",
    "                   'Boeing 767' :'',\n",
    "                   'Boeing 777' :'',\n",
    "                   'Boeing 787' :'',\n",
    "                   'Bombardier DHC-8' :'',\n",
    "                   'Canadair CRJ' :'',\n",
    "                   'Canadair CRJ 100' :'',\n",
    "                   'Canadair CRJ 700' :'',\n",
    "                   'Canadair CRJ 900' :'',\n",
    "                   'Embraer ERJ135' :'',\n",
    "                   'Embraer ERJ140' :'',\n",
    "                   'Embraer ERJ145' :'',\n",
    "                   'Embraer ERJ170' :'',\n",
    "                   'Embraer ERJ190' :'',\n",
    "                   'Fokker 100' :'',\n",
    "                   'McDonnell Douglas MD-11' :'',\n",
    "                   'McDonnell Douglas MD-88' :'',\n",
    "                   'McDonnell Douglas MD-90' :119,\n",
    "                   'Sukhoi Superjet 100':229\n",
    " }"
   ]
  },
  {
   "cell_type": "code",
   "execution_count": 184,
   "metadata": {},
   "outputs": [
    {
     "data": {
      "text/html": [
       "<div>\n",
       "<style scoped>\n",
       "    .dataframe tbody tr th:only-of-type {\n",
       "        vertical-align: middle;\n",
       "    }\n",
       "\n",
       "    .dataframe tbody tr th {\n",
       "        vertical-align: top;\n",
       "    }\n",
       "\n",
       "    .dataframe thead th {\n",
       "        text-align: right;\n",
       "    }\n",
       "</style>\n",
       "<table border=\"1\" class=\"dataframe\">\n",
       "  <thead>\n",
       "    <tr style=\"text-align: right;\">\n",
       "      <th></th>\n",
       "      <th>flight_id</th>\n",
       "      <th>icao24</th>\n",
       "      <th>registration</th>\n",
       "      <th>typecode</th>\n",
       "      <th>origin</th>\n",
       "      <th>landing</th>\n",
       "      <th>destination</th>\n",
       "      <th>diverted</th>\n",
       "      <th>tweet_problem</th>\n",
       "      <th>tweet_result</th>\n",
       "      <th>...</th>\n",
       "      <th>avh_id</th>\n",
       "      <th>avh_problem</th>\n",
       "      <th>avh_result</th>\n",
       "      <th>avh_fueldump</th>\n",
       "      <th>airlineName</th>\n",
       "      <th>isFreighter</th>\n",
       "      <th>productionLine</th>\n",
       "      <th>ageYears</th>\n",
       "      <th>manufacturer</th>\n",
       "      <th>age_categories</th>\n",
       "    </tr>\n",
       "  </thead>\n",
       "  <tbody>\n",
       "    <tr>\n",
       "      <th>4</th>\n",
       "      <td>EDW24_20180111</td>\n",
       "      <td>4b1901</td>\n",
       "      <td>HB-JMF</td>\n",
       "      <td>A343</td>\n",
       "      <td>LSZH</td>\n",
       "      <td>LSZH</td>\n",
       "      <td>MMUN</td>\n",
       "      <td>LSZH</td>\n",
       "      <td>engine</td>\n",
       "      <td>return</td>\n",
       "      <td>...</td>\n",
       "      <td>4b382175</td>\n",
       "      <td>engine</td>\n",
       "      <td>return</td>\n",
       "      <td>unknown</td>\n",
       "      <td>Edelweiss Air</td>\n",
       "      <td>False</td>\n",
       "      <td>Airbus A340</td>\n",
       "      <td>21.1</td>\n",
       "      <td>Airbus</td>\n",
       "      <td>[20.0, 25.0)</td>\n",
       "    </tr>\n",
       "    <tr>\n",
       "      <th>12</th>\n",
       "      <td>CPZ6043_20180129</td>\n",
       "      <td>a1ac11</td>\n",
       "      <td>N207AN</td>\n",
       "      <td>E75L</td>\n",
       "      <td>KLAX</td>\n",
       "      <td>KELP</td>\n",
       "      <td>KSAN</td>\n",
       "      <td>KELP</td>\n",
       "      <td>NaN</td>\n",
       "      <td>NaN</td>\n",
       "      <td>...</td>\n",
       "      <td>NaN</td>\n",
       "      <td>NaN</td>\n",
       "      <td>NaN</td>\n",
       "      <td>NaN</td>\n",
       "      <td>Envoy Air</td>\n",
       "      <td>False</td>\n",
       "      <td>Embraer ERJ170</td>\n",
       "      <td>9.4</td>\n",
       "      <td>Embraer</td>\n",
       "      <td>[5.0, 10.0)</td>\n",
       "    </tr>\n",
       "    <tr>\n",
       "      <th>14</th>\n",
       "      <td>BLX236_20180201</td>\n",
       "      <td>4ac8d9</td>\n",
       "      <td>SE-RFY</td>\n",
       "      <td>B738</td>\n",
       "      <td>GCLP</td>\n",
       "      <td>EDDN</td>\n",
       "      <td>EFHK</td>\n",
       "      <td>EDDN</td>\n",
       "      <td>unclear</td>\n",
       "      <td>diverted</td>\n",
       "      <td>...</td>\n",
       "      <td>NaN</td>\n",
       "      <td>NaN</td>\n",
       "      <td>NaN</td>\n",
       "      <td>NaN</td>\n",
       "      <td>TUIfly Nordic</td>\n",
       "      <td>False</td>\n",
       "      <td>Boeing 737 NG</td>\n",
       "      <td>10.7</td>\n",
       "      <td>Boeing</td>\n",
       "      <td>[10.0, 15.0)</td>\n",
       "    </tr>\n",
       "    <tr>\n",
       "      <th>16</th>\n",
       "      <td>AFR032_20180209</td>\n",
       "      <td>3949e1</td>\n",
       "      <td>F-GSPB</td>\n",
       "      <td>B772</td>\n",
       "      <td>LFPO</td>\n",
       "      <td>LFPO</td>\n",
       "      <td>KJFK</td>\n",
       "      <td>LFPO</td>\n",
       "      <td>technical</td>\n",
       "      <td>return</td>\n",
       "      <td>...</td>\n",
       "      <td>4b4b9911</td>\n",
       "      <td>engine</td>\n",
       "      <td>return</td>\n",
       "      <td>unknown</td>\n",
       "      <td>Air France</td>\n",
       "      <td>False</td>\n",
       "      <td>Boeing 777</td>\n",
       "      <td>26.6</td>\n",
       "      <td>Boeing</td>\n",
       "      <td>[25.0, 30.0)</td>\n",
       "    </tr>\n",
       "    <tr>\n",
       "      <th>18</th>\n",
       "      <td>BOS3_20180213</td>\n",
       "      <td>3982a8</td>\n",
       "      <td>F-HAVI</td>\n",
       "      <td>B752</td>\n",
       "      <td>LFPO</td>\n",
       "      <td>LFPO</td>\n",
       "      <td>KEWR</td>\n",
       "      <td>LFPO</td>\n",
       "      <td>unclear</td>\n",
       "      <td>return</td>\n",
       "      <td>...</td>\n",
       "      <td>NaN</td>\n",
       "      <td>NaN</td>\n",
       "      <td>NaN</td>\n",
       "      <td>NaN</td>\n",
       "      <td>Air France</td>\n",
       "      <td>False</td>\n",
       "      <td>Boeing 757</td>\n",
       "      <td>34.3</td>\n",
       "      <td>Boeing</td>\n",
       "      <td>[30.0, 35.0)</td>\n",
       "    </tr>\n",
       "    <tr>\n",
       "      <th>...</th>\n",
       "      <td>...</td>\n",
       "      <td>...</td>\n",
       "      <td>...</td>\n",
       "      <td>...</td>\n",
       "      <td>...</td>\n",
       "      <td>...</td>\n",
       "      <td>...</td>\n",
       "      <td>...</td>\n",
       "      <td>...</td>\n",
       "      <td>...</td>\n",
       "      <td>...</td>\n",
       "      <td>...</td>\n",
       "      <td>...</td>\n",
       "      <td>...</td>\n",
       "      <td>...</td>\n",
       "      <td>...</td>\n",
       "      <td>...</td>\n",
       "      <td>...</td>\n",
       "      <td>...</td>\n",
       "      <td>...</td>\n",
       "      <td>...</td>\n",
       "    </tr>\n",
       "    <tr>\n",
       "      <th>619</th>\n",
       "      <td>ASH6028_20200115</td>\n",
       "      <td>abdd1c</td>\n",
       "      <td>N86350</td>\n",
       "      <td>E75L</td>\n",
       "      <td>KAUS</td>\n",
       "      <td>KIAH</td>\n",
       "      <td>KIAD</td>\n",
       "      <td>KIAH</td>\n",
       "      <td>unclear</td>\n",
       "      <td>diverted</td>\n",
       "      <td>...</td>\n",
       "      <td>NaN</td>\n",
       "      <td>NaN</td>\n",
       "      <td>NaN</td>\n",
       "      <td>NaN</td>\n",
       "      <td>Mesa Airlines</td>\n",
       "      <td>False</td>\n",
       "      <td>Embraer ERJ170</td>\n",
       "      <td>7.5</td>\n",
       "      <td>Embraer</td>\n",
       "      <td>[5.0, 10.0)</td>\n",
       "    </tr>\n",
       "    <tr>\n",
       "      <th>621</th>\n",
       "      <td>ENY4130_20200119</td>\n",
       "      <td>a91e11</td>\n",
       "      <td>N687JS</td>\n",
       "      <td>E145</td>\n",
       "      <td>KORD</td>\n",
       "      <td>KORD</td>\n",
       "      <td>KLSE</td>\n",
       "      <td>KORD</td>\n",
       "      <td>landing_gear</td>\n",
       "      <td>return</td>\n",
       "      <td>...</td>\n",
       "      <td>NaN</td>\n",
       "      <td>NaN</td>\n",
       "      <td>NaN</td>\n",
       "      <td>NaN</td>\n",
       "      <td>Envoy Air</td>\n",
       "      <td>False</td>\n",
       "      <td>Embraer ERJ145</td>\n",
       "      <td>20.2</td>\n",
       "      <td>Embraer</td>\n",
       "      <td>[20.0, 25.0)</td>\n",
       "    </tr>\n",
       "    <tr>\n",
       "      <th>622</th>\n",
       "      <td>AAL2618_20200119</td>\n",
       "      <td>aa15cc</td>\n",
       "      <td>N749US</td>\n",
       "      <td>A319</td>\n",
       "      <td>KDFW</td>\n",
       "      <td>KXNA</td>\n",
       "      <td>KRNO</td>\n",
       "      <td>KXNA</td>\n",
       "      <td>NaN</td>\n",
       "      <td>NaN</td>\n",
       "      <td>...</td>\n",
       "      <td>NaN</td>\n",
       "      <td>NaN</td>\n",
       "      <td>NaN</td>\n",
       "      <td>NaN</td>\n",
       "      <td>American Airlines</td>\n",
       "      <td>False</td>\n",
       "      <td>Airbus A319</td>\n",
       "      <td>24.2</td>\n",
       "      <td>Airbus</td>\n",
       "      <td>[20.0, 25.0)</td>\n",
       "    </tr>\n",
       "    <tr>\n",
       "      <th>623</th>\n",
       "      <td>QXE2712_20200120</td>\n",
       "      <td>a822d6</td>\n",
       "      <td>N623QX</td>\n",
       "      <td>E75L</td>\n",
       "      <td>KSEA</td>\n",
       "      <td>KBOI</td>\n",
       "      <td>KDAL</td>\n",
       "      <td>KBOI</td>\n",
       "      <td>smoke_burn_smell_flames</td>\n",
       "      <td>diverted</td>\n",
       "      <td>...</td>\n",
       "      <td>4d240887</td>\n",
       "      <td>smoke_burn_smell_flames</td>\n",
       "      <td>diverted</td>\n",
       "      <td>unknown</td>\n",
       "      <td>Horizon Air</td>\n",
       "      <td>False</td>\n",
       "      <td>Embraer ERJ170</td>\n",
       "      <td>7.6</td>\n",
       "      <td>Embraer</td>\n",
       "      <td>[5.0, 10.0)</td>\n",
       "    </tr>\n",
       "    <tr>\n",
       "      <th>627</th>\n",
       "      <td>MAC128P_20200126</td>\n",
       "      <td>02012b</td>\n",
       "      <td>CN-NML</td>\n",
       "      <td>A320</td>\n",
       "      <td>EHAM</td>\n",
       "      <td>LFPG</td>\n",
       "      <td>GMTT</td>\n",
       "      <td>LFPG</td>\n",
       "      <td>unclear</td>\n",
       "      <td>diverted</td>\n",
       "      <td>...</td>\n",
       "      <td>NaN</td>\n",
       "      <td>NaN</td>\n",
       "      <td>NaN</td>\n",
       "      <td>NaN</td>\n",
       "      <td>Air Arabia Maroc</td>\n",
       "      <td>False</td>\n",
       "      <td>Airbus A320</td>\n",
       "      <td>13.2</td>\n",
       "      <td>Airbus</td>\n",
       "      <td>[10.0, 15.0)</td>\n",
       "    </tr>\n",
       "  </tbody>\n",
       "</table>\n",
       "<p>206 rows × 21 columns</p>\n",
       "</div>"
      ],
      "text/plain": [
       "            flight_id  icao24 registration typecode origin landing  \\\n",
       "4      EDW24_20180111  4b1901       HB-JMF     A343   LSZH    LSZH   \n",
       "12   CPZ6043_20180129  a1ac11       N207AN     E75L   KLAX    KELP   \n",
       "14    BLX236_20180201  4ac8d9       SE-RFY     B738   GCLP    EDDN   \n",
       "16    AFR032_20180209  3949e1       F-GSPB     B772   LFPO    LFPO   \n",
       "18      BOS3_20180213  3982a8       F-HAVI     B752   LFPO    LFPO   \n",
       "..                ...     ...          ...      ...    ...     ...   \n",
       "619  ASH6028_20200115  abdd1c       N86350     E75L   KAUS    KIAH   \n",
       "621  ENY4130_20200119  a91e11       N687JS     E145   KORD    KORD   \n",
       "622  AAL2618_20200119  aa15cc       N749US     A319   KDFW    KXNA   \n",
       "623  QXE2712_20200120  a822d6       N623QX     E75L   KSEA    KBOI   \n",
       "627  MAC128P_20200126  02012b       CN-NML     A320   EHAM    LFPG   \n",
       "\n",
       "    destination diverted            tweet_problem tweet_result  ...    avh_id  \\\n",
       "4          MMUN     LSZH                   engine       return  ...  4b382175   \n",
       "12         KSAN     KELP                      NaN          NaN  ...       NaN   \n",
       "14         EFHK     EDDN                  unclear     diverted  ...       NaN   \n",
       "16         KJFK     LFPO                technical       return  ...  4b4b9911   \n",
       "18         KEWR     LFPO                  unclear       return  ...       NaN   \n",
       "..          ...      ...                      ...          ...  ...       ...   \n",
       "619        KIAD     KIAH                  unclear     diverted  ...       NaN   \n",
       "621        KLSE     KORD             landing_gear       return  ...       NaN   \n",
       "622        KRNO     KXNA                      NaN          NaN  ...       NaN   \n",
       "623        KDAL     KBOI  smoke_burn_smell_flames     diverted  ...  4d240887   \n",
       "627        GMTT     LFPG                  unclear     diverted  ...       NaN   \n",
       "\n",
       "                 avh_problem avh_result avh_fueldump        airlineName  \\\n",
       "4                     engine     return      unknown      Edelweiss Air   \n",
       "12                       NaN        NaN          NaN          Envoy Air   \n",
       "14                       NaN        NaN          NaN      TUIfly Nordic   \n",
       "16                    engine     return      unknown         Air France   \n",
       "18                       NaN        NaN          NaN         Air France   \n",
       "..                       ...        ...          ...                ...   \n",
       "619                      NaN        NaN          NaN      Mesa Airlines   \n",
       "621                      NaN        NaN          NaN          Envoy Air   \n",
       "622                      NaN        NaN          NaN  American Airlines   \n",
       "623  smoke_burn_smell_flames   diverted      unknown        Horizon Air   \n",
       "627                      NaN        NaN          NaN   Air Arabia Maroc   \n",
       "\n",
       "    isFreighter  productionLine ageYears  manufacturer age_categories  \n",
       "4         False     Airbus A340     21.1        Airbus   [20.0, 25.0)  \n",
       "12        False  Embraer ERJ170      9.4       Embraer    [5.0, 10.0)  \n",
       "14        False   Boeing 737 NG     10.7        Boeing   [10.0, 15.0)  \n",
       "16        False      Boeing 777     26.6        Boeing   [25.0, 30.0)  \n",
       "18        False      Boeing 757     34.3        Boeing   [30.0, 35.0)  \n",
       "..          ...             ...      ...           ...            ...  \n",
       "619       False  Embraer ERJ170      7.5       Embraer    [5.0, 10.0)  \n",
       "621       False  Embraer ERJ145     20.2       Embraer   [20.0, 25.0)  \n",
       "622       False     Airbus A319     24.2        Airbus   [20.0, 25.0)  \n",
       "623       False  Embraer ERJ170      7.6       Embraer    [5.0, 10.0)  \n",
       "627       False     Airbus A320     13.2        Airbus   [10.0, 15.0)  \n",
       "\n",
       "[206 rows x 21 columns]"
      ]
     },
     "execution_count": 184,
     "metadata": {},
     "output_type": "execute_result"
    }
   ],
   "source": [
    "diverted_df = df[(~df['landing'].isna()) & (df['landing'] != df['destination']) & (df['origin'] != df['destination'])]\n",
    "diverted_df"
   ]
  },
  {
   "cell_type": "code",
   "execution_count": 208,
   "metadata": {},
   "outputs": [
    {
     "data": {
      "text/html": [
       "<div>\n",
       "<style scoped>\n",
       "    .dataframe tbody tr th:only-of-type {\n",
       "        vertical-align: middle;\n",
       "    }\n",
       "\n",
       "    .dataframe tbody tr th {\n",
       "        vertical-align: top;\n",
       "    }\n",
       "\n",
       "    .dataframe thead th {\n",
       "        text-align: right;\n",
       "    }\n",
       "</style>\n",
       "<table border=\"1\" class=\"dataframe\">\n",
       "  <thead>\n",
       "    <tr style=\"text-align: right;\">\n",
       "      <th></th>\n",
       "      <th>flight_id</th>\n",
       "      <th>icao24</th>\n",
       "      <th>registration</th>\n",
       "      <th>typecode</th>\n",
       "      <th>origin</th>\n",
       "      <th>landing</th>\n",
       "      <th>destination</th>\n",
       "      <th>diverted</th>\n",
       "      <th>tweet_problem</th>\n",
       "      <th>tweet_result</th>\n",
       "      <th>...</th>\n",
       "      <th>avh_id</th>\n",
       "      <th>avh_problem</th>\n",
       "      <th>avh_result</th>\n",
       "      <th>avh_fueldump</th>\n",
       "      <th>airlineName</th>\n",
       "      <th>isFreighter</th>\n",
       "      <th>productionLine</th>\n",
       "      <th>ageYears</th>\n",
       "      <th>manufacturer</th>\n",
       "      <th>age_categories</th>\n",
       "    </tr>\n",
       "  </thead>\n",
       "  <tbody>\n",
       "    <tr>\n",
       "      <th>0</th>\n",
       "      <td>ARG1511_20180101</td>\n",
       "      <td>e06442</td>\n",
       "      <td>LV-FQB</td>\n",
       "      <td>B738</td>\n",
       "      <td>SACO</td>\n",
       "      <td>SABE</td>\n",
       "      <td>SABE</td>\n",
       "      <td>False</td>\n",
       "      <td>NaN</td>\n",
       "      <td>NaN</td>\n",
       "      <td>...</td>\n",
       "      <td>NaN</td>\n",
       "      <td>NaN</td>\n",
       "      <td>NaN</td>\n",
       "      <td>NaN</td>\n",
       "      <td>Aerolineas Argentinas</td>\n",
       "      <td>False</td>\n",
       "      <td>Boeing 737 NG</td>\n",
       "      <td>13.2</td>\n",
       "      <td>Boeing</td>\n",
       "      <td>[10.0, 15.0)</td>\n",
       "    </tr>\n",
       "    <tr>\n",
       "      <th>1</th>\n",
       "      <td>DAL14_20180101</td>\n",
       "      <td>a14c29</td>\n",
       "      <td>N183DN</td>\n",
       "      <td>B763</td>\n",
       "      <td>KATL</td>\n",
       "      <td>NaN</td>\n",
       "      <td>EDDF</td>\n",
       "      <td>False</td>\n",
       "      <td>NaN</td>\n",
       "      <td>NaN</td>\n",
       "      <td>...</td>\n",
       "      <td>NaN</td>\n",
       "      <td>NaN</td>\n",
       "      <td>NaN</td>\n",
       "      <td>NaN</td>\n",
       "      <td>Delta Air Lines</td>\n",
       "      <td>False</td>\n",
       "      <td>Boeing 767</td>\n",
       "      <td>31.6</td>\n",
       "      <td>Boeing</td>\n",
       "      <td>[30.0, 35.0)</td>\n",
       "    </tr>\n",
       "    <tr>\n",
       "      <th>2</th>\n",
       "      <td>JBU263_20180108</td>\n",
       "      <td>aa600a</td>\n",
       "      <td>N768JB</td>\n",
       "      <td>A320</td>\n",
       "      <td>KJFK</td>\n",
       "      <td>NaN</td>\n",
       "      <td>KSEA</td>\n",
       "      <td>False</td>\n",
       "      <td>NaN</td>\n",
       "      <td>NaN</td>\n",
       "      <td>...</td>\n",
       "      <td>NaN</td>\n",
       "      <td>NaN</td>\n",
       "      <td>NaN</td>\n",
       "      <td>NaN</td>\n",
       "      <td>JetBlue Airways</td>\n",
       "      <td>False</td>\n",
       "      <td>Airbus A320</td>\n",
       "      <td>15.9</td>\n",
       "      <td>Airbus</td>\n",
       "      <td>[15.0, 20.0)</td>\n",
       "    </tr>\n",
       "    <tr>\n",
       "      <th>3</th>\n",
       "      <td>DAL65_20180108</td>\n",
       "      <td>ab2855</td>\n",
       "      <td>N818NW</td>\n",
       "      <td>A333</td>\n",
       "      <td>KATL</td>\n",
       "      <td>KLAX</td>\n",
       "      <td>KLAX</td>\n",
       "      <td>False</td>\n",
       "      <td>NaN</td>\n",
       "      <td>NaN</td>\n",
       "      <td>...</td>\n",
       "      <td>NaN</td>\n",
       "      <td>NaN</td>\n",
       "      <td>NaN</td>\n",
       "      <td>NaN</td>\n",
       "      <td>Delta Air Lines</td>\n",
       "      <td>False</td>\n",
       "      <td>Airbus A330</td>\n",
       "      <td>17.4</td>\n",
       "      <td>Airbus</td>\n",
       "      <td>[15.0, 20.0)</td>\n",
       "    </tr>\n",
       "    <tr>\n",
       "      <th>4</th>\n",
       "      <td>EDW24_20180111</td>\n",
       "      <td>4b1901</td>\n",
       "      <td>HB-JMF</td>\n",
       "      <td>A343</td>\n",
       "      <td>LSZH</td>\n",
       "      <td>LSZH</td>\n",
       "      <td>MMUN</td>\n",
       "      <td>True</td>\n",
       "      <td>engine</td>\n",
       "      <td>return</td>\n",
       "      <td>...</td>\n",
       "      <td>4b382175</td>\n",
       "      <td>engine</td>\n",
       "      <td>return</td>\n",
       "      <td>unknown</td>\n",
       "      <td>Edelweiss Air</td>\n",
       "      <td>False</td>\n",
       "      <td>Airbus A340</td>\n",
       "      <td>21.1</td>\n",
       "      <td>Airbus</td>\n",
       "      <td>[20.0, 25.0)</td>\n",
       "    </tr>\n",
       "    <tr>\n",
       "      <th>...</th>\n",
       "      <td>...</td>\n",
       "      <td>...</td>\n",
       "      <td>...</td>\n",
       "      <td>...</td>\n",
       "      <td>...</td>\n",
       "      <td>...</td>\n",
       "      <td>...</td>\n",
       "      <td>...</td>\n",
       "      <td>...</td>\n",
       "      <td>...</td>\n",
       "      <td>...</td>\n",
       "      <td>...</td>\n",
       "      <td>...</td>\n",
       "      <td>...</td>\n",
       "      <td>...</td>\n",
       "      <td>...</td>\n",
       "      <td>...</td>\n",
       "      <td>...</td>\n",
       "      <td>...</td>\n",
       "      <td>...</td>\n",
       "      <td>...</td>\n",
       "    </tr>\n",
       "    <tr>\n",
       "      <th>630</th>\n",
       "      <td>BAW12DT_20200127</td>\n",
       "      <td>400a26</td>\n",
       "      <td>G-EUUR</td>\n",
       "      <td>A320</td>\n",
       "      <td>LHBP</td>\n",
       "      <td>NaN</td>\n",
       "      <td>EGLL</td>\n",
       "      <td>False</td>\n",
       "      <td>unclear</td>\n",
       "      <td>planned</td>\n",
       "      <td>...</td>\n",
       "      <td>NaN</td>\n",
       "      <td>NaN</td>\n",
       "      <td>NaN</td>\n",
       "      <td>NaN</td>\n",
       "      <td>British Airways</td>\n",
       "      <td>False</td>\n",
       "      <td>Airbus A320</td>\n",
       "      <td>21.5</td>\n",
       "      <td>Airbus</td>\n",
       "      <td>[20.0, 25.0)</td>\n",
       "    </tr>\n",
       "    <tr>\n",
       "      <th>631</th>\n",
       "      <td>AMX057_20200128</td>\n",
       "      <td>ad7633</td>\n",
       "      <td>N967AM</td>\n",
       "      <td>B788</td>\n",
       "      <td>RJAA</td>\n",
       "      <td>NaN</td>\n",
       "      <td>MMMX</td>\n",
       "      <td>False</td>\n",
       "      <td>NaN</td>\n",
       "      <td>NaN</td>\n",
       "      <td>...</td>\n",
       "      <td>NaN</td>\n",
       "      <td>NaN</td>\n",
       "      <td>NaN</td>\n",
       "      <td>NaN</td>\n",
       "      <td>Aeromexico</td>\n",
       "      <td>False</td>\n",
       "      <td>Boeing 787</td>\n",
       "      <td>10.7</td>\n",
       "      <td>Boeing</td>\n",
       "      <td>[10.0, 15.0)</td>\n",
       "    </tr>\n",
       "    <tr>\n",
       "      <th>632</th>\n",
       "      <td>DAL392_20200128</td>\n",
       "      <td>a45f59</td>\n",
       "      <td>N381DN</td>\n",
       "      <td>B738</td>\n",
       "      <td>MPTO</td>\n",
       "      <td>KATL</td>\n",
       "      <td>KATL</td>\n",
       "      <td>False</td>\n",
       "      <td>NaN</td>\n",
       "      <td>NaN</td>\n",
       "      <td>...</td>\n",
       "      <td>NaN</td>\n",
       "      <td>NaN</td>\n",
       "      <td>NaN</td>\n",
       "      <td>NaN</td>\n",
       "      <td>Delta Air Lines</td>\n",
       "      <td>False</td>\n",
       "      <td>Boeing 737 NG</td>\n",
       "      <td>25.2</td>\n",
       "      <td>Boeing</td>\n",
       "      <td>[25.0, 30.0)</td>\n",
       "    </tr>\n",
       "    <tr>\n",
       "      <th>633</th>\n",
       "      <td>SWA2192_20200129</td>\n",
       "      <td>abc478</td>\n",
       "      <td>N8575Z</td>\n",
       "      <td>B738</td>\n",
       "      <td>KDEN</td>\n",
       "      <td>KHOU</td>\n",
       "      <td>KHOU</td>\n",
       "      <td>False</td>\n",
       "      <td>NaN</td>\n",
       "      <td>NaN</td>\n",
       "      <td>...</td>\n",
       "      <td>NaN</td>\n",
       "      <td>NaN</td>\n",
       "      <td>NaN</td>\n",
       "      <td>NaN</td>\n",
       "      <td>Southwest Airlines</td>\n",
       "      <td>False</td>\n",
       "      <td>Boeing 737 NG</td>\n",
       "      <td>6.5</td>\n",
       "      <td>Boeing</td>\n",
       "      <td>[5.0, 10.0)</td>\n",
       "    </tr>\n",
       "    <tr>\n",
       "      <th>634</th>\n",
       "      <td>ASH6299_20200129</td>\n",
       "      <td>ac2bb8</td>\n",
       "      <td>N88327</td>\n",
       "      <td>E75L</td>\n",
       "      <td>KIAH</td>\n",
       "      <td>KCMH</td>\n",
       "      <td>KCMH</td>\n",
       "      <td>False</td>\n",
       "      <td>NaN</td>\n",
       "      <td>NaN</td>\n",
       "      <td>...</td>\n",
       "      <td>NaN</td>\n",
       "      <td>NaN</td>\n",
       "      <td>NaN</td>\n",
       "      <td>NaN</td>\n",
       "      <td>Mesa Airlines</td>\n",
       "      <td>False</td>\n",
       "      <td>Embraer ERJ170</td>\n",
       "      <td>9.5</td>\n",
       "      <td>Embraer</td>\n",
       "      <td>[5.0, 10.0)</td>\n",
       "    </tr>\n",
       "  </tbody>\n",
       "</table>\n",
       "<p>635 rows × 21 columns</p>\n",
       "</div>"
      ],
      "text/plain": [
       "            flight_id  icao24 registration typecode origin landing  \\\n",
       "0    ARG1511_20180101  e06442       LV-FQB     B738   SACO    SABE   \n",
       "1      DAL14_20180101  a14c29       N183DN     B763   KATL     NaN   \n",
       "2     JBU263_20180108  aa600a       N768JB     A320   KJFK     NaN   \n",
       "3      DAL65_20180108  ab2855       N818NW     A333   KATL    KLAX   \n",
       "4      EDW24_20180111  4b1901       HB-JMF     A343   LSZH    LSZH   \n",
       "..                ...     ...          ...      ...    ...     ...   \n",
       "630  BAW12DT_20200127  400a26       G-EUUR     A320   LHBP     NaN   \n",
       "631   AMX057_20200128  ad7633       N967AM     B788   RJAA     NaN   \n",
       "632   DAL392_20200128  a45f59       N381DN     B738   MPTO    KATL   \n",
       "633  SWA2192_20200129  abc478       N8575Z     B738   KDEN    KHOU   \n",
       "634  ASH6299_20200129  ac2bb8       N88327     E75L   KIAH    KCMH   \n",
       "\n",
       "    destination  diverted tweet_problem tweet_result  ...    avh_id  \\\n",
       "0          SABE     False           NaN          NaN  ...       NaN   \n",
       "1          EDDF     False           NaN          NaN  ...       NaN   \n",
       "2          KSEA     False           NaN          NaN  ...       NaN   \n",
       "3          KLAX     False           NaN          NaN  ...       NaN   \n",
       "4          MMUN      True        engine       return  ...  4b382175   \n",
       "..          ...       ...           ...          ...  ...       ...   \n",
       "630        EGLL     False       unclear      planned  ...       NaN   \n",
       "631        MMMX     False           NaN          NaN  ...       NaN   \n",
       "632        KATL     False           NaN          NaN  ...       NaN   \n",
       "633        KHOU     False           NaN          NaN  ...       NaN   \n",
       "634        KCMH     False           NaN          NaN  ...       NaN   \n",
       "\n",
       "    avh_problem avh_result avh_fueldump            airlineName isFreighter  \\\n",
       "0           NaN        NaN          NaN  Aerolineas Argentinas       False   \n",
       "1           NaN        NaN          NaN        Delta Air Lines       False   \n",
       "2           NaN        NaN          NaN        JetBlue Airways       False   \n",
       "3           NaN        NaN          NaN        Delta Air Lines       False   \n",
       "4        engine     return      unknown          Edelweiss Air       False   \n",
       "..          ...        ...          ...                    ...         ...   \n",
       "630         NaN        NaN          NaN        British Airways       False   \n",
       "631         NaN        NaN          NaN             Aeromexico       False   \n",
       "632         NaN        NaN          NaN        Delta Air Lines       False   \n",
       "633         NaN        NaN          NaN     Southwest Airlines       False   \n",
       "634         NaN        NaN          NaN          Mesa Airlines       False   \n",
       "\n",
       "     productionLine ageYears  manufacturer age_categories  \n",
       "0     Boeing 737 NG     13.2        Boeing   [10.0, 15.0)  \n",
       "1        Boeing 767     31.6        Boeing   [30.0, 35.0)  \n",
       "2       Airbus A320     15.9        Airbus   [15.0, 20.0)  \n",
       "3       Airbus A330     17.4        Airbus   [15.0, 20.0)  \n",
       "4       Airbus A340     21.1        Airbus   [20.0, 25.0)  \n",
       "..              ...      ...           ...            ...  \n",
       "630     Airbus A320     21.5        Airbus   [20.0, 25.0)  \n",
       "631      Boeing 787     10.7        Boeing   [10.0, 15.0)  \n",
       "632   Boeing 737 NG     25.2        Boeing   [25.0, 30.0)  \n",
       "633   Boeing 737 NG      6.5        Boeing    [5.0, 10.0)  \n",
       "634  Embraer ERJ170      9.5       Embraer    [5.0, 10.0)  \n",
       "\n",
       "[635 rows x 21 columns]"
      ]
     },
     "execution_count": 208,
     "metadata": {},
     "output_type": "execute_result"
    }
   ],
   "source": [
    "df['diverted'] = (~df['landing'].isna()) & (df['landing'] != df['destination']) & (df['origin'] != df['destination'])\n",
    "df"
   ]
  },
  {
   "cell_type": "code",
   "execution_count": 189,
   "metadata": {},
   "outputs": [
    {
     "data": {
      "text/html": [
       "<div>\n",
       "<style scoped>\n",
       "    .dataframe tbody tr th:only-of-type {\n",
       "        vertical-align: middle;\n",
       "    }\n",
       "\n",
       "    .dataframe tbody tr th {\n",
       "        vertical-align: top;\n",
       "    }\n",
       "\n",
       "    .dataframe thead th {\n",
       "        text-align: right;\n",
       "    }\n",
       "</style>\n",
       "<table border=\"1\" class=\"dataframe\">\n",
       "  <thead>\n",
       "    <tr style=\"text-align: right;\">\n",
       "      <th></th>\n",
       "      <th>productionLine</th>\n",
       "      <th>diversions</th>\n",
       "    </tr>\n",
       "  </thead>\n",
       "  <tbody>\n",
       "    <tr>\n",
       "      <th>11</th>\n",
       "      <td>Boeing 737 NG</td>\n",
       "      <td>43</td>\n",
       "    </tr>\n",
       "    <tr>\n",
       "      <th>3</th>\n",
       "      <td>Airbus A320</td>\n",
       "      <td>31</td>\n",
       "    </tr>\n",
       "    <tr>\n",
       "      <th>2</th>\n",
       "      <td>Airbus A319</td>\n",
       "      <td>18</td>\n",
       "    </tr>\n",
       "    <tr>\n",
       "      <th>14</th>\n",
       "      <td>Boeing 767</td>\n",
       "      <td>16</td>\n",
       "    </tr>\n",
       "    <tr>\n",
       "      <th>15</th>\n",
       "      <td>Boeing 777</td>\n",
       "      <td>12</td>\n",
       "    </tr>\n",
       "    <tr>\n",
       "      <th>22</th>\n",
       "      <td>Embraer ERJ170</td>\n",
       "      <td>11</td>\n",
       "    </tr>\n",
       "    <tr>\n",
       "      <th>13</th>\n",
       "      <td>Boeing 757</td>\n",
       "      <td>9</td>\n",
       "    </tr>\n",
       "    <tr>\n",
       "      <th>16</th>\n",
       "      <td>Boeing 787</td>\n",
       "      <td>8</td>\n",
       "    </tr>\n",
       "    <tr>\n",
       "      <th>4</th>\n",
       "      <td>Airbus A321</td>\n",
       "      <td>8</td>\n",
       "    </tr>\n",
       "    <tr>\n",
       "      <th>5</th>\n",
       "      <td>Airbus A330</td>\n",
       "      <td>8</td>\n",
       "    </tr>\n",
       "    <tr>\n",
       "      <th>1</th>\n",
       "      <td>Airbus A300</td>\n",
       "      <td>6</td>\n",
       "    </tr>\n",
       "    <tr>\n",
       "      <th>17</th>\n",
       "      <td>Bombardier DHC-8</td>\n",
       "      <td>5</td>\n",
       "    </tr>\n",
       "    <tr>\n",
       "      <th>10</th>\n",
       "      <td>Boeing 737 Classic</td>\n",
       "      <td>5</td>\n",
       "    </tr>\n",
       "    <tr>\n",
       "      <th>12</th>\n",
       "      <td>Boeing 747</td>\n",
       "      <td>3</td>\n",
       "    </tr>\n",
       "    <tr>\n",
       "      <th>18</th>\n",
       "      <td>Canadair CRJ 100</td>\n",
       "      <td>3</td>\n",
       "    </tr>\n",
       "    <tr>\n",
       "      <th>23</th>\n",
       "      <td>McDonnell Douglas MD-11</td>\n",
       "      <td>3</td>\n",
       "    </tr>\n",
       "    <tr>\n",
       "      <th>19</th>\n",
       "      <td>Canadair CRJ 900</td>\n",
       "      <td>3</td>\n",
       "    </tr>\n",
       "    <tr>\n",
       "      <th>24</th>\n",
       "      <td>Sukhoi Superjet 100</td>\n",
       "      <td>3</td>\n",
       "    </tr>\n",
       "    <tr>\n",
       "      <th>7</th>\n",
       "      <td>Airbus A380</td>\n",
       "      <td>3</td>\n",
       "    </tr>\n",
       "    <tr>\n",
       "      <th>21</th>\n",
       "      <td>Embraer ERJ145</td>\n",
       "      <td>2</td>\n",
       "    </tr>\n",
       "    <tr>\n",
       "      <th>6</th>\n",
       "      <td>Airbus A340</td>\n",
       "      <td>2</td>\n",
       "    </tr>\n",
       "    <tr>\n",
       "      <th>9</th>\n",
       "      <td>Boeing 727</td>\n",
       "      <td>1</td>\n",
       "    </tr>\n",
       "    <tr>\n",
       "      <th>8</th>\n",
       "      <td>BAe Avro RJ</td>\n",
       "      <td>1</td>\n",
       "    </tr>\n",
       "    <tr>\n",
       "      <th>20</th>\n",
       "      <td>Embraer ERJ135</td>\n",
       "      <td>1</td>\n",
       "    </tr>\n",
       "    <tr>\n",
       "      <th>0</th>\n",
       "      <td>ATR 72</td>\n",
       "      <td>1</td>\n",
       "    </tr>\n",
       "  </tbody>\n",
       "</table>\n",
       "</div>"
      ],
      "text/plain": [
       "             productionLine  diversions\n",
       "11            Boeing 737 NG          43\n",
       "3               Airbus A320          31\n",
       "2               Airbus A319          18\n",
       "14               Boeing 767          16\n",
       "15               Boeing 777          12\n",
       "22           Embraer ERJ170          11\n",
       "13               Boeing 757           9\n",
       "16               Boeing 787           8\n",
       "4               Airbus A321           8\n",
       "5               Airbus A330           8\n",
       "1               Airbus A300           6\n",
       "17         Bombardier DHC-8           5\n",
       "10       Boeing 737 Classic           5\n",
       "12               Boeing 747           3\n",
       "18         Canadair CRJ 100           3\n",
       "23  McDonnell Douglas MD-11           3\n",
       "19         Canadair CRJ 900           3\n",
       "24      Sukhoi Superjet 100           3\n",
       "7               Airbus A380           3\n",
       "21           Embraer ERJ145           2\n",
       "6               Airbus A340           2\n",
       "9                Boeing 727           1\n",
       "8               BAe Avro RJ           1\n",
       "20           Embraer ERJ135           1\n",
       "0                    ATR 72           1"
      ]
     },
     "execution_count": 189,
     "metadata": {},
     "output_type": "execute_result"
    }
   ],
   "source": [
    "diverted_type_df = df[df['diverted']==True].groupby('productionLine').flight_id.count().reset_index()\n",
    "diverted_type_df.rename(columns={'flight_id':'diversions'}, inplace=True)\n",
    "diverted_type_df.sort_values(by='diversions',ascending=False, inplace=True)\n",
    "diverted_type_df"
   ]
  },
  {
   "cell_type": "code",
   "execution_count": 200,
   "metadata": {},
   "outputs": [
    {
     "data": {
      "application/vnd.plotly.v1+json": {
       "config": {
        "plotlyServerURL": "https://plot.ly"
       },
       "data": [
        {
         "hovertext": [
          "Boeing 737 NG",
          "Airbus A320",
          "Airbus A319",
          "Boeing 767",
          "Boeing 777",
          "Embraer ERJ170",
          "Boeing 757",
          "Boeing 787",
          "Airbus A321",
          "Airbus A330",
          "Airbus A300",
          "Bombardier DHC-8",
          "Boeing 737 Classic",
          "Boeing 747",
          "Canadair CRJ 100",
          "McDonnell Douglas MD-11",
          "Canadair CRJ 900",
          "Sukhoi Superjet 100",
          "Airbus A380",
          "Embraer ERJ145",
          "Airbus A340",
          "Boeing 727",
          "BAe Avro RJ",
          "Embraer ERJ135",
          "ATR 72"
         ],
         "marker": {
          "color": "blue"
         },
         "name": "Type",
         "type": "bar",
         "x": [
          "Boeing 737 NG",
          "Airbus A320",
          "Airbus A319",
          "Boeing 767",
          "Boeing 777",
          "Embraer ERJ170",
          "Boeing 757",
          "Boeing 787",
          "Airbus A321",
          "Airbus A330",
          "Airbus A300",
          "Bombardier DHC-8",
          "Boeing 737 Classic",
          "Boeing 747",
          "Canadair CRJ 100",
          "McDonnell Douglas MD-11",
          "Canadair CRJ 900",
          "Sukhoi Superjet 100",
          "Airbus A380",
          "Embraer ERJ145",
          "Airbus A340",
          "Boeing 727",
          "BAe Avro RJ",
          "Embraer ERJ135",
          "ATR 72"
         ],
         "y": [
          0.2087378640776699,
          0.15048543689320387,
          0.08737864077669903,
          0.07766990291262135,
          0.05825242718446602,
          0.05339805825242718,
          0.043689320388349516,
          0.038834951456310676,
          0.038834951456310676,
          0.038834951456310676,
          0.02912621359223301,
          0.024271844660194174,
          0.024271844660194174,
          0.014563106796116505,
          0.014563106796116505,
          0.014563106796116505,
          0.014563106796116505,
          0.014563106796116505,
          0.014563106796116505,
          0.009708737864077669,
          0.009708737864077669,
          0.0048543689320388345,
          0.0048543689320388345,
          0.0048543689320388345,
          0.0048543689320388345
         ]
        }
       ],
       "layout": {
        "template": {
         "data": {
          "bar": [
           {
            "error_x": {
             "color": "#2a3f5f"
            },
            "error_y": {
             "color": "#2a3f5f"
            },
            "marker": {
             "line": {
              "color": "#E5ECF6",
              "width": 0.5
             },
             "pattern": {
              "fillmode": "overlay",
              "size": 10,
              "solidity": 0.2
             }
            },
            "type": "bar"
           }
          ],
          "barpolar": [
           {
            "marker": {
             "line": {
              "color": "#E5ECF6",
              "width": 0.5
             },
             "pattern": {
              "fillmode": "overlay",
              "size": 10,
              "solidity": 0.2
             }
            },
            "type": "barpolar"
           }
          ],
          "carpet": [
           {
            "aaxis": {
             "endlinecolor": "#2a3f5f",
             "gridcolor": "white",
             "linecolor": "white",
             "minorgridcolor": "white",
             "startlinecolor": "#2a3f5f"
            },
            "baxis": {
             "endlinecolor": "#2a3f5f",
             "gridcolor": "white",
             "linecolor": "white",
             "minorgridcolor": "white",
             "startlinecolor": "#2a3f5f"
            },
            "type": "carpet"
           }
          ],
          "choropleth": [
           {
            "colorbar": {
             "outlinewidth": 0,
             "ticks": ""
            },
            "type": "choropleth"
           }
          ],
          "contour": [
           {
            "colorbar": {
             "outlinewidth": 0,
             "ticks": ""
            },
            "colorscale": [
             [
              0,
              "#0d0887"
             ],
             [
              0.1111111111111111,
              "#46039f"
             ],
             [
              0.2222222222222222,
              "#7201a8"
             ],
             [
              0.3333333333333333,
              "#9c179e"
             ],
             [
              0.4444444444444444,
              "#bd3786"
             ],
             [
              0.5555555555555556,
              "#d8576b"
             ],
             [
              0.6666666666666666,
              "#ed7953"
             ],
             [
              0.7777777777777778,
              "#fb9f3a"
             ],
             [
              0.8888888888888888,
              "#fdca26"
             ],
             [
              1,
              "#f0f921"
             ]
            ],
            "type": "contour"
           }
          ],
          "contourcarpet": [
           {
            "colorbar": {
             "outlinewidth": 0,
             "ticks": ""
            },
            "type": "contourcarpet"
           }
          ],
          "heatmap": [
           {
            "colorbar": {
             "outlinewidth": 0,
             "ticks": ""
            },
            "colorscale": [
             [
              0,
              "#0d0887"
             ],
             [
              0.1111111111111111,
              "#46039f"
             ],
             [
              0.2222222222222222,
              "#7201a8"
             ],
             [
              0.3333333333333333,
              "#9c179e"
             ],
             [
              0.4444444444444444,
              "#bd3786"
             ],
             [
              0.5555555555555556,
              "#d8576b"
             ],
             [
              0.6666666666666666,
              "#ed7953"
             ],
             [
              0.7777777777777778,
              "#fb9f3a"
             ],
             [
              0.8888888888888888,
              "#fdca26"
             ],
             [
              1,
              "#f0f921"
             ]
            ],
            "type": "heatmap"
           }
          ],
          "heatmapgl": [
           {
            "colorbar": {
             "outlinewidth": 0,
             "ticks": ""
            },
            "colorscale": [
             [
              0,
              "#0d0887"
             ],
             [
              0.1111111111111111,
              "#46039f"
             ],
             [
              0.2222222222222222,
              "#7201a8"
             ],
             [
              0.3333333333333333,
              "#9c179e"
             ],
             [
              0.4444444444444444,
              "#bd3786"
             ],
             [
              0.5555555555555556,
              "#d8576b"
             ],
             [
              0.6666666666666666,
              "#ed7953"
             ],
             [
              0.7777777777777778,
              "#fb9f3a"
             ],
             [
              0.8888888888888888,
              "#fdca26"
             ],
             [
              1,
              "#f0f921"
             ]
            ],
            "type": "heatmapgl"
           }
          ],
          "histogram": [
           {
            "marker": {
             "pattern": {
              "fillmode": "overlay",
              "size": 10,
              "solidity": 0.2
             }
            },
            "type": "histogram"
           }
          ],
          "histogram2d": [
           {
            "colorbar": {
             "outlinewidth": 0,
             "ticks": ""
            },
            "colorscale": [
             [
              0,
              "#0d0887"
             ],
             [
              0.1111111111111111,
              "#46039f"
             ],
             [
              0.2222222222222222,
              "#7201a8"
             ],
             [
              0.3333333333333333,
              "#9c179e"
             ],
             [
              0.4444444444444444,
              "#bd3786"
             ],
             [
              0.5555555555555556,
              "#d8576b"
             ],
             [
              0.6666666666666666,
              "#ed7953"
             ],
             [
              0.7777777777777778,
              "#fb9f3a"
             ],
             [
              0.8888888888888888,
              "#fdca26"
             ],
             [
              1,
              "#f0f921"
             ]
            ],
            "type": "histogram2d"
           }
          ],
          "histogram2dcontour": [
           {
            "colorbar": {
             "outlinewidth": 0,
             "ticks": ""
            },
            "colorscale": [
             [
              0,
              "#0d0887"
             ],
             [
              0.1111111111111111,
              "#46039f"
             ],
             [
              0.2222222222222222,
              "#7201a8"
             ],
             [
              0.3333333333333333,
              "#9c179e"
             ],
             [
              0.4444444444444444,
              "#bd3786"
             ],
             [
              0.5555555555555556,
              "#d8576b"
             ],
             [
              0.6666666666666666,
              "#ed7953"
             ],
             [
              0.7777777777777778,
              "#fb9f3a"
             ],
             [
              0.8888888888888888,
              "#fdca26"
             ],
             [
              1,
              "#f0f921"
             ]
            ],
            "type": "histogram2dcontour"
           }
          ],
          "mesh3d": [
           {
            "colorbar": {
             "outlinewidth": 0,
             "ticks": ""
            },
            "type": "mesh3d"
           }
          ],
          "parcoords": [
           {
            "line": {
             "colorbar": {
              "outlinewidth": 0,
              "ticks": ""
             }
            },
            "type": "parcoords"
           }
          ],
          "pie": [
           {
            "automargin": true,
            "type": "pie"
           }
          ],
          "scatter": [
           {
            "fillpattern": {
             "fillmode": "overlay",
             "size": 10,
             "solidity": 0.2
            },
            "type": "scatter"
           }
          ],
          "scatter3d": [
           {
            "line": {
             "colorbar": {
              "outlinewidth": 0,
              "ticks": ""
             }
            },
            "marker": {
             "colorbar": {
              "outlinewidth": 0,
              "ticks": ""
             }
            },
            "type": "scatter3d"
           }
          ],
          "scattercarpet": [
           {
            "marker": {
             "colorbar": {
              "outlinewidth": 0,
              "ticks": ""
             }
            },
            "type": "scattercarpet"
           }
          ],
          "scattergeo": [
           {
            "marker": {
             "colorbar": {
              "outlinewidth": 0,
              "ticks": ""
             }
            },
            "type": "scattergeo"
           }
          ],
          "scattergl": [
           {
            "marker": {
             "colorbar": {
              "outlinewidth": 0,
              "ticks": ""
             }
            },
            "type": "scattergl"
           }
          ],
          "scattermapbox": [
           {
            "marker": {
             "colorbar": {
              "outlinewidth": 0,
              "ticks": ""
             }
            },
            "type": "scattermapbox"
           }
          ],
          "scatterpolar": [
           {
            "marker": {
             "colorbar": {
              "outlinewidth": 0,
              "ticks": ""
             }
            },
            "type": "scatterpolar"
           }
          ],
          "scatterpolargl": [
           {
            "marker": {
             "colorbar": {
              "outlinewidth": 0,
              "ticks": ""
             }
            },
            "type": "scatterpolargl"
           }
          ],
          "scatterternary": [
           {
            "marker": {
             "colorbar": {
              "outlinewidth": 0,
              "ticks": ""
             }
            },
            "type": "scatterternary"
           }
          ],
          "surface": [
           {
            "colorbar": {
             "outlinewidth": 0,
             "ticks": ""
            },
            "colorscale": [
             [
              0,
              "#0d0887"
             ],
             [
              0.1111111111111111,
              "#46039f"
             ],
             [
              0.2222222222222222,
              "#7201a8"
             ],
             [
              0.3333333333333333,
              "#9c179e"
             ],
             [
              0.4444444444444444,
              "#bd3786"
             ],
             [
              0.5555555555555556,
              "#d8576b"
             ],
             [
              0.6666666666666666,
              "#ed7953"
             ],
             [
              0.7777777777777778,
              "#fb9f3a"
             ],
             [
              0.8888888888888888,
              "#fdca26"
             ],
             [
              1,
              "#f0f921"
             ]
            ],
            "type": "surface"
           }
          ],
          "table": [
           {
            "cells": {
             "fill": {
              "color": "#EBF0F8"
             },
             "line": {
              "color": "white"
             }
            },
            "header": {
             "fill": {
              "color": "#C8D4E3"
             },
             "line": {
              "color": "white"
             }
            },
            "type": "table"
           }
          ]
         },
         "layout": {
          "annotationdefaults": {
           "arrowcolor": "#2a3f5f",
           "arrowhead": 0,
           "arrowwidth": 1
          },
          "autotypenumbers": "strict",
          "coloraxis": {
           "colorbar": {
            "outlinewidth": 0,
            "ticks": ""
           }
          },
          "colorscale": {
           "diverging": [
            [
             0,
             "#8e0152"
            ],
            [
             0.1,
             "#c51b7d"
            ],
            [
             0.2,
             "#de77ae"
            ],
            [
             0.3,
             "#f1b6da"
            ],
            [
             0.4,
             "#fde0ef"
            ],
            [
             0.5,
             "#f7f7f7"
            ],
            [
             0.6,
             "#e6f5d0"
            ],
            [
             0.7,
             "#b8e186"
            ],
            [
             0.8,
             "#7fbc41"
            ],
            [
             0.9,
             "#4d9221"
            ],
            [
             1,
             "#276419"
            ]
           ],
           "sequential": [
            [
             0,
             "#0d0887"
            ],
            [
             0.1111111111111111,
             "#46039f"
            ],
            [
             0.2222222222222222,
             "#7201a8"
            ],
            [
             0.3333333333333333,
             "#9c179e"
            ],
            [
             0.4444444444444444,
             "#bd3786"
            ],
            [
             0.5555555555555556,
             "#d8576b"
            ],
            [
             0.6666666666666666,
             "#ed7953"
            ],
            [
             0.7777777777777778,
             "#fb9f3a"
            ],
            [
             0.8888888888888888,
             "#fdca26"
            ],
            [
             1,
             "#f0f921"
            ]
           ],
           "sequentialminus": [
            [
             0,
             "#0d0887"
            ],
            [
             0.1111111111111111,
             "#46039f"
            ],
            [
             0.2222222222222222,
             "#7201a8"
            ],
            [
             0.3333333333333333,
             "#9c179e"
            ],
            [
             0.4444444444444444,
             "#bd3786"
            ],
            [
             0.5555555555555556,
             "#d8576b"
            ],
            [
             0.6666666666666666,
             "#ed7953"
            ],
            [
             0.7777777777777778,
             "#fb9f3a"
            ],
            [
             0.8888888888888888,
             "#fdca26"
            ],
            [
             1,
             "#f0f921"
            ]
           ]
          },
          "colorway": [
           "#636efa",
           "#EF553B",
           "#00cc96",
           "#ab63fa",
           "#FFA15A",
           "#19d3f3",
           "#FF6692",
           "#B6E880",
           "#FF97FF",
           "#FECB52"
          ],
          "font": {
           "color": "#2a3f5f"
          },
          "geo": {
           "bgcolor": "white",
           "lakecolor": "white",
           "landcolor": "#E5ECF6",
           "showlakes": true,
           "showland": true,
           "subunitcolor": "white"
          },
          "hoverlabel": {
           "align": "left"
          },
          "hovermode": "closest",
          "mapbox": {
           "style": "light"
          },
          "paper_bgcolor": "white",
          "plot_bgcolor": "#E5ECF6",
          "polar": {
           "angularaxis": {
            "gridcolor": "white",
            "linecolor": "white",
            "ticks": ""
           },
           "bgcolor": "#E5ECF6",
           "radialaxis": {
            "gridcolor": "white",
            "linecolor": "white",
            "ticks": ""
           }
          },
          "scene": {
           "xaxis": {
            "backgroundcolor": "#E5ECF6",
            "gridcolor": "white",
            "gridwidth": 2,
            "linecolor": "white",
            "showbackground": true,
            "ticks": "",
            "zerolinecolor": "white"
           },
           "yaxis": {
            "backgroundcolor": "#E5ECF6",
            "gridcolor": "white",
            "gridwidth": 2,
            "linecolor": "white",
            "showbackground": true,
            "ticks": "",
            "zerolinecolor": "white"
           },
           "zaxis": {
            "backgroundcolor": "#E5ECF6",
            "gridcolor": "white",
            "gridwidth": 2,
            "linecolor": "white",
            "showbackground": true,
            "ticks": "",
            "zerolinecolor": "white"
           }
          },
          "shapedefaults": {
           "line": {
            "color": "#2a3f5f"
           }
          },
          "ternary": {
           "aaxis": {
            "gridcolor": "white",
            "linecolor": "white",
            "ticks": ""
           },
           "baxis": {
            "gridcolor": "white",
            "linecolor": "white",
            "ticks": ""
           },
           "bgcolor": "#E5ECF6",
           "caxis": {
            "gridcolor": "white",
            "linecolor": "white",
            "ticks": ""
           }
          },
          "title": {
           "x": 0.05
          },
          "xaxis": {
           "automargin": true,
           "gridcolor": "white",
           "linecolor": "white",
           "ticks": "",
           "title": {
            "standoff": 15
           },
           "zerolinecolor": "white",
           "zerolinewidth": 2
          },
          "yaxis": {
           "automargin": true,
           "gridcolor": "white",
           "linecolor": "white",
           "ticks": "",
           "title": {
            "standoff": 15
           },
           "zerolinecolor": "white",
           "zerolinewidth": 2
          }
         }
        },
        "title": {
         "font": {
          "size": 24
         },
         "text": "Normalized Diversions per Aircraft Type"
        },
        "xaxis": {
         "title": {
          "text": "Aircraft Type"
         }
        },
        "yaxis": {
         "title": {
          "text": "Diversions"
         }
        }
       }
      }
     },
     "metadata": {},
     "output_type": "display_data"
    }
   ],
   "source": [
    "fig4 = go.Figure(data=[\n",
    "    go.Bar(x=diverted_type_df['productionLine'], y=diverted_type_df['diversions']/diverted_type_df['diversions'].sum(), name=\"Type\",hovertext=diverted_type_df['productionLine'], marker_color=\"blue\")\n",
    "])\n",
    "\n",
    "fig4.update_layout(\n",
    "    title={'text': \"Normalized Diversions per Aircraft Type\", 'font': {\"size\": 24}},\n",
    "    xaxis_title=\"Aircraft Type\",\n",
    "    yaxis_title=\"Diversions\",\n",
    ")"
   ]
  },
  {
   "cell_type": "code",
   "execution_count": 193,
   "metadata": {},
   "outputs": [
    {
     "data": {
      "text/html": [
       "<div>\n",
       "<style scoped>\n",
       "    .dataframe tbody tr th:only-of-type {\n",
       "        vertical-align: middle;\n",
       "    }\n",
       "\n",
       "    .dataframe tbody tr th {\n",
       "        vertical-align: top;\n",
       "    }\n",
       "\n",
       "    .dataframe thead th {\n",
       "        text-align: right;\n",
       "    }\n",
       "</style>\n",
       "<table border=\"1\" class=\"dataframe\">\n",
       "  <thead>\n",
       "    <tr style=\"text-align: right;\">\n",
       "      <th></th>\n",
       "      <th>productionLine</th>\n",
       "      <th>flight_id</th>\n",
       "    </tr>\n",
       "  </thead>\n",
       "  <tbody>\n",
       "    <tr>\n",
       "      <th>0</th>\n",
       "      <td>Boeing 737 NG</td>\n",
       "      <td>157</td>\n",
       "    </tr>\n",
       "    <tr>\n",
       "      <th>1</th>\n",
       "      <td>Airbus A320</td>\n",
       "      <td>99</td>\n",
       "    </tr>\n",
       "    <tr>\n",
       "      <th>2</th>\n",
       "      <td>Airbus A319</td>\n",
       "      <td>44</td>\n",
       "    </tr>\n",
       "    <tr>\n",
       "      <th>3</th>\n",
       "      <td>Boeing 777</td>\n",
       "      <td>36</td>\n",
       "    </tr>\n",
       "    <tr>\n",
       "      <th>4</th>\n",
       "      <td>Boeing 767</td>\n",
       "      <td>36</td>\n",
       "    </tr>\n",
       "    <tr>\n",
       "      <th>5</th>\n",
       "      <td>Airbus A321</td>\n",
       "      <td>35</td>\n",
       "    </tr>\n",
       "    <tr>\n",
       "      <th>6</th>\n",
       "      <td>Embraer ERJ170</td>\n",
       "      <td>33</td>\n",
       "    </tr>\n",
       "    <tr>\n",
       "      <th>7</th>\n",
       "      <td>Airbus A330</td>\n",
       "      <td>32</td>\n",
       "    </tr>\n",
       "    <tr>\n",
       "      <th>8</th>\n",
       "      <td>Boeing 757</td>\n",
       "      <td>25</td>\n",
       "    </tr>\n",
       "    <tr>\n",
       "      <th>9</th>\n",
       "      <td>Boeing 787</td>\n",
       "      <td>25</td>\n",
       "    </tr>\n",
       "    <tr>\n",
       "      <th>10</th>\n",
       "      <td>Boeing 747</td>\n",
       "      <td>17</td>\n",
       "    </tr>\n",
       "    <tr>\n",
       "      <th>11</th>\n",
       "      <td>Canadair CRJ 900</td>\n",
       "      <td>15</td>\n",
       "    </tr>\n",
       "    <tr>\n",
       "      <th>12</th>\n",
       "      <td>Airbus A300</td>\n",
       "      <td>10</td>\n",
       "    </tr>\n",
       "    <tr>\n",
       "      <th>13</th>\n",
       "      <td>Canadair CRJ 100</td>\n",
       "      <td>8</td>\n",
       "    </tr>\n",
       "    <tr>\n",
       "      <th>14</th>\n",
       "      <td>Bombardier DHC-8</td>\n",
       "      <td>8</td>\n",
       "    </tr>\n",
       "    <tr>\n",
       "      <th>15</th>\n",
       "      <td>McDonnell Douglas MD-11</td>\n",
       "      <td>7</td>\n",
       "    </tr>\n",
       "    <tr>\n",
       "      <th>16</th>\n",
       "      <td>Embraer ERJ145</td>\n",
       "      <td>6</td>\n",
       "    </tr>\n",
       "    <tr>\n",
       "      <th>17</th>\n",
       "      <td>Airbus A380</td>\n",
       "      <td>5</td>\n",
       "    </tr>\n",
       "    <tr>\n",
       "      <th>18</th>\n",
       "      <td>Boeing 737 Classic</td>\n",
       "      <td>5</td>\n",
       "    </tr>\n",
       "    <tr>\n",
       "      <th>19</th>\n",
       "      <td>Sukhoi Superjet 100</td>\n",
       "      <td>3</td>\n",
       "    </tr>\n",
       "    <tr>\n",
       "      <th>20</th>\n",
       "      <td>Airbus A220</td>\n",
       "      <td>3</td>\n",
       "    </tr>\n",
       "    <tr>\n",
       "      <th>21</th>\n",
       "      <td>Boeing 717</td>\n",
       "      <td>3</td>\n",
       "    </tr>\n",
       "    <tr>\n",
       "      <th>22</th>\n",
       "      <td>Airbus A340</td>\n",
       "      <td>3</td>\n",
       "    </tr>\n",
       "    <tr>\n",
       "      <th>23</th>\n",
       "      <td>Airbus A350</td>\n",
       "      <td>2</td>\n",
       "    </tr>\n",
       "    <tr>\n",
       "      <th>24</th>\n",
       "      <td>McDonnell Douglas MD-90</td>\n",
       "      <td>2</td>\n",
       "    </tr>\n",
       "    <tr>\n",
       "      <th>25</th>\n",
       "      <td>Embraer ERJ190</td>\n",
       "      <td>2</td>\n",
       "    </tr>\n",
       "    <tr>\n",
       "      <th>26</th>\n",
       "      <td>ATR 72</td>\n",
       "      <td>2</td>\n",
       "    </tr>\n",
       "    <tr>\n",
       "      <th>27</th>\n",
       "      <td>BAe Avro RJ</td>\n",
       "      <td>2</td>\n",
       "    </tr>\n",
       "    <tr>\n",
       "      <th>28</th>\n",
       "      <td>Airubs A318</td>\n",
       "      <td>1</td>\n",
       "    </tr>\n",
       "    <tr>\n",
       "      <th>29</th>\n",
       "      <td>Embraer ERJ135</td>\n",
       "      <td>1</td>\n",
       "    </tr>\n",
       "    <tr>\n",
       "      <th>30</th>\n",
       "      <td>Boeing 737 Original</td>\n",
       "      <td>1</td>\n",
       "    </tr>\n",
       "    <tr>\n",
       "      <th>31</th>\n",
       "      <td>Canadair CRJ 700</td>\n",
       "      <td>1</td>\n",
       "    </tr>\n",
       "    <tr>\n",
       "      <th>32</th>\n",
       "      <td>Canadair CRJ</td>\n",
       "      <td>1</td>\n",
       "    </tr>\n",
       "    <tr>\n",
       "      <th>33</th>\n",
       "      <td>Fokker 100</td>\n",
       "      <td>1</td>\n",
       "    </tr>\n",
       "    <tr>\n",
       "      <th>34</th>\n",
       "      <td>Airbus A320 NEO</td>\n",
       "      <td>1</td>\n",
       "    </tr>\n",
       "    <tr>\n",
       "      <th>35</th>\n",
       "      <td>McDonnell Douglas MD-88</td>\n",
       "      <td>1</td>\n",
       "    </tr>\n",
       "    <tr>\n",
       "      <th>36</th>\n",
       "      <td>Boeing 727</td>\n",
       "      <td>1</td>\n",
       "    </tr>\n",
       "    <tr>\n",
       "      <th>37</th>\n",
       "      <td>Embraer ERJ140</td>\n",
       "      <td>1</td>\n",
       "    </tr>\n",
       "  </tbody>\n",
       "</table>\n",
       "</div>"
      ],
      "text/plain": [
       "             productionLine  flight_id\n",
       "0             Boeing 737 NG        157\n",
       "1               Airbus A320         99\n",
       "2               Airbus A319         44\n",
       "3                Boeing 777         36\n",
       "4                Boeing 767         36\n",
       "5               Airbus A321         35\n",
       "6            Embraer ERJ170         33\n",
       "7               Airbus A330         32\n",
       "8                Boeing 757         25\n",
       "9                Boeing 787         25\n",
       "10               Boeing 747         17\n",
       "11         Canadair CRJ 900         15\n",
       "12              Airbus A300         10\n",
       "13         Canadair CRJ 100          8\n",
       "14         Bombardier DHC-8          8\n",
       "15  McDonnell Douglas MD-11          7\n",
       "16           Embraer ERJ145          6\n",
       "17              Airbus A380          5\n",
       "18       Boeing 737 Classic          5\n",
       "19      Sukhoi Superjet 100          3\n",
       "20              Airbus A220          3\n",
       "21               Boeing 717          3\n",
       "22              Airbus A340          3\n",
       "23              Airbus A350          2\n",
       "24  McDonnell Douglas MD-90          2\n",
       "25           Embraer ERJ190          2\n",
       "26                   ATR 72          2\n",
       "27              BAe Avro RJ          2\n",
       "28              Airubs A318          1\n",
       "29           Embraer ERJ135          1\n",
       "30      Boeing 737 Original          1\n",
       "31         Canadair CRJ 700          1\n",
       "32             Canadair CRJ          1\n",
       "33               Fokker 100          1\n",
       "34          Airbus A320 NEO          1\n",
       "35  McDonnell Douglas MD-88          1\n",
       "36               Boeing 727          1\n",
       "37           Embraer ERJ140          1"
      ]
     },
     "execution_count": 193,
     "metadata": {},
     "output_type": "execute_result"
    }
   ],
   "source": [
    "grouped_by_type_df = df.groupby('productionLine').flight_id.count().sort_values(ascending=False).reset_index()\n",
    "grouped_by_type_df"
   ]
  },
  {
   "cell_type": "code",
   "execution_count": 196,
   "metadata": {},
   "outputs": [
    {
     "data": {
      "text/html": [
       "<div>\n",
       "<style scoped>\n",
       "    .dataframe tbody tr th:only-of-type {\n",
       "        vertical-align: middle;\n",
       "    }\n",
       "\n",
       "    .dataframe tbody tr th {\n",
       "        vertical-align: top;\n",
       "    }\n",
       "\n",
       "    .dataframe thead th {\n",
       "        text-align: right;\n",
       "    }\n",
       "</style>\n",
       "<table border=\"1\" class=\"dataframe\">\n",
       "  <thead>\n",
       "    <tr style=\"text-align: right;\">\n",
       "      <th></th>\n",
       "      <th>productionLine</th>\n",
       "      <th>diversions</th>\n",
       "    </tr>\n",
       "  </thead>\n",
       "  <tbody>\n",
       "    <tr>\n",
       "      <th>11</th>\n",
       "      <td>Boeing 737 NG</td>\n",
       "      <td>43</td>\n",
       "    </tr>\n",
       "    <tr>\n",
       "      <th>3</th>\n",
       "      <td>Airbus A320</td>\n",
       "      <td>31</td>\n",
       "    </tr>\n",
       "    <tr>\n",
       "      <th>2</th>\n",
       "      <td>Airbus A319</td>\n",
       "      <td>18</td>\n",
       "    </tr>\n",
       "    <tr>\n",
       "      <th>14</th>\n",
       "      <td>Boeing 767</td>\n",
       "      <td>16</td>\n",
       "    </tr>\n",
       "    <tr>\n",
       "      <th>15</th>\n",
       "      <td>Boeing 777</td>\n",
       "      <td>12</td>\n",
       "    </tr>\n",
       "    <tr>\n",
       "      <th>22</th>\n",
       "      <td>Embraer ERJ170</td>\n",
       "      <td>11</td>\n",
       "    </tr>\n",
       "    <tr>\n",
       "      <th>13</th>\n",
       "      <td>Boeing 757</td>\n",
       "      <td>9</td>\n",
       "    </tr>\n",
       "    <tr>\n",
       "      <th>16</th>\n",
       "      <td>Boeing 787</td>\n",
       "      <td>8</td>\n",
       "    </tr>\n",
       "    <tr>\n",
       "      <th>4</th>\n",
       "      <td>Airbus A321</td>\n",
       "      <td>8</td>\n",
       "    </tr>\n",
       "    <tr>\n",
       "      <th>5</th>\n",
       "      <td>Airbus A330</td>\n",
       "      <td>8</td>\n",
       "    </tr>\n",
       "    <tr>\n",
       "      <th>1</th>\n",
       "      <td>Airbus A300</td>\n",
       "      <td>6</td>\n",
       "    </tr>\n",
       "    <tr>\n",
       "      <th>17</th>\n",
       "      <td>Bombardier DHC-8</td>\n",
       "      <td>5</td>\n",
       "    </tr>\n",
       "    <tr>\n",
       "      <th>10</th>\n",
       "      <td>Boeing 737 Classic</td>\n",
       "      <td>5</td>\n",
       "    </tr>\n",
       "    <tr>\n",
       "      <th>12</th>\n",
       "      <td>Boeing 747</td>\n",
       "      <td>3</td>\n",
       "    </tr>\n",
       "    <tr>\n",
       "      <th>18</th>\n",
       "      <td>Canadair CRJ 100</td>\n",
       "      <td>3</td>\n",
       "    </tr>\n",
       "    <tr>\n",
       "      <th>23</th>\n",
       "      <td>McDonnell Douglas MD-11</td>\n",
       "      <td>3</td>\n",
       "    </tr>\n",
       "    <tr>\n",
       "      <th>19</th>\n",
       "      <td>Canadair CRJ 900</td>\n",
       "      <td>3</td>\n",
       "    </tr>\n",
       "    <tr>\n",
       "      <th>24</th>\n",
       "      <td>Sukhoi Superjet 100</td>\n",
       "      <td>3</td>\n",
       "    </tr>\n",
       "    <tr>\n",
       "      <th>7</th>\n",
       "      <td>Airbus A380</td>\n",
       "      <td>3</td>\n",
       "    </tr>\n",
       "    <tr>\n",
       "      <th>21</th>\n",
       "      <td>Embraer ERJ145</td>\n",
       "      <td>2</td>\n",
       "    </tr>\n",
       "    <tr>\n",
       "      <th>6</th>\n",
       "      <td>Airbus A340</td>\n",
       "      <td>2</td>\n",
       "    </tr>\n",
       "    <tr>\n",
       "      <th>9</th>\n",
       "      <td>Boeing 727</td>\n",
       "      <td>1</td>\n",
       "    </tr>\n",
       "    <tr>\n",
       "      <th>8</th>\n",
       "      <td>BAe Avro RJ</td>\n",
       "      <td>1</td>\n",
       "    </tr>\n",
       "    <tr>\n",
       "      <th>20</th>\n",
       "      <td>Embraer ERJ135</td>\n",
       "      <td>1</td>\n",
       "    </tr>\n",
       "    <tr>\n",
       "      <th>0</th>\n",
       "      <td>ATR 72</td>\n",
       "      <td>1</td>\n",
       "    </tr>\n",
       "  </tbody>\n",
       "</table>\n",
       "</div>"
      ],
      "text/plain": [
       "             productionLine  diversions\n",
       "11            Boeing 737 NG          43\n",
       "3               Airbus A320          31\n",
       "2               Airbus A319          18\n",
       "14               Boeing 767          16\n",
       "15               Boeing 777          12\n",
       "22           Embraer ERJ170          11\n",
       "13               Boeing 757           9\n",
       "16               Boeing 787           8\n",
       "4               Airbus A321           8\n",
       "5               Airbus A330           8\n",
       "1               Airbus A300           6\n",
       "17         Bombardier DHC-8           5\n",
       "10       Boeing 737 Classic           5\n",
       "12               Boeing 747           3\n",
       "18         Canadair CRJ 100           3\n",
       "23  McDonnell Douglas MD-11           3\n",
       "19         Canadair CRJ 900           3\n",
       "24      Sukhoi Superjet 100           3\n",
       "7               Airbus A380           3\n",
       "21           Embraer ERJ145           2\n",
       "6               Airbus A340           2\n",
       "9                Boeing 727           1\n",
       "8               BAe Avro RJ           1\n",
       "20           Embraer ERJ135           1\n",
       "0                    ATR 72           1"
      ]
     },
     "execution_count": 196,
     "metadata": {},
     "output_type": "execute_result"
    }
   ],
   "source": []
  },
  {
   "cell_type": "code",
   "execution_count": 197,
   "metadata": {},
   "outputs": [
    {
     "data": {
      "text/html": [
       "<div>\n",
       "<style scoped>\n",
       "    .dataframe tbody tr th:only-of-type {\n",
       "        vertical-align: middle;\n",
       "    }\n",
       "\n",
       "    .dataframe tbody tr th {\n",
       "        vertical-align: top;\n",
       "    }\n",
       "\n",
       "    .dataframe thead th {\n",
       "        text-align: right;\n",
       "    }\n",
       "</style>\n",
       "<table border=\"1\" class=\"dataframe\">\n",
       "  <thead>\n",
       "    <tr style=\"text-align: right;\">\n",
       "      <th></th>\n",
       "      <th>productionLine</th>\n",
       "      <th>flight_id</th>\n",
       "      <th>diversions</th>\n",
       "    </tr>\n",
       "  </thead>\n",
       "  <tbody>\n",
       "    <tr>\n",
       "      <th>0</th>\n",
       "      <td>Boeing 737 NG</td>\n",
       "      <td>157</td>\n",
       "      <td>43</td>\n",
       "    </tr>\n",
       "    <tr>\n",
       "      <th>1</th>\n",
       "      <td>Airbus A320</td>\n",
       "      <td>99</td>\n",
       "      <td>31</td>\n",
       "    </tr>\n",
       "    <tr>\n",
       "      <th>2</th>\n",
       "      <td>Airbus A319</td>\n",
       "      <td>44</td>\n",
       "      <td>18</td>\n",
       "    </tr>\n",
       "    <tr>\n",
       "      <th>3</th>\n",
       "      <td>Boeing 777</td>\n",
       "      <td>36</td>\n",
       "      <td>12</td>\n",
       "    </tr>\n",
       "    <tr>\n",
       "      <th>4</th>\n",
       "      <td>Boeing 767</td>\n",
       "      <td>36</td>\n",
       "      <td>16</td>\n",
       "    </tr>\n",
       "    <tr>\n",
       "      <th>5</th>\n",
       "      <td>Airbus A321</td>\n",
       "      <td>35</td>\n",
       "      <td>8</td>\n",
       "    </tr>\n",
       "    <tr>\n",
       "      <th>6</th>\n",
       "      <td>Embraer ERJ170</td>\n",
       "      <td>33</td>\n",
       "      <td>11</td>\n",
       "    </tr>\n",
       "    <tr>\n",
       "      <th>7</th>\n",
       "      <td>Airbus A330</td>\n",
       "      <td>32</td>\n",
       "      <td>8</td>\n",
       "    </tr>\n",
       "    <tr>\n",
       "      <th>8</th>\n",
       "      <td>Boeing 757</td>\n",
       "      <td>25</td>\n",
       "      <td>9</td>\n",
       "    </tr>\n",
       "    <tr>\n",
       "      <th>9</th>\n",
       "      <td>Boeing 787</td>\n",
       "      <td>25</td>\n",
       "      <td>8</td>\n",
       "    </tr>\n",
       "    <tr>\n",
       "      <th>10</th>\n",
       "      <td>Boeing 747</td>\n",
       "      <td>17</td>\n",
       "      <td>3</td>\n",
       "    </tr>\n",
       "    <tr>\n",
       "      <th>11</th>\n",
       "      <td>Canadair CRJ 900</td>\n",
       "      <td>15</td>\n",
       "      <td>3</td>\n",
       "    </tr>\n",
       "    <tr>\n",
       "      <th>12</th>\n",
       "      <td>Airbus A300</td>\n",
       "      <td>10</td>\n",
       "      <td>6</td>\n",
       "    </tr>\n",
       "    <tr>\n",
       "      <th>13</th>\n",
       "      <td>Canadair CRJ 100</td>\n",
       "      <td>8</td>\n",
       "      <td>3</td>\n",
       "    </tr>\n",
       "    <tr>\n",
       "      <th>14</th>\n",
       "      <td>Bombardier DHC-8</td>\n",
       "      <td>8</td>\n",
       "      <td>5</td>\n",
       "    </tr>\n",
       "    <tr>\n",
       "      <th>15</th>\n",
       "      <td>McDonnell Douglas MD-11</td>\n",
       "      <td>7</td>\n",
       "      <td>3</td>\n",
       "    </tr>\n",
       "    <tr>\n",
       "      <th>16</th>\n",
       "      <td>Embraer ERJ145</td>\n",
       "      <td>6</td>\n",
       "      <td>2</td>\n",
       "    </tr>\n",
       "    <tr>\n",
       "      <th>17</th>\n",
       "      <td>Airbus A380</td>\n",
       "      <td>5</td>\n",
       "      <td>3</td>\n",
       "    </tr>\n",
       "    <tr>\n",
       "      <th>18</th>\n",
       "      <td>Boeing 737 Classic</td>\n",
       "      <td>5</td>\n",
       "      <td>5</td>\n",
       "    </tr>\n",
       "    <tr>\n",
       "      <th>19</th>\n",
       "      <td>Sukhoi Superjet 100</td>\n",
       "      <td>3</td>\n",
       "      <td>3</td>\n",
       "    </tr>\n",
       "    <tr>\n",
       "      <th>20</th>\n",
       "      <td>Airbus A340</td>\n",
       "      <td>3</td>\n",
       "      <td>2</td>\n",
       "    </tr>\n",
       "    <tr>\n",
       "      <th>21</th>\n",
       "      <td>ATR 72</td>\n",
       "      <td>2</td>\n",
       "      <td>1</td>\n",
       "    </tr>\n",
       "    <tr>\n",
       "      <th>22</th>\n",
       "      <td>BAe Avro RJ</td>\n",
       "      <td>2</td>\n",
       "      <td>1</td>\n",
       "    </tr>\n",
       "    <tr>\n",
       "      <th>23</th>\n",
       "      <td>Embraer ERJ135</td>\n",
       "      <td>1</td>\n",
       "      <td>1</td>\n",
       "    </tr>\n",
       "    <tr>\n",
       "      <th>24</th>\n",
       "      <td>Boeing 727</td>\n",
       "      <td>1</td>\n",
       "      <td>1</td>\n",
       "    </tr>\n",
       "  </tbody>\n",
       "</table>\n",
       "</div>"
      ],
      "text/plain": [
       "             productionLine  flight_id  diversions\n",
       "0             Boeing 737 NG        157          43\n",
       "1               Airbus A320         99          31\n",
       "2               Airbus A319         44          18\n",
       "3                Boeing 777         36          12\n",
       "4                Boeing 767         36          16\n",
       "5               Airbus A321         35           8\n",
       "6            Embraer ERJ170         33          11\n",
       "7               Airbus A330         32           8\n",
       "8                Boeing 757         25           9\n",
       "9                Boeing 787         25           8\n",
       "10               Boeing 747         17           3\n",
       "11         Canadair CRJ 900         15           3\n",
       "12              Airbus A300         10           6\n",
       "13         Canadair CRJ 100          8           3\n",
       "14         Bombardier DHC-8          8           5\n",
       "15  McDonnell Douglas MD-11          7           3\n",
       "16           Embraer ERJ145          6           2\n",
       "17              Airbus A380          5           3\n",
       "18       Boeing 737 Classic          5           5\n",
       "19      Sukhoi Superjet 100          3           3\n",
       "20              Airbus A340          3           2\n",
       "21                   ATR 72          2           1\n",
       "22              BAe Avro RJ          2           1\n",
       "23           Embraer ERJ135          1           1\n",
       "24               Boeing 727          1           1"
      ]
     },
     "execution_count": 197,
     "metadata": {},
     "output_type": "execute_result"
    }
   ],
   "source": [
    "merged_diversion_types = grouped_by_type_df.merge(diverted_type_df)\n",
    "merged_diversion_types"
   ]
  },
  {
   "cell_type": "code",
   "execution_count": 199,
   "metadata": {},
   "outputs": [
    {
     "data": {
      "text/html": [
       "<div>\n",
       "<style scoped>\n",
       "    .dataframe tbody tr th:only-of-type {\n",
       "        vertical-align: middle;\n",
       "    }\n",
       "\n",
       "    .dataframe tbody tr th {\n",
       "        vertical-align: top;\n",
       "    }\n",
       "\n",
       "    .dataframe thead th {\n",
       "        text-align: right;\n",
       "    }\n",
       "</style>\n",
       "<table border=\"1\" class=\"dataframe\">\n",
       "  <thead>\n",
       "    <tr style=\"text-align: right;\">\n",
       "      <th></th>\n",
       "      <th>productionLine</th>\n",
       "      <th>flight_id</th>\n",
       "      <th>diversions</th>\n",
       "      <th>adjusted_diversion_rate</th>\n",
       "    </tr>\n",
       "  </thead>\n",
       "  <tbody>\n",
       "    <tr>\n",
       "      <th>18</th>\n",
       "      <td>Boeing 737 Classic</td>\n",
       "      <td>5</td>\n",
       "      <td>5</td>\n",
       "      <td>0.447297</td>\n",
       "    </tr>\n",
       "    <tr>\n",
       "      <th>12</th>\n",
       "      <td>Airbus A300</td>\n",
       "      <td>10</td>\n",
       "      <td>6</td>\n",
       "      <td>0.411561</td>\n",
       "    </tr>\n",
       "    <tr>\n",
       "      <th>19</th>\n",
       "      <td>Sukhoi Superjet 100</td>\n",
       "      <td>3</td>\n",
       "      <td>3</td>\n",
       "      <td>0.407246</td>\n",
       "    </tr>\n",
       "    <tr>\n",
       "      <th>14</th>\n",
       "      <td>Bombardier DHC-8</td>\n",
       "      <td>8</td>\n",
       "      <td>5</td>\n",
       "      <td>0.406135</td>\n",
       "    </tr>\n",
       "    <tr>\n",
       "      <th>4</th>\n",
       "      <td>Boeing 767</td>\n",
       "      <td>36</td>\n",
       "      <td>16</td>\n",
       "      <td>0.400000</td>\n",
       "    </tr>\n",
       "    <tr>\n",
       "      <th>2</th>\n",
       "      <td>Airbus A319</td>\n",
       "      <td>44</td>\n",
       "      <td>18</td>\n",
       "      <td>0.382507</td>\n",
       "    </tr>\n",
       "    <tr>\n",
       "      <th>17</th>\n",
       "      <td>Airbus A380</td>\n",
       "      <td>5</td>\n",
       "      <td>3</td>\n",
       "      <td>0.379730</td>\n",
       "    </tr>\n",
       "    <tr>\n",
       "      <th>20</th>\n",
       "      <td>Airbus A340</td>\n",
       "      <td>3</td>\n",
       "      <td>2</td>\n",
       "      <td>0.371014</td>\n",
       "    </tr>\n",
       "    <tr>\n",
       "      <th>23</th>\n",
       "      <td>Embraer ERJ135</td>\n",
       "      <td>1</td>\n",
       "      <td>1</td>\n",
       "      <td>0.360937</td>\n",
       "    </tr>\n",
       "    <tr>\n",
       "      <th>24</th>\n",
       "      <td>Boeing 727</td>\n",
       "      <td>1</td>\n",
       "      <td>1</td>\n",
       "      <td>0.360937</td>\n",
       "    </tr>\n",
       "    <tr>\n",
       "      <th>15</th>\n",
       "      <td>McDonnell Douglas MD-11</td>\n",
       "      <td>7</td>\n",
       "      <td>3</td>\n",
       "      <td>0.355696</td>\n",
       "    </tr>\n",
       "    <tr>\n",
       "      <th>8</th>\n",
       "      <td>Boeing 757</td>\n",
       "      <td>25</td>\n",
       "      <td>9</td>\n",
       "      <td>0.347581</td>\n",
       "    </tr>\n",
       "    <tr>\n",
       "      <th>21</th>\n",
       "      <td>ATR 72</td>\n",
       "      <td>2</td>\n",
       "      <td>1</td>\n",
       "      <td>0.347368</td>\n",
       "    </tr>\n",
       "    <tr>\n",
       "      <th>22</th>\n",
       "      <td>BAe Avro RJ</td>\n",
       "      <td>2</td>\n",
       "      <td>1</td>\n",
       "      <td>0.347368</td>\n",
       "    </tr>\n",
       "    <tr>\n",
       "      <th>13</th>\n",
       "      <td>Canadair CRJ 100</td>\n",
       "      <td>8</td>\n",
       "      <td>3</td>\n",
       "      <td>0.344785</td>\n",
       "    </tr>\n",
       "    <tr>\n",
       "      <th>16</th>\n",
       "      <td>Embraer ERJ145</td>\n",
       "      <td>6</td>\n",
       "      <td>2</td>\n",
       "      <td>0.334641</td>\n",
       "    </tr>\n",
       "    <tr>\n",
       "      <th>6</th>\n",
       "      <td>Embraer ERJ170</td>\n",
       "      <td>33</td>\n",
       "      <td>11</td>\n",
       "      <td>0.334028</td>\n",
       "    </tr>\n",
       "    <tr>\n",
       "      <th>3</th>\n",
       "      <td>Boeing 777</td>\n",
       "      <td>36</td>\n",
       "      <td>12</td>\n",
       "      <td>0.333993</td>\n",
       "    </tr>\n",
       "    <tr>\n",
       "      <th>9</th>\n",
       "      <td>Boeing 787</td>\n",
       "      <td>25</td>\n",
       "      <td>8</td>\n",
       "      <td>0.327419</td>\n",
       "    </tr>\n",
       "    <tr>\n",
       "      <th>1</th>\n",
       "      <td>Airbus A320</td>\n",
       "      <td>99</td>\n",
       "      <td>31</td>\n",
       "      <td>0.317476</td>\n",
       "    </tr>\n",
       "    <tr>\n",
       "      <th>7</th>\n",
       "      <td>Airbus A330</td>\n",
       "      <td>32</td>\n",
       "      <td>8</td>\n",
       "      <td>0.286926</td>\n",
       "    </tr>\n",
       "    <tr>\n",
       "      <th>11</th>\n",
       "      <td>Canadair CRJ 900</td>\n",
       "      <td>15</td>\n",
       "      <td>3</td>\n",
       "      <td>0.283838</td>\n",
       "    </tr>\n",
       "    <tr>\n",
       "      <th>0</th>\n",
       "      <td>Boeing 737 NG</td>\n",
       "      <td>157</td>\n",
       "      <td>43</td>\n",
       "      <td>0.282159</td>\n",
       "    </tr>\n",
       "    <tr>\n",
       "      <th>5</th>\n",
       "      <td>Airbus A321</td>\n",
       "      <td>35</td>\n",
       "      <td>8</td>\n",
       "      <td>0.272483</td>\n",
       "    </tr>\n",
       "    <tr>\n",
       "      <th>10</th>\n",
       "      <td>Boeing 747</td>\n",
       "      <td>17</td>\n",
       "      <td>3</td>\n",
       "      <td>0.270192</td>\n",
       "    </tr>\n",
       "  </tbody>\n",
       "</table>\n",
       "</div>"
      ],
      "text/plain": [
       "             productionLine  flight_id  diversions  adjusted_diversion_rate\n",
       "18       Boeing 737 Classic          5           5                 0.447297\n",
       "12              Airbus A300         10           6                 0.411561\n",
       "19      Sukhoi Superjet 100          3           3                 0.407246\n",
       "14         Bombardier DHC-8          8           5                 0.406135\n",
       "4                Boeing 767         36          16                 0.400000\n",
       "2               Airbus A319         44          18                 0.382507\n",
       "17              Airbus A380          5           3                 0.379730\n",
       "20              Airbus A340          3           2                 0.371014\n",
       "23           Embraer ERJ135          1           1                 0.360937\n",
       "24               Boeing 727          1           1                 0.360937\n",
       "15  McDonnell Douglas MD-11          7           3                 0.355696\n",
       "8                Boeing 757         25           9                 0.347581\n",
       "21                   ATR 72          2           1                 0.347368\n",
       "22              BAe Avro RJ          2           1                 0.347368\n",
       "13         Canadair CRJ 100          8           3                 0.344785\n",
       "16           Embraer ERJ145          6           2                 0.334641\n",
       "6            Embraer ERJ170         33          11                 0.334028\n",
       "3                Boeing 777         36          12                 0.333993\n",
       "9                Boeing 787         25           8                 0.327419\n",
       "1               Airbus A320         99          31                 0.317476\n",
       "7               Airbus A330         32           8                 0.286926\n",
       "11         Canadair CRJ 900         15           3                 0.283838\n",
       "0             Boeing 737 NG        157          43                 0.282159\n",
       "5               Airbus A321         35           8                 0.272483\n",
       "10               Boeing 747         17           3                 0.270192"
      ]
     },
     "execution_count": 199,
     "metadata": {},
     "output_type": "execute_result"
    }
   ],
   "source": [
    "global_rate = merged_diversion_types['diversions'].sum() / merged_diversion_types['flight_id'].sum()\n",
    "\n",
    "# Use the average number of emergencies as the weighting factor (k)\n",
    "k = merged_diversion_types['flight_id'].mean()\n",
    "\n",
    "# Calculate the adjusted diversion rate\n",
    "merged_diversion_types['adjusted_diversion_rate'] = (\n",
    "    (merged_diversion_types['diversions'] + k * global_rate) /\n",
    "    (merged_diversion_types['flight_id'] + k)\n",
    ")\n",
    "\n",
    "# Sort by the adjusted diversion rate\n",
    "merged_diversion_types_sorted = merged_diversion_types.sort_values('adjusted_diversion_rate', ascending=False)\n",
    "merged_diversion_types_sorted"
   ]
  },
  {
   "cell_type": "code",
   "execution_count": null,
   "metadata": {},
   "outputs": [],
   "source": [
    "fig5 = go.Figure(data=[\n",
    "    go.Bar(x=diverted_type_df['productionLine'], y=diverted_type_df['diversions'], name=\"Type\",hovertext=diverted_type_df['productionLine'], marker_color=\"blue\")\n",
    "])\n",
    "\n",
    "fig5.update_layout(\n",
    "    title={'text': \"Diversions per Aircraft Type\", 'font': {\"size\": 24}},\n",
    "    xaxis_title=\"Aircraft Type\",\n",
    "    yaxis_title=\"Diversions\",\n",
    ")"
   ]
  },
  {
   "cell_type": "code",
   "execution_count": 207,
   "metadata": {},
   "outputs": [
    {
     "data": {
      "application/vnd.plotly.v1+json": {
       "config": {
        "plotlyServerURL": "https://plot.ly"
       },
       "data": [
        {
         "marker": {
          "color": "blue"
         },
         "name": "model_family",
         "type": "bar",
         "x": [
          "Boeing 737 NG",
          "Airbus A320",
          "Airbus A320 NEO",
          "Boeing 737 Classic",
          "Canadair CRJ",
          "Boeing 727",
          "Airbus A321",
          "Boeing 777",
          "Airbus A330",
          "Boeing 747",
          "Airbus A319",
          "Boeing 767",
          "Bombardier DHC-8",
          "ATR 72",
          "Boeing 737 Original",
          "Boeing 787",
          "Embraer ERJ145",
          "Boeing 757",
          "Airbus A350",
          "Airbus A300",
          "Embraer ERJ190",
          "Canadair CRJ 900",
          "BAe Avro RJ",
          "Airbus A340",
          "Airbus A220",
          "Canadair CRJ 700",
          "Fokker 100",
          "Airbus A380",
          "Canadair CRJ 100",
          "Sukhoi Superjet 100",
          "McDonnell Douglas MD-11",
          "Embraer ERJ170",
          "Boeing 717",
          "McDonnell Douglas MD-88",
          "Embraer ERJ135",
          "McDonnell Douglas MD-90",
          "Airbus A318",
          "Embraer ERJ140"
         ],
         "y": [
          0.16074645480160746,
          0.1097510277610975,
          0.08330638828583306,
          0.04591436094045914,
          0.04503672225045037,
          0.04231142316042311,
          0.04120282692041203,
          0.040140422190401405,
          0.037299644325373,
          0.036352718370363524,
          0.03427410042034274,
          0.030463300845304634,
          0.029054459790290546,
          0.02847706591528477,
          0.0265601182502656,
          0.0265601182502656,
          0.025405330500254054,
          0.024250542750242507,
          0.014388655365143886,
          0.012956718555129566,
          0.012933622800129337,
          0.011547877500115478,
          0.00893805718508938,
          0.008776386900087764,
          0.008476142085084761,
          0.007621599150076216,
          0.006536098665065361,
          0.005797034505057971,
          0.005219640630052196,
          0.0046191510000461915,
          0.0046191510000461915,
          0.004388193450043882,
          0.0036029377800360293,
          0.003464363250034644,
          0.0027714906000277147,
          0.002679107580026791,
          0.0018476604000184766,
          0.0017090858700170909
         ]
        }
       ],
       "layout": {
        "template": {
         "data": {
          "bar": [
           {
            "error_x": {
             "color": "#2a3f5f"
            },
            "error_y": {
             "color": "#2a3f5f"
            },
            "marker": {
             "line": {
              "color": "#E5ECF6",
              "width": 0.5
             },
             "pattern": {
              "fillmode": "overlay",
              "size": 10,
              "solidity": 0.2
             }
            },
            "type": "bar"
           }
          ],
          "barpolar": [
           {
            "marker": {
             "line": {
              "color": "#E5ECF6",
              "width": 0.5
             },
             "pattern": {
              "fillmode": "overlay",
              "size": 10,
              "solidity": 0.2
             }
            },
            "type": "barpolar"
           }
          ],
          "carpet": [
           {
            "aaxis": {
             "endlinecolor": "#2a3f5f",
             "gridcolor": "white",
             "linecolor": "white",
             "minorgridcolor": "white",
             "startlinecolor": "#2a3f5f"
            },
            "baxis": {
             "endlinecolor": "#2a3f5f",
             "gridcolor": "white",
             "linecolor": "white",
             "minorgridcolor": "white",
             "startlinecolor": "#2a3f5f"
            },
            "type": "carpet"
           }
          ],
          "choropleth": [
           {
            "colorbar": {
             "outlinewidth": 0,
             "ticks": ""
            },
            "type": "choropleth"
           }
          ],
          "contour": [
           {
            "colorbar": {
             "outlinewidth": 0,
             "ticks": ""
            },
            "colorscale": [
             [
              0,
              "#0d0887"
             ],
             [
              0.1111111111111111,
              "#46039f"
             ],
             [
              0.2222222222222222,
              "#7201a8"
             ],
             [
              0.3333333333333333,
              "#9c179e"
             ],
             [
              0.4444444444444444,
              "#bd3786"
             ],
             [
              0.5555555555555556,
              "#d8576b"
             ],
             [
              0.6666666666666666,
              "#ed7953"
             ],
             [
              0.7777777777777778,
              "#fb9f3a"
             ],
             [
              0.8888888888888888,
              "#fdca26"
             ],
             [
              1,
              "#f0f921"
             ]
            ],
            "type": "contour"
           }
          ],
          "contourcarpet": [
           {
            "colorbar": {
             "outlinewidth": 0,
             "ticks": ""
            },
            "type": "contourcarpet"
           }
          ],
          "heatmap": [
           {
            "colorbar": {
             "outlinewidth": 0,
             "ticks": ""
            },
            "colorscale": [
             [
              0,
              "#0d0887"
             ],
             [
              0.1111111111111111,
              "#46039f"
             ],
             [
              0.2222222222222222,
              "#7201a8"
             ],
             [
              0.3333333333333333,
              "#9c179e"
             ],
             [
              0.4444444444444444,
              "#bd3786"
             ],
             [
              0.5555555555555556,
              "#d8576b"
             ],
             [
              0.6666666666666666,
              "#ed7953"
             ],
             [
              0.7777777777777778,
              "#fb9f3a"
             ],
             [
              0.8888888888888888,
              "#fdca26"
             ],
             [
              1,
              "#f0f921"
             ]
            ],
            "type": "heatmap"
           }
          ],
          "heatmapgl": [
           {
            "colorbar": {
             "outlinewidth": 0,
             "ticks": ""
            },
            "colorscale": [
             [
              0,
              "#0d0887"
             ],
             [
              0.1111111111111111,
              "#46039f"
             ],
             [
              0.2222222222222222,
              "#7201a8"
             ],
             [
              0.3333333333333333,
              "#9c179e"
             ],
             [
              0.4444444444444444,
              "#bd3786"
             ],
             [
              0.5555555555555556,
              "#d8576b"
             ],
             [
              0.6666666666666666,
              "#ed7953"
             ],
             [
              0.7777777777777778,
              "#fb9f3a"
             ],
             [
              0.8888888888888888,
              "#fdca26"
             ],
             [
              1,
              "#f0f921"
             ]
            ],
            "type": "heatmapgl"
           }
          ],
          "histogram": [
           {
            "marker": {
             "pattern": {
              "fillmode": "overlay",
              "size": 10,
              "solidity": 0.2
             }
            },
            "type": "histogram"
           }
          ],
          "histogram2d": [
           {
            "colorbar": {
             "outlinewidth": 0,
             "ticks": ""
            },
            "colorscale": [
             [
              0,
              "#0d0887"
             ],
             [
              0.1111111111111111,
              "#46039f"
             ],
             [
              0.2222222222222222,
              "#7201a8"
             ],
             [
              0.3333333333333333,
              "#9c179e"
             ],
             [
              0.4444444444444444,
              "#bd3786"
             ],
             [
              0.5555555555555556,
              "#d8576b"
             ],
             [
              0.6666666666666666,
              "#ed7953"
             ],
             [
              0.7777777777777778,
              "#fb9f3a"
             ],
             [
              0.8888888888888888,
              "#fdca26"
             ],
             [
              1,
              "#f0f921"
             ]
            ],
            "type": "histogram2d"
           }
          ],
          "histogram2dcontour": [
           {
            "colorbar": {
             "outlinewidth": 0,
             "ticks": ""
            },
            "colorscale": [
             [
              0,
              "#0d0887"
             ],
             [
              0.1111111111111111,
              "#46039f"
             ],
             [
              0.2222222222222222,
              "#7201a8"
             ],
             [
              0.3333333333333333,
              "#9c179e"
             ],
             [
              0.4444444444444444,
              "#bd3786"
             ],
             [
              0.5555555555555556,
              "#d8576b"
             ],
             [
              0.6666666666666666,
              "#ed7953"
             ],
             [
              0.7777777777777778,
              "#fb9f3a"
             ],
             [
              0.8888888888888888,
              "#fdca26"
             ],
             [
              1,
              "#f0f921"
             ]
            ],
            "type": "histogram2dcontour"
           }
          ],
          "mesh3d": [
           {
            "colorbar": {
             "outlinewidth": 0,
             "ticks": ""
            },
            "type": "mesh3d"
           }
          ],
          "parcoords": [
           {
            "line": {
             "colorbar": {
              "outlinewidth": 0,
              "ticks": ""
             }
            },
            "type": "parcoords"
           }
          ],
          "pie": [
           {
            "automargin": true,
            "type": "pie"
           }
          ],
          "scatter": [
           {
            "fillpattern": {
             "fillmode": "overlay",
             "size": 10,
             "solidity": 0.2
            },
            "type": "scatter"
           }
          ],
          "scatter3d": [
           {
            "line": {
             "colorbar": {
              "outlinewidth": 0,
              "ticks": ""
             }
            },
            "marker": {
             "colorbar": {
              "outlinewidth": 0,
              "ticks": ""
             }
            },
            "type": "scatter3d"
           }
          ],
          "scattercarpet": [
           {
            "marker": {
             "colorbar": {
              "outlinewidth": 0,
              "ticks": ""
             }
            },
            "type": "scattercarpet"
           }
          ],
          "scattergeo": [
           {
            "marker": {
             "colorbar": {
              "outlinewidth": 0,
              "ticks": ""
             }
            },
            "type": "scattergeo"
           }
          ],
          "scattergl": [
           {
            "marker": {
             "colorbar": {
              "outlinewidth": 0,
              "ticks": ""
             }
            },
            "type": "scattergl"
           }
          ],
          "scattermapbox": [
           {
            "marker": {
             "colorbar": {
              "outlinewidth": 0,
              "ticks": ""
             }
            },
            "type": "scattermapbox"
           }
          ],
          "scatterpolar": [
           {
            "marker": {
             "colorbar": {
              "outlinewidth": 0,
              "ticks": ""
             }
            },
            "type": "scatterpolar"
           }
          ],
          "scatterpolargl": [
           {
            "marker": {
             "colorbar": {
              "outlinewidth": 0,
              "ticks": ""
             }
            },
            "type": "scatterpolargl"
           }
          ],
          "scatterternary": [
           {
            "marker": {
             "colorbar": {
              "outlinewidth": 0,
              "ticks": ""
             }
            },
            "type": "scatterternary"
           }
          ],
          "surface": [
           {
            "colorbar": {
             "outlinewidth": 0,
             "ticks": ""
            },
            "colorscale": [
             [
              0,
              "#0d0887"
             ],
             [
              0.1111111111111111,
              "#46039f"
             ],
             [
              0.2222222222222222,
              "#7201a8"
             ],
             [
              0.3333333333333333,
              "#9c179e"
             ],
             [
              0.4444444444444444,
              "#bd3786"
             ],
             [
              0.5555555555555556,
              "#d8576b"
             ],
             [
              0.6666666666666666,
              "#ed7953"
             ],
             [
              0.7777777777777778,
              "#fb9f3a"
             ],
             [
              0.8888888888888888,
              "#fdca26"
             ],
             [
              1,
              "#f0f921"
             ]
            ],
            "type": "surface"
           }
          ],
          "table": [
           {
            "cells": {
             "fill": {
              "color": "#EBF0F8"
             },
             "line": {
              "color": "white"
             }
            },
            "header": {
             "fill": {
              "color": "#C8D4E3"
             },
             "line": {
              "color": "white"
             }
            },
            "type": "table"
           }
          ]
         },
         "layout": {
          "annotationdefaults": {
           "arrowcolor": "#2a3f5f",
           "arrowhead": 0,
           "arrowwidth": 1
          },
          "autotypenumbers": "strict",
          "coloraxis": {
           "colorbar": {
            "outlinewidth": 0,
            "ticks": ""
           }
          },
          "colorscale": {
           "diverging": [
            [
             0,
             "#8e0152"
            ],
            [
             0.1,
             "#c51b7d"
            ],
            [
             0.2,
             "#de77ae"
            ],
            [
             0.3,
             "#f1b6da"
            ],
            [
             0.4,
             "#fde0ef"
            ],
            [
             0.5,
             "#f7f7f7"
            ],
            [
             0.6,
             "#e6f5d0"
            ],
            [
             0.7,
             "#b8e186"
            ],
            [
             0.8,
             "#7fbc41"
            ],
            [
             0.9,
             "#4d9221"
            ],
            [
             1,
             "#276419"
            ]
           ],
           "sequential": [
            [
             0,
             "#0d0887"
            ],
            [
             0.1111111111111111,
             "#46039f"
            ],
            [
             0.2222222222222222,
             "#7201a8"
            ],
            [
             0.3333333333333333,
             "#9c179e"
            ],
            [
             0.4444444444444444,
             "#bd3786"
            ],
            [
             0.5555555555555556,
             "#d8576b"
            ],
            [
             0.6666666666666666,
             "#ed7953"
            ],
            [
             0.7777777777777778,
             "#fb9f3a"
            ],
            [
             0.8888888888888888,
             "#fdca26"
            ],
            [
             1,
             "#f0f921"
            ]
           ],
           "sequentialminus": [
            [
             0,
             "#0d0887"
            ],
            [
             0.1111111111111111,
             "#46039f"
            ],
            [
             0.2222222222222222,
             "#7201a8"
            ],
            [
             0.3333333333333333,
             "#9c179e"
            ],
            [
             0.4444444444444444,
             "#bd3786"
            ],
            [
             0.5555555555555556,
             "#d8576b"
            ],
            [
             0.6666666666666666,
             "#ed7953"
            ],
            [
             0.7777777777777778,
             "#fb9f3a"
            ],
            [
             0.8888888888888888,
             "#fdca26"
            ],
            [
             1,
             "#f0f921"
            ]
           ]
          },
          "colorway": [
           "#636efa",
           "#EF553B",
           "#00cc96",
           "#ab63fa",
           "#FFA15A",
           "#19d3f3",
           "#FF6692",
           "#B6E880",
           "#FF97FF",
           "#FECB52"
          ],
          "font": {
           "color": "#2a3f5f"
          },
          "geo": {
           "bgcolor": "white",
           "lakecolor": "white",
           "landcolor": "#E5ECF6",
           "showlakes": true,
           "showland": true,
           "subunitcolor": "white"
          },
          "hoverlabel": {
           "align": "left"
          },
          "hovermode": "closest",
          "mapbox": {
           "style": "light"
          },
          "paper_bgcolor": "white",
          "plot_bgcolor": "#E5ECF6",
          "polar": {
           "angularaxis": {
            "gridcolor": "white",
            "linecolor": "white",
            "ticks": ""
           },
           "bgcolor": "#E5ECF6",
           "radialaxis": {
            "gridcolor": "white",
            "linecolor": "white",
            "ticks": ""
           }
          },
          "scene": {
           "xaxis": {
            "backgroundcolor": "#E5ECF6",
            "gridcolor": "white",
            "gridwidth": 2,
            "linecolor": "white",
            "showbackground": true,
            "ticks": "",
            "zerolinecolor": "white"
           },
           "yaxis": {
            "backgroundcolor": "#E5ECF6",
            "gridcolor": "white",
            "gridwidth": 2,
            "linecolor": "white",
            "showbackground": true,
            "ticks": "",
            "zerolinecolor": "white"
           },
           "zaxis": {
            "backgroundcolor": "#E5ECF6",
            "gridcolor": "white",
            "gridwidth": 2,
            "linecolor": "white",
            "showbackground": true,
            "ticks": "",
            "zerolinecolor": "white"
           }
          },
          "shapedefaults": {
           "line": {
            "color": "#2a3f5f"
           }
          },
          "ternary": {
           "aaxis": {
            "gridcolor": "white",
            "linecolor": "white",
            "ticks": ""
           },
           "baxis": {
            "gridcolor": "white",
            "linecolor": "white",
            "ticks": ""
           },
           "bgcolor": "#E5ECF6",
           "caxis": {
            "gridcolor": "white",
            "linecolor": "white",
            "ticks": ""
           }
          },
          "title": {
           "x": 0.05
          },
          "xaxis": {
           "automargin": true,
           "gridcolor": "white",
           "linecolor": "white",
           "ticks": "",
           "title": {
            "standoff": 15
           },
           "zerolinecolor": "white",
           "zerolinewidth": 2
          },
          "yaxis": {
           "automargin": true,
           "gridcolor": "white",
           "linecolor": "white",
           "ticks": "",
           "title": {
            "standoff": 15
           },
           "zerolinecolor": "white",
           "zerolinewidth": 2
          }
         }
        },
        "title": {
         "font": {
          "size": 24
         },
         "text": "Normalized Amount of Aircraft per Aircraft Model Family"
        },
        "xaxis": {
         "title": {
          "text": "Aircraft Model Family"
         }
        },
        "yaxis": {
         "title": {
          "text": "Normalized Frequency"
         }
        }
       }
      }
     },
     "metadata": {},
     "output_type": "display_data"
    }
   ],
   "source": [
    "with open('../data/processed/production_dict.json', 'r') as reg_file:\n",
    "    prod_dict = json.load(reg_file)\n",
    "df_production = pd.DataFrame(list(prod_dict.items()), columns=['model_family', 'total_produced'])\n",
    "\n",
    "# Normalize and sort\n",
    "df_production['total_produced_norm'] = df_production.apply(lambda row : row['total_produced']/df_production['total_produced'].sum(), axis=1)\n",
    "df_production.sort_values(by='total_produced_norm', ascending=False,inplace=True)\n",
    "\n",
    "# Plot\n",
    "prod_fig = go.Figure(data=[\n",
    "    go.Bar(x=df_production['model_family'], y=df_production['total_produced_norm'], name=\"model_family\", marker_color=\"blue\")\n",
    "])\n",
    "\n",
    "prod_fig.update_layout(\n",
    "    title={'text': \"Normalized Amount of Aircraft per Aircraft Model Family\", 'font': {\"size\": 24}},\n",
    "    xaxis_title=\"Aircraft Model Family\",\n",
    "    yaxis_title=\"Normalized Frequency\"\n",
    ")"
   ]
  },
  {
   "cell_type": "code",
   "execution_count": 256,
   "metadata": {},
   "outputs": [
    {
     "data": {
      "application/vnd.plotly.v1+json": {
       "config": {
        "plotlyServerURL": "https://plot.ly"
       },
       "data": [
        {
         "marker": {
          "color": "green"
         },
         "name": "Emergencies (norm)",
         "type": "bar",
         "x": [
          "Boeing 737 NG",
          "Airbus A320",
          "Airbus A319",
          "Boeing 777",
          "Boeing 767",
          "Airbus A321",
          "Embraer ERJ170",
          "Airbus A330",
          "Boeing 757",
          "Boeing 787",
          "Boeing 747",
          "Canadair CRJ 900",
          "Airbus A300",
          "Canadair CRJ 100",
          "Bombardier DHC-8",
          "McDonnell Douglas MD-11",
          "Embraer ERJ145",
          "Airbus A380",
          "Boeing 737 Classic",
          "Sukhoi Superjet 100",
          "Airbus A220",
          "Boeing 717",
          "Airbus A340",
          "Airbus A350",
          "McDonnell Douglas MD-90",
          "Embraer ERJ190",
          "ATR 72",
          "BAe Avro RJ",
          "Airubs A318",
          "Embraer ERJ135",
          "Boeing 737 Original",
          "Canadair CRJ 700",
          "Canadair CRJ",
          "Fokker 100",
          "Airbus A320 NEO",
          "McDonnell Douglas MD-88",
          "Boeing 727",
          "Embraer ERJ140"
         ],
         "y": [
          0.247244094488189,
          0.15590551181102363,
          0.06929133858267716,
          0.05669291338582677,
          0.05669291338582677,
          0.05511811023622047,
          0.05196850393700787,
          0.050393700787401574,
          0.03937007874015748,
          0.03937007874015748,
          0.026771653543307086,
          0.023622047244094488,
          0.015748031496062992,
          0.012598425196850394,
          0.012598425196850394,
          0.011023622047244094,
          0.009448818897637795,
          0.007874015748031496,
          0.007874015748031496,
          0.004724409448818898,
          0.004724409448818898,
          0.004724409448818898,
          0.004724409448818898,
          0.0031496062992125984,
          0.0031496062992125984,
          0.0031496062992125984,
          0.0031496062992125984,
          0.0031496062992125984,
          0.0015748031496062992,
          0.0015748031496062992,
          0.0015748031496062992,
          0.0015748031496062992,
          0.0015748031496062992,
          0.0015748031496062992,
          0.0015748031496062992,
          0.0015748031496062992,
          0.0015748031496062992,
          0.0015748031496062992
         ]
        },
        {
         "hovertext": [
          "Boeing 737 NG",
          "Airbus A320",
          "Airbus A319",
          "Boeing 767",
          "Boeing 777",
          "Embraer ERJ170",
          "Boeing 757",
          "Boeing 787",
          "Airbus A321",
          "Airbus A330",
          "Airbus A300",
          "Bombardier DHC-8",
          "Boeing 737 Classic",
          "Boeing 747",
          "Canadair CRJ 100",
          "McDonnell Douglas MD-11",
          "Canadair CRJ 900",
          "Sukhoi Superjet 100",
          "Airbus A380",
          "Embraer ERJ145",
          "Airbus A340",
          "Boeing 727",
          "BAe Avro RJ",
          "Embraer ERJ135",
          "ATR 72"
         ],
         "marker": {
          "color": "red"
         },
         "name": "Diversions (norm)",
         "type": "bar",
         "x": [
          "Boeing 737 NG",
          "Airbus A320",
          "Airbus A319",
          "Boeing 767",
          "Boeing 777",
          "Embraer ERJ170",
          "Boeing 757",
          "Boeing 787",
          "Airbus A321",
          "Airbus A330",
          "Airbus A300",
          "Bombardier DHC-8",
          "Boeing 737 Classic",
          "Boeing 747",
          "Canadair CRJ 100",
          "McDonnell Douglas MD-11",
          "Canadair CRJ 900",
          "Sukhoi Superjet 100",
          "Airbus A380",
          "Embraer ERJ145",
          "Airbus A340",
          "Boeing 727",
          "BAe Avro RJ",
          "Embraer ERJ135",
          "ATR 72"
         ],
         "y": [
          0.2087378640776699,
          0.15048543689320387,
          0.08737864077669903,
          0.07766990291262135,
          0.05825242718446602,
          0.05339805825242718,
          0.043689320388349516,
          0.038834951456310676,
          0.038834951456310676,
          0.038834951456310676,
          0.02912621359223301,
          0.024271844660194174,
          0.024271844660194174,
          0.014563106796116505,
          0.014563106796116505,
          0.014563106796116505,
          0.014563106796116505,
          0.014563106796116505,
          0.014563106796116505,
          0.009708737864077669,
          0.009708737864077669,
          0.0048543689320388345,
          0.0048543689320388345,
          0.0048543689320388345,
          0.0048543689320388345
         ]
        },
        {
         "marker": {
          "color": "blue"
         },
         "name": "Production (norm)",
         "type": "bar",
         "x": [
          "Boeing 737 NG",
          "Airbus A320",
          "Airbus A320 NEO",
          "Boeing 737 Classic",
          "Canadair CRJ",
          "Boeing 727",
          "Airbus A321",
          "Boeing 777",
          "Airbus A330",
          "Boeing 747",
          "Airbus A319",
          "Boeing 767",
          "Bombardier DHC-8",
          "ATR 72",
          "Boeing 737 Original",
          "Boeing 787",
          "Embraer ERJ145",
          "Boeing 757",
          "Airbus A350",
          "Airbus A300",
          "Embraer ERJ190",
          "Canadair CRJ 900",
          "BAe Avro RJ",
          "Airbus A340",
          "Airbus A220",
          "Canadair CRJ 700",
          "Fokker 100",
          "Airbus A380",
          "Canadair CRJ 100",
          "Sukhoi Superjet 100",
          "McDonnell Douglas MD-11",
          "Embraer ERJ170",
          "Boeing 717",
          "McDonnell Douglas MD-88",
          "Embraer ERJ135",
          "McDonnell Douglas MD-90",
          "Airbus A318",
          "Embraer ERJ140"
         ],
         "y": [
          0.16074645480160746,
          0.1097510277610975,
          0.08330638828583306,
          0.04591436094045914,
          0.04503672225045037,
          0.04231142316042311,
          0.04120282692041203,
          0.040140422190401405,
          0.037299644325373,
          0.036352718370363524,
          0.03427410042034274,
          0.030463300845304634,
          0.029054459790290546,
          0.02847706591528477,
          0.0265601182502656,
          0.0265601182502656,
          0.025405330500254054,
          0.024250542750242507,
          0.014388655365143886,
          0.012956718555129566,
          0.012933622800129337,
          0.011547877500115478,
          0.00893805718508938,
          0.008776386900087764,
          0.008476142085084761,
          0.007621599150076216,
          0.006536098665065361,
          0.005797034505057971,
          0.005219640630052196,
          0.0046191510000461915,
          0.0046191510000461915,
          0.004388193450043882,
          0.0036029377800360293,
          0.003464363250034644,
          0.0027714906000277147,
          0.002679107580026791,
          0.0018476604000184766,
          0.0017090858700170909
         ]
        }
       ],
       "layout": {
        "height": 800,
        "paper_bgcolor": "rgb(254, 246, 224)",
        "template": {
         "data": {
          "bar": [
           {
            "error_x": {
             "color": "#2a3f5f"
            },
            "error_y": {
             "color": "#2a3f5f"
            },
            "marker": {
             "line": {
              "color": "#E5ECF6",
              "width": 0.5
             },
             "pattern": {
              "fillmode": "overlay",
              "size": 10,
              "solidity": 0.2
             }
            },
            "type": "bar"
           }
          ],
          "barpolar": [
           {
            "marker": {
             "line": {
              "color": "#E5ECF6",
              "width": 0.5
             },
             "pattern": {
              "fillmode": "overlay",
              "size": 10,
              "solidity": 0.2
             }
            },
            "type": "barpolar"
           }
          ],
          "carpet": [
           {
            "aaxis": {
             "endlinecolor": "#2a3f5f",
             "gridcolor": "white",
             "linecolor": "white",
             "minorgridcolor": "white",
             "startlinecolor": "#2a3f5f"
            },
            "baxis": {
             "endlinecolor": "#2a3f5f",
             "gridcolor": "white",
             "linecolor": "white",
             "minorgridcolor": "white",
             "startlinecolor": "#2a3f5f"
            },
            "type": "carpet"
           }
          ],
          "choropleth": [
           {
            "colorbar": {
             "outlinewidth": 0,
             "ticks": ""
            },
            "type": "choropleth"
           }
          ],
          "contour": [
           {
            "colorbar": {
             "outlinewidth": 0,
             "ticks": ""
            },
            "colorscale": [
             [
              0,
              "#0d0887"
             ],
             [
              0.1111111111111111,
              "#46039f"
             ],
             [
              0.2222222222222222,
              "#7201a8"
             ],
             [
              0.3333333333333333,
              "#9c179e"
             ],
             [
              0.4444444444444444,
              "#bd3786"
             ],
             [
              0.5555555555555556,
              "#d8576b"
             ],
             [
              0.6666666666666666,
              "#ed7953"
             ],
             [
              0.7777777777777778,
              "#fb9f3a"
             ],
             [
              0.8888888888888888,
              "#fdca26"
             ],
             [
              1,
              "#f0f921"
             ]
            ],
            "type": "contour"
           }
          ],
          "contourcarpet": [
           {
            "colorbar": {
             "outlinewidth": 0,
             "ticks": ""
            },
            "type": "contourcarpet"
           }
          ],
          "heatmap": [
           {
            "colorbar": {
             "outlinewidth": 0,
             "ticks": ""
            },
            "colorscale": [
             [
              0,
              "#0d0887"
             ],
             [
              0.1111111111111111,
              "#46039f"
             ],
             [
              0.2222222222222222,
              "#7201a8"
             ],
             [
              0.3333333333333333,
              "#9c179e"
             ],
             [
              0.4444444444444444,
              "#bd3786"
             ],
             [
              0.5555555555555556,
              "#d8576b"
             ],
             [
              0.6666666666666666,
              "#ed7953"
             ],
             [
              0.7777777777777778,
              "#fb9f3a"
             ],
             [
              0.8888888888888888,
              "#fdca26"
             ],
             [
              1,
              "#f0f921"
             ]
            ],
            "type": "heatmap"
           }
          ],
          "heatmapgl": [
           {
            "colorbar": {
             "outlinewidth": 0,
             "ticks": ""
            },
            "colorscale": [
             [
              0,
              "#0d0887"
             ],
             [
              0.1111111111111111,
              "#46039f"
             ],
             [
              0.2222222222222222,
              "#7201a8"
             ],
             [
              0.3333333333333333,
              "#9c179e"
             ],
             [
              0.4444444444444444,
              "#bd3786"
             ],
             [
              0.5555555555555556,
              "#d8576b"
             ],
             [
              0.6666666666666666,
              "#ed7953"
             ],
             [
              0.7777777777777778,
              "#fb9f3a"
             ],
             [
              0.8888888888888888,
              "#fdca26"
             ],
             [
              1,
              "#f0f921"
             ]
            ],
            "type": "heatmapgl"
           }
          ],
          "histogram": [
           {
            "marker": {
             "pattern": {
              "fillmode": "overlay",
              "size": 10,
              "solidity": 0.2
             }
            },
            "type": "histogram"
           }
          ],
          "histogram2d": [
           {
            "colorbar": {
             "outlinewidth": 0,
             "ticks": ""
            },
            "colorscale": [
             [
              0,
              "#0d0887"
             ],
             [
              0.1111111111111111,
              "#46039f"
             ],
             [
              0.2222222222222222,
              "#7201a8"
             ],
             [
              0.3333333333333333,
              "#9c179e"
             ],
             [
              0.4444444444444444,
              "#bd3786"
             ],
             [
              0.5555555555555556,
              "#d8576b"
             ],
             [
              0.6666666666666666,
              "#ed7953"
             ],
             [
              0.7777777777777778,
              "#fb9f3a"
             ],
             [
              0.8888888888888888,
              "#fdca26"
             ],
             [
              1,
              "#f0f921"
             ]
            ],
            "type": "histogram2d"
           }
          ],
          "histogram2dcontour": [
           {
            "colorbar": {
             "outlinewidth": 0,
             "ticks": ""
            },
            "colorscale": [
             [
              0,
              "#0d0887"
             ],
             [
              0.1111111111111111,
              "#46039f"
             ],
             [
              0.2222222222222222,
              "#7201a8"
             ],
             [
              0.3333333333333333,
              "#9c179e"
             ],
             [
              0.4444444444444444,
              "#bd3786"
             ],
             [
              0.5555555555555556,
              "#d8576b"
             ],
             [
              0.6666666666666666,
              "#ed7953"
             ],
             [
              0.7777777777777778,
              "#fb9f3a"
             ],
             [
              0.8888888888888888,
              "#fdca26"
             ],
             [
              1,
              "#f0f921"
             ]
            ],
            "type": "histogram2dcontour"
           }
          ],
          "mesh3d": [
           {
            "colorbar": {
             "outlinewidth": 0,
             "ticks": ""
            },
            "type": "mesh3d"
           }
          ],
          "parcoords": [
           {
            "line": {
             "colorbar": {
              "outlinewidth": 0,
              "ticks": ""
             }
            },
            "type": "parcoords"
           }
          ],
          "pie": [
           {
            "automargin": true,
            "type": "pie"
           }
          ],
          "scatter": [
           {
            "fillpattern": {
             "fillmode": "overlay",
             "size": 10,
             "solidity": 0.2
            },
            "type": "scatter"
           }
          ],
          "scatter3d": [
           {
            "line": {
             "colorbar": {
              "outlinewidth": 0,
              "ticks": ""
             }
            },
            "marker": {
             "colorbar": {
              "outlinewidth": 0,
              "ticks": ""
             }
            },
            "type": "scatter3d"
           }
          ],
          "scattercarpet": [
           {
            "marker": {
             "colorbar": {
              "outlinewidth": 0,
              "ticks": ""
             }
            },
            "type": "scattercarpet"
           }
          ],
          "scattergeo": [
           {
            "marker": {
             "colorbar": {
              "outlinewidth": 0,
              "ticks": ""
             }
            },
            "type": "scattergeo"
           }
          ],
          "scattergl": [
           {
            "marker": {
             "colorbar": {
              "outlinewidth": 0,
              "ticks": ""
             }
            },
            "type": "scattergl"
           }
          ],
          "scattermapbox": [
           {
            "marker": {
             "colorbar": {
              "outlinewidth": 0,
              "ticks": ""
             }
            },
            "type": "scattermapbox"
           }
          ],
          "scatterpolar": [
           {
            "marker": {
             "colorbar": {
              "outlinewidth": 0,
              "ticks": ""
             }
            },
            "type": "scatterpolar"
           }
          ],
          "scatterpolargl": [
           {
            "marker": {
             "colorbar": {
              "outlinewidth": 0,
              "ticks": ""
             }
            },
            "type": "scatterpolargl"
           }
          ],
          "scatterternary": [
           {
            "marker": {
             "colorbar": {
              "outlinewidth": 0,
              "ticks": ""
             }
            },
            "type": "scatterternary"
           }
          ],
          "surface": [
           {
            "colorbar": {
             "outlinewidth": 0,
             "ticks": ""
            },
            "colorscale": [
             [
              0,
              "#0d0887"
             ],
             [
              0.1111111111111111,
              "#46039f"
             ],
             [
              0.2222222222222222,
              "#7201a8"
             ],
             [
              0.3333333333333333,
              "#9c179e"
             ],
             [
              0.4444444444444444,
              "#bd3786"
             ],
             [
              0.5555555555555556,
              "#d8576b"
             ],
             [
              0.6666666666666666,
              "#ed7953"
             ],
             [
              0.7777777777777778,
              "#fb9f3a"
             ],
             [
              0.8888888888888888,
              "#fdca26"
             ],
             [
              1,
              "#f0f921"
             ]
            ],
            "type": "surface"
           }
          ],
          "table": [
           {
            "cells": {
             "fill": {
              "color": "#EBF0F8"
             },
             "line": {
              "color": "white"
             }
            },
            "header": {
             "fill": {
              "color": "#C8D4E3"
             },
             "line": {
              "color": "white"
             }
            },
            "type": "table"
           }
          ]
         },
         "layout": {
          "annotationdefaults": {
           "arrowcolor": "#2a3f5f",
           "arrowhead": 0,
           "arrowwidth": 1
          },
          "autotypenumbers": "strict",
          "coloraxis": {
           "colorbar": {
            "outlinewidth": 0,
            "ticks": ""
           }
          },
          "colorscale": {
           "diverging": [
            [
             0,
             "#8e0152"
            ],
            [
             0.1,
             "#c51b7d"
            ],
            [
             0.2,
             "#de77ae"
            ],
            [
             0.3,
             "#f1b6da"
            ],
            [
             0.4,
             "#fde0ef"
            ],
            [
             0.5,
             "#f7f7f7"
            ],
            [
             0.6,
             "#e6f5d0"
            ],
            [
             0.7,
             "#b8e186"
            ],
            [
             0.8,
             "#7fbc41"
            ],
            [
             0.9,
             "#4d9221"
            ],
            [
             1,
             "#276419"
            ]
           ],
           "sequential": [
            [
             0,
             "#0d0887"
            ],
            [
             0.1111111111111111,
             "#46039f"
            ],
            [
             0.2222222222222222,
             "#7201a8"
            ],
            [
             0.3333333333333333,
             "#9c179e"
            ],
            [
             0.4444444444444444,
             "#bd3786"
            ],
            [
             0.5555555555555556,
             "#d8576b"
            ],
            [
             0.6666666666666666,
             "#ed7953"
            ],
            [
             0.7777777777777778,
             "#fb9f3a"
            ],
            [
             0.8888888888888888,
             "#fdca26"
            ],
            [
             1,
             "#f0f921"
            ]
           ],
           "sequentialminus": [
            [
             0,
             "#0d0887"
            ],
            [
             0.1111111111111111,
             "#46039f"
            ],
            [
             0.2222222222222222,
             "#7201a8"
            ],
            [
             0.3333333333333333,
             "#9c179e"
            ],
            [
             0.4444444444444444,
             "#bd3786"
            ],
            [
             0.5555555555555556,
             "#d8576b"
            ],
            [
             0.6666666666666666,
             "#ed7953"
            ],
            [
             0.7777777777777778,
             "#fb9f3a"
            ],
            [
             0.8888888888888888,
             "#fdca26"
            ],
            [
             1,
             "#f0f921"
            ]
           ]
          },
          "colorway": [
           "#636efa",
           "#EF553B",
           "#00cc96",
           "#ab63fa",
           "#FFA15A",
           "#19d3f3",
           "#FF6692",
           "#B6E880",
           "#FF97FF",
           "#FECB52"
          ],
          "font": {
           "color": "#2a3f5f"
          },
          "geo": {
           "bgcolor": "white",
           "lakecolor": "white",
           "landcolor": "#E5ECF6",
           "showlakes": true,
           "showland": true,
           "subunitcolor": "white"
          },
          "hoverlabel": {
           "align": "left"
          },
          "hovermode": "closest",
          "mapbox": {
           "style": "light"
          },
          "paper_bgcolor": "white",
          "plot_bgcolor": "#E5ECF6",
          "polar": {
           "angularaxis": {
            "gridcolor": "white",
            "linecolor": "white",
            "ticks": ""
           },
           "bgcolor": "#E5ECF6",
           "radialaxis": {
            "gridcolor": "white",
            "linecolor": "white",
            "ticks": ""
           }
          },
          "scene": {
           "xaxis": {
            "backgroundcolor": "#E5ECF6",
            "gridcolor": "white",
            "gridwidth": 2,
            "linecolor": "white",
            "showbackground": true,
            "ticks": "",
            "zerolinecolor": "white"
           },
           "yaxis": {
            "backgroundcolor": "#E5ECF6",
            "gridcolor": "white",
            "gridwidth": 2,
            "linecolor": "white",
            "showbackground": true,
            "ticks": "",
            "zerolinecolor": "white"
           },
           "zaxis": {
            "backgroundcolor": "#E5ECF6",
            "gridcolor": "white",
            "gridwidth": 2,
            "linecolor": "white",
            "showbackground": true,
            "ticks": "",
            "zerolinecolor": "white"
           }
          },
          "shapedefaults": {
           "line": {
            "color": "#2a3f5f"
           }
          },
          "ternary": {
           "aaxis": {
            "gridcolor": "white",
            "linecolor": "white",
            "ticks": ""
           },
           "baxis": {
            "gridcolor": "white",
            "linecolor": "white",
            "ticks": ""
           },
           "bgcolor": "#E5ECF6",
           "caxis": {
            "gridcolor": "white",
            "linecolor": "white",
            "ticks": ""
           }
          },
          "title": {
           "x": 0.05
          },
          "xaxis": {
           "automargin": true,
           "gridcolor": "white",
           "linecolor": "white",
           "ticks": "",
           "title": {
            "standoff": 15
           },
           "zerolinecolor": "white",
           "zerolinewidth": 2
          },
          "yaxis": {
           "automargin": true,
           "gridcolor": "white",
           "linecolor": "white",
           "ticks": "",
           "title": {
            "standoff": 15
           },
           "zerolinecolor": "white",
           "zerolinewidth": 2
          }
         }
        },
        "title": {
         "font": {
          "size": 24
         },
         "text": "In-Flight Emergencies vs Diversions vs Production"
        },
        "width": 1400,
        "xaxis": {
         "tickangle": 60,
         "title": {
          "text": "Aircraft Model Family"
         }
        },
        "yaxis": {
         "title": {
          "text": "Normalized Frequency"
         }
        }
       }
      }
     },
     "metadata": {},
     "output_type": "display_data"
    }
   ],
   "source": [
    "fig_squawk_prod = go.Figure(data=[\n",
    "    go.Bar(x=type_name_frequency.index, y=type_name_frequency.values/type_name_frequency.values.sum(), name=\"Emergencies (norm)\", marker_color=\"green\"),\n",
    "    go.Bar(x=diverted_type_df['productionLine'], y=diverted_type_df['diversions']/diverted_type_df['diversions'].sum(), name=\"Diversions (norm)\",hovertext=diverted_type_df['productionLine'], marker_color=\"red\"),\n",
    "    go.Bar(x=df_production['model_family'], y=df_production['total_produced_norm'], name=\"Production (norm)\", marker_color=\"blue\"),\n",
    "])\n",
    "\n",
    "fig_squawk_prod.update_layout(\n",
    "    title={'text': \"In-Flight Emergencies vs Diversions vs Production\", 'font': {\"size\": 24}},\n",
    "    xaxis_title=\"Aircraft Model Family\",\n",
    "    yaxis_title=\"Normalized Frequency\",\n",
    "    width=1400, \n",
    "    height=800,\n",
    "    paper_bgcolor='rgb(254, 246, 224)'\n",
    "\n",
    ")\n",
    "\n",
    "fig_squawk_prod.update_xaxes(tickangle=60)"
   ]
  },
  {
   "cell_type": "code",
   "execution_count": 216,
   "metadata": {},
   "outputs": [
    {
     "data": {
      "application/vnd.plotly.v1+json": {
       "config": {
        "plotlyServerURL": "https://plot.ly"
       },
       "data": [
        {
         "marker": {
          "color": "blue"
         },
         "name": "Production (norm)",
         "type": "bar",
         "x": [
          "Boeing 737 NG",
          "Airbus A320",
          "Airbus A320 NEO",
          "Boeing 737 Classic",
          "Canadair CRJ",
          "Boeing 727",
          "Airbus A321",
          "Boeing 777",
          "Airbus A330",
          "Boeing 747",
          "Airbus A319",
          "Boeing 767",
          "Bombardier DHC-8",
          "ATR 72",
          "Boeing 737 Original",
          "Boeing 787",
          "Embraer ERJ145",
          "Boeing 757",
          "Airbus A350",
          "Airbus A300",
          "Embraer ERJ190",
          "Canadair CRJ 900",
          "BAe Avro RJ",
          "Airbus A340",
          "Airbus A220",
          "Canadair CRJ 700",
          "Fokker 100",
          "Airbus A380",
          "Canadair CRJ 100",
          "Sukhoi Superjet 100",
          "McDonnell Douglas MD-11",
          "Embraer ERJ170",
          "Boeing 717",
          "McDonnell Douglas MD-88",
          "Embraer ERJ135",
          "McDonnell Douglas MD-90",
          "Airbus A318",
          "Embraer ERJ140"
         ],
         "y": [
          0.16074645480160746,
          0.1097510277610975,
          0.08330638828583306,
          0.04591436094045914,
          0.04503672225045037,
          0.04231142316042311,
          0.04120282692041203,
          0.040140422190401405,
          0.037299644325373,
          0.036352718370363524,
          0.03427410042034274,
          0.030463300845304634,
          0.029054459790290546,
          0.02847706591528477,
          0.0265601182502656,
          0.0265601182502656,
          0.025405330500254054,
          0.024250542750242507,
          0.014388655365143886,
          0.012956718555129566,
          0.012933622800129337,
          0.011547877500115478,
          0.00893805718508938,
          0.008776386900087764,
          0.008476142085084761,
          0.007621599150076216,
          0.006536098665065361,
          0.005797034505057971,
          0.005219640630052196,
          0.0046191510000461915,
          0.0046191510000461915,
          0.004388193450043882,
          0.0036029377800360293,
          0.003464363250034644,
          0.0027714906000277147,
          0.002679107580026791,
          0.0018476604000184766,
          0.0017090858700170909
         ]
        },
        {
         "hovertext": [
          "Boeing 737 NG",
          "Airbus A320",
          "Airbus A319",
          "Boeing 767",
          "Boeing 777",
          "Embraer ERJ170",
          "Boeing 757",
          "Boeing 787",
          "Airbus A321",
          "Airbus A330",
          "Airbus A300",
          "Bombardier DHC-8",
          "Boeing 737 Classic",
          "Boeing 747",
          "Canadair CRJ 100",
          "McDonnell Douglas MD-11",
          "Canadair CRJ 900",
          "Sukhoi Superjet 100",
          "Airbus A380",
          "Embraer ERJ145",
          "Airbus A340",
          "Boeing 727",
          "BAe Avro RJ",
          "Embraer ERJ135",
          "ATR 72"
         ],
         "marker": {
          "color": "red"
         },
         "name": "Diversions (norm)",
         "type": "bar",
         "x": [
          "Boeing 737 NG",
          "Airbus A320",
          "Airbus A319",
          "Boeing 767",
          "Boeing 777",
          "Embraer ERJ170",
          "Boeing 757",
          "Boeing 787",
          "Airbus A321",
          "Airbus A330",
          "Airbus A300",
          "Bombardier DHC-8",
          "Boeing 737 Classic",
          "Boeing 747",
          "Canadair CRJ 100",
          "McDonnell Douglas MD-11",
          "Canadair CRJ 900",
          "Sukhoi Superjet 100",
          "Airbus A380",
          "Embraer ERJ145",
          "Airbus A340",
          "Boeing 727",
          "BAe Avro RJ",
          "Embraer ERJ135",
          "ATR 72"
         ],
         "y": [
          0.2087378640776699,
          0.15048543689320387,
          0.08737864077669903,
          0.07766990291262135,
          0.05825242718446602,
          0.05339805825242718,
          0.043689320388349516,
          0.038834951456310676,
          0.038834951456310676,
          0.038834951456310676,
          0.02912621359223301,
          0.024271844660194174,
          0.024271844660194174,
          0.014563106796116505,
          0.014563106796116505,
          0.014563106796116505,
          0.014563106796116505,
          0.014563106796116505,
          0.014563106796116505,
          0.009708737864077669,
          0.009708737864077669,
          0.0048543689320388345,
          0.0048543689320388345,
          0.0048543689320388345,
          0.0048543689320388345
         ]
        }
       ],
       "layout": {
        "template": {
         "data": {
          "bar": [
           {
            "error_x": {
             "color": "#2a3f5f"
            },
            "error_y": {
             "color": "#2a3f5f"
            },
            "marker": {
             "line": {
              "color": "#E5ECF6",
              "width": 0.5
             },
             "pattern": {
              "fillmode": "overlay",
              "size": 10,
              "solidity": 0.2
             }
            },
            "type": "bar"
           }
          ],
          "barpolar": [
           {
            "marker": {
             "line": {
              "color": "#E5ECF6",
              "width": 0.5
             },
             "pattern": {
              "fillmode": "overlay",
              "size": 10,
              "solidity": 0.2
             }
            },
            "type": "barpolar"
           }
          ],
          "carpet": [
           {
            "aaxis": {
             "endlinecolor": "#2a3f5f",
             "gridcolor": "white",
             "linecolor": "white",
             "minorgridcolor": "white",
             "startlinecolor": "#2a3f5f"
            },
            "baxis": {
             "endlinecolor": "#2a3f5f",
             "gridcolor": "white",
             "linecolor": "white",
             "minorgridcolor": "white",
             "startlinecolor": "#2a3f5f"
            },
            "type": "carpet"
           }
          ],
          "choropleth": [
           {
            "colorbar": {
             "outlinewidth": 0,
             "ticks": ""
            },
            "type": "choropleth"
           }
          ],
          "contour": [
           {
            "colorbar": {
             "outlinewidth": 0,
             "ticks": ""
            },
            "colorscale": [
             [
              0,
              "#0d0887"
             ],
             [
              0.1111111111111111,
              "#46039f"
             ],
             [
              0.2222222222222222,
              "#7201a8"
             ],
             [
              0.3333333333333333,
              "#9c179e"
             ],
             [
              0.4444444444444444,
              "#bd3786"
             ],
             [
              0.5555555555555556,
              "#d8576b"
             ],
             [
              0.6666666666666666,
              "#ed7953"
             ],
             [
              0.7777777777777778,
              "#fb9f3a"
             ],
             [
              0.8888888888888888,
              "#fdca26"
             ],
             [
              1,
              "#f0f921"
             ]
            ],
            "type": "contour"
           }
          ],
          "contourcarpet": [
           {
            "colorbar": {
             "outlinewidth": 0,
             "ticks": ""
            },
            "type": "contourcarpet"
           }
          ],
          "heatmap": [
           {
            "colorbar": {
             "outlinewidth": 0,
             "ticks": ""
            },
            "colorscale": [
             [
              0,
              "#0d0887"
             ],
             [
              0.1111111111111111,
              "#46039f"
             ],
             [
              0.2222222222222222,
              "#7201a8"
             ],
             [
              0.3333333333333333,
              "#9c179e"
             ],
             [
              0.4444444444444444,
              "#bd3786"
             ],
             [
              0.5555555555555556,
              "#d8576b"
             ],
             [
              0.6666666666666666,
              "#ed7953"
             ],
             [
              0.7777777777777778,
              "#fb9f3a"
             ],
             [
              0.8888888888888888,
              "#fdca26"
             ],
             [
              1,
              "#f0f921"
             ]
            ],
            "type": "heatmap"
           }
          ],
          "heatmapgl": [
           {
            "colorbar": {
             "outlinewidth": 0,
             "ticks": ""
            },
            "colorscale": [
             [
              0,
              "#0d0887"
             ],
             [
              0.1111111111111111,
              "#46039f"
             ],
             [
              0.2222222222222222,
              "#7201a8"
             ],
             [
              0.3333333333333333,
              "#9c179e"
             ],
             [
              0.4444444444444444,
              "#bd3786"
             ],
             [
              0.5555555555555556,
              "#d8576b"
             ],
             [
              0.6666666666666666,
              "#ed7953"
             ],
             [
              0.7777777777777778,
              "#fb9f3a"
             ],
             [
              0.8888888888888888,
              "#fdca26"
             ],
             [
              1,
              "#f0f921"
             ]
            ],
            "type": "heatmapgl"
           }
          ],
          "histogram": [
           {
            "marker": {
             "pattern": {
              "fillmode": "overlay",
              "size": 10,
              "solidity": 0.2
             }
            },
            "type": "histogram"
           }
          ],
          "histogram2d": [
           {
            "colorbar": {
             "outlinewidth": 0,
             "ticks": ""
            },
            "colorscale": [
             [
              0,
              "#0d0887"
             ],
             [
              0.1111111111111111,
              "#46039f"
             ],
             [
              0.2222222222222222,
              "#7201a8"
             ],
             [
              0.3333333333333333,
              "#9c179e"
             ],
             [
              0.4444444444444444,
              "#bd3786"
             ],
             [
              0.5555555555555556,
              "#d8576b"
             ],
             [
              0.6666666666666666,
              "#ed7953"
             ],
             [
              0.7777777777777778,
              "#fb9f3a"
             ],
             [
              0.8888888888888888,
              "#fdca26"
             ],
             [
              1,
              "#f0f921"
             ]
            ],
            "type": "histogram2d"
           }
          ],
          "histogram2dcontour": [
           {
            "colorbar": {
             "outlinewidth": 0,
             "ticks": ""
            },
            "colorscale": [
             [
              0,
              "#0d0887"
             ],
             [
              0.1111111111111111,
              "#46039f"
             ],
             [
              0.2222222222222222,
              "#7201a8"
             ],
             [
              0.3333333333333333,
              "#9c179e"
             ],
             [
              0.4444444444444444,
              "#bd3786"
             ],
             [
              0.5555555555555556,
              "#d8576b"
             ],
             [
              0.6666666666666666,
              "#ed7953"
             ],
             [
              0.7777777777777778,
              "#fb9f3a"
             ],
             [
              0.8888888888888888,
              "#fdca26"
             ],
             [
              1,
              "#f0f921"
             ]
            ],
            "type": "histogram2dcontour"
           }
          ],
          "mesh3d": [
           {
            "colorbar": {
             "outlinewidth": 0,
             "ticks": ""
            },
            "type": "mesh3d"
           }
          ],
          "parcoords": [
           {
            "line": {
             "colorbar": {
              "outlinewidth": 0,
              "ticks": ""
             }
            },
            "type": "parcoords"
           }
          ],
          "pie": [
           {
            "automargin": true,
            "type": "pie"
           }
          ],
          "scatter": [
           {
            "fillpattern": {
             "fillmode": "overlay",
             "size": 10,
             "solidity": 0.2
            },
            "type": "scatter"
           }
          ],
          "scatter3d": [
           {
            "line": {
             "colorbar": {
              "outlinewidth": 0,
              "ticks": ""
             }
            },
            "marker": {
             "colorbar": {
              "outlinewidth": 0,
              "ticks": ""
             }
            },
            "type": "scatter3d"
           }
          ],
          "scattercarpet": [
           {
            "marker": {
             "colorbar": {
              "outlinewidth": 0,
              "ticks": ""
             }
            },
            "type": "scattercarpet"
           }
          ],
          "scattergeo": [
           {
            "marker": {
             "colorbar": {
              "outlinewidth": 0,
              "ticks": ""
             }
            },
            "type": "scattergeo"
           }
          ],
          "scattergl": [
           {
            "marker": {
             "colorbar": {
              "outlinewidth": 0,
              "ticks": ""
             }
            },
            "type": "scattergl"
           }
          ],
          "scattermapbox": [
           {
            "marker": {
             "colorbar": {
              "outlinewidth": 0,
              "ticks": ""
             }
            },
            "type": "scattermapbox"
           }
          ],
          "scatterpolar": [
           {
            "marker": {
             "colorbar": {
              "outlinewidth": 0,
              "ticks": ""
             }
            },
            "type": "scatterpolar"
           }
          ],
          "scatterpolargl": [
           {
            "marker": {
             "colorbar": {
              "outlinewidth": 0,
              "ticks": ""
             }
            },
            "type": "scatterpolargl"
           }
          ],
          "scatterternary": [
           {
            "marker": {
             "colorbar": {
              "outlinewidth": 0,
              "ticks": ""
             }
            },
            "type": "scatterternary"
           }
          ],
          "surface": [
           {
            "colorbar": {
             "outlinewidth": 0,
             "ticks": ""
            },
            "colorscale": [
             [
              0,
              "#0d0887"
             ],
             [
              0.1111111111111111,
              "#46039f"
             ],
             [
              0.2222222222222222,
              "#7201a8"
             ],
             [
              0.3333333333333333,
              "#9c179e"
             ],
             [
              0.4444444444444444,
              "#bd3786"
             ],
             [
              0.5555555555555556,
              "#d8576b"
             ],
             [
              0.6666666666666666,
              "#ed7953"
             ],
             [
              0.7777777777777778,
              "#fb9f3a"
             ],
             [
              0.8888888888888888,
              "#fdca26"
             ],
             [
              1,
              "#f0f921"
             ]
            ],
            "type": "surface"
           }
          ],
          "table": [
           {
            "cells": {
             "fill": {
              "color": "#EBF0F8"
             },
             "line": {
              "color": "white"
             }
            },
            "header": {
             "fill": {
              "color": "#C8D4E3"
             },
             "line": {
              "color": "white"
             }
            },
            "type": "table"
           }
          ]
         },
         "layout": {
          "annotationdefaults": {
           "arrowcolor": "#2a3f5f",
           "arrowhead": 0,
           "arrowwidth": 1
          },
          "autotypenumbers": "strict",
          "coloraxis": {
           "colorbar": {
            "outlinewidth": 0,
            "ticks": ""
           }
          },
          "colorscale": {
           "diverging": [
            [
             0,
             "#8e0152"
            ],
            [
             0.1,
             "#c51b7d"
            ],
            [
             0.2,
             "#de77ae"
            ],
            [
             0.3,
             "#f1b6da"
            ],
            [
             0.4,
             "#fde0ef"
            ],
            [
             0.5,
             "#f7f7f7"
            ],
            [
             0.6,
             "#e6f5d0"
            ],
            [
             0.7,
             "#b8e186"
            ],
            [
             0.8,
             "#7fbc41"
            ],
            [
             0.9,
             "#4d9221"
            ],
            [
             1,
             "#276419"
            ]
           ],
           "sequential": [
            [
             0,
             "#0d0887"
            ],
            [
             0.1111111111111111,
             "#46039f"
            ],
            [
             0.2222222222222222,
             "#7201a8"
            ],
            [
             0.3333333333333333,
             "#9c179e"
            ],
            [
             0.4444444444444444,
             "#bd3786"
            ],
            [
             0.5555555555555556,
             "#d8576b"
            ],
            [
             0.6666666666666666,
             "#ed7953"
            ],
            [
             0.7777777777777778,
             "#fb9f3a"
            ],
            [
             0.8888888888888888,
             "#fdca26"
            ],
            [
             1,
             "#f0f921"
            ]
           ],
           "sequentialminus": [
            [
             0,
             "#0d0887"
            ],
            [
             0.1111111111111111,
             "#46039f"
            ],
            [
             0.2222222222222222,
             "#7201a8"
            ],
            [
             0.3333333333333333,
             "#9c179e"
            ],
            [
             0.4444444444444444,
             "#bd3786"
            ],
            [
             0.5555555555555556,
             "#d8576b"
            ],
            [
             0.6666666666666666,
             "#ed7953"
            ],
            [
             0.7777777777777778,
             "#fb9f3a"
            ],
            [
             0.8888888888888888,
             "#fdca26"
            ],
            [
             1,
             "#f0f921"
            ]
           ]
          },
          "colorway": [
           "#636efa",
           "#EF553B",
           "#00cc96",
           "#ab63fa",
           "#FFA15A",
           "#19d3f3",
           "#FF6692",
           "#B6E880",
           "#FF97FF",
           "#FECB52"
          ],
          "font": {
           "color": "#2a3f5f"
          },
          "geo": {
           "bgcolor": "white",
           "lakecolor": "white",
           "landcolor": "#E5ECF6",
           "showlakes": true,
           "showland": true,
           "subunitcolor": "white"
          },
          "hoverlabel": {
           "align": "left"
          },
          "hovermode": "closest",
          "mapbox": {
           "style": "light"
          },
          "paper_bgcolor": "white",
          "plot_bgcolor": "#E5ECF6",
          "polar": {
           "angularaxis": {
            "gridcolor": "white",
            "linecolor": "white",
            "ticks": ""
           },
           "bgcolor": "#E5ECF6",
           "radialaxis": {
            "gridcolor": "white",
            "linecolor": "white",
            "ticks": ""
           }
          },
          "scene": {
           "xaxis": {
            "backgroundcolor": "#E5ECF6",
            "gridcolor": "white",
            "gridwidth": 2,
            "linecolor": "white",
            "showbackground": true,
            "ticks": "",
            "zerolinecolor": "white"
           },
           "yaxis": {
            "backgroundcolor": "#E5ECF6",
            "gridcolor": "white",
            "gridwidth": 2,
            "linecolor": "white",
            "showbackground": true,
            "ticks": "",
            "zerolinecolor": "white"
           },
           "zaxis": {
            "backgroundcolor": "#E5ECF6",
            "gridcolor": "white",
            "gridwidth": 2,
            "linecolor": "white",
            "showbackground": true,
            "ticks": "",
            "zerolinecolor": "white"
           }
          },
          "shapedefaults": {
           "line": {
            "color": "#2a3f5f"
           }
          },
          "ternary": {
           "aaxis": {
            "gridcolor": "white",
            "linecolor": "white",
            "ticks": ""
           },
           "baxis": {
            "gridcolor": "white",
            "linecolor": "white",
            "ticks": ""
           },
           "bgcolor": "#E5ECF6",
           "caxis": {
            "gridcolor": "white",
            "linecolor": "white",
            "ticks": ""
           }
          },
          "title": {
           "x": 0.05
          },
          "xaxis": {
           "automargin": true,
           "gridcolor": "white",
           "linecolor": "white",
           "ticks": "",
           "title": {
            "standoff": 15
           },
           "zerolinecolor": "white",
           "zerolinewidth": 2
          },
          "yaxis": {
           "automargin": true,
           "gridcolor": "white",
           "linecolor": "white",
           "ticks": "",
           "title": {
            "standoff": 15
           },
           "zerolinecolor": "white",
           "zerolinewidth": 2
          }
         }
        },
        "title": {
         "font": {
          "size": 24
         },
         "text": "Production vs In-Flight Emergencies"
        },
        "xaxis": {
         "title": {
          "text": "Aircraft Model Family"
         }
        },
        "yaxis": {
         "title": {
          "text": "Normalized Frequency"
         }
        }
       }
      }
     },
     "metadata": {},
     "output_type": "display_data"
    }
   ],
   "source": [
    "fig_div_prod = go.Figure(data=[\n",
    "    go.Bar(x=df_production['model_family'], y=df_production['total_produced_norm'], name=\"Production (norm)\", marker_color=\"blue\"),\n",
    "    go.Bar(x=diverted_type_df['productionLine'], y=diverted_type_df['diversions']/diverted_type_df['diversions'].sum(), name=\"Diversions (norm)\",hovertext=diverted_type_df['productionLine'], marker_color=\"red\")\n",
    "])\n",
    "\n",
    "fig_div_prod.update_layout(\n",
    "    title={'text': \"Production vs In-Flight Emergencies\", 'font': {\"size\": 24}},\n",
    "    xaxis_title=\"Aircraft Model Family\",\n",
    "    yaxis_title=\"Normalized Frequency\"\n",
    ")"
   ]
  },
  {
   "cell_type": "code",
   "execution_count": 232,
   "metadata": {},
   "outputs": [],
   "source": [
    "avg_age_type = df.groupby('productionLine').ageYears.mean().round(decimals=1)"
   ]
  },
  {
   "cell_type": "code",
   "execution_count": 251,
   "metadata": {},
   "outputs": [
    {
     "data": {
      "application/vnd.plotly.v1+json": {
       "config": {
        "plotlyServerURL": "https://plot.ly"
       },
       "data": [
        {
         "marker": {
          "color": "green"
         },
         "name": "Emergencies (norm)",
         "type": "bar",
         "x": [
          "Boeing 737 NG",
          "Airbus A320",
          "Airbus A319",
          "Boeing 777",
          "Boeing 767",
          "Airbus A321",
          "Embraer ERJ170",
          "Airbus A330",
          "Boeing 757",
          "Boeing 787",
          "Boeing 747",
          "Canadair CRJ 900",
          "Airbus A300",
          "Canadair CRJ 100",
          "Bombardier DHC-8",
          "McDonnell Douglas MD-11",
          "Embraer ERJ145",
          "Airbus A380",
          "Boeing 737 Classic",
          "Sukhoi Superjet 100",
          "Airbus A220",
          "Boeing 717",
          "Airbus A340",
          "Airbus A350",
          "McDonnell Douglas MD-90",
          "Embraer ERJ190",
          "ATR 72",
          "BAe Avro RJ",
          "Airubs A318",
          "Embraer ERJ135",
          "Boeing 737 Original",
          "Canadair CRJ 700",
          "Canadair CRJ",
          "Fokker 100",
          "Airbus A320 NEO",
          "McDonnell Douglas MD-88",
          "Boeing 727",
          "Embraer ERJ140"
         ],
         "y": [
          0.247244094488189,
          0.15590551181102363,
          0.06929133858267716,
          0.05669291338582677,
          0.05669291338582677,
          0.05511811023622047,
          0.05196850393700787,
          0.050393700787401574,
          0.03937007874015748,
          0.03937007874015748,
          0.026771653543307086,
          0.023622047244094488,
          0.015748031496062992,
          0.012598425196850394,
          0.012598425196850394,
          0.011023622047244094,
          0.009448818897637795,
          0.007874015748031496,
          0.007874015748031496,
          0.004724409448818898,
          0.004724409448818898,
          0.004724409448818898,
          0.004724409448818898,
          0.0031496062992125984,
          0.0031496062992125984,
          0.0031496062992125984,
          0.0031496062992125984,
          0.0031496062992125984,
          0.0015748031496062992,
          0.0015748031496062992,
          0.0015748031496062992,
          0.0015748031496062992,
          0.0015748031496062992,
          0.0015748031496062992,
          0.0015748031496062992,
          0.0015748031496062992,
          0.0015748031496062992,
          0.0015748031496062992
         ]
        },
        {
         "marker": {
          "color": "blue"
         },
         "name": "Production (norm)",
         "type": "bar",
         "x": [
          "Boeing 737 NG",
          "Airbus A320",
          "Airbus A320 NEO",
          "Boeing 737 Classic",
          "Canadair CRJ",
          "Boeing 727",
          "Airbus A321",
          "Boeing 777",
          "Airbus A330",
          "Boeing 747",
          "Airbus A319",
          "Boeing 767",
          "Bombardier DHC-8",
          "ATR 72",
          "Boeing 737 Original",
          "Boeing 787",
          "Embraer ERJ145",
          "Boeing 757",
          "Airbus A350",
          "Airbus A300",
          "Embraer ERJ190",
          "Canadair CRJ 900",
          "BAe Avro RJ",
          "Airbus A340",
          "Airbus A220",
          "Canadair CRJ 700",
          "Fokker 100",
          "Airbus A380",
          "Canadair CRJ 100",
          "Sukhoi Superjet 100",
          "McDonnell Douglas MD-11",
          "Embraer ERJ170",
          "Boeing 717",
          "McDonnell Douglas MD-88",
          "Embraer ERJ135",
          "McDonnell Douglas MD-90",
          "Airbus A318",
          "Embraer ERJ140"
         ],
         "y": [
          0.16074645480160746,
          0.1097510277610975,
          0.08330638828583306,
          0.04591436094045914,
          0.04503672225045037,
          0.04231142316042311,
          0.04120282692041203,
          0.040140422190401405,
          0.037299644325373,
          0.036352718370363524,
          0.03427410042034274,
          0.030463300845304634,
          0.029054459790290546,
          0.02847706591528477,
          0.0265601182502656,
          0.0265601182502656,
          0.025405330500254054,
          0.024250542750242507,
          0.014388655365143886,
          0.012956718555129566,
          0.012933622800129337,
          0.011547877500115478,
          0.00893805718508938,
          0.008776386900087764,
          0.008476142085084761,
          0.007621599150076216,
          0.006536098665065361,
          0.005797034505057971,
          0.005219640630052196,
          0.0046191510000461915,
          0.0046191510000461915,
          0.004388193450043882,
          0.0036029377800360293,
          0.003464363250034644,
          0.0027714906000277147,
          0.002679107580026791,
          0.0018476604000184766,
          0.0017090858700170909
         ]
        },
        {
         "hovertext": [
          "Boeing 737 NG",
          "Airbus A320",
          "Airbus A319",
          "Boeing 767",
          "Boeing 777",
          "Embraer ERJ170",
          "Boeing 757",
          "Boeing 787",
          "Airbus A321",
          "Airbus A330",
          "Airbus A300",
          "Bombardier DHC-8",
          "Boeing 737 Classic",
          "Boeing 747",
          "Canadair CRJ 100",
          "McDonnell Douglas MD-11",
          "Canadair CRJ 900",
          "Sukhoi Superjet 100",
          "Airbus A380",
          "Embraer ERJ145",
          "Airbus A340",
          "Boeing 727",
          "BAe Avro RJ",
          "Embraer ERJ135",
          "ATR 72"
         ],
         "marker": {
          "color": "#ff7f0e"
         },
         "name": "Age (norm)",
         "type": "bar",
         "x": [
          "ATR 72",
          "Airbus A220",
          "Airbus A300",
          "Airbus A319",
          "Airbus A320",
          "Airbus A320 NEO",
          "Airbus A321",
          "Airbus A330",
          "Airbus A340",
          "Airbus A350",
          "Airbus A380",
          "Airubs A318",
          "BAe Avro RJ",
          "Boeing 717",
          "Boeing 727",
          "Boeing 737 Classic",
          "Boeing 737 NG",
          "Boeing 737 Original",
          "Boeing 747",
          "Boeing 757",
          "Boeing 767",
          "Boeing 777",
          "Boeing 787",
          "Bombardier DHC-8",
          "Canadair CRJ",
          "Canadair CRJ 100",
          "Canadair CRJ 700",
          "Canadair CRJ 900",
          "Embraer ERJ135",
          "Embraer ERJ140",
          "Embraer ERJ145",
          "Embraer ERJ170",
          "Embraer ERJ190",
          "Fokker 100",
          "McDonnell Douglas MD-11",
          "McDonnell Douglas MD-88",
          "McDonnell Douglas MD-90",
          "Sukhoi Superjet 100"
         ],
         "y": [
          0.012448132780082988,
          0.00907676348547718,
          0.03786307053941909,
          0.025933609958506226,
          0.019968879668049794,
          0.007520746887966805,
          0.015819502074688796,
          0.022432572614107887,
          0.029045643153526972,
          0.012188796680497927,
          0.015560165975103736,
          0.02723029045643154,
          0.03423236514522822,
          0.03137966804979253,
          0.02282157676348548,
          0.0412344398340249,
          0.019968879668049794,
          0.059128630705394196,
          0.028397302904564315,
          0.03708506224066391,
          0.032935684647302906,
          0.02398858921161826,
          0.011670124481327801,
          0.02476659751037345,
          0.02735995850622407,
          0.02878630705394191,
          0.028656639004149383,
          0.018542531120331954,
          0.02982365145228216,
          0.0274896265560166,
          0.028267634854771788,
          0.013874481327800831,
          0.019320539419087138,
          0.03967842323651453,
          0.04071576763485477,
          0.04888485477178424,
          0.033195020746887974,
          0.012707468879668051
         ]
        }
       ],
       "layout": {
        "height": 800,
        "template": {
         "data": {
          "bar": [
           {
            "error_x": {
             "color": "#2a3f5f"
            },
            "error_y": {
             "color": "#2a3f5f"
            },
            "marker": {
             "line": {
              "color": "#E5ECF6",
              "width": 0.5
             },
             "pattern": {
              "fillmode": "overlay",
              "size": 10,
              "solidity": 0.2
             }
            },
            "type": "bar"
           }
          ],
          "barpolar": [
           {
            "marker": {
             "line": {
              "color": "#E5ECF6",
              "width": 0.5
             },
             "pattern": {
              "fillmode": "overlay",
              "size": 10,
              "solidity": 0.2
             }
            },
            "type": "barpolar"
           }
          ],
          "carpet": [
           {
            "aaxis": {
             "endlinecolor": "#2a3f5f",
             "gridcolor": "white",
             "linecolor": "white",
             "minorgridcolor": "white",
             "startlinecolor": "#2a3f5f"
            },
            "baxis": {
             "endlinecolor": "#2a3f5f",
             "gridcolor": "white",
             "linecolor": "white",
             "minorgridcolor": "white",
             "startlinecolor": "#2a3f5f"
            },
            "type": "carpet"
           }
          ],
          "choropleth": [
           {
            "colorbar": {
             "outlinewidth": 0,
             "ticks": ""
            },
            "type": "choropleth"
           }
          ],
          "contour": [
           {
            "colorbar": {
             "outlinewidth": 0,
             "ticks": ""
            },
            "colorscale": [
             [
              0,
              "#0d0887"
             ],
             [
              0.1111111111111111,
              "#46039f"
             ],
             [
              0.2222222222222222,
              "#7201a8"
             ],
             [
              0.3333333333333333,
              "#9c179e"
             ],
             [
              0.4444444444444444,
              "#bd3786"
             ],
             [
              0.5555555555555556,
              "#d8576b"
             ],
             [
              0.6666666666666666,
              "#ed7953"
             ],
             [
              0.7777777777777778,
              "#fb9f3a"
             ],
             [
              0.8888888888888888,
              "#fdca26"
             ],
             [
              1,
              "#f0f921"
             ]
            ],
            "type": "contour"
           }
          ],
          "contourcarpet": [
           {
            "colorbar": {
             "outlinewidth": 0,
             "ticks": ""
            },
            "type": "contourcarpet"
           }
          ],
          "heatmap": [
           {
            "colorbar": {
             "outlinewidth": 0,
             "ticks": ""
            },
            "colorscale": [
             [
              0,
              "#0d0887"
             ],
             [
              0.1111111111111111,
              "#46039f"
             ],
             [
              0.2222222222222222,
              "#7201a8"
             ],
             [
              0.3333333333333333,
              "#9c179e"
             ],
             [
              0.4444444444444444,
              "#bd3786"
             ],
             [
              0.5555555555555556,
              "#d8576b"
             ],
             [
              0.6666666666666666,
              "#ed7953"
             ],
             [
              0.7777777777777778,
              "#fb9f3a"
             ],
             [
              0.8888888888888888,
              "#fdca26"
             ],
             [
              1,
              "#f0f921"
             ]
            ],
            "type": "heatmap"
           }
          ],
          "heatmapgl": [
           {
            "colorbar": {
             "outlinewidth": 0,
             "ticks": ""
            },
            "colorscale": [
             [
              0,
              "#0d0887"
             ],
             [
              0.1111111111111111,
              "#46039f"
             ],
             [
              0.2222222222222222,
              "#7201a8"
             ],
             [
              0.3333333333333333,
              "#9c179e"
             ],
             [
              0.4444444444444444,
              "#bd3786"
             ],
             [
              0.5555555555555556,
              "#d8576b"
             ],
             [
              0.6666666666666666,
              "#ed7953"
             ],
             [
              0.7777777777777778,
              "#fb9f3a"
             ],
             [
              0.8888888888888888,
              "#fdca26"
             ],
             [
              1,
              "#f0f921"
             ]
            ],
            "type": "heatmapgl"
           }
          ],
          "histogram": [
           {
            "marker": {
             "pattern": {
              "fillmode": "overlay",
              "size": 10,
              "solidity": 0.2
             }
            },
            "type": "histogram"
           }
          ],
          "histogram2d": [
           {
            "colorbar": {
             "outlinewidth": 0,
             "ticks": ""
            },
            "colorscale": [
             [
              0,
              "#0d0887"
             ],
             [
              0.1111111111111111,
              "#46039f"
             ],
             [
              0.2222222222222222,
              "#7201a8"
             ],
             [
              0.3333333333333333,
              "#9c179e"
             ],
             [
              0.4444444444444444,
              "#bd3786"
             ],
             [
              0.5555555555555556,
              "#d8576b"
             ],
             [
              0.6666666666666666,
              "#ed7953"
             ],
             [
              0.7777777777777778,
              "#fb9f3a"
             ],
             [
              0.8888888888888888,
              "#fdca26"
             ],
             [
              1,
              "#f0f921"
             ]
            ],
            "type": "histogram2d"
           }
          ],
          "histogram2dcontour": [
           {
            "colorbar": {
             "outlinewidth": 0,
             "ticks": ""
            },
            "colorscale": [
             [
              0,
              "#0d0887"
             ],
             [
              0.1111111111111111,
              "#46039f"
             ],
             [
              0.2222222222222222,
              "#7201a8"
             ],
             [
              0.3333333333333333,
              "#9c179e"
             ],
             [
              0.4444444444444444,
              "#bd3786"
             ],
             [
              0.5555555555555556,
              "#d8576b"
             ],
             [
              0.6666666666666666,
              "#ed7953"
             ],
             [
              0.7777777777777778,
              "#fb9f3a"
             ],
             [
              0.8888888888888888,
              "#fdca26"
             ],
             [
              1,
              "#f0f921"
             ]
            ],
            "type": "histogram2dcontour"
           }
          ],
          "mesh3d": [
           {
            "colorbar": {
             "outlinewidth": 0,
             "ticks": ""
            },
            "type": "mesh3d"
           }
          ],
          "parcoords": [
           {
            "line": {
             "colorbar": {
              "outlinewidth": 0,
              "ticks": ""
             }
            },
            "type": "parcoords"
           }
          ],
          "pie": [
           {
            "automargin": true,
            "type": "pie"
           }
          ],
          "scatter": [
           {
            "fillpattern": {
             "fillmode": "overlay",
             "size": 10,
             "solidity": 0.2
            },
            "type": "scatter"
           }
          ],
          "scatter3d": [
           {
            "line": {
             "colorbar": {
              "outlinewidth": 0,
              "ticks": ""
             }
            },
            "marker": {
             "colorbar": {
              "outlinewidth": 0,
              "ticks": ""
             }
            },
            "type": "scatter3d"
           }
          ],
          "scattercarpet": [
           {
            "marker": {
             "colorbar": {
              "outlinewidth": 0,
              "ticks": ""
             }
            },
            "type": "scattercarpet"
           }
          ],
          "scattergeo": [
           {
            "marker": {
             "colorbar": {
              "outlinewidth": 0,
              "ticks": ""
             }
            },
            "type": "scattergeo"
           }
          ],
          "scattergl": [
           {
            "marker": {
             "colorbar": {
              "outlinewidth": 0,
              "ticks": ""
             }
            },
            "type": "scattergl"
           }
          ],
          "scattermapbox": [
           {
            "marker": {
             "colorbar": {
              "outlinewidth": 0,
              "ticks": ""
             }
            },
            "type": "scattermapbox"
           }
          ],
          "scatterpolar": [
           {
            "marker": {
             "colorbar": {
              "outlinewidth": 0,
              "ticks": ""
             }
            },
            "type": "scatterpolar"
           }
          ],
          "scatterpolargl": [
           {
            "marker": {
             "colorbar": {
              "outlinewidth": 0,
              "ticks": ""
             }
            },
            "type": "scatterpolargl"
           }
          ],
          "scatterternary": [
           {
            "marker": {
             "colorbar": {
              "outlinewidth": 0,
              "ticks": ""
             }
            },
            "type": "scatterternary"
           }
          ],
          "surface": [
           {
            "colorbar": {
             "outlinewidth": 0,
             "ticks": ""
            },
            "colorscale": [
             [
              0,
              "#0d0887"
             ],
             [
              0.1111111111111111,
              "#46039f"
             ],
             [
              0.2222222222222222,
              "#7201a8"
             ],
             [
              0.3333333333333333,
              "#9c179e"
             ],
             [
              0.4444444444444444,
              "#bd3786"
             ],
             [
              0.5555555555555556,
              "#d8576b"
             ],
             [
              0.6666666666666666,
              "#ed7953"
             ],
             [
              0.7777777777777778,
              "#fb9f3a"
             ],
             [
              0.8888888888888888,
              "#fdca26"
             ],
             [
              1,
              "#f0f921"
             ]
            ],
            "type": "surface"
           }
          ],
          "table": [
           {
            "cells": {
             "fill": {
              "color": "#EBF0F8"
             },
             "line": {
              "color": "white"
             }
            },
            "header": {
             "fill": {
              "color": "#C8D4E3"
             },
             "line": {
              "color": "white"
             }
            },
            "type": "table"
           }
          ]
         },
         "layout": {
          "annotationdefaults": {
           "arrowcolor": "#2a3f5f",
           "arrowhead": 0,
           "arrowwidth": 1
          },
          "autotypenumbers": "strict",
          "coloraxis": {
           "colorbar": {
            "outlinewidth": 0,
            "ticks": ""
           }
          },
          "colorscale": {
           "diverging": [
            [
             0,
             "#8e0152"
            ],
            [
             0.1,
             "#c51b7d"
            ],
            [
             0.2,
             "#de77ae"
            ],
            [
             0.3,
             "#f1b6da"
            ],
            [
             0.4,
             "#fde0ef"
            ],
            [
             0.5,
             "#f7f7f7"
            ],
            [
             0.6,
             "#e6f5d0"
            ],
            [
             0.7,
             "#b8e186"
            ],
            [
             0.8,
             "#7fbc41"
            ],
            [
             0.9,
             "#4d9221"
            ],
            [
             1,
             "#276419"
            ]
           ],
           "sequential": [
            [
             0,
             "#0d0887"
            ],
            [
             0.1111111111111111,
             "#46039f"
            ],
            [
             0.2222222222222222,
             "#7201a8"
            ],
            [
             0.3333333333333333,
             "#9c179e"
            ],
            [
             0.4444444444444444,
             "#bd3786"
            ],
            [
             0.5555555555555556,
             "#d8576b"
            ],
            [
             0.6666666666666666,
             "#ed7953"
            ],
            [
             0.7777777777777778,
             "#fb9f3a"
            ],
            [
             0.8888888888888888,
             "#fdca26"
            ],
            [
             1,
             "#f0f921"
            ]
           ],
           "sequentialminus": [
            [
             0,
             "#0d0887"
            ],
            [
             0.1111111111111111,
             "#46039f"
            ],
            [
             0.2222222222222222,
             "#7201a8"
            ],
            [
             0.3333333333333333,
             "#9c179e"
            ],
            [
             0.4444444444444444,
             "#bd3786"
            ],
            [
             0.5555555555555556,
             "#d8576b"
            ],
            [
             0.6666666666666666,
             "#ed7953"
            ],
            [
             0.7777777777777778,
             "#fb9f3a"
            ],
            [
             0.8888888888888888,
             "#fdca26"
            ],
            [
             1,
             "#f0f921"
            ]
           ]
          },
          "colorway": [
           "#636efa",
           "#EF553B",
           "#00cc96",
           "#ab63fa",
           "#FFA15A",
           "#19d3f3",
           "#FF6692",
           "#B6E880",
           "#FF97FF",
           "#FECB52"
          ],
          "font": {
           "color": "#2a3f5f"
          },
          "geo": {
           "bgcolor": "white",
           "lakecolor": "white",
           "landcolor": "#E5ECF6",
           "showlakes": true,
           "showland": true,
           "subunitcolor": "white"
          },
          "hoverlabel": {
           "align": "left"
          },
          "hovermode": "closest",
          "mapbox": {
           "style": "light"
          },
          "paper_bgcolor": "white",
          "plot_bgcolor": "#E5ECF6",
          "polar": {
           "angularaxis": {
            "gridcolor": "white",
            "linecolor": "white",
            "ticks": ""
           },
           "bgcolor": "#E5ECF6",
           "radialaxis": {
            "gridcolor": "white",
            "linecolor": "white",
            "ticks": ""
           }
          },
          "scene": {
           "xaxis": {
            "backgroundcolor": "#E5ECF6",
            "gridcolor": "white",
            "gridwidth": 2,
            "linecolor": "white",
            "showbackground": true,
            "ticks": "",
            "zerolinecolor": "white"
           },
           "yaxis": {
            "backgroundcolor": "#E5ECF6",
            "gridcolor": "white",
            "gridwidth": 2,
            "linecolor": "white",
            "showbackground": true,
            "ticks": "",
            "zerolinecolor": "white"
           },
           "zaxis": {
            "backgroundcolor": "#E5ECF6",
            "gridcolor": "white",
            "gridwidth": 2,
            "linecolor": "white",
            "showbackground": true,
            "ticks": "",
            "zerolinecolor": "white"
           }
          },
          "shapedefaults": {
           "line": {
            "color": "#2a3f5f"
           }
          },
          "ternary": {
           "aaxis": {
            "gridcolor": "white",
            "linecolor": "white",
            "ticks": ""
           },
           "baxis": {
            "gridcolor": "white",
            "linecolor": "white",
            "ticks": ""
           },
           "bgcolor": "#E5ECF6",
           "caxis": {
            "gridcolor": "white",
            "linecolor": "white",
            "ticks": ""
           }
          },
          "title": {
           "x": 0.05
          },
          "xaxis": {
           "automargin": true,
           "gridcolor": "white",
           "linecolor": "white",
           "ticks": "",
           "title": {
            "standoff": 15
           },
           "zerolinecolor": "white",
           "zerolinewidth": 2
          },
          "yaxis": {
           "automargin": true,
           "gridcolor": "white",
           "linecolor": "white",
           "ticks": "",
           "title": {
            "standoff": 15
           },
           "zerolinecolor": "white",
           "zerolinewidth": 2
          }
         }
        },
        "title": {
         "font": {
          "size": 24
         },
         "text": "SQUAWK - Production - Age"
        },
        "width": 1400,
        "xaxis": {
         "tickangle": 60,
         "title": {
          "text": "Aircraft Model Family"
         }
        },
        "yaxis": {
         "title": {
          "text": "Normalized Frequency"
         }
        }
       }
      }
     },
     "metadata": {},
     "output_type": "display_data"
    }
   ],
   "source": [
    "fig_age_squawk_prod = go.Figure(data=[\n",
    "    go.Bar(x=type_name_frequency.index, y=type_name_frequency.values/type_name_frequency.values.sum(), name=\"Emergencies (norm)\", marker_color=\"green\"),\n",
    "    go.Bar(x=df_production['model_family'], y=df_production['total_produced_norm'], name=\"Production (norm)\", marker_color=\"blue\"),\n",
    "    go.Bar(x=avg_age_type.index, y=avg_age_type.values/avg_age_type.values.sum(), name=\"Age (norm)\",hovertext=diverted_type_df['productionLine'], marker_color='#ff7f0e')\n",
    "])\n",
    "\n",
    "fig_age_squawk_prod.update_layout(\n",
    "    width=1400, \n",
    "    height=800,\n",
    "    title={'text': \"SQUAWK - Production - Age\", 'font': {\"size\": 24}},\n",
    "    xaxis_title=\"Aircraft Model Family\",\n",
    "    yaxis_title=\"Normalized Frequency\"\n",
    ")\n",
    "\n",
    "fig_age_squawk_prod.update_xaxes(tickangle=60)"
   ]
  }
 ],
 "metadata": {
  "kernelspec": {
   "display_name": "VIZ",
   "language": "python",
   "name": "python3"
  },
  "language_info": {
   "codemirror_mode": {
    "name": "ipython",
    "version": 3
   },
   "file_extension": ".py",
   "mimetype": "text/x-python",
   "name": "python",
   "nbconvert_exporter": "python",
   "pygments_lexer": "ipython3",
   "version": "3.10.15"
  }
 },
 "nbformat": 4,
 "nbformat_minor": 2
}
