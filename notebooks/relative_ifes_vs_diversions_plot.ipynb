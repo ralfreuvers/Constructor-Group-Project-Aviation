{
 "cells": [
  {
   "cell_type": "code",
   "execution_count": 1,
   "metadata": {},
   "outputs": [],
   "source": [
    "import requests\n",
    "import pandas as pd \n",
    "import json\n",
    "import plotly.graph_objects as go\n",
    "import numpy as np\n"
   ]
  },
  {
   "cell_type": "markdown",
   "metadata": {},
   "source": [
    "### Relative Squawks vs. Relative Diversions"
   ]
  },
  {
   "cell_type": "code",
   "execution_count": null,
   "metadata": {},
   "outputs": [],
   "source": [
    "df_squawk = pd.read_csv('../data/processed/squawk7700_processed_final_v2.csv')\n",
    "\n",
    "# Data prep frequency of IFE\n",
    "df_ife_diversion = df_squawk.groupby('productionLine').flight_id.count().sort_values(ascending=False).reset_index()\n",
    "df_ife_diversion.columns = ['productionLine','ife_count']\n",
    "df_ife_diversion.head()\n",
    "\n",
    "# Data prep frequency of diversions\n",
    "df_squawk['diverted'] = (~df_squawk['landing'].isna()) & (df_squawk['landing'] != df_squawk['destination']) & (df_squawk['origin'] != df_squawk['destination'])\n",
    "\n",
    "diverted_type_df = df_squawk[df_squawk['diverted']==True].groupby('productionLine').flight_id.count().reset_index()\n",
    "diverted_type_df.rename(columns={'flight_id':'diversion_count'}, inplace=True)\n",
    "diverted_type_df.sort_values(by='diversion_count',ascending=False, inplace=True)\n",
    "\n",
    "# Merge both data preps\n",
    "df_ife_diversion = pd.merge(df_ife_diversion, \n",
    "                            diverted_type_df, \n",
    "                            on='productionLine', \n",
    "                            how='left')\n",
    "\n",
    "# Plot\n",
    "fig = go.Figure(data=[\n",
    "    go.Bar(x=df_ife_diversion['productionLine'], y=df_ife_diversion['ife_count']/df_ife_diversion['ife_count'].sum(), name=\"In Flight Emergency\", marker_color=\"green\"),\n",
    "    go.Bar(x=df_ife_diversion['productionLine'], y=df_ife_diversion['diversion_count']/df_ife_diversion['diversion_count'].sum(), name=\"Diversion\", marker_color=\"red\")\n",
    "])\n",
    "\n",
    "fig.update_layout(\n",
    "    title={'text': \"Normalized Frequencies of IFEs and Diversions\", 'font': {\"size\": 24}},\n",
    "    xaxis_title=\"Aircraft Model Family\",\n",
    "    yaxis_title=\"Normalized Frequencies\",\n",
    ")"
   ]
  },
  {
   "cell_type": "code",
   "execution_count": null,
   "metadata": {},
   "outputs": [],
   "source": []
  }
 ],
 "metadata": {
  "kernelspec": {
   "display_name": "VIZ",
   "language": "python",
   "name": "python3"
  },
  "language_info": {
   "codemirror_mode": {
    "name": "ipython",
    "version": 3
   },
   "file_extension": ".py",
   "mimetype": "text/x-python",
   "name": "python",
   "nbconvert_exporter": "python",
   "pygments_lexer": "ipython3",
   "version": "3.10.15"
  }
 },
 "nbformat": 4,
 "nbformat_minor": 2
}
