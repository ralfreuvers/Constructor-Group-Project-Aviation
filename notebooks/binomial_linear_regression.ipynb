{
 "cells": [
  {
   "cell_type": "code",
   "execution_count": 3,
   "metadata": {},
   "outputs": [],
   "source": [
    "# Import all the necessary packages\n",
    "import pandas as pd\n",
    "import numpy as np\n",
    "\n",
    "import statsmodels.api as sm\n",
    "import scipy.stats as st\n",
    "\n",
    "import matplotlib.pyplot as plt\n",
    "%matplotlib inline\n",
    "from matplotlib import rcParams\n",
    "import seaborn as sns"
   ]
  },
  {
   "cell_type": "code",
   "execution_count": 4,
   "metadata": {},
   "outputs": [],
   "source": [
    "# Plot style & size defaults (OPTIONAL)\n",
    "rcParams['figure.figsize'] = (11.7,8.27)\n",
    "rcParams['axes.labelsize'] = \"x-large\""
   ]
  },
  {
   "cell_type": "code",
   "execution_count": 5,
   "metadata": {},
   "outputs": [],
   "source": [
    "# Helper function for annotating the pair plots w/ corr coefficients.\n",
    "\n",
    "def corr_annot(x, y, ax=None, **kws):\n",
    "    \"\"\"Annotate a plot w/ the correlation coefficient.\"\"\"\n",
    "    r, _ = st.pearsonr(x, y)\n",
    "    ax = ax or plt.gca()\n",
    "    fontsizes = {range(0,21):\"medium\", range(21,51):'large', range(51,81):'x-large', range(90,101):'xx-large'}\n",
    "\n",
    "    if r > 0:\n",
    "        font_size = [fontsize for bound,fontsize in fontsizes.items() if round(abs(r), 1)*100 in bound][0]\n",
    "        ax.annotate(f'ρ = {r:.2f}', xy=(.1, .9), xycoords=ax.transAxes, fontsize = font_size)"
   ]
  },
  {
   "cell_type": "markdown",
   "metadata": {},
   "source": [
    "### Read in the dataset and take a look at variable relations"
   ]
  },
  {
   "cell_type": "code",
   "execution_count": null,
   "metadata": {},
   "outputs": [],
   "source": [
    "# Read in the dataset\n",
    "df_squawk_model = pd.read_csv(\"../data/processed/squawk7700_model.csv\")"
   ]
  },
  {
   "cell_type": "code",
   "execution_count": null,
   "metadata": {},
   "outputs": [],
   "source": [
    "# Check the relationships among the explanatory variables\n",
    "\n",
    "g = sns.pairplot(df_squawk_model.drop(columns = 'diversion'), \n",
    "                 kind = \"reg\",\n",
    "                 corner = True,\n",
    "                 plot_kws = {\n",
    "                     'line_kws':{'color':'red'},\n",
    "                     #'logistic':True\n",
    "                     #'lowess':True\n",
    "                     });\n",
    "\n",
    "g.map_lower(corr_annot);"
   ]
  },
  {
   "cell_type": "markdown",
   "metadata": {},
   "source": [
    "### Implement the logit-Binomial GLM model"
   ]
  },
  {
   "cell_type": "code",
   "execution_count": null,
   "metadata": {},
   "outputs": [],
   "source": [
    "y = df_squawk_model['diversion']\n",
    "X = df_squawk_model.drop(columns = 'diversion')\n",
    "\n",
    "# with GLM (generalized linear model)\n",
    "squawk_model_all = sm.GLM(\n",
    "    y,\n",
    "    sm.add_constant(X),\n",
    "    family=sm.families.Binomial(\n",
    "        link=sm.genmod.families.links.Logit()\n",
    "        )\n",
    "    ).fit()\n",
    "\n",
    "print(squawk_model_all.summary())\n",
    "\n",
    "# We can check the AIC to evaluate the model (lower is better)\n",
    "print(\"AIC:\", squawk_model_all.aic)"
   ]
  },
  {
   "cell_type": "code",
   "execution_count": null,
   "metadata": {},
   "outputs": [],
   "source": [
    "with sns.plotting_context(\"notebook\", font_scale=1.5):\n",
    "    sns.regplot(data = df_squawk_model, x = 'engine', y= 'diversion', logistic=True, ci=95);"
   ]
  },
  {
   "cell_type": "markdown",
   "metadata": {},
   "source": [
    "### Generalized Regression Model"
   ]
  },
  {
   "cell_type": "code",
   "execution_count": 6,
   "metadata": {},
   "outputs": [],
   "source": [
    "from IPython.display import clear_output\n",
    "\n",
    "def stepwise_selection(data,\n",
    "                       pred_class,\n",
    "                       initial_list=[], \n",
    "                       aic_step_min = 2, \n",
    "                       #pval_threshold = 0.05, \n",
    "                       verbose=True):\n",
    "    \"\"\" Perform a forward feature selection \n",
    "    based on AIC values from statsmodels.api.GLM.\n",
    "    \"\"\"\n",
    "    \n",
    "    y = data[pred_class]\n",
    "    X = data.drop(columns = pred_class)\n",
    "    included = list(initial_list)\n",
    "    \n",
    "    # Forward step\n",
    "    def forward_step(y, X, included):\n",
    "      old_aic = 0\n",
    "      while True:\n",
    "        changed = False\n",
    "        excluded = list(set(X.columns)-set(included))\n",
    "        new_aic = pd.Series(index=excluded, dtype='float64')\n",
    "        #print(new_aic)\n",
    "        if old_aic==0:\n",
    "            model_old = sm.GLM(y,\n",
    "                            sm.add_constant(X[included]),\n",
    "                                              family=sm.families.Binomial(\n",
    "                                                  link=sm.genmod.families.links.Logit()\n",
    "                                                  )\n",
    "                                              ).fit(method='bfgs',maxiter=1000)\n",
    "            old_aic = model_old.aic\n",
    "        for new_column in excluded:\n",
    "\n",
    "            model = sm.GLM(y,\n",
    "                            sm.add_constant(X[included + [new_column]]),\n",
    "                                              family=sm.families.Binomial(\n",
    "                                                  link=sm.genmod.families.links.Logit()\n",
    "                                                  )\n",
    "                                              ).fit(method='bfgs',maxiter=1000)\n",
    "\n",
    "            new_aic[new_column] = model.aic\n",
    "        best_aic = new_aic.min()\n",
    "        if old_aic-best_aic > aic_step_min and len(new_aic) > 1:\n",
    "            clear_output(wait=True)\n",
    "            best_feature = new_aic.idxmin()\n",
    "            included.append(best_feature)\n",
    "            changed=True\n",
    "            if verbose:\n",
    "                print('Add  {:20} Current  AIC: {:.6}'.format(best_feature, best_aic))\n",
    "            old_aic = best_aic\n",
    "        if not changed:\n",
    "            break\n",
    "      print(\"Best AIC: {:.6}\".format(best_aic))\n",
    "      return (best_aic, included, model)\n",
    "\n",
    "    return forward_step(y, X, included)"
   ]
  },
  {
   "cell_type": "code",
   "execution_count": null,
   "metadata": {},
   "outputs": [],
   "source": [
    "best_aic, features, model = stepwise_selection(df_squawk_model, pred_class = \"diversion\")\n",
    "print(best_aic, features, model.params)"
   ]
  },
  {
   "cell_type": "code",
   "execution_count": null,
   "metadata": {},
   "outputs": [],
   "source": [
    "print(f'Features used in best model (AIC: {best_aic}):')\n",
    "print(features)\n",
    "print(model.summary())\n",
    "print(model.aic)"
   ]
  }
 ],
 "metadata": {
  "kernelspec": {
   "display_name": "STATS",
   "language": "python",
   "name": "python3"
  },
  "language_info": {
   "codemirror_mode": {
    "name": "ipython",
    "version": 3
   },
   "file_extension": ".py",
   "mimetype": "text/x-python",
   "name": "python",
   "nbconvert_exporter": "python",
   "pygments_lexer": "ipython3",
   "version": "3.10.13"
  }
 },
 "nbformat": 4,
 "nbformat_minor": 2
}
