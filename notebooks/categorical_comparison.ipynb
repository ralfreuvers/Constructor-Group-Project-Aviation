{
 "cells": [
  {
   "cell_type": "markdown",
   "metadata": {},
   "source": [
    "---\n",
    "\n",
    "## Recommended Workflow\n",
    "1. **Start with a Chi-Square Test** to assess overall proportionality between emergencies and production.\n",
    "2. **Follow up with Z-tests** or **odds ratios** for individual plane models to identify specific deviations.\n",
    "3. **Visualize results** to effectively communicate findings.\n"
   ]
  },
  {
   "cell_type": "markdown",
   "metadata": {},
   "source": [
    "# Comparing Relative Frequencies: In-Flight Emergencies vs. Production\n",
    "\n",
    "To compare the relative frequencies of in-flight emergencies and production for each plane model, here are some statistically sound approaches:\n",
    "\n"
   ]
  },
  {
   "cell_type": "markdown",
   "metadata": {},
   "source": [
    "---\n",
    "\n",
    "## Recommended Workflow\n",
    "1. **Start with a Chi-Square Test** to assess overall proportionality between emergencies and production.\n",
    "2. **Follow up with Z-tests** or **odds ratios** for individual plane models to identify specific deviations.\n",
    "3. **Visualize results** to effectively communicate findings.\n"
   ]
  },
  {
   "cell_type": "code",
   "execution_count": 206,
   "metadata": {},
   "outputs": [],
   "source": [
    "import requests\n",
    "import pandas as pd \n",
    "import json\n",
    "import plotly.graph_objects as go\n",
    "import numpy as np\n",
    "from scipy.stats import chi2\n",
    "from scipy.stats import chi2_contingency"
   ]
  },
  {
   "cell_type": "code",
   "execution_count": 207,
   "metadata": {},
   "outputs": [],
   "source": [
    "production_dict = {\n",
    "    'ATR 72': 1233,\n",
    "    'Airbus A220': 367,\n",
    "    'Airbus A300': 561,\n",
    "    'Airbus A319': 1484,\n",
    "    'Airbus A320': 4752,\n",
    "    'Airbus A320 NEO': 3607,\n",
    "    'Airbus A321': 1784,\n",
    "    'Airbus A330': 1615,\n",
    "    'Airbus A340': 380,\n",
    "    'Airbus A350': 623,\n",
    "    'Airbus A380': 251,\n",
    "    'Airbus A318': 80,\n",
    "    'BAe Avro RJ': 387,\n",
    "    'Boeing 717': 156,\n",
    "    'Boeing 727': 1832,\n",
    "    'Boeing 737 Classic': 1988,\n",
    "    'Boeing 737 NG': 6960,\n",
    "    'Boeing 737 Original': 1150,\n",
    "    'Boeing 747': 1574,\n",
    "    'Boeing 757': 1050,\n",
    "    'Boeing 767': 1319,\n",
    "    'Boeing 777': 1738,\n",
    "    'Boeing 787': 1150,\n",
    "    'Bombardier DHC-8': 1258,\n",
    "    'Canadair CRJ': 1950,\n",
    "    'Canadair CRJ 100': 226,\n",
    "    'Canadair CRJ 700': 330,\n",
    "    'Canadair CRJ 900': 500,\n",
    "    'Embraer ERJ135': 120,\n",
    "    'Embraer ERJ140': 74,\n",
    "    'Embraer ERJ145': 1100,\n",
    "    'Embraer ERJ170': 190,\n",
    "    'Embraer ERJ190': 560,\n",
    "    'Fokker 100': 283,\n",
    "    'McDonnell Douglas MD-11': 200,\n",
    "    'McDonnell Douglas MD-88': 150,\n",
    "    'McDonnell Douglas MD-90': 116,\n",
    "    'Sukhoi Superjet 100': 200\n",
    "}"
   ]
  },
  {
   "cell_type": "code",
   "execution_count": 208,
   "metadata": {},
   "outputs": [
    {
     "name": "stdout",
     "output_type": "stream",
     "text": [
      "37\n",
      "0.9999999999999999\n",
      "1.0\n"
     ]
    },
    {
     "data": {
      "text/html": [
       "<div>\n",
       "<style scoped>\n",
       "    .dataframe tbody tr th:only-of-type {\n",
       "        vertical-align: middle;\n",
       "    }\n",
       "\n",
       "    .dataframe tbody tr th {\n",
       "        vertical-align: top;\n",
       "    }\n",
       "\n",
       "    .dataframe thead th {\n",
       "        text-align: right;\n",
       "    }\n",
       "</style>\n",
       "<table border=\"1\" class=\"dataframe\">\n",
       "  <thead>\n",
       "    <tr style=\"text-align: right;\">\n",
       "      <th></th>\n",
       "      <th>productionLine</th>\n",
       "      <th>ife_count</th>\n",
       "      <th>production_amt</th>\n",
       "      <th>ife_count_rel</th>\n",
       "      <th>production_amt_rel</th>\n",
       "    </tr>\n",
       "  </thead>\n",
       "  <tbody>\n",
       "    <tr>\n",
       "      <th>0</th>\n",
       "      <td>ATR 72</td>\n",
       "      <td>2</td>\n",
       "      <td>1233.0</td>\n",
       "      <td>0.003155</td>\n",
       "      <td>0.028530</td>\n",
       "    </tr>\n",
       "    <tr>\n",
       "      <th>1</th>\n",
       "      <td>Airbus A220</td>\n",
       "      <td>3</td>\n",
       "      <td>367.0</td>\n",
       "      <td>0.004732</td>\n",
       "      <td>0.008492</td>\n",
       "    </tr>\n",
       "    <tr>\n",
       "      <th>2</th>\n",
       "      <td>Airbus A300</td>\n",
       "      <td>10</td>\n",
       "      <td>561.0</td>\n",
       "      <td>0.015773</td>\n",
       "      <td>0.012981</td>\n",
       "    </tr>\n",
       "    <tr>\n",
       "      <th>3</th>\n",
       "      <td>Airbus A319</td>\n",
       "      <td>44</td>\n",
       "      <td>1484.0</td>\n",
       "      <td>0.069401</td>\n",
       "      <td>0.034338</td>\n",
       "    </tr>\n",
       "    <tr>\n",
       "      <th>4</th>\n",
       "      <td>Airbus A320</td>\n",
       "      <td>99</td>\n",
       "      <td>4752.0</td>\n",
       "      <td>0.156151</td>\n",
       "      <td>0.109954</td>\n",
       "    </tr>\n",
       "  </tbody>\n",
       "</table>\n",
       "</div>"
      ],
      "text/plain": [
       "  productionLine  ife_count  production_amt  ife_count_rel  production_amt_rel\n",
       "0         ATR 72          2          1233.0       0.003155            0.028530\n",
       "1    Airbus A220          3           367.0       0.004732            0.008492\n",
       "2    Airbus A300         10           561.0       0.015773            0.012981\n",
       "3    Airbus A319         44          1484.0       0.069401            0.034338\n",
       "4    Airbus A320         99          4752.0       0.156151            0.109954"
      ]
     },
     "execution_count": 208,
     "metadata": {},
     "output_type": "execute_result"
    }
   ],
   "source": [
    "df_squawk = pd.read_csv('../data/processed/squawk7700_processed_final_v2.csv')\n",
    "\n",
    "# Data prep frequency of IFE\n",
    "df_ife_production = df_squawk.groupby('productionLine').flight_id.count().sort_values(ascending=False).reset_index()\n",
    "df_ife_production.columns = ['productionLine','ife_count']\n",
    "df_ife_production.head()\n",
    "\n",
    "# Data prep frequency of production\n",
    "df_prod = pd.DataFrame({'productionLine' : production_dict.keys(), 'production_amt' : list(production_dict.values())})\n",
    "df_prod.sort_values(by='productionLine', inplace= True)\n",
    "df_prod.reset_index(drop=True, inplace=True)\n",
    "\n",
    "# Merge both data preps and sort by productionLine\n",
    "df_ife_production = pd.merge(df_ife_production, \n",
    "                            df_prod, \n",
    "                            on='productionLine', \n",
    "                            how='left')\n",
    "\n",
    "df_ife_production.sort_values(by='productionLine', inplace= True)\n",
    "df_ife_production.reset_index(drop=True, inplace=True)\n",
    "df_ife_production.dropna(inplace=True)\n",
    "\n",
    "# Relative frequency columns\n",
    "df_ife_production['ife_count_rel'] = df_ife_production['ife_count'].apply(lambda x : x/df_ife_production['ife_count'].sum())\n",
    "df_ife_production['production_amt_rel'] = df_ife_production['production_amt'].apply(lambda x : x/df_ife_production['production_amt'].sum())\n",
    "\n",
    "# Sanity checks\n",
    "print(len(df_ife_production))\n",
    "print(df_ife_production['ife_count_rel'].sum())\n",
    "print(df_ife_production['production_amt_rel'].sum())\n",
    "df_ife_production.head()"
   ]
  },
  {
   "cell_type": "markdown",
   "metadata": {},
   "source": [
    "---\n",
    "\n",
    "## 1. Chi-Square Test for Independence\n",
    "This test checks whether the observed distribution of in-flight emergencies differs from what you'd expect based on production frequencies.\n",
    "\n",
    "- **Null Hypothesis (\\(H_0\\))**: The relative frequency of in-flight emergencies is proportional to the relative frequency of production.\n",
    "\n",
    "### Steps:\n",
    "1. Compute the **expected number of emergencies** for each plane model by multiplying the total number of emergencies by the relative production frequencies.\n",
    "2. Use the formula for the chi-square statistic:\n",
    "   \\[\n",
    "   \\chi^2 = \\sum \\frac{(O_i - E_i)^2}{E_i}\n",
    "   \\]\n",
    "   where:\n",
    "   - \\(O_i\\): Observed number of emergencies for a given model.\n",
    "   - \\(E_i\\): Expected number of emergencies for the same model.\n",
    "3. Compare the calculated statistic with the chi-square distribution to get a p-value.\n",
    "\n",
    "*This approach is ideal if you have raw counts (not just relative frequencies).*"
   ]
  },
  {
   "cell_type": "code",
   "execution_count": 209,
   "metadata": {},
   "outputs": [
    {
     "name": "stdout",
     "output_type": "stream",
     "text": [
      "1.0\n",
      "Chi-square statistic: 634.8298813823012\n",
      "Degrees of freedom: 36\n",
      "P-value: 0.0\n",
      "634.8298813823012\n"
     ]
    },
    {
     "data": {
      "text/html": [
       "<div>\n",
       "<style scoped>\n",
       "    .dataframe tbody tr th:only-of-type {\n",
       "        vertical-align: middle;\n",
       "    }\n",
       "\n",
       "    .dataframe tbody tr th {\n",
       "        vertical-align: top;\n",
       "    }\n",
       "\n",
       "    .dataframe thead th {\n",
       "        text-align: right;\n",
       "    }\n",
       "</style>\n",
       "<table border=\"1\" class=\"dataframe\">\n",
       "  <thead>\n",
       "    <tr style=\"text-align: right;\">\n",
       "      <th></th>\n",
       "      <th>productionLine</th>\n",
       "      <th>ife_count</th>\n",
       "      <th>production_amt</th>\n",
       "      <th>ife_count_rel</th>\n",
       "      <th>production_amt_rel</th>\n",
       "      <th>expected_ife_count</th>\n",
       "      <th>chi_stat_contributor</th>\n",
       "    </tr>\n",
       "  </thead>\n",
       "  <tbody>\n",
       "    <tr>\n",
       "      <th>0</th>\n",
       "      <td>ATR 72</td>\n",
       "      <td>2</td>\n",
       "      <td>1233.0</td>\n",
       "      <td>0.003155</td>\n",
       "      <td>0.028530</td>\n",
       "      <td>18.087880</td>\n",
       "      <td>14.309023</td>\n",
       "    </tr>\n",
       "    <tr>\n",
       "      <th>1</th>\n",
       "      <td>Airbus A220</td>\n",
       "      <td>3</td>\n",
       "      <td>367.0</td>\n",
       "      <td>0.004732</td>\n",
       "      <td>0.008492</td>\n",
       "      <td>5.383822</td>\n",
       "      <td>1.055497</td>\n",
       "    </tr>\n",
       "    <tr>\n",
       "      <th>2</th>\n",
       "      <td>Airbus A300</td>\n",
       "      <td>10</td>\n",
       "      <td>561.0</td>\n",
       "      <td>0.015773</td>\n",
       "      <td>0.012981</td>\n",
       "      <td>8.229765</td>\n",
       "      <td>0.380780</td>\n",
       "    </tr>\n",
       "    <tr>\n",
       "      <th>3</th>\n",
       "      <td>Airbus A319</td>\n",
       "      <td>44</td>\n",
       "      <td>1484.0</td>\n",
       "      <td>0.069401</td>\n",
       "      <td>0.034338</td>\n",
       "      <td>21.770003</td>\n",
       "      <td>22.699710</td>\n",
       "    </tr>\n",
       "    <tr>\n",
       "      <th>4</th>\n",
       "      <td>Airbus A320</td>\n",
       "      <td>99</td>\n",
       "      <td>4752.0</td>\n",
       "      <td>0.156151</td>\n",
       "      <td>0.109954</td>\n",
       "      <td>69.710954</td>\n",
       "      <td>12.305788</td>\n",
       "    </tr>\n",
       "  </tbody>\n",
       "</table>\n",
       "</div>"
      ],
      "text/plain": [
       "  productionLine  ife_count  production_amt  ife_count_rel  \\\n",
       "0         ATR 72          2          1233.0       0.003155   \n",
       "1    Airbus A220          3           367.0       0.004732   \n",
       "2    Airbus A300         10           561.0       0.015773   \n",
       "3    Airbus A319         44          1484.0       0.069401   \n",
       "4    Airbus A320         99          4752.0       0.156151   \n",
       "\n",
       "   production_amt_rel  expected_ife_count  chi_stat_contributor  \n",
       "0            0.028530           18.087880             14.309023  \n",
       "1            0.008492            5.383822              1.055497  \n",
       "2            0.012981            8.229765              0.380780  \n",
       "3            0.034338           21.770003             22.699710  \n",
       "4            0.109954           69.710954             12.305788  "
      ]
     },
     "execution_count": 209,
     "metadata": {},
     "output_type": "execute_result"
    }
   ],
   "source": [
    "total_ifes = df_ife_production['ife_count'].sum()\n",
    "df_ife_production['expected_ife_count'] = df_ife_production.apply(lambda row : row['production_amt_rel']*total_ifes, axis=1)\n",
    "df_ife_production['chi_stat_contributor'] = df_ife_production.apply(lambda row : ((row['ife_count']-row['expected_ife_count'])**2)/row['expected_ife_count'], axis=1)\n",
    "\n",
    "\n",
    "chi_stat = df_ife_production['chi_stat_contributor'].sum()\n",
    "dof = len(df_ife_production) - 1  # Degrees of freedom (number of categories - 1)\n",
    "\n",
    "p_value = 1 - chi2.cdf(chi_stat, dof)\n",
    "\n",
    "print(chi2.cdf(chi_stat, dof))\n",
    "print(f\"Chi-square statistic: {chi_stat}\")\n",
    "print(f\"Degrees of freedom: {dof}\")\n",
    "print(f\"P-value: {p_value}\")\n",
    "\n",
    "# Sanity Checks\n",
    "print(chi_stat)\n",
    "df_ife_production.head()"
   ]
  },
  {
   "cell_type": "code",
   "execution_count": 210,
   "metadata": {},
   "outputs": [
    {
     "name": "stdout",
     "output_type": "stream",
     "text": [
      "Chi-square Statistic: 583.0285862555544\n",
      "P-value: 5.903339628159654e-100\n",
      "Degrees of Freedom: 36\n",
      "Expected Frequencies:\n",
      "[[1.21714471e+03 1.78552860e+01]\n",
      " [3.64650643e+02 5.34935693e+00]\n",
      " [5.62744641e+02 8.25535893e+00]\n",
      " [1.50590860e+03 2.20913983e+01]\n",
      " [4.78086559e+03 7.01344066e+01]\n",
      " [3.55583654e+03 5.21634589e+01]\n",
      " [1.79270140e+03 2.62985953e+01]\n",
      " [1.62318813e+03 2.38118672e+01]\n",
      " [3.77462693e+02 5.53730731e+00]\n",
      " [6.15963924e+02 9.03607589e+00]\n",
      " [2.52298823e+02 3.70117669e+00]\n",
      " [3.83375946e+02 5.62405363e+00]\n",
      " [1.56701222e+02 2.29877771e+00]\n",
      " [1.80649900e+03 2.65010034e+01]\n",
      " [1.96418576e+03 2.88142388e+01]\n",
      " [7.01410440e+03 1.02895603e+02]\n",
      " [1.13435916e+03 1.66408374e+01]\n",
      " [1.56799777e+03 2.30022348e+01]\n",
      " [1.05945795e+03 1.55420505e+01]\n",
      " [1.33540979e+03 1.95902125e+01]\n",
      " [1.74835200e+03 2.56479978e+01]\n",
      " [1.15801218e+03 1.69878227e+01]\n",
      " [1.24769652e+03 1.83034753e+01]\n",
      " [1.92279299e+03 2.82070145e+01]\n",
      " [2.30616893e+02 3.38310681e+00]\n",
      " [3.26214494e+02 4.78550579e+00]\n",
      " [5.07554273e+02 7.44572653e+00]\n",
      " [1.19250616e+02 1.74938429e+00]\n",
      " [7.39156709e+01 1.08432911e+00]\n",
      " [1.09000976e+03 1.59902399e+01]\n",
      " [2.19775928e+02 3.22407188e+00]\n",
      " [5.53874761e+02 8.12523944e+00]\n",
      " [2.79894007e+02 4.10599289e+00]\n",
      " [2.04007252e+02 2.99274834e+00]\n",
      " [1.48816884e+02 2.18311594e+00]\n",
      " [1.16293989e+02 1.70601113e+00]\n",
      " [2.00065083e+02 2.93491745e+00]]\n"
     ]
    }
   ],
   "source": [
    "# Create a contingency table\n",
    "contingency_table = df_ife_production[['production_amt', 'ife_count']].to_numpy()\n",
    "chi2_stat, p_value, dof, expected = chi2_contingency(contingency_table)\n",
    "\n",
    "# Output results\n",
    "print(f\"Chi-square Statistic: {chi2_stat}\")\n",
    "print(f\"P-value: {p_value}\")\n",
    "print(f\"Degrees of Freedom: {dof}\")\n",
    "print(\"Expected Frequencies:\")\n",
    "print(expected)\n",
    "\n",
    "# Add expected frequencies back to the DataFrame\n",
    "df_ife_production['ExpectedProduction'], df_ife_production['ExpectedEmergencies'] = expected.T"
   ]
  },
  {
   "cell_type": "markdown",
   "metadata": {},
   "source": [
    "---\n",
    "\n",
    "## 2. Z-Test or Proportional Comparison\n",
    "If you're comparing individual proportions for a specific plane model, a **z-test for proportions** determines whether the difference between the proportion of emergencies and the proportion of production is statistically significant.\n",
    "\n",
    "### Formula:\n",
    "\\[\n",
    "Z = \\frac{p_1 - p_2}{\\sqrt{p(1-p)\\left(\\frac{1}{n_1} + \\frac{1}{n_2}\\right)}}\n",
    "\\]\n",
    "Where:\n",
    "- \\(p_1\\): Proportion of emergencies for a specific model.\n",
    "- \\(p_2\\): Proportion of production for the same model.\n",
    "- \\(p\\): Pooled proportion, calculated as \\(\\frac{x_1 + x_2}{n_1 + n_2}\\).\n",
    "- \\(n_1, n_2\\): Total counts in each dataset.\n",
    "\n",
    "# Z-Test for Proportions: Explanation\n",
    "\n",
    "In the context of the **z-test for proportions**, the terms \\(x_1\\) and \\(x_2\\) represent the **counts of successes** (or events of interest) in the two groups being compared.\n",
    "\n",
    "## Definitions:\n",
    "- **\\(x_1\\)**: The count of in-flight emergencies for the plane model of interest.\n",
    "- **\\(x_2\\)**: The count of planes produced for the same plane model.\n",
    "\n",
    "These counts are used to calculate the proportions (\\(p_1\\) and \\(p_2\\)) for the z-test:\n",
    "\n",
    "### Proportions:\n",
    "\\[\n",
    "p_1 = \\frac{x_1}{n_1}, \\quad p_2 = \\frac{x_2}{n_2}\n",
    "\\]\n",
    "Where:\n",
    "- \\(n_1\\): Total number of in-flight emergencies across all plane models.\n",
    "- \\(n_2\\): Total number of planes produced across all plane models.\n",
    "\n",
    "### Pooled Proportion:\n",
    "Under the null hypothesis, we assume that the emergencies are distributed proportionally to production. The pooled proportion (\\(p\\)) is calculated as:\n",
    "\\[\n",
    "p = \\frac{x_1 + x_2}{n_1 + n_2}\n",
    "\\]\n",
    "\n",
    "---\n",
    "\n",
    "## Example:\n",
    "Suppose:\n",
    "- Total in-flight emergencies (\\(n_1\\)) = 1,000.\n",
    "- Total planes produced (\\(n_2\\)) = 10,000.\n",
    "- Plane model A had:\n",
    "  - \\(x_1 = 100\\) emergencies.\n",
    "  - \\(x_2 = 500\\) produced.\n",
    "\n",
    "### Step-by-Step:\n",
    "1. Calculate the proportions:\n",
    "   - \\(p_1 = \\frac{100}{1000} = 0.1\\) (10% emergencies for model A).\n",
    "   - \\(p_2 = \\frac{500}{10000} = 0.05\\) (5% production for model A).\n",
    "\n",
    "2. Use the z-test formula to test whether the difference between these proportions is statistically significant.\n"
   ]
  },
  {
   "cell_type": "code",
   "execution_count": 213,
   "metadata": {},
   "outputs": [
    {
     "data": {
      "text/html": [
       "<div>\n",
       "<style scoped>\n",
       "    .dataframe tbody tr th:only-of-type {\n",
       "        vertical-align: middle;\n",
       "    }\n",
       "\n",
       "    .dataframe tbody tr th {\n",
       "        vertical-align: top;\n",
       "    }\n",
       "\n",
       "    .dataframe thead th {\n",
       "        text-align: right;\n",
       "    }\n",
       "</style>\n",
       "<table border=\"1\" class=\"dataframe\">\n",
       "  <thead>\n",
       "    <tr style=\"text-align: right;\">\n",
       "      <th></th>\n",
       "      <th>productionLine</th>\n",
       "      <th>ife_count</th>\n",
       "      <th>production_amt</th>\n",
       "      <th>ife_count_rel</th>\n",
       "      <th>production_amt_rel</th>\n",
       "      <th>expected_ife_count</th>\n",
       "      <th>chi_stat_contributor</th>\n",
       "      <th>ExpectedProduction</th>\n",
       "      <th>ExpectedEmergencies</th>\n",
       "      <th>pooled_prop</th>\n",
       "      <th>z_val</th>\n",
       "    </tr>\n",
       "  </thead>\n",
       "  <tbody>\n",
       "    <tr>\n",
       "      <th>0</th>\n",
       "      <td>ATR 72</td>\n",
       "      <td>2.0</td>\n",
       "      <td>1233.0</td>\n",
       "      <td>0.003155</td>\n",
       "      <td>0.028530</td>\n",
       "      <td>18.087880</td>\n",
       "      <td>14.309023</td>\n",
       "      <td>1217.144714</td>\n",
       "      <td>17.855286</td>\n",
       "      <td>0.028163</td>\n",
       "      <td>-3.834037</td>\n",
       "    </tr>\n",
       "    <tr>\n",
       "      <th>1</th>\n",
       "      <td>Airbus A220</td>\n",
       "      <td>3.0</td>\n",
       "      <td>367.0</td>\n",
       "      <td>0.004732</td>\n",
       "      <td>0.008492</td>\n",
       "      <td>5.383822</td>\n",
       "      <td>1.055497</td>\n",
       "      <td>364.650643</td>\n",
       "      <td>5.349357</td>\n",
       "      <td>0.008437</td>\n",
       "      <td>-1.027544</td>\n",
       "    </tr>\n",
       "    <tr>\n",
       "      <th>2</th>\n",
       "      <td>Airbus A300</td>\n",
       "      <td>10.0</td>\n",
       "      <td>561.0</td>\n",
       "      <td>0.015773</td>\n",
       "      <td>0.012981</td>\n",
       "      <td>8.229765</td>\n",
       "      <td>0.380780</td>\n",
       "      <td>562.744641</td>\n",
       "      <td>8.255359</td>\n",
       "      <td>0.013021</td>\n",
       "      <td>0.615668</td>\n",
       "    </tr>\n",
       "    <tr>\n",
       "      <th>3</th>\n",
       "      <td>Airbus A319</td>\n",
       "      <td>44.0</td>\n",
       "      <td>1484.0</td>\n",
       "      <td>0.069401</td>\n",
       "      <td>0.034338</td>\n",
       "      <td>21.770003</td>\n",
       "      <td>22.699710</td>\n",
       "      <td>1505.908602</td>\n",
       "      <td>22.091398</td>\n",
       "      <td>0.034844</td>\n",
       "      <td>4.779327</td>\n",
       "    </tr>\n",
       "    <tr>\n",
       "      <th>4</th>\n",
       "      <td>Airbus A320</td>\n",
       "      <td>99.0</td>\n",
       "      <td>4752.0</td>\n",
       "      <td>0.156151</td>\n",
       "      <td>0.109954</td>\n",
       "      <td>69.710954</td>\n",
       "      <td>12.305788</td>\n",
       "      <td>4780.865593</td>\n",
       "      <td>70.134407</td>\n",
       "      <td>0.110622</td>\n",
       "      <td>3.681579</td>\n",
       "    </tr>\n",
       "  </tbody>\n",
       "</table>\n",
       "</div>"
      ],
      "text/plain": [
       "  productionLine  ife_count  production_amt  ife_count_rel  \\\n",
       "0         ATR 72        2.0          1233.0       0.003155   \n",
       "1    Airbus A220        3.0           367.0       0.004732   \n",
       "2    Airbus A300       10.0           561.0       0.015773   \n",
       "3    Airbus A319       44.0          1484.0       0.069401   \n",
       "4    Airbus A320       99.0          4752.0       0.156151   \n",
       "\n",
       "   production_amt_rel  expected_ife_count  chi_stat_contributor  \\\n",
       "0            0.028530           18.087880             14.309023   \n",
       "1            0.008492            5.383822              1.055497   \n",
       "2            0.012981            8.229765              0.380780   \n",
       "3            0.034338           21.770003             22.699710   \n",
       "4            0.109954           69.710954             12.305788   \n",
       "\n",
       "   ExpectedProduction  ExpectedEmergencies  pooled_prop     z_val  \n",
       "0         1217.144714            17.855286     0.028163 -3.834037  \n",
       "1          364.650643             5.349357     0.008437 -1.027544  \n",
       "2          562.744641             8.255359     0.013021  0.615668  \n",
       "3         1505.908602            22.091398     0.034844  4.779327  \n",
       "4         4780.865593            70.134407     0.110622  3.681579  "
      ]
     },
     "execution_count": 213,
     "metadata": {},
     "output_type": "execute_result"
    }
   ],
   "source": [
    "df_ife_production.sort_values(by='productionLine', inplace=True)\n",
    "df_ife_production['ife_count'] = df_ife_production['ife_count'].astype(float)\n",
    "df_ife_production['production_amt'] = df_ife_production['production_amt'].astype(float)\n",
    "\n",
    "n1 = df_ife_production['ife_count'].sum()\n",
    "n2  = df_ife_production['production_amt'].sum()\n",
    "n1n2_divisor = (1/n1) + (1/n2)\n",
    "\n",
    "df_ife_production['pooled_prop'] = df_ife_production.apply(lambda row : (row['ife_count'] + row['production_amt'])/(n1+n2), axis=1)\n",
    "df_ife_production['z_val'] = df_ife_production.apply(lambda row : \n",
    "                                                     (row['ife_count_rel'] - row['production_amt_rel']) / ((row['pooled_prop']*(1-row['pooled_prop']))*(n1n2_divisor))**0.5, axis=1)\n",
    "\n",
    "df_ife_production.head()"
   ]
  },
  {
   "cell_type": "code",
   "execution_count": 249,
   "metadata": {},
   "outputs": [
    {
     "data": {
      "application/vnd.plotly.v1+json": {
       "config": {
        "plotlyServerURL": "https://plot.ly"
       },
       "data": [
        {
         "marker": {
          "color": "green"
         },
         "name": "Observed Emergencies",
         "type": "bar",
         "x": [
          "Airbus A320 NEO",
          "Boeing 737 Classic",
          "Canadair CRJ",
          "Boeing 727",
          "Boeing 737 Original"
         ],
         "y": [
          1,
          5,
          1,
          1,
          1
         ]
        },
        {
         "marker": {
          "color": "orange"
         },
         "name": "Expected Emergencies",
         "type": "bar",
         "x": [
          "Airbus A320 NEO",
          "Boeing 737 Classic",
          "Canadair CRJ",
          "Boeing 727",
          "Boeing 737 Original"
         ],
         "y": [
          52.16345890723342,
          28.814238803247285,
          28.20701450332938,
          26.5010033749886,
          16.64083736203594
         ]
        }
       ],
       "layout": {
        "barmode": "group",
        "height": 800,
        "legend": {
         "title": {
          "text": "Legend"
         }
        },
        "paper_bgcolor": "rgb(254, 246, 224)",
        "template": {
         "data": {
          "bar": [
           {
            "error_x": {
             "color": "#2a3f5f"
            },
            "error_y": {
             "color": "#2a3f5f"
            },
            "marker": {
             "line": {
              "color": "#E5ECF6",
              "width": 0.5
             },
             "pattern": {
              "fillmode": "overlay",
              "size": 10,
              "solidity": 0.2
             }
            },
            "type": "bar"
           }
          ],
          "barpolar": [
           {
            "marker": {
             "line": {
              "color": "#E5ECF6",
              "width": 0.5
             },
             "pattern": {
              "fillmode": "overlay",
              "size": 10,
              "solidity": 0.2
             }
            },
            "type": "barpolar"
           }
          ],
          "carpet": [
           {
            "aaxis": {
             "endlinecolor": "#2a3f5f",
             "gridcolor": "white",
             "linecolor": "white",
             "minorgridcolor": "white",
             "startlinecolor": "#2a3f5f"
            },
            "baxis": {
             "endlinecolor": "#2a3f5f",
             "gridcolor": "white",
             "linecolor": "white",
             "minorgridcolor": "white",
             "startlinecolor": "#2a3f5f"
            },
            "type": "carpet"
           }
          ],
          "choropleth": [
           {
            "colorbar": {
             "outlinewidth": 0,
             "ticks": ""
            },
            "type": "choropleth"
           }
          ],
          "contour": [
           {
            "colorbar": {
             "outlinewidth": 0,
             "ticks": ""
            },
            "colorscale": [
             [
              0,
              "#0d0887"
             ],
             [
              0.1111111111111111,
              "#46039f"
             ],
             [
              0.2222222222222222,
              "#7201a8"
             ],
             [
              0.3333333333333333,
              "#9c179e"
             ],
             [
              0.4444444444444444,
              "#bd3786"
             ],
             [
              0.5555555555555556,
              "#d8576b"
             ],
             [
              0.6666666666666666,
              "#ed7953"
             ],
             [
              0.7777777777777778,
              "#fb9f3a"
             ],
             [
              0.8888888888888888,
              "#fdca26"
             ],
             [
              1,
              "#f0f921"
             ]
            ],
            "type": "contour"
           }
          ],
          "contourcarpet": [
           {
            "colorbar": {
             "outlinewidth": 0,
             "ticks": ""
            },
            "type": "contourcarpet"
           }
          ],
          "heatmap": [
           {
            "colorbar": {
             "outlinewidth": 0,
             "ticks": ""
            },
            "colorscale": [
             [
              0,
              "#0d0887"
             ],
             [
              0.1111111111111111,
              "#46039f"
             ],
             [
              0.2222222222222222,
              "#7201a8"
             ],
             [
              0.3333333333333333,
              "#9c179e"
             ],
             [
              0.4444444444444444,
              "#bd3786"
             ],
             [
              0.5555555555555556,
              "#d8576b"
             ],
             [
              0.6666666666666666,
              "#ed7953"
             ],
             [
              0.7777777777777778,
              "#fb9f3a"
             ],
             [
              0.8888888888888888,
              "#fdca26"
             ],
             [
              1,
              "#f0f921"
             ]
            ],
            "type": "heatmap"
           }
          ],
          "heatmapgl": [
           {
            "colorbar": {
             "outlinewidth": 0,
             "ticks": ""
            },
            "colorscale": [
             [
              0,
              "#0d0887"
             ],
             [
              0.1111111111111111,
              "#46039f"
             ],
             [
              0.2222222222222222,
              "#7201a8"
             ],
             [
              0.3333333333333333,
              "#9c179e"
             ],
             [
              0.4444444444444444,
              "#bd3786"
             ],
             [
              0.5555555555555556,
              "#d8576b"
             ],
             [
              0.6666666666666666,
              "#ed7953"
             ],
             [
              0.7777777777777778,
              "#fb9f3a"
             ],
             [
              0.8888888888888888,
              "#fdca26"
             ],
             [
              1,
              "#f0f921"
             ]
            ],
            "type": "heatmapgl"
           }
          ],
          "histogram": [
           {
            "marker": {
             "pattern": {
              "fillmode": "overlay",
              "size": 10,
              "solidity": 0.2
             }
            },
            "type": "histogram"
           }
          ],
          "histogram2d": [
           {
            "colorbar": {
             "outlinewidth": 0,
             "ticks": ""
            },
            "colorscale": [
             [
              0,
              "#0d0887"
             ],
             [
              0.1111111111111111,
              "#46039f"
             ],
             [
              0.2222222222222222,
              "#7201a8"
             ],
             [
              0.3333333333333333,
              "#9c179e"
             ],
             [
              0.4444444444444444,
              "#bd3786"
             ],
             [
              0.5555555555555556,
              "#d8576b"
             ],
             [
              0.6666666666666666,
              "#ed7953"
             ],
             [
              0.7777777777777778,
              "#fb9f3a"
             ],
             [
              0.8888888888888888,
              "#fdca26"
             ],
             [
              1,
              "#f0f921"
             ]
            ],
            "type": "histogram2d"
           }
          ],
          "histogram2dcontour": [
           {
            "colorbar": {
             "outlinewidth": 0,
             "ticks": ""
            },
            "colorscale": [
             [
              0,
              "#0d0887"
             ],
             [
              0.1111111111111111,
              "#46039f"
             ],
             [
              0.2222222222222222,
              "#7201a8"
             ],
             [
              0.3333333333333333,
              "#9c179e"
             ],
             [
              0.4444444444444444,
              "#bd3786"
             ],
             [
              0.5555555555555556,
              "#d8576b"
             ],
             [
              0.6666666666666666,
              "#ed7953"
             ],
             [
              0.7777777777777778,
              "#fb9f3a"
             ],
             [
              0.8888888888888888,
              "#fdca26"
             ],
             [
              1,
              "#f0f921"
             ]
            ],
            "type": "histogram2dcontour"
           }
          ],
          "mesh3d": [
           {
            "colorbar": {
             "outlinewidth": 0,
             "ticks": ""
            },
            "type": "mesh3d"
           }
          ],
          "parcoords": [
           {
            "line": {
             "colorbar": {
              "outlinewidth": 0,
              "ticks": ""
             }
            },
            "type": "parcoords"
           }
          ],
          "pie": [
           {
            "automargin": true,
            "type": "pie"
           }
          ],
          "scatter": [
           {
            "fillpattern": {
             "fillmode": "overlay",
             "size": 10,
             "solidity": 0.2
            },
            "type": "scatter"
           }
          ],
          "scatter3d": [
           {
            "line": {
             "colorbar": {
              "outlinewidth": 0,
              "ticks": ""
             }
            },
            "marker": {
             "colorbar": {
              "outlinewidth": 0,
              "ticks": ""
             }
            },
            "type": "scatter3d"
           }
          ],
          "scattercarpet": [
           {
            "marker": {
             "colorbar": {
              "outlinewidth": 0,
              "ticks": ""
             }
            },
            "type": "scattercarpet"
           }
          ],
          "scattergeo": [
           {
            "marker": {
             "colorbar": {
              "outlinewidth": 0,
              "ticks": ""
             }
            },
            "type": "scattergeo"
           }
          ],
          "scattergl": [
           {
            "marker": {
             "colorbar": {
              "outlinewidth": 0,
              "ticks": ""
             }
            },
            "type": "scattergl"
           }
          ],
          "scattermapbox": [
           {
            "marker": {
             "colorbar": {
              "outlinewidth": 0,
              "ticks": ""
             }
            },
            "type": "scattermapbox"
           }
          ],
          "scatterpolar": [
           {
            "marker": {
             "colorbar": {
              "outlinewidth": 0,
              "ticks": ""
             }
            },
            "type": "scatterpolar"
           }
          ],
          "scatterpolargl": [
           {
            "marker": {
             "colorbar": {
              "outlinewidth": 0,
              "ticks": ""
             }
            },
            "type": "scatterpolargl"
           }
          ],
          "scatterternary": [
           {
            "marker": {
             "colorbar": {
              "outlinewidth": 0,
              "ticks": ""
             }
            },
            "type": "scatterternary"
           }
          ],
          "surface": [
           {
            "colorbar": {
             "outlinewidth": 0,
             "ticks": ""
            },
            "colorscale": [
             [
              0,
              "#0d0887"
             ],
             [
              0.1111111111111111,
              "#46039f"
             ],
             [
              0.2222222222222222,
              "#7201a8"
             ],
             [
              0.3333333333333333,
              "#9c179e"
             ],
             [
              0.4444444444444444,
              "#bd3786"
             ],
             [
              0.5555555555555556,
              "#d8576b"
             ],
             [
              0.6666666666666666,
              "#ed7953"
             ],
             [
              0.7777777777777778,
              "#fb9f3a"
             ],
             [
              0.8888888888888888,
              "#fdca26"
             ],
             [
              1,
              "#f0f921"
             ]
            ],
            "type": "surface"
           }
          ],
          "table": [
           {
            "cells": {
             "fill": {
              "color": "#EBF0F8"
             },
             "line": {
              "color": "white"
             }
            },
            "header": {
             "fill": {
              "color": "#C8D4E3"
             },
             "line": {
              "color": "white"
             }
            },
            "type": "table"
           }
          ]
         },
         "layout": {
          "annotationdefaults": {
           "arrowcolor": "#2a3f5f",
           "arrowhead": 0,
           "arrowwidth": 1
          },
          "autotypenumbers": "strict",
          "coloraxis": {
           "colorbar": {
            "outlinewidth": 0,
            "ticks": ""
           }
          },
          "colorscale": {
           "diverging": [
            [
             0,
             "#8e0152"
            ],
            [
             0.1,
             "#c51b7d"
            ],
            [
             0.2,
             "#de77ae"
            ],
            [
             0.3,
             "#f1b6da"
            ],
            [
             0.4,
             "#fde0ef"
            ],
            [
             0.5,
             "#f7f7f7"
            ],
            [
             0.6,
             "#e6f5d0"
            ],
            [
             0.7,
             "#b8e186"
            ],
            [
             0.8,
             "#7fbc41"
            ],
            [
             0.9,
             "#4d9221"
            ],
            [
             1,
             "#276419"
            ]
           ],
           "sequential": [
            [
             0,
             "#0d0887"
            ],
            [
             0.1111111111111111,
             "#46039f"
            ],
            [
             0.2222222222222222,
             "#7201a8"
            ],
            [
             0.3333333333333333,
             "#9c179e"
            ],
            [
             0.4444444444444444,
             "#bd3786"
            ],
            [
             0.5555555555555556,
             "#d8576b"
            ],
            [
             0.6666666666666666,
             "#ed7953"
            ],
            [
             0.7777777777777778,
             "#fb9f3a"
            ],
            [
             0.8888888888888888,
             "#fdca26"
            ],
            [
             1,
             "#f0f921"
            ]
           ],
           "sequentialminus": [
            [
             0,
             "#0d0887"
            ],
            [
             0.1111111111111111,
             "#46039f"
            ],
            [
             0.2222222222222222,
             "#7201a8"
            ],
            [
             0.3333333333333333,
             "#9c179e"
            ],
            [
             0.4444444444444444,
             "#bd3786"
            ],
            [
             0.5555555555555556,
             "#d8576b"
            ],
            [
             0.6666666666666666,
             "#ed7953"
            ],
            [
             0.7777777777777778,
             "#fb9f3a"
            ],
            [
             0.8888888888888888,
             "#fdca26"
            ],
            [
             1,
             "#f0f921"
            ]
           ]
          },
          "colorway": [
           "#636efa",
           "#EF553B",
           "#00cc96",
           "#ab63fa",
           "#FFA15A",
           "#19d3f3",
           "#FF6692",
           "#B6E880",
           "#FF97FF",
           "#FECB52"
          ],
          "font": {
           "color": "#2a3f5f"
          },
          "geo": {
           "bgcolor": "white",
           "lakecolor": "white",
           "landcolor": "#E5ECF6",
           "showlakes": true,
           "showland": true,
           "subunitcolor": "white"
          },
          "hoverlabel": {
           "align": "left"
          },
          "hovermode": "closest",
          "mapbox": {
           "style": "light"
          },
          "paper_bgcolor": "white",
          "plot_bgcolor": "#E5ECF6",
          "polar": {
           "angularaxis": {
            "gridcolor": "white",
            "linecolor": "white",
            "ticks": ""
           },
           "bgcolor": "#E5ECF6",
           "radialaxis": {
            "gridcolor": "white",
            "linecolor": "white",
            "ticks": ""
           }
          },
          "scene": {
           "xaxis": {
            "backgroundcolor": "#E5ECF6",
            "gridcolor": "white",
            "gridwidth": 2,
            "linecolor": "white",
            "showbackground": true,
            "ticks": "",
            "zerolinecolor": "white"
           },
           "yaxis": {
            "backgroundcolor": "#E5ECF6",
            "gridcolor": "white",
            "gridwidth": 2,
            "linecolor": "white",
            "showbackground": true,
            "ticks": "",
            "zerolinecolor": "white"
           },
           "zaxis": {
            "backgroundcolor": "#E5ECF6",
            "gridcolor": "white",
            "gridwidth": 2,
            "linecolor": "white",
            "showbackground": true,
            "ticks": "",
            "zerolinecolor": "white"
           }
          },
          "shapedefaults": {
           "line": {
            "color": "#2a3f5f"
           }
          },
          "ternary": {
           "aaxis": {
            "gridcolor": "white",
            "linecolor": "white",
            "ticks": ""
           },
           "baxis": {
            "gridcolor": "white",
            "linecolor": "white",
            "ticks": ""
           },
           "bgcolor": "#E5ECF6",
           "caxis": {
            "gridcolor": "white",
            "linecolor": "white",
            "ticks": ""
           }
          },
          "title": {
           "x": 0.05
          },
          "xaxis": {
           "automargin": true,
           "gridcolor": "white",
           "linecolor": "white",
           "ticks": "",
           "title": {
            "standoff": 15
           },
           "zerolinecolor": "white",
           "zerolinewidth": 2
          },
          "yaxis": {
           "automargin": true,
           "gridcolor": "white",
           "linecolor": "white",
           "ticks": "",
           "title": {
            "standoff": 15
           },
           "zerolinecolor": "white",
           "zerolinewidth": 2
          }
         }
        },
        "title": {
         "text": "Top 5 Under-represented Outliers (Z-Test): Expected and Actual Emergency Frequencies vs. Aircraft Model"
        },
        "width": 1400,
        "xaxis": {
         "title": {
          "text": "Aircraft Model"
         }
        },
        "yaxis": {
         "title": {
          "text": "Frequency"
         }
        }
       }
      }
     },
     "metadata": {},
     "output_type": "display_data"
    }
   ],
   "source": [
    "df_ife_production_underrep = df_ife_production[df_ife_production['z_val']<-1.96].sort_values(by='z_val').head()\n",
    "df_ife_production_underrep.sort_values(by='ExpectedEmergencies',ascending=False, inplace=True)\n",
    "# Plot using Plotly\n",
    "fig = go.Figure()\n",
    "\n",
    "# Add bars for actual emergencies\n",
    "fig.add_trace(go.Bar(\n",
    "    x=df_ife_production_underrep['productionLine'],\n",
    "    y=df_ife_production_underrep['ife_count'],\n",
    "    name='Observed Emergencies',\n",
    "    marker_color='green'\n",
    "))\n",
    "\n",
    "# Add bars for expected emergencies\n",
    "fig.add_trace(go.Bar(\n",
    "    x=df_ife_production_underrep['productionLine'],\n",
    "    y=df_ife_production_underrep['ExpectedEmergencies'],\n",
    "    name='Expected Emergencies',\n",
    "    marker_color='orange'\n",
    "))\n",
    "\n",
    "# Customize layout\n",
    "fig.update_layout(\n",
    "    title='Top 5 Under-represented Outliers (Z-Test): Expected and Actual Emergency Frequencies vs. Aircraft Model',\n",
    "    xaxis=dict(title='Aircraft Model'),\n",
    "    yaxis=dict(title='Frequency'),\n",
    "    barmode='group',  # Group bars side by side\n",
    "    legend=dict(title='Legend'),\n",
    "    width=1400, \n",
    "    height=800,\n",
    "    paper_bgcolor='rgb(254, 246, 224)'\n",
    "    # template='plotly_white'\n",
    ")\n",
    "\n",
    "# Show the plot\n",
    "fig.show()"
   ]
  },
  {
   "cell_type": "code",
   "execution_count": 248,
   "metadata": {},
   "outputs": [
    {
     "data": {
      "application/vnd.plotly.v1+json": {
       "config": {
        "plotlyServerURL": "https://plot.ly"
       },
       "data": [
        {
         "marker": {
          "color": "red"
         },
         "name": "Observed Emergencies",
         "type": "bar",
         "x": [
          "Boeing 737 NG",
          "Airbus A320",
          "Airbus A319",
          "Boeing 767",
          "Embraer ERJ170"
         ],
         "y": [
          157,
          99,
          44,
          36,
          33
         ]
        },
        {
         "marker": {
          "color": "orange"
         },
         "name": "Expected Emergencies",
         "type": "bar",
         "x": [
          "Boeing 737 NG",
          "Airbus A320",
          "Airbus A319",
          "Boeing 767",
          "Embraer ERJ170"
         ],
         "y": [
          102.89560339323178,
          70.13440664051811,
          22.091398339870473,
          19.590212533065767,
          3.224071878135547
         ]
        }
       ],
       "layout": {
        "barmode": "group",
        "height": 800,
        "legend": {
         "title": {
          "text": "Legend"
         }
        },
        "paper_bgcolor": "rgb(254, 246, 224)",
        "template": {
         "data": {
          "bar": [
           {
            "error_x": {
             "color": "#2a3f5f"
            },
            "error_y": {
             "color": "#2a3f5f"
            },
            "marker": {
             "line": {
              "color": "#E5ECF6",
              "width": 0.5
             },
             "pattern": {
              "fillmode": "overlay",
              "size": 10,
              "solidity": 0.2
             }
            },
            "type": "bar"
           }
          ],
          "barpolar": [
           {
            "marker": {
             "line": {
              "color": "#E5ECF6",
              "width": 0.5
             },
             "pattern": {
              "fillmode": "overlay",
              "size": 10,
              "solidity": 0.2
             }
            },
            "type": "barpolar"
           }
          ],
          "carpet": [
           {
            "aaxis": {
             "endlinecolor": "#2a3f5f",
             "gridcolor": "white",
             "linecolor": "white",
             "minorgridcolor": "white",
             "startlinecolor": "#2a3f5f"
            },
            "baxis": {
             "endlinecolor": "#2a3f5f",
             "gridcolor": "white",
             "linecolor": "white",
             "minorgridcolor": "white",
             "startlinecolor": "#2a3f5f"
            },
            "type": "carpet"
           }
          ],
          "choropleth": [
           {
            "colorbar": {
             "outlinewidth": 0,
             "ticks": ""
            },
            "type": "choropleth"
           }
          ],
          "contour": [
           {
            "colorbar": {
             "outlinewidth": 0,
             "ticks": ""
            },
            "colorscale": [
             [
              0,
              "#0d0887"
             ],
             [
              0.1111111111111111,
              "#46039f"
             ],
             [
              0.2222222222222222,
              "#7201a8"
             ],
             [
              0.3333333333333333,
              "#9c179e"
             ],
             [
              0.4444444444444444,
              "#bd3786"
             ],
             [
              0.5555555555555556,
              "#d8576b"
             ],
             [
              0.6666666666666666,
              "#ed7953"
             ],
             [
              0.7777777777777778,
              "#fb9f3a"
             ],
             [
              0.8888888888888888,
              "#fdca26"
             ],
             [
              1,
              "#f0f921"
             ]
            ],
            "type": "contour"
           }
          ],
          "contourcarpet": [
           {
            "colorbar": {
             "outlinewidth": 0,
             "ticks": ""
            },
            "type": "contourcarpet"
           }
          ],
          "heatmap": [
           {
            "colorbar": {
             "outlinewidth": 0,
             "ticks": ""
            },
            "colorscale": [
             [
              0,
              "#0d0887"
             ],
             [
              0.1111111111111111,
              "#46039f"
             ],
             [
              0.2222222222222222,
              "#7201a8"
             ],
             [
              0.3333333333333333,
              "#9c179e"
             ],
             [
              0.4444444444444444,
              "#bd3786"
             ],
             [
              0.5555555555555556,
              "#d8576b"
             ],
             [
              0.6666666666666666,
              "#ed7953"
             ],
             [
              0.7777777777777778,
              "#fb9f3a"
             ],
             [
              0.8888888888888888,
              "#fdca26"
             ],
             [
              1,
              "#f0f921"
             ]
            ],
            "type": "heatmap"
           }
          ],
          "heatmapgl": [
           {
            "colorbar": {
             "outlinewidth": 0,
             "ticks": ""
            },
            "colorscale": [
             [
              0,
              "#0d0887"
             ],
             [
              0.1111111111111111,
              "#46039f"
             ],
             [
              0.2222222222222222,
              "#7201a8"
             ],
             [
              0.3333333333333333,
              "#9c179e"
             ],
             [
              0.4444444444444444,
              "#bd3786"
             ],
             [
              0.5555555555555556,
              "#d8576b"
             ],
             [
              0.6666666666666666,
              "#ed7953"
             ],
             [
              0.7777777777777778,
              "#fb9f3a"
             ],
             [
              0.8888888888888888,
              "#fdca26"
             ],
             [
              1,
              "#f0f921"
             ]
            ],
            "type": "heatmapgl"
           }
          ],
          "histogram": [
           {
            "marker": {
             "pattern": {
              "fillmode": "overlay",
              "size": 10,
              "solidity": 0.2
             }
            },
            "type": "histogram"
           }
          ],
          "histogram2d": [
           {
            "colorbar": {
             "outlinewidth": 0,
             "ticks": ""
            },
            "colorscale": [
             [
              0,
              "#0d0887"
             ],
             [
              0.1111111111111111,
              "#46039f"
             ],
             [
              0.2222222222222222,
              "#7201a8"
             ],
             [
              0.3333333333333333,
              "#9c179e"
             ],
             [
              0.4444444444444444,
              "#bd3786"
             ],
             [
              0.5555555555555556,
              "#d8576b"
             ],
             [
              0.6666666666666666,
              "#ed7953"
             ],
             [
              0.7777777777777778,
              "#fb9f3a"
             ],
             [
              0.8888888888888888,
              "#fdca26"
             ],
             [
              1,
              "#f0f921"
             ]
            ],
            "type": "histogram2d"
           }
          ],
          "histogram2dcontour": [
           {
            "colorbar": {
             "outlinewidth": 0,
             "ticks": ""
            },
            "colorscale": [
             [
              0,
              "#0d0887"
             ],
             [
              0.1111111111111111,
              "#46039f"
             ],
             [
              0.2222222222222222,
              "#7201a8"
             ],
             [
              0.3333333333333333,
              "#9c179e"
             ],
             [
              0.4444444444444444,
              "#bd3786"
             ],
             [
              0.5555555555555556,
              "#d8576b"
             ],
             [
              0.6666666666666666,
              "#ed7953"
             ],
             [
              0.7777777777777778,
              "#fb9f3a"
             ],
             [
              0.8888888888888888,
              "#fdca26"
             ],
             [
              1,
              "#f0f921"
             ]
            ],
            "type": "histogram2dcontour"
           }
          ],
          "mesh3d": [
           {
            "colorbar": {
             "outlinewidth": 0,
             "ticks": ""
            },
            "type": "mesh3d"
           }
          ],
          "parcoords": [
           {
            "line": {
             "colorbar": {
              "outlinewidth": 0,
              "ticks": ""
             }
            },
            "type": "parcoords"
           }
          ],
          "pie": [
           {
            "automargin": true,
            "type": "pie"
           }
          ],
          "scatter": [
           {
            "fillpattern": {
             "fillmode": "overlay",
             "size": 10,
             "solidity": 0.2
            },
            "type": "scatter"
           }
          ],
          "scatter3d": [
           {
            "line": {
             "colorbar": {
              "outlinewidth": 0,
              "ticks": ""
             }
            },
            "marker": {
             "colorbar": {
              "outlinewidth": 0,
              "ticks": ""
             }
            },
            "type": "scatter3d"
           }
          ],
          "scattercarpet": [
           {
            "marker": {
             "colorbar": {
              "outlinewidth": 0,
              "ticks": ""
             }
            },
            "type": "scattercarpet"
           }
          ],
          "scattergeo": [
           {
            "marker": {
             "colorbar": {
              "outlinewidth": 0,
              "ticks": ""
             }
            },
            "type": "scattergeo"
           }
          ],
          "scattergl": [
           {
            "marker": {
             "colorbar": {
              "outlinewidth": 0,
              "ticks": ""
             }
            },
            "type": "scattergl"
           }
          ],
          "scattermapbox": [
           {
            "marker": {
             "colorbar": {
              "outlinewidth": 0,
              "ticks": ""
             }
            },
            "type": "scattermapbox"
           }
          ],
          "scatterpolar": [
           {
            "marker": {
             "colorbar": {
              "outlinewidth": 0,
              "ticks": ""
             }
            },
            "type": "scatterpolar"
           }
          ],
          "scatterpolargl": [
           {
            "marker": {
             "colorbar": {
              "outlinewidth": 0,
              "ticks": ""
             }
            },
            "type": "scatterpolargl"
           }
          ],
          "scatterternary": [
           {
            "marker": {
             "colorbar": {
              "outlinewidth": 0,
              "ticks": ""
             }
            },
            "type": "scatterternary"
           }
          ],
          "surface": [
           {
            "colorbar": {
             "outlinewidth": 0,
             "ticks": ""
            },
            "colorscale": [
             [
              0,
              "#0d0887"
             ],
             [
              0.1111111111111111,
              "#46039f"
             ],
             [
              0.2222222222222222,
              "#7201a8"
             ],
             [
              0.3333333333333333,
              "#9c179e"
             ],
             [
              0.4444444444444444,
              "#bd3786"
             ],
             [
              0.5555555555555556,
              "#d8576b"
             ],
             [
              0.6666666666666666,
              "#ed7953"
             ],
             [
              0.7777777777777778,
              "#fb9f3a"
             ],
             [
              0.8888888888888888,
              "#fdca26"
             ],
             [
              1,
              "#f0f921"
             ]
            ],
            "type": "surface"
           }
          ],
          "table": [
           {
            "cells": {
             "fill": {
              "color": "#EBF0F8"
             },
             "line": {
              "color": "white"
             }
            },
            "header": {
             "fill": {
              "color": "#C8D4E3"
             },
             "line": {
              "color": "white"
             }
            },
            "type": "table"
           }
          ]
         },
         "layout": {
          "annotationdefaults": {
           "arrowcolor": "#2a3f5f",
           "arrowhead": 0,
           "arrowwidth": 1
          },
          "autotypenumbers": "strict",
          "coloraxis": {
           "colorbar": {
            "outlinewidth": 0,
            "ticks": ""
           }
          },
          "colorscale": {
           "diverging": [
            [
             0,
             "#8e0152"
            ],
            [
             0.1,
             "#c51b7d"
            ],
            [
             0.2,
             "#de77ae"
            ],
            [
             0.3,
             "#f1b6da"
            ],
            [
             0.4,
             "#fde0ef"
            ],
            [
             0.5,
             "#f7f7f7"
            ],
            [
             0.6,
             "#e6f5d0"
            ],
            [
             0.7,
             "#b8e186"
            ],
            [
             0.8,
             "#7fbc41"
            ],
            [
             0.9,
             "#4d9221"
            ],
            [
             1,
             "#276419"
            ]
           ],
           "sequential": [
            [
             0,
             "#0d0887"
            ],
            [
             0.1111111111111111,
             "#46039f"
            ],
            [
             0.2222222222222222,
             "#7201a8"
            ],
            [
             0.3333333333333333,
             "#9c179e"
            ],
            [
             0.4444444444444444,
             "#bd3786"
            ],
            [
             0.5555555555555556,
             "#d8576b"
            ],
            [
             0.6666666666666666,
             "#ed7953"
            ],
            [
             0.7777777777777778,
             "#fb9f3a"
            ],
            [
             0.8888888888888888,
             "#fdca26"
            ],
            [
             1,
             "#f0f921"
            ]
           ],
           "sequentialminus": [
            [
             0,
             "#0d0887"
            ],
            [
             0.1111111111111111,
             "#46039f"
            ],
            [
             0.2222222222222222,
             "#7201a8"
            ],
            [
             0.3333333333333333,
             "#9c179e"
            ],
            [
             0.4444444444444444,
             "#bd3786"
            ],
            [
             0.5555555555555556,
             "#d8576b"
            ],
            [
             0.6666666666666666,
             "#ed7953"
            ],
            [
             0.7777777777777778,
             "#fb9f3a"
            ],
            [
             0.8888888888888888,
             "#fdca26"
            ],
            [
             1,
             "#f0f921"
            ]
           ]
          },
          "colorway": [
           "#636efa",
           "#EF553B",
           "#00cc96",
           "#ab63fa",
           "#FFA15A",
           "#19d3f3",
           "#FF6692",
           "#B6E880",
           "#FF97FF",
           "#FECB52"
          ],
          "font": {
           "color": "#2a3f5f"
          },
          "geo": {
           "bgcolor": "white",
           "lakecolor": "white",
           "landcolor": "#E5ECF6",
           "showlakes": true,
           "showland": true,
           "subunitcolor": "white"
          },
          "hoverlabel": {
           "align": "left"
          },
          "hovermode": "closest",
          "mapbox": {
           "style": "light"
          },
          "paper_bgcolor": "white",
          "plot_bgcolor": "#E5ECF6",
          "polar": {
           "angularaxis": {
            "gridcolor": "white",
            "linecolor": "white",
            "ticks": ""
           },
           "bgcolor": "#E5ECF6",
           "radialaxis": {
            "gridcolor": "white",
            "linecolor": "white",
            "ticks": ""
           }
          },
          "scene": {
           "xaxis": {
            "backgroundcolor": "#E5ECF6",
            "gridcolor": "white",
            "gridwidth": 2,
            "linecolor": "white",
            "showbackground": true,
            "ticks": "",
            "zerolinecolor": "white"
           },
           "yaxis": {
            "backgroundcolor": "#E5ECF6",
            "gridcolor": "white",
            "gridwidth": 2,
            "linecolor": "white",
            "showbackground": true,
            "ticks": "",
            "zerolinecolor": "white"
           },
           "zaxis": {
            "backgroundcolor": "#E5ECF6",
            "gridcolor": "white",
            "gridwidth": 2,
            "linecolor": "white",
            "showbackground": true,
            "ticks": "",
            "zerolinecolor": "white"
           }
          },
          "shapedefaults": {
           "line": {
            "color": "#2a3f5f"
           }
          },
          "ternary": {
           "aaxis": {
            "gridcolor": "white",
            "linecolor": "white",
            "ticks": ""
           },
           "baxis": {
            "gridcolor": "white",
            "linecolor": "white",
            "ticks": ""
           },
           "bgcolor": "#E5ECF6",
           "caxis": {
            "gridcolor": "white",
            "linecolor": "white",
            "ticks": ""
           }
          },
          "title": {
           "x": 0.05
          },
          "xaxis": {
           "automargin": true,
           "gridcolor": "white",
           "linecolor": "white",
           "ticks": "",
           "title": {
            "standoff": 15
           },
           "zerolinecolor": "white",
           "zerolinewidth": 2
          },
          "yaxis": {
           "automargin": true,
           "gridcolor": "white",
           "linecolor": "white",
           "ticks": "",
           "title": {
            "standoff": 15
           },
           "zerolinecolor": "white",
           "zerolinewidth": 2
          }
         }
        },
        "title": {
         "text": "Top 5 Over-represented Outliers (Z-Test): Expected and Actual Emergency Frequencies vs. Aircraft Model"
        },
        "width": 1400,
        "xaxis": {
         "title": {
          "text": "Aircraft Model"
         }
        },
        "yaxis": {
         "title": {
          "text": "Frequency"
         }
        }
       }
      }
     },
     "metadata": {},
     "output_type": "display_data"
    }
   ],
   "source": [
    "df_ife_production_overrep = df_ife_production[df_ife_production['z_val']>1.96].sort_values(by='z_val',ascending=False).head()\n",
    "df_ife_production_overrep.sort_values(by='ExpectedEmergencies',ascending=False, inplace=True)\n",
    "# Plot using Plotly\n",
    "fig = go.Figure()\n",
    "\n",
    "# Add bars for actual emergencies\n",
    "fig.add_trace(go.Bar(\n",
    "    x=df_ife_production_overrep['productionLine'],\n",
    "    y=df_ife_production_overrep['ife_count'],\n",
    "    name='Observed Emergencies',\n",
    "    marker_color='red'\n",
    "))\n",
    "\n",
    "# Add bars for expected emergencies\n",
    "fig.add_trace(go.Bar(\n",
    "    x=df_ife_production_overrep['productionLine'],\n",
    "    y=df_ife_production_overrep['ExpectedEmergencies'],\n",
    "    name='Expected Emergencies',\n",
    "    marker_color='orange'\n",
    "))\n",
    "\n",
    "# Customize layout\n",
    "fig.update_layout(\n",
    "    title='Top 5 Over-represented Outliers (Z-Test): Expected and Actual Emergency Frequencies vs. Aircraft Model',\n",
    "    xaxis=dict(title='Aircraft Model'),\n",
    "    yaxis=dict(title='Frequency'),\n",
    "    barmode='group',  # Group bars side by side\n",
    "    legend=dict(title='Legend'),\n",
    "    width=1400, \n",
    "    height=800,\n",
    "    paper_bgcolor='rgb(254, 246, 224)'\n",
    "    # template='plotly_white'\n",
    ")\n",
    "\n",
    "# Show the plot\n",
    "fig.show()"
   ]
  },
  {
   "cell_type": "markdown",
   "metadata": {},
   "source": [
    "---\n",
    "\n",
    "## 3. Odds Ratio (Relative Risk)\n",
    "An **odds ratio** measures how much more likely emergencies are for a particular model compared to its production proportion.\n",
    "\n",
    "### Formula:\n",
    "\\[\n",
    "OR = \\frac{\\text{Emergency proportion for a model}}{\\text{Production proportion for the same model}}\n",
    "\\]\n",
    "\n",
    "This method provides an intuitive measure of **overrepresentation** or **underrepresentation** of emergencies for a given plane model.\n",
    "\n"
   ]
  },
  {
   "cell_type": "code",
   "execution_count": 216,
   "metadata": {},
   "outputs": [
    {
     "data": {
      "text/html": [
       "<div>\n",
       "<style scoped>\n",
       "    .dataframe tbody tr th:only-of-type {\n",
       "        vertical-align: middle;\n",
       "    }\n",
       "\n",
       "    .dataframe tbody tr th {\n",
       "        vertical-align: top;\n",
       "    }\n",
       "\n",
       "    .dataframe thead th {\n",
       "        text-align: right;\n",
       "    }\n",
       "</style>\n",
       "<table border=\"1\" class=\"dataframe\">\n",
       "  <thead>\n",
       "    <tr style=\"text-align: right;\">\n",
       "      <th></th>\n",
       "      <th>productionLine</th>\n",
       "      <th>ife_count</th>\n",
       "      <th>production_amt</th>\n",
       "      <th>ife_count_rel</th>\n",
       "      <th>production_amt_rel</th>\n",
       "      <th>expected_ife_count</th>\n",
       "      <th>chi_stat_contributor</th>\n",
       "      <th>ExpectedProduction</th>\n",
       "      <th>ExpectedEmergencies</th>\n",
       "      <th>pooled_prop</th>\n",
       "      <th>z_val</th>\n",
       "      <th>odds_ratio</th>\n",
       "    </tr>\n",
       "  </thead>\n",
       "  <tbody>\n",
       "    <tr>\n",
       "      <th>0</th>\n",
       "      <td>ATR 72</td>\n",
       "      <td>2.0</td>\n",
       "      <td>1233.0</td>\n",
       "      <td>0.003155</td>\n",
       "      <td>0.028530</td>\n",
       "      <td>18.087880</td>\n",
       "      <td>14.309023</td>\n",
       "      <td>1217.144714</td>\n",
       "      <td>17.855286</td>\n",
       "      <td>0.028163</td>\n",
       "      <td>-3.834037</td>\n",
       "      <td>0.110571</td>\n",
       "    </tr>\n",
       "    <tr>\n",
       "      <th>1</th>\n",
       "      <td>Airbus A220</td>\n",
       "      <td>3.0</td>\n",
       "      <td>367.0</td>\n",
       "      <td>0.004732</td>\n",
       "      <td>0.008492</td>\n",
       "      <td>5.383822</td>\n",
       "      <td>1.055497</td>\n",
       "      <td>364.650643</td>\n",
       "      <td>5.349357</td>\n",
       "      <td>0.008437</td>\n",
       "      <td>-1.027544</td>\n",
       "      <td>0.557225</td>\n",
       "    </tr>\n",
       "    <tr>\n",
       "      <th>2</th>\n",
       "      <td>Airbus A300</td>\n",
       "      <td>10.0</td>\n",
       "      <td>561.0</td>\n",
       "      <td>0.015773</td>\n",
       "      <td>0.012981</td>\n",
       "      <td>8.229765</td>\n",
       "      <td>0.380780</td>\n",
       "      <td>562.744641</td>\n",
       "      <td>8.255359</td>\n",
       "      <td>0.013021</td>\n",
       "      <td>0.615668</td>\n",
       "      <td>1.215101</td>\n",
       "    </tr>\n",
       "    <tr>\n",
       "      <th>3</th>\n",
       "      <td>Airbus A319</td>\n",
       "      <td>44.0</td>\n",
       "      <td>1484.0</td>\n",
       "      <td>0.069401</td>\n",
       "      <td>0.034338</td>\n",
       "      <td>21.770003</td>\n",
       "      <td>22.699710</td>\n",
       "      <td>1505.908602</td>\n",
       "      <td>22.091398</td>\n",
       "      <td>0.034844</td>\n",
       "      <td>4.779327</td>\n",
       "      <td>2.021130</td>\n",
       "    </tr>\n",
       "    <tr>\n",
       "      <th>4</th>\n",
       "      <td>Airbus A320</td>\n",
       "      <td>99.0</td>\n",
       "      <td>4752.0</td>\n",
       "      <td>0.156151</td>\n",
       "      <td>0.109954</td>\n",
       "      <td>69.710954</td>\n",
       "      <td>12.305788</td>\n",
       "      <td>4780.865593</td>\n",
       "      <td>70.134407</td>\n",
       "      <td>0.110622</td>\n",
       "      <td>3.681579</td>\n",
       "      <td>1.420150</td>\n",
       "    </tr>\n",
       "  </tbody>\n",
       "</table>\n",
       "</div>"
      ],
      "text/plain": [
       "  productionLine  ife_count  production_amt  ife_count_rel  \\\n",
       "0         ATR 72        2.0          1233.0       0.003155   \n",
       "1    Airbus A220        3.0           367.0       0.004732   \n",
       "2    Airbus A300       10.0           561.0       0.015773   \n",
       "3    Airbus A319       44.0          1484.0       0.069401   \n",
       "4    Airbus A320       99.0          4752.0       0.156151   \n",
       "\n",
       "   production_amt_rel  expected_ife_count  chi_stat_contributor  \\\n",
       "0            0.028530           18.087880             14.309023   \n",
       "1            0.008492            5.383822              1.055497   \n",
       "2            0.012981            8.229765              0.380780   \n",
       "3            0.034338           21.770003             22.699710   \n",
       "4            0.109954           69.710954             12.305788   \n",
       "\n",
       "   ExpectedProduction  ExpectedEmergencies  pooled_prop     z_val  odds_ratio  \n",
       "0         1217.144714            17.855286     0.028163 -3.834037    0.110571  \n",
       "1          364.650643             5.349357     0.008437 -1.027544    0.557225  \n",
       "2          562.744641             8.255359     0.013021  0.615668    1.215101  \n",
       "3         1505.908602            22.091398     0.034844  4.779327    2.021130  \n",
       "4         4780.865593            70.134407     0.110622  3.681579    1.420150  "
      ]
     },
     "execution_count": 216,
     "metadata": {},
     "output_type": "execute_result"
    }
   ],
   "source": [
    "df_ife_production.sort_values(by='productionLine', inplace=True)\n",
    "df_ife_production['odds_ratio'] = df_ife_production.apply(lambda row : row['ife_count_rel']/row['production_amt_rel'], axis=1)\n",
    "\n",
    "df_ife_production.head()"
   ]
  },
  {
   "cell_type": "code",
   "execution_count": null,
   "metadata": {},
   "outputs": [
    {
     "data": {
      "application/vnd.plotly.v1+json": {
       "config": {
        "plotlyServerURL": "https://plot.ly"
       },
       "data": [
        {
         "marker": {
          "color": "green"
         },
         "name": "Observed Emergencies",
         "type": "bar",
         "x": [
          "Airbus A320 NEO",
          "Boeing 737 Classic",
          "Canadair CRJ",
          "Boeing 727",
          "Boeing 737 Original"
         ],
         "y": [
          1,
          5,
          1,
          1,
          1
         ]
        },
        {
         "marker": {
          "color": "orange"
         },
         "name": "Expected Emergencies",
         "type": "bar",
         "x": [
          "Airbus A320 NEO",
          "Boeing 737 Classic",
          "Canadair CRJ",
          "Boeing 727",
          "Boeing 737 Original"
         ],
         "y": [
          52.16345890723342,
          28.814238803247285,
          28.20701450332938,
          26.5010033749886,
          16.64083736203594
         ]
        }
       ],
       "layout": {
        "barmode": "group",
        "height": 800,
        "legend": {
         "title": {
          "text": "Legend"
         }
        },
        "paper_bgcolor": "rgb(254, 246, 224)",
        "template": {
         "data": {
          "bar": [
           {
            "error_x": {
             "color": "#2a3f5f"
            },
            "error_y": {
             "color": "#2a3f5f"
            },
            "marker": {
             "line": {
              "color": "#E5ECF6",
              "width": 0.5
             },
             "pattern": {
              "fillmode": "overlay",
              "size": 10,
              "solidity": 0.2
             }
            },
            "type": "bar"
           }
          ],
          "barpolar": [
           {
            "marker": {
             "line": {
              "color": "#E5ECF6",
              "width": 0.5
             },
             "pattern": {
              "fillmode": "overlay",
              "size": 10,
              "solidity": 0.2
             }
            },
            "type": "barpolar"
           }
          ],
          "carpet": [
           {
            "aaxis": {
             "endlinecolor": "#2a3f5f",
             "gridcolor": "white",
             "linecolor": "white",
             "minorgridcolor": "white",
             "startlinecolor": "#2a3f5f"
            },
            "baxis": {
             "endlinecolor": "#2a3f5f",
             "gridcolor": "white",
             "linecolor": "white",
             "minorgridcolor": "white",
             "startlinecolor": "#2a3f5f"
            },
            "type": "carpet"
           }
          ],
          "choropleth": [
           {
            "colorbar": {
             "outlinewidth": 0,
             "ticks": ""
            },
            "type": "choropleth"
           }
          ],
          "contour": [
           {
            "colorbar": {
             "outlinewidth": 0,
             "ticks": ""
            },
            "colorscale": [
             [
              0,
              "#0d0887"
             ],
             [
              0.1111111111111111,
              "#46039f"
             ],
             [
              0.2222222222222222,
              "#7201a8"
             ],
             [
              0.3333333333333333,
              "#9c179e"
             ],
             [
              0.4444444444444444,
              "#bd3786"
             ],
             [
              0.5555555555555556,
              "#d8576b"
             ],
             [
              0.6666666666666666,
              "#ed7953"
             ],
             [
              0.7777777777777778,
              "#fb9f3a"
             ],
             [
              0.8888888888888888,
              "#fdca26"
             ],
             [
              1,
              "#f0f921"
             ]
            ],
            "type": "contour"
           }
          ],
          "contourcarpet": [
           {
            "colorbar": {
             "outlinewidth": 0,
             "ticks": ""
            },
            "type": "contourcarpet"
           }
          ],
          "heatmap": [
           {
            "colorbar": {
             "outlinewidth": 0,
             "ticks": ""
            },
            "colorscale": [
             [
              0,
              "#0d0887"
             ],
             [
              0.1111111111111111,
              "#46039f"
             ],
             [
              0.2222222222222222,
              "#7201a8"
             ],
             [
              0.3333333333333333,
              "#9c179e"
             ],
             [
              0.4444444444444444,
              "#bd3786"
             ],
             [
              0.5555555555555556,
              "#d8576b"
             ],
             [
              0.6666666666666666,
              "#ed7953"
             ],
             [
              0.7777777777777778,
              "#fb9f3a"
             ],
             [
              0.8888888888888888,
              "#fdca26"
             ],
             [
              1,
              "#f0f921"
             ]
            ],
            "type": "heatmap"
           }
          ],
          "heatmapgl": [
           {
            "colorbar": {
             "outlinewidth": 0,
             "ticks": ""
            },
            "colorscale": [
             [
              0,
              "#0d0887"
             ],
             [
              0.1111111111111111,
              "#46039f"
             ],
             [
              0.2222222222222222,
              "#7201a8"
             ],
             [
              0.3333333333333333,
              "#9c179e"
             ],
             [
              0.4444444444444444,
              "#bd3786"
             ],
             [
              0.5555555555555556,
              "#d8576b"
             ],
             [
              0.6666666666666666,
              "#ed7953"
             ],
             [
              0.7777777777777778,
              "#fb9f3a"
             ],
             [
              0.8888888888888888,
              "#fdca26"
             ],
             [
              1,
              "#f0f921"
             ]
            ],
            "type": "heatmapgl"
           }
          ],
          "histogram": [
           {
            "marker": {
             "pattern": {
              "fillmode": "overlay",
              "size": 10,
              "solidity": 0.2
             }
            },
            "type": "histogram"
           }
          ],
          "histogram2d": [
           {
            "colorbar": {
             "outlinewidth": 0,
             "ticks": ""
            },
            "colorscale": [
             [
              0,
              "#0d0887"
             ],
             [
              0.1111111111111111,
              "#46039f"
             ],
             [
              0.2222222222222222,
              "#7201a8"
             ],
             [
              0.3333333333333333,
              "#9c179e"
             ],
             [
              0.4444444444444444,
              "#bd3786"
             ],
             [
              0.5555555555555556,
              "#d8576b"
             ],
             [
              0.6666666666666666,
              "#ed7953"
             ],
             [
              0.7777777777777778,
              "#fb9f3a"
             ],
             [
              0.8888888888888888,
              "#fdca26"
             ],
             [
              1,
              "#f0f921"
             ]
            ],
            "type": "histogram2d"
           }
          ],
          "histogram2dcontour": [
           {
            "colorbar": {
             "outlinewidth": 0,
             "ticks": ""
            },
            "colorscale": [
             [
              0,
              "#0d0887"
             ],
             [
              0.1111111111111111,
              "#46039f"
             ],
             [
              0.2222222222222222,
              "#7201a8"
             ],
             [
              0.3333333333333333,
              "#9c179e"
             ],
             [
              0.4444444444444444,
              "#bd3786"
             ],
             [
              0.5555555555555556,
              "#d8576b"
             ],
             [
              0.6666666666666666,
              "#ed7953"
             ],
             [
              0.7777777777777778,
              "#fb9f3a"
             ],
             [
              0.8888888888888888,
              "#fdca26"
             ],
             [
              1,
              "#f0f921"
             ]
            ],
            "type": "histogram2dcontour"
           }
          ],
          "mesh3d": [
           {
            "colorbar": {
             "outlinewidth": 0,
             "ticks": ""
            },
            "type": "mesh3d"
           }
          ],
          "parcoords": [
           {
            "line": {
             "colorbar": {
              "outlinewidth": 0,
              "ticks": ""
             }
            },
            "type": "parcoords"
           }
          ],
          "pie": [
           {
            "automargin": true,
            "type": "pie"
           }
          ],
          "scatter": [
           {
            "fillpattern": {
             "fillmode": "overlay",
             "size": 10,
             "solidity": 0.2
            },
            "type": "scatter"
           }
          ],
          "scatter3d": [
           {
            "line": {
             "colorbar": {
              "outlinewidth": 0,
              "ticks": ""
             }
            },
            "marker": {
             "colorbar": {
              "outlinewidth": 0,
              "ticks": ""
             }
            },
            "type": "scatter3d"
           }
          ],
          "scattercarpet": [
           {
            "marker": {
             "colorbar": {
              "outlinewidth": 0,
              "ticks": ""
             }
            },
            "type": "scattercarpet"
           }
          ],
          "scattergeo": [
           {
            "marker": {
             "colorbar": {
              "outlinewidth": 0,
              "ticks": ""
             }
            },
            "type": "scattergeo"
           }
          ],
          "scattergl": [
           {
            "marker": {
             "colorbar": {
              "outlinewidth": 0,
              "ticks": ""
             }
            },
            "type": "scattergl"
           }
          ],
          "scattermapbox": [
           {
            "marker": {
             "colorbar": {
              "outlinewidth": 0,
              "ticks": ""
             }
            },
            "type": "scattermapbox"
           }
          ],
          "scatterpolar": [
           {
            "marker": {
             "colorbar": {
              "outlinewidth": 0,
              "ticks": ""
             }
            },
            "type": "scatterpolar"
           }
          ],
          "scatterpolargl": [
           {
            "marker": {
             "colorbar": {
              "outlinewidth": 0,
              "ticks": ""
             }
            },
            "type": "scatterpolargl"
           }
          ],
          "scatterternary": [
           {
            "marker": {
             "colorbar": {
              "outlinewidth": 0,
              "ticks": ""
             }
            },
            "type": "scatterternary"
           }
          ],
          "surface": [
           {
            "colorbar": {
             "outlinewidth": 0,
             "ticks": ""
            },
            "colorscale": [
             [
              0,
              "#0d0887"
             ],
             [
              0.1111111111111111,
              "#46039f"
             ],
             [
              0.2222222222222222,
              "#7201a8"
             ],
             [
              0.3333333333333333,
              "#9c179e"
             ],
             [
              0.4444444444444444,
              "#bd3786"
             ],
             [
              0.5555555555555556,
              "#d8576b"
             ],
             [
              0.6666666666666666,
              "#ed7953"
             ],
             [
              0.7777777777777778,
              "#fb9f3a"
             ],
             [
              0.8888888888888888,
              "#fdca26"
             ],
             [
              1,
              "#f0f921"
             ]
            ],
            "type": "surface"
           }
          ],
          "table": [
           {
            "cells": {
             "fill": {
              "color": "#EBF0F8"
             },
             "line": {
              "color": "white"
             }
            },
            "header": {
             "fill": {
              "color": "#C8D4E3"
             },
             "line": {
              "color": "white"
             }
            },
            "type": "table"
           }
          ]
         },
         "layout": {
          "annotationdefaults": {
           "arrowcolor": "#2a3f5f",
           "arrowhead": 0,
           "arrowwidth": 1
          },
          "autotypenumbers": "strict",
          "coloraxis": {
           "colorbar": {
            "outlinewidth": 0,
            "ticks": ""
           }
          },
          "colorscale": {
           "diverging": [
            [
             0,
             "#8e0152"
            ],
            [
             0.1,
             "#c51b7d"
            ],
            [
             0.2,
             "#de77ae"
            ],
            [
             0.3,
             "#f1b6da"
            ],
            [
             0.4,
             "#fde0ef"
            ],
            [
             0.5,
             "#f7f7f7"
            ],
            [
             0.6,
             "#e6f5d0"
            ],
            [
             0.7,
             "#b8e186"
            ],
            [
             0.8,
             "#7fbc41"
            ],
            [
             0.9,
             "#4d9221"
            ],
            [
             1,
             "#276419"
            ]
           ],
           "sequential": [
            [
             0,
             "#0d0887"
            ],
            [
             0.1111111111111111,
             "#46039f"
            ],
            [
             0.2222222222222222,
             "#7201a8"
            ],
            [
             0.3333333333333333,
             "#9c179e"
            ],
            [
             0.4444444444444444,
             "#bd3786"
            ],
            [
             0.5555555555555556,
             "#d8576b"
            ],
            [
             0.6666666666666666,
             "#ed7953"
            ],
            [
             0.7777777777777778,
             "#fb9f3a"
            ],
            [
             0.8888888888888888,
             "#fdca26"
            ],
            [
             1,
             "#f0f921"
            ]
           ],
           "sequentialminus": [
            [
             0,
             "#0d0887"
            ],
            [
             0.1111111111111111,
             "#46039f"
            ],
            [
             0.2222222222222222,
             "#7201a8"
            ],
            [
             0.3333333333333333,
             "#9c179e"
            ],
            [
             0.4444444444444444,
             "#bd3786"
            ],
            [
             0.5555555555555556,
             "#d8576b"
            ],
            [
             0.6666666666666666,
             "#ed7953"
            ],
            [
             0.7777777777777778,
             "#fb9f3a"
            ],
            [
             0.8888888888888888,
             "#fdca26"
            ],
            [
             1,
             "#f0f921"
            ]
           ]
          },
          "colorway": [
           "#636efa",
           "#EF553B",
           "#00cc96",
           "#ab63fa",
           "#FFA15A",
           "#19d3f3",
           "#FF6692",
           "#B6E880",
           "#FF97FF",
           "#FECB52"
          ],
          "font": {
           "color": "#2a3f5f"
          },
          "geo": {
           "bgcolor": "white",
           "lakecolor": "white",
           "landcolor": "#E5ECF6",
           "showlakes": true,
           "showland": true,
           "subunitcolor": "white"
          },
          "hoverlabel": {
           "align": "left"
          },
          "hovermode": "closest",
          "mapbox": {
           "style": "light"
          },
          "paper_bgcolor": "white",
          "plot_bgcolor": "#E5ECF6",
          "polar": {
           "angularaxis": {
            "gridcolor": "white",
            "linecolor": "white",
            "ticks": ""
           },
           "bgcolor": "#E5ECF6",
           "radialaxis": {
            "gridcolor": "white",
            "linecolor": "white",
            "ticks": ""
           }
          },
          "scene": {
           "xaxis": {
            "backgroundcolor": "#E5ECF6",
            "gridcolor": "white",
            "gridwidth": 2,
            "linecolor": "white",
            "showbackground": true,
            "ticks": "",
            "zerolinecolor": "white"
           },
           "yaxis": {
            "backgroundcolor": "#E5ECF6",
            "gridcolor": "white",
            "gridwidth": 2,
            "linecolor": "white",
            "showbackground": true,
            "ticks": "",
            "zerolinecolor": "white"
           },
           "zaxis": {
            "backgroundcolor": "#E5ECF6",
            "gridcolor": "white",
            "gridwidth": 2,
            "linecolor": "white",
            "showbackground": true,
            "ticks": "",
            "zerolinecolor": "white"
           }
          },
          "shapedefaults": {
           "line": {
            "color": "#2a3f5f"
           }
          },
          "ternary": {
           "aaxis": {
            "gridcolor": "white",
            "linecolor": "white",
            "ticks": ""
           },
           "baxis": {
            "gridcolor": "white",
            "linecolor": "white",
            "ticks": ""
           },
           "bgcolor": "#E5ECF6",
           "caxis": {
            "gridcolor": "white",
            "linecolor": "white",
            "ticks": ""
           }
          },
          "title": {
           "x": 0.05
          },
          "xaxis": {
           "automargin": true,
           "gridcolor": "white",
           "linecolor": "white",
           "ticks": "",
           "title": {
            "standoff": 15
           },
           "zerolinecolor": "white",
           "zerolinewidth": 2
          },
          "yaxis": {
           "automargin": true,
           "gridcolor": "white",
           "linecolor": "white",
           "ticks": "",
           "title": {
            "standoff": 15
           },
           "zerolinecolor": "white",
           "zerolinewidth": 2
          }
         }
        },
        "title": {
         "text": "Top 5 Under-represented Outliers (Z-Test): Normalized Production and Emergency Frequencies vs. Aircraft Model"
        },
        "width": 1400,
        "xaxis": {
         "title": {
          "text": "Aircraft Model"
         }
        },
        "yaxis": {
         "title": {
          "text": "Frequency"
         }
        }
       }
      }
     },
     "metadata": {},
     "output_type": "display_data"
    }
   ],
   "source": [
    "df_ife_production_underrep_odds = df_ife_production.sort_values(by='odds_ratio').head()\n",
    "df_ife_production_underrep.sort_values(by='ExpectedEmergencies',ascending=False, inplace=True)\n",
    "\n",
    "# Plot using Plotly\n",
    "fig = go.Figure()\n",
    "\n",
    "# Add bars for actual emergencies\n",
    "fig.add_trace(go.Bar(\n",
    "    x=df_ife_production_underrep['productionLine'],\n",
    "    y=df_ife_production_underrep['ife_count'],\n",
    "    name='Observed Emergencies',\n",
    "    marker_color='green'\n",
    "))\n",
    "\n",
    "# Add bars for expected emergencies\n",
    "fig.add_trace(go.Bar(\n",
    "    x=df_ife_production_underrep['productionLine'],\n",
    "    y=df_ife_production_underrep['ExpectedEmergencies'],\n",
    "    name='Expected Emergencies',\n",
    "    marker_color='orange'\n",
    "))\n",
    "\n",
    "# Customize layout\n",
    "fig.update_layout(\n",
    "    title='Top 5 Under-represented Outliers (Odds Ratio): Normalized Production and Emergency Frequencies vs. Aircraft Model',\n",
    "    xaxis=dict(title='Aircraft Model'),\n",
    "    yaxis=dict(title='Frequency'),\n",
    "    barmode='group',  # Group bars side by side\n",
    "    legend=dict(title='Legend'),\n",
    "    width=1400, \n",
    "    height=800,\n",
    "    paper_bgcolor='rgb(254, 246, 224)'\n",
    "    # template='plotly_white'\n",
    ")\n",
    "\n",
    "# Show the plot\n",
    "fig.show()"
   ]
  },
  {
   "cell_type": "code",
   "execution_count": null,
   "metadata": {},
   "outputs": [
    {
     "data": {
      "application/vnd.plotly.v1+json": {
       "config": {
        "plotlyServerURL": "https://plot.ly"
       },
       "data": [
        {
         "marker": {
          "color": "red"
         },
         "name": "Observed Emergencies",
         "type": "bar",
         "x": [
          "Airbus A319",
          "Canadair CRJ 900",
          "Canadair CRJ 100",
          "Embraer ERJ170",
          "McDonnell Douglas MD-11"
         ],
         "y": [
          44,
          15,
          8,
          33,
          7
         ]
        },
        {
         "marker": {
          "color": "orange"
         },
         "name": "Expected Emergencies",
         "type": "bar",
         "x": [
          "Airbus A319",
          "Canadair CRJ 900",
          "Canadair CRJ 100",
          "Embraer ERJ170",
          "McDonnell Douglas MD-11"
         ],
         "y": [
          22.091398339870473,
          7.445726534707653,
          3.3831068138283316,
          3.224071878135547,
          2.992748335309678
         ]
        }
       ],
       "layout": {
        "barmode": "group",
        "height": 800,
        "legend": {
         "title": {
          "text": "Legend"
         }
        },
        "paper_bgcolor": "rgb(254, 246, 224)",
        "template": {
         "data": {
          "bar": [
           {
            "error_x": {
             "color": "#2a3f5f"
            },
            "error_y": {
             "color": "#2a3f5f"
            },
            "marker": {
             "line": {
              "color": "#E5ECF6",
              "width": 0.5
             },
             "pattern": {
              "fillmode": "overlay",
              "size": 10,
              "solidity": 0.2
             }
            },
            "type": "bar"
           }
          ],
          "barpolar": [
           {
            "marker": {
             "line": {
              "color": "#E5ECF6",
              "width": 0.5
             },
             "pattern": {
              "fillmode": "overlay",
              "size": 10,
              "solidity": 0.2
             }
            },
            "type": "barpolar"
           }
          ],
          "carpet": [
           {
            "aaxis": {
             "endlinecolor": "#2a3f5f",
             "gridcolor": "white",
             "linecolor": "white",
             "minorgridcolor": "white",
             "startlinecolor": "#2a3f5f"
            },
            "baxis": {
             "endlinecolor": "#2a3f5f",
             "gridcolor": "white",
             "linecolor": "white",
             "minorgridcolor": "white",
             "startlinecolor": "#2a3f5f"
            },
            "type": "carpet"
           }
          ],
          "choropleth": [
           {
            "colorbar": {
             "outlinewidth": 0,
             "ticks": ""
            },
            "type": "choropleth"
           }
          ],
          "contour": [
           {
            "colorbar": {
             "outlinewidth": 0,
             "ticks": ""
            },
            "colorscale": [
             [
              0,
              "#0d0887"
             ],
             [
              0.1111111111111111,
              "#46039f"
             ],
             [
              0.2222222222222222,
              "#7201a8"
             ],
             [
              0.3333333333333333,
              "#9c179e"
             ],
             [
              0.4444444444444444,
              "#bd3786"
             ],
             [
              0.5555555555555556,
              "#d8576b"
             ],
             [
              0.6666666666666666,
              "#ed7953"
             ],
             [
              0.7777777777777778,
              "#fb9f3a"
             ],
             [
              0.8888888888888888,
              "#fdca26"
             ],
             [
              1,
              "#f0f921"
             ]
            ],
            "type": "contour"
           }
          ],
          "contourcarpet": [
           {
            "colorbar": {
             "outlinewidth": 0,
             "ticks": ""
            },
            "type": "contourcarpet"
           }
          ],
          "heatmap": [
           {
            "colorbar": {
             "outlinewidth": 0,
             "ticks": ""
            },
            "colorscale": [
             [
              0,
              "#0d0887"
             ],
             [
              0.1111111111111111,
              "#46039f"
             ],
             [
              0.2222222222222222,
              "#7201a8"
             ],
             [
              0.3333333333333333,
              "#9c179e"
             ],
             [
              0.4444444444444444,
              "#bd3786"
             ],
             [
              0.5555555555555556,
              "#d8576b"
             ],
             [
              0.6666666666666666,
              "#ed7953"
             ],
             [
              0.7777777777777778,
              "#fb9f3a"
             ],
             [
              0.8888888888888888,
              "#fdca26"
             ],
             [
              1,
              "#f0f921"
             ]
            ],
            "type": "heatmap"
           }
          ],
          "heatmapgl": [
           {
            "colorbar": {
             "outlinewidth": 0,
             "ticks": ""
            },
            "colorscale": [
             [
              0,
              "#0d0887"
             ],
             [
              0.1111111111111111,
              "#46039f"
             ],
             [
              0.2222222222222222,
              "#7201a8"
             ],
             [
              0.3333333333333333,
              "#9c179e"
             ],
             [
              0.4444444444444444,
              "#bd3786"
             ],
             [
              0.5555555555555556,
              "#d8576b"
             ],
             [
              0.6666666666666666,
              "#ed7953"
             ],
             [
              0.7777777777777778,
              "#fb9f3a"
             ],
             [
              0.8888888888888888,
              "#fdca26"
             ],
             [
              1,
              "#f0f921"
             ]
            ],
            "type": "heatmapgl"
           }
          ],
          "histogram": [
           {
            "marker": {
             "pattern": {
              "fillmode": "overlay",
              "size": 10,
              "solidity": 0.2
             }
            },
            "type": "histogram"
           }
          ],
          "histogram2d": [
           {
            "colorbar": {
             "outlinewidth": 0,
             "ticks": ""
            },
            "colorscale": [
             [
              0,
              "#0d0887"
             ],
             [
              0.1111111111111111,
              "#46039f"
             ],
             [
              0.2222222222222222,
              "#7201a8"
             ],
             [
              0.3333333333333333,
              "#9c179e"
             ],
             [
              0.4444444444444444,
              "#bd3786"
             ],
             [
              0.5555555555555556,
              "#d8576b"
             ],
             [
              0.6666666666666666,
              "#ed7953"
             ],
             [
              0.7777777777777778,
              "#fb9f3a"
             ],
             [
              0.8888888888888888,
              "#fdca26"
             ],
             [
              1,
              "#f0f921"
             ]
            ],
            "type": "histogram2d"
           }
          ],
          "histogram2dcontour": [
           {
            "colorbar": {
             "outlinewidth": 0,
             "ticks": ""
            },
            "colorscale": [
             [
              0,
              "#0d0887"
             ],
             [
              0.1111111111111111,
              "#46039f"
             ],
             [
              0.2222222222222222,
              "#7201a8"
             ],
             [
              0.3333333333333333,
              "#9c179e"
             ],
             [
              0.4444444444444444,
              "#bd3786"
             ],
             [
              0.5555555555555556,
              "#d8576b"
             ],
             [
              0.6666666666666666,
              "#ed7953"
             ],
             [
              0.7777777777777778,
              "#fb9f3a"
             ],
             [
              0.8888888888888888,
              "#fdca26"
             ],
             [
              1,
              "#f0f921"
             ]
            ],
            "type": "histogram2dcontour"
           }
          ],
          "mesh3d": [
           {
            "colorbar": {
             "outlinewidth": 0,
             "ticks": ""
            },
            "type": "mesh3d"
           }
          ],
          "parcoords": [
           {
            "line": {
             "colorbar": {
              "outlinewidth": 0,
              "ticks": ""
             }
            },
            "type": "parcoords"
           }
          ],
          "pie": [
           {
            "automargin": true,
            "type": "pie"
           }
          ],
          "scatter": [
           {
            "fillpattern": {
             "fillmode": "overlay",
             "size": 10,
             "solidity": 0.2
            },
            "type": "scatter"
           }
          ],
          "scatter3d": [
           {
            "line": {
             "colorbar": {
              "outlinewidth": 0,
              "ticks": ""
             }
            },
            "marker": {
             "colorbar": {
              "outlinewidth": 0,
              "ticks": ""
             }
            },
            "type": "scatter3d"
           }
          ],
          "scattercarpet": [
           {
            "marker": {
             "colorbar": {
              "outlinewidth": 0,
              "ticks": ""
             }
            },
            "type": "scattercarpet"
           }
          ],
          "scattergeo": [
           {
            "marker": {
             "colorbar": {
              "outlinewidth": 0,
              "ticks": ""
             }
            },
            "type": "scattergeo"
           }
          ],
          "scattergl": [
           {
            "marker": {
             "colorbar": {
              "outlinewidth": 0,
              "ticks": ""
             }
            },
            "type": "scattergl"
           }
          ],
          "scattermapbox": [
           {
            "marker": {
             "colorbar": {
              "outlinewidth": 0,
              "ticks": ""
             }
            },
            "type": "scattermapbox"
           }
          ],
          "scatterpolar": [
           {
            "marker": {
             "colorbar": {
              "outlinewidth": 0,
              "ticks": ""
             }
            },
            "type": "scatterpolar"
           }
          ],
          "scatterpolargl": [
           {
            "marker": {
             "colorbar": {
              "outlinewidth": 0,
              "ticks": ""
             }
            },
            "type": "scatterpolargl"
           }
          ],
          "scatterternary": [
           {
            "marker": {
             "colorbar": {
              "outlinewidth": 0,
              "ticks": ""
             }
            },
            "type": "scatterternary"
           }
          ],
          "surface": [
           {
            "colorbar": {
             "outlinewidth": 0,
             "ticks": ""
            },
            "colorscale": [
             [
              0,
              "#0d0887"
             ],
             [
              0.1111111111111111,
              "#46039f"
             ],
             [
              0.2222222222222222,
              "#7201a8"
             ],
             [
              0.3333333333333333,
              "#9c179e"
             ],
             [
              0.4444444444444444,
              "#bd3786"
             ],
             [
              0.5555555555555556,
              "#d8576b"
             ],
             [
              0.6666666666666666,
              "#ed7953"
             ],
             [
              0.7777777777777778,
              "#fb9f3a"
             ],
             [
              0.8888888888888888,
              "#fdca26"
             ],
             [
              1,
              "#f0f921"
             ]
            ],
            "type": "surface"
           }
          ],
          "table": [
           {
            "cells": {
             "fill": {
              "color": "#EBF0F8"
             },
             "line": {
              "color": "white"
             }
            },
            "header": {
             "fill": {
              "color": "#C8D4E3"
             },
             "line": {
              "color": "white"
             }
            },
            "type": "table"
           }
          ]
         },
         "layout": {
          "annotationdefaults": {
           "arrowcolor": "#2a3f5f",
           "arrowhead": 0,
           "arrowwidth": 1
          },
          "autotypenumbers": "strict",
          "coloraxis": {
           "colorbar": {
            "outlinewidth": 0,
            "ticks": ""
           }
          },
          "colorscale": {
           "diverging": [
            [
             0,
             "#8e0152"
            ],
            [
             0.1,
             "#c51b7d"
            ],
            [
             0.2,
             "#de77ae"
            ],
            [
             0.3,
             "#f1b6da"
            ],
            [
             0.4,
             "#fde0ef"
            ],
            [
             0.5,
             "#f7f7f7"
            ],
            [
             0.6,
             "#e6f5d0"
            ],
            [
             0.7,
             "#b8e186"
            ],
            [
             0.8,
             "#7fbc41"
            ],
            [
             0.9,
             "#4d9221"
            ],
            [
             1,
             "#276419"
            ]
           ],
           "sequential": [
            [
             0,
             "#0d0887"
            ],
            [
             0.1111111111111111,
             "#46039f"
            ],
            [
             0.2222222222222222,
             "#7201a8"
            ],
            [
             0.3333333333333333,
             "#9c179e"
            ],
            [
             0.4444444444444444,
             "#bd3786"
            ],
            [
             0.5555555555555556,
             "#d8576b"
            ],
            [
             0.6666666666666666,
             "#ed7953"
            ],
            [
             0.7777777777777778,
             "#fb9f3a"
            ],
            [
             0.8888888888888888,
             "#fdca26"
            ],
            [
             1,
             "#f0f921"
            ]
           ],
           "sequentialminus": [
            [
             0,
             "#0d0887"
            ],
            [
             0.1111111111111111,
             "#46039f"
            ],
            [
             0.2222222222222222,
             "#7201a8"
            ],
            [
             0.3333333333333333,
             "#9c179e"
            ],
            [
             0.4444444444444444,
             "#bd3786"
            ],
            [
             0.5555555555555556,
             "#d8576b"
            ],
            [
             0.6666666666666666,
             "#ed7953"
            ],
            [
             0.7777777777777778,
             "#fb9f3a"
            ],
            [
             0.8888888888888888,
             "#fdca26"
            ],
            [
             1,
             "#f0f921"
            ]
           ]
          },
          "colorway": [
           "#636efa",
           "#EF553B",
           "#00cc96",
           "#ab63fa",
           "#FFA15A",
           "#19d3f3",
           "#FF6692",
           "#B6E880",
           "#FF97FF",
           "#FECB52"
          ],
          "font": {
           "color": "#2a3f5f"
          },
          "geo": {
           "bgcolor": "white",
           "lakecolor": "white",
           "landcolor": "#E5ECF6",
           "showlakes": true,
           "showland": true,
           "subunitcolor": "white"
          },
          "hoverlabel": {
           "align": "left"
          },
          "hovermode": "closest",
          "mapbox": {
           "style": "light"
          },
          "paper_bgcolor": "white",
          "plot_bgcolor": "#E5ECF6",
          "polar": {
           "angularaxis": {
            "gridcolor": "white",
            "linecolor": "white",
            "ticks": ""
           },
           "bgcolor": "#E5ECF6",
           "radialaxis": {
            "gridcolor": "white",
            "linecolor": "white",
            "ticks": ""
           }
          },
          "scene": {
           "xaxis": {
            "backgroundcolor": "#E5ECF6",
            "gridcolor": "white",
            "gridwidth": 2,
            "linecolor": "white",
            "showbackground": true,
            "ticks": "",
            "zerolinecolor": "white"
           },
           "yaxis": {
            "backgroundcolor": "#E5ECF6",
            "gridcolor": "white",
            "gridwidth": 2,
            "linecolor": "white",
            "showbackground": true,
            "ticks": "",
            "zerolinecolor": "white"
           },
           "zaxis": {
            "backgroundcolor": "#E5ECF6",
            "gridcolor": "white",
            "gridwidth": 2,
            "linecolor": "white",
            "showbackground": true,
            "ticks": "",
            "zerolinecolor": "white"
           }
          },
          "shapedefaults": {
           "line": {
            "color": "#2a3f5f"
           }
          },
          "ternary": {
           "aaxis": {
            "gridcolor": "white",
            "linecolor": "white",
            "ticks": ""
           },
           "baxis": {
            "gridcolor": "white",
            "linecolor": "white",
            "ticks": ""
           },
           "bgcolor": "#E5ECF6",
           "caxis": {
            "gridcolor": "white",
            "linecolor": "white",
            "ticks": ""
           }
          },
          "title": {
           "x": 0.05
          },
          "xaxis": {
           "automargin": true,
           "gridcolor": "white",
           "linecolor": "white",
           "ticks": "",
           "title": {
            "standoff": 15
           },
           "zerolinecolor": "white",
           "zerolinewidth": 2
          },
          "yaxis": {
           "automargin": true,
           "gridcolor": "white",
           "linecolor": "white",
           "ticks": "",
           "title": {
            "standoff": 15
           },
           "zerolinecolor": "white",
           "zerolinewidth": 2
          }
         }
        },
        "title": {
         "text": "Top 5 Over-represented Outliers (Z-Test): Normalized Production and Emergency Frequencies vs. Aircraft Model"
        },
        "width": 1400,
        "xaxis": {
         "title": {
          "text": "Aircraft Model"
         }
        },
        "yaxis": {
         "title": {
          "text": "Frequency"
         }
        }
       }
      }
     },
     "metadata": {},
     "output_type": "display_data"
    }
   ],
   "source": [
    "df_ife_production_overrep = df_ife_production.sort_values(by='odds_ratio',ascending=False).head()\n",
    "df_ife_production_overrep.sort_values(by='ExpectedEmergencies',ascending=False, inplace=True)\n",
    "# Plot using Plotly\n",
    "fig = go.Figure()\n",
    "\n",
    "# Add bars for actual emergencies\n",
    "fig.add_trace(go.Bar(\n",
    "    x=df_ife_production_overrep['productionLine'],\n",
    "    y=df_ife_production_overrep['ife_count'],\n",
    "    name='Observed Emergencies',\n",
    "    marker_color='red'\n",
    "))\n",
    "\n",
    "# Add bars for expected emergencies\n",
    "fig.add_trace(go.Bar(\n",
    "    x=df_ife_production_overrep['productionLine'],\n",
    "    y=df_ife_production_overrep['ExpectedEmergencies'],\n",
    "    name='Expected Emergencies',\n",
    "    marker_color='orange'\n",
    "))\n",
    "\n",
    "# Customize layout\n",
    "fig.update_layout(\n",
    "    title='Top 5 Over-represented Outliers (Odds Ratio): Normalized Production and Emergency Frequencies vs. Aircraft Model',\n",
    "    xaxis=dict(title='Aircraft Model'),\n",
    "    yaxis=dict(title='Frequency'),\n",
    "    barmode='group',  # Group bars side by side\n",
    "    legend=dict(title='Legend'),\n",
    "    width=1400, \n",
    "    height=800,\n",
    "    paper_bgcolor='rgb(254, 246, 224)'\n",
    "    # template='plotly_white'\n",
    ")\n",
    "\n",
    "# Show the plot\n",
    "fig.show()"
   ]
  },
  {
   "cell_type": "markdown",
   "metadata": {},
   "source": [
    "## 4. Visualization and Deviation Analysis\n",
    "If a formal hypothesis test isn’t required, a **visual comparison** can help highlight differences:\n",
    "\n",
    "1. **Plot both relative frequencies** (emergencies and production) on the same bar chart.\n",
    "2. Highlight deviations using a **residual calculation**:\n",
    "   \\[\n",
    "   Residual = \\text{Observed relative frequency (emergencies)} - \\text{Expected relative frequency (production)}\n",
    "   \\]\n",
    "\n"
   ]
  },
  {
   "cell_type": "code",
   "execution_count": 219,
   "metadata": {},
   "outputs": [
    {
     "data": {
      "text/html": [
       "<div>\n",
       "<style scoped>\n",
       "    .dataframe tbody tr th:only-of-type {\n",
       "        vertical-align: middle;\n",
       "    }\n",
       "\n",
       "    .dataframe tbody tr th {\n",
       "        vertical-align: top;\n",
       "    }\n",
       "\n",
       "    .dataframe thead th {\n",
       "        text-align: right;\n",
       "    }\n",
       "</style>\n",
       "<table border=\"1\" class=\"dataframe\">\n",
       "  <thead>\n",
       "    <tr style=\"text-align: right;\">\n",
       "      <th></th>\n",
       "      <th>productionLine</th>\n",
       "      <th>ife_count</th>\n",
       "      <th>production_amt</th>\n",
       "      <th>ife_count_rel</th>\n",
       "      <th>production_amt_rel</th>\n",
       "      <th>expected_ife_count</th>\n",
       "      <th>chi_stat_contributor</th>\n",
       "      <th>ExpectedProduction</th>\n",
       "      <th>ExpectedEmergencies</th>\n",
       "      <th>pooled_prop</th>\n",
       "      <th>z_val</th>\n",
       "      <th>odds_ratio</th>\n",
       "      <th>residual</th>\n",
       "    </tr>\n",
       "  </thead>\n",
       "  <tbody>\n",
       "    <tr>\n",
       "      <th>0</th>\n",
       "      <td>ATR 72</td>\n",
       "      <td>2.0</td>\n",
       "      <td>1233.0</td>\n",
       "      <td>0.003155</td>\n",
       "      <td>0.028530</td>\n",
       "      <td>18.087880</td>\n",
       "      <td>14.309023</td>\n",
       "      <td>1217.144714</td>\n",
       "      <td>17.855286</td>\n",
       "      <td>0.028163</td>\n",
       "      <td>-3.834037</td>\n",
       "      <td>0.110571</td>\n",
       "      <td>-0.025375</td>\n",
       "    </tr>\n",
       "    <tr>\n",
       "      <th>1</th>\n",
       "      <td>Airbus A220</td>\n",
       "      <td>3.0</td>\n",
       "      <td>367.0</td>\n",
       "      <td>0.004732</td>\n",
       "      <td>0.008492</td>\n",
       "      <td>5.383822</td>\n",
       "      <td>1.055497</td>\n",
       "      <td>364.650643</td>\n",
       "      <td>5.349357</td>\n",
       "      <td>0.008437</td>\n",
       "      <td>-1.027544</td>\n",
       "      <td>0.557225</td>\n",
       "      <td>-0.003760</td>\n",
       "    </tr>\n",
       "    <tr>\n",
       "      <th>2</th>\n",
       "      <td>Airbus A300</td>\n",
       "      <td>10.0</td>\n",
       "      <td>561.0</td>\n",
       "      <td>0.015773</td>\n",
       "      <td>0.012981</td>\n",
       "      <td>8.229765</td>\n",
       "      <td>0.380780</td>\n",
       "      <td>562.744641</td>\n",
       "      <td>8.255359</td>\n",
       "      <td>0.013021</td>\n",
       "      <td>0.615668</td>\n",
       "      <td>1.215101</td>\n",
       "      <td>0.002792</td>\n",
       "    </tr>\n",
       "    <tr>\n",
       "      <th>3</th>\n",
       "      <td>Airbus A319</td>\n",
       "      <td>44.0</td>\n",
       "      <td>1484.0</td>\n",
       "      <td>0.069401</td>\n",
       "      <td>0.034338</td>\n",
       "      <td>21.770003</td>\n",
       "      <td>22.699710</td>\n",
       "      <td>1505.908602</td>\n",
       "      <td>22.091398</td>\n",
       "      <td>0.034844</td>\n",
       "      <td>4.779327</td>\n",
       "      <td>2.021130</td>\n",
       "      <td>0.035063</td>\n",
       "    </tr>\n",
       "    <tr>\n",
       "      <th>4</th>\n",
       "      <td>Airbus A320</td>\n",
       "      <td>99.0</td>\n",
       "      <td>4752.0</td>\n",
       "      <td>0.156151</td>\n",
       "      <td>0.109954</td>\n",
       "      <td>69.710954</td>\n",
       "      <td>12.305788</td>\n",
       "      <td>4780.865593</td>\n",
       "      <td>70.134407</td>\n",
       "      <td>0.110622</td>\n",
       "      <td>3.681579</td>\n",
       "      <td>1.420150</td>\n",
       "      <td>0.046197</td>\n",
       "    </tr>\n",
       "  </tbody>\n",
       "</table>\n",
       "</div>"
      ],
      "text/plain": [
       "  productionLine  ife_count  production_amt  ife_count_rel  \\\n",
       "0         ATR 72        2.0          1233.0       0.003155   \n",
       "1    Airbus A220        3.0           367.0       0.004732   \n",
       "2    Airbus A300       10.0           561.0       0.015773   \n",
       "3    Airbus A319       44.0          1484.0       0.069401   \n",
       "4    Airbus A320       99.0          4752.0       0.156151   \n",
       "\n",
       "   production_amt_rel  expected_ife_count  chi_stat_contributor  \\\n",
       "0            0.028530           18.087880             14.309023   \n",
       "1            0.008492            5.383822              1.055497   \n",
       "2            0.012981            8.229765              0.380780   \n",
       "3            0.034338           21.770003             22.699710   \n",
       "4            0.109954           69.710954             12.305788   \n",
       "\n",
       "   ExpectedProduction  ExpectedEmergencies  pooled_prop     z_val  odds_ratio  \\\n",
       "0         1217.144714            17.855286     0.028163 -3.834037    0.110571   \n",
       "1          364.650643             5.349357     0.008437 -1.027544    0.557225   \n",
       "2          562.744641             8.255359     0.013021  0.615668    1.215101   \n",
       "3         1505.908602            22.091398     0.034844  4.779327    2.021130   \n",
       "4         4780.865593            70.134407     0.110622  3.681579    1.420150   \n",
       "\n",
       "   residual  \n",
       "0 -0.025375  \n",
       "1 -0.003760  \n",
       "2  0.002792  \n",
       "3  0.035063  \n",
       "4  0.046197  "
      ]
     },
     "execution_count": 219,
     "metadata": {},
     "output_type": "execute_result"
    }
   ],
   "source": [
    "df_ife_production.sort_values(by='productionLine', inplace=True)\n",
    "df_ife_production['residual'] = df_ife_production.apply(lambda row : row['ife_count_rel'] - row['production_amt_rel'], axis=1)\n",
    "\n",
    "residual_under = list(df_ife_production.sort_values(by='residual',ascending=True).head()['productionLine'])\n",
    "residual_over = list(df_ife_production.sort_values(by='residual',ascending=False).head()['productionLine'])\n",
    "\n",
    "df_ife_production.head()"
   ]
  },
  {
   "cell_type": "code",
   "execution_count": 226,
   "metadata": {},
   "outputs": [
    {
     "data": {
      "application/vnd.plotly.v1+json": {
       "config": {
        "plotlyServerURL": "https://plot.ly"
       },
       "data": [
        {
         "marker": {
          "color": "blue"
         },
         "name": "Relative Production Frequency",
         "type": "bar",
         "x": [
          "Boeing 737 NG",
          "Airbus A320",
          "Airbus A320 NEO",
          "Boeing 737 Classic",
          "Canadair CRJ",
          "Boeing 727",
          "Airbus A321",
          "Boeing 777",
          "Airbus A330",
          "Boeing 747",
          "Airbus A319",
          "Boeing 767",
          "Bombardier DHC-8",
          "ATR 72",
          "Boeing 787",
          "Boeing 737 Original",
          "Embraer ERJ145",
          "Boeing 757",
          "Airbus A350",
          "Airbus A300",
          "Embraer ERJ190",
          "Canadair CRJ 900",
          "BAe Avro RJ",
          "Airbus A340",
          "Airbus A220",
          "Canadair CRJ 700",
          "Fokker 100",
          "Airbus A380",
          "Canadair CRJ 100",
          "McDonnell Douglas MD-11",
          "Sukhoi Superjet 100",
          "Embraer ERJ170",
          "Boeing 717",
          "McDonnell Douglas MD-88",
          "Embraer ERJ135",
          "McDonnell Douglas MD-90",
          "Embraer ERJ140"
         ],
         "y": [
          0.1610440094405109,
          0.10995418575593503,
          0.0834605951224027,
          0.045999352121801104,
          0.04512008885186728,
          0.04238974501365172,
          0.04127909667268268,
          0.04021472534592068,
          0.037368688972187515,
          0.036420010180943124,
          0.03433754454162617,
          0.030519690869545098,
          0.029108241936230274,
          0.02852977925864223,
          0.02660928316904993,
          0.02660928316904993,
          0.02545235781387385,
          0.024295432458697766,
          0.014415289925494007,
          0.012980702485075662,
          0.01295756397797214,
          0.01156925355176084,
          0.00895460224906289,
          0.008792632699338238,
          0.008491832106992456,
          0.007635707344162155,
          0.006548197510296636,
          0.005807765282983942,
          0.0052293026053959,
          0.0046277014207043365,
          0.0046277014207043365,
          0.004396316349669119,
          0.003609607108149382,
          0.003470776065528252,
          0.0027766208524226017,
          0.0026840668240085148,
          0.0017122495256606043
         ]
        },
        {
         "marker": {
          "color": "red"
         },
         "name": "Relative Emergency Frequency",
         "type": "bar",
         "x": [
          "Boeing 737 NG",
          "Airbus A320",
          "Airbus A320 NEO",
          "Boeing 737 Classic",
          "Canadair CRJ",
          "Boeing 727",
          "Airbus A321",
          "Boeing 777",
          "Airbus A330",
          "Boeing 747",
          "Airbus A319",
          "Boeing 767",
          "Bombardier DHC-8",
          "ATR 72",
          "Boeing 787",
          "Boeing 737 Original",
          "Embraer ERJ145",
          "Boeing 757",
          "Airbus A350",
          "Airbus A300",
          "Embraer ERJ190",
          "Canadair CRJ 900",
          "BAe Avro RJ",
          "Airbus A340",
          "Airbus A220",
          "Canadair CRJ 700",
          "Fokker 100",
          "Airbus A380",
          "Canadair CRJ 100",
          "McDonnell Douglas MD-11",
          "Sukhoi Superjet 100",
          "Embraer ERJ170",
          "Boeing 717",
          "McDonnell Douglas MD-88",
          "Embraer ERJ135",
          "McDonnell Douglas MD-90",
          "Embraer ERJ140"
         ],
         "y": [
          0.2476340694006309,
          0.15615141955835962,
          0.0015772870662460567,
          0.007886435331230283,
          0.0015772870662460567,
          0.0015772870662460567,
          0.055205047318611984,
          0.056782334384858045,
          0.050473186119873815,
          0.026813880126182965,
          0.0694006309148265,
          0.056782334384858045,
          0.012618296529968454,
          0.0031545741324921135,
          0.03943217665615142,
          0.0015772870662460567,
          0.00946372239747634,
          0.03943217665615142,
          0.0031545741324921135,
          0.015772870662460567,
          0.0031545741324921135,
          0.02365930599369085,
          0.0031545741324921135,
          0.00473186119873817,
          0.00473186119873817,
          0.0015772870662460567,
          0.0015772870662460567,
          0.007886435331230283,
          0.012618296529968454,
          0.011041009463722398,
          0.00473186119873817,
          0.052050473186119876,
          0.00473186119873817,
          0.0015772870662460567,
          0.0015772870662460567,
          0.0031545741324921135,
          0.0015772870662460567
         ]
        }
       ],
       "layout": {
        "barmode": "group",
        "legend": {
         "title": {
          "text": "Legend"
         }
        },
        "template": {
         "data": {
          "bar": [
           {
            "error_x": {
             "color": "#2a3f5f"
            },
            "error_y": {
             "color": "#2a3f5f"
            },
            "marker": {
             "line": {
              "color": "white",
              "width": 0.5
             },
             "pattern": {
              "fillmode": "overlay",
              "size": 10,
              "solidity": 0.2
             }
            },
            "type": "bar"
           }
          ],
          "barpolar": [
           {
            "marker": {
             "line": {
              "color": "white",
              "width": 0.5
             },
             "pattern": {
              "fillmode": "overlay",
              "size": 10,
              "solidity": 0.2
             }
            },
            "type": "barpolar"
           }
          ],
          "carpet": [
           {
            "aaxis": {
             "endlinecolor": "#2a3f5f",
             "gridcolor": "#C8D4E3",
             "linecolor": "#C8D4E3",
             "minorgridcolor": "#C8D4E3",
             "startlinecolor": "#2a3f5f"
            },
            "baxis": {
             "endlinecolor": "#2a3f5f",
             "gridcolor": "#C8D4E3",
             "linecolor": "#C8D4E3",
             "minorgridcolor": "#C8D4E3",
             "startlinecolor": "#2a3f5f"
            },
            "type": "carpet"
           }
          ],
          "choropleth": [
           {
            "colorbar": {
             "outlinewidth": 0,
             "ticks": ""
            },
            "type": "choropleth"
           }
          ],
          "contour": [
           {
            "colorbar": {
             "outlinewidth": 0,
             "ticks": ""
            },
            "colorscale": [
             [
              0,
              "#0d0887"
             ],
             [
              0.1111111111111111,
              "#46039f"
             ],
             [
              0.2222222222222222,
              "#7201a8"
             ],
             [
              0.3333333333333333,
              "#9c179e"
             ],
             [
              0.4444444444444444,
              "#bd3786"
             ],
             [
              0.5555555555555556,
              "#d8576b"
             ],
             [
              0.6666666666666666,
              "#ed7953"
             ],
             [
              0.7777777777777778,
              "#fb9f3a"
             ],
             [
              0.8888888888888888,
              "#fdca26"
             ],
             [
              1,
              "#f0f921"
             ]
            ],
            "type": "contour"
           }
          ],
          "contourcarpet": [
           {
            "colorbar": {
             "outlinewidth": 0,
             "ticks": ""
            },
            "type": "contourcarpet"
           }
          ],
          "heatmap": [
           {
            "colorbar": {
             "outlinewidth": 0,
             "ticks": ""
            },
            "colorscale": [
             [
              0,
              "#0d0887"
             ],
             [
              0.1111111111111111,
              "#46039f"
             ],
             [
              0.2222222222222222,
              "#7201a8"
             ],
             [
              0.3333333333333333,
              "#9c179e"
             ],
             [
              0.4444444444444444,
              "#bd3786"
             ],
             [
              0.5555555555555556,
              "#d8576b"
             ],
             [
              0.6666666666666666,
              "#ed7953"
             ],
             [
              0.7777777777777778,
              "#fb9f3a"
             ],
             [
              0.8888888888888888,
              "#fdca26"
             ],
             [
              1,
              "#f0f921"
             ]
            ],
            "type": "heatmap"
           }
          ],
          "heatmapgl": [
           {
            "colorbar": {
             "outlinewidth": 0,
             "ticks": ""
            },
            "colorscale": [
             [
              0,
              "#0d0887"
             ],
             [
              0.1111111111111111,
              "#46039f"
             ],
             [
              0.2222222222222222,
              "#7201a8"
             ],
             [
              0.3333333333333333,
              "#9c179e"
             ],
             [
              0.4444444444444444,
              "#bd3786"
             ],
             [
              0.5555555555555556,
              "#d8576b"
             ],
             [
              0.6666666666666666,
              "#ed7953"
             ],
             [
              0.7777777777777778,
              "#fb9f3a"
             ],
             [
              0.8888888888888888,
              "#fdca26"
             ],
             [
              1,
              "#f0f921"
             ]
            ],
            "type": "heatmapgl"
           }
          ],
          "histogram": [
           {
            "marker": {
             "pattern": {
              "fillmode": "overlay",
              "size": 10,
              "solidity": 0.2
             }
            },
            "type": "histogram"
           }
          ],
          "histogram2d": [
           {
            "colorbar": {
             "outlinewidth": 0,
             "ticks": ""
            },
            "colorscale": [
             [
              0,
              "#0d0887"
             ],
             [
              0.1111111111111111,
              "#46039f"
             ],
             [
              0.2222222222222222,
              "#7201a8"
             ],
             [
              0.3333333333333333,
              "#9c179e"
             ],
             [
              0.4444444444444444,
              "#bd3786"
             ],
             [
              0.5555555555555556,
              "#d8576b"
             ],
             [
              0.6666666666666666,
              "#ed7953"
             ],
             [
              0.7777777777777778,
              "#fb9f3a"
             ],
             [
              0.8888888888888888,
              "#fdca26"
             ],
             [
              1,
              "#f0f921"
             ]
            ],
            "type": "histogram2d"
           }
          ],
          "histogram2dcontour": [
           {
            "colorbar": {
             "outlinewidth": 0,
             "ticks": ""
            },
            "colorscale": [
             [
              0,
              "#0d0887"
             ],
             [
              0.1111111111111111,
              "#46039f"
             ],
             [
              0.2222222222222222,
              "#7201a8"
             ],
             [
              0.3333333333333333,
              "#9c179e"
             ],
             [
              0.4444444444444444,
              "#bd3786"
             ],
             [
              0.5555555555555556,
              "#d8576b"
             ],
             [
              0.6666666666666666,
              "#ed7953"
             ],
             [
              0.7777777777777778,
              "#fb9f3a"
             ],
             [
              0.8888888888888888,
              "#fdca26"
             ],
             [
              1,
              "#f0f921"
             ]
            ],
            "type": "histogram2dcontour"
           }
          ],
          "mesh3d": [
           {
            "colorbar": {
             "outlinewidth": 0,
             "ticks": ""
            },
            "type": "mesh3d"
           }
          ],
          "parcoords": [
           {
            "line": {
             "colorbar": {
              "outlinewidth": 0,
              "ticks": ""
             }
            },
            "type": "parcoords"
           }
          ],
          "pie": [
           {
            "automargin": true,
            "type": "pie"
           }
          ],
          "scatter": [
           {
            "fillpattern": {
             "fillmode": "overlay",
             "size": 10,
             "solidity": 0.2
            },
            "type": "scatter"
           }
          ],
          "scatter3d": [
           {
            "line": {
             "colorbar": {
              "outlinewidth": 0,
              "ticks": ""
             }
            },
            "marker": {
             "colorbar": {
              "outlinewidth": 0,
              "ticks": ""
             }
            },
            "type": "scatter3d"
           }
          ],
          "scattercarpet": [
           {
            "marker": {
             "colorbar": {
              "outlinewidth": 0,
              "ticks": ""
             }
            },
            "type": "scattercarpet"
           }
          ],
          "scattergeo": [
           {
            "marker": {
             "colorbar": {
              "outlinewidth": 0,
              "ticks": ""
             }
            },
            "type": "scattergeo"
           }
          ],
          "scattergl": [
           {
            "marker": {
             "colorbar": {
              "outlinewidth": 0,
              "ticks": ""
             }
            },
            "type": "scattergl"
           }
          ],
          "scattermapbox": [
           {
            "marker": {
             "colorbar": {
              "outlinewidth": 0,
              "ticks": ""
             }
            },
            "type": "scattermapbox"
           }
          ],
          "scatterpolar": [
           {
            "marker": {
             "colorbar": {
              "outlinewidth": 0,
              "ticks": ""
             }
            },
            "type": "scatterpolar"
           }
          ],
          "scatterpolargl": [
           {
            "marker": {
             "colorbar": {
              "outlinewidth": 0,
              "ticks": ""
             }
            },
            "type": "scatterpolargl"
           }
          ],
          "scatterternary": [
           {
            "marker": {
             "colorbar": {
              "outlinewidth": 0,
              "ticks": ""
             }
            },
            "type": "scatterternary"
           }
          ],
          "surface": [
           {
            "colorbar": {
             "outlinewidth": 0,
             "ticks": ""
            },
            "colorscale": [
             [
              0,
              "#0d0887"
             ],
             [
              0.1111111111111111,
              "#46039f"
             ],
             [
              0.2222222222222222,
              "#7201a8"
             ],
             [
              0.3333333333333333,
              "#9c179e"
             ],
             [
              0.4444444444444444,
              "#bd3786"
             ],
             [
              0.5555555555555556,
              "#d8576b"
             ],
             [
              0.6666666666666666,
              "#ed7953"
             ],
             [
              0.7777777777777778,
              "#fb9f3a"
             ],
             [
              0.8888888888888888,
              "#fdca26"
             ],
             [
              1,
              "#f0f921"
             ]
            ],
            "type": "surface"
           }
          ],
          "table": [
           {
            "cells": {
             "fill": {
              "color": "#EBF0F8"
             },
             "line": {
              "color": "white"
             }
            },
            "header": {
             "fill": {
              "color": "#C8D4E3"
             },
             "line": {
              "color": "white"
             }
            },
            "type": "table"
           }
          ]
         },
         "layout": {
          "annotationdefaults": {
           "arrowcolor": "#2a3f5f",
           "arrowhead": 0,
           "arrowwidth": 1
          },
          "autotypenumbers": "strict",
          "coloraxis": {
           "colorbar": {
            "outlinewidth": 0,
            "ticks": ""
           }
          },
          "colorscale": {
           "diverging": [
            [
             0,
             "#8e0152"
            ],
            [
             0.1,
             "#c51b7d"
            ],
            [
             0.2,
             "#de77ae"
            ],
            [
             0.3,
             "#f1b6da"
            ],
            [
             0.4,
             "#fde0ef"
            ],
            [
             0.5,
             "#f7f7f7"
            ],
            [
             0.6,
             "#e6f5d0"
            ],
            [
             0.7,
             "#b8e186"
            ],
            [
             0.8,
             "#7fbc41"
            ],
            [
             0.9,
             "#4d9221"
            ],
            [
             1,
             "#276419"
            ]
           ],
           "sequential": [
            [
             0,
             "#0d0887"
            ],
            [
             0.1111111111111111,
             "#46039f"
            ],
            [
             0.2222222222222222,
             "#7201a8"
            ],
            [
             0.3333333333333333,
             "#9c179e"
            ],
            [
             0.4444444444444444,
             "#bd3786"
            ],
            [
             0.5555555555555556,
             "#d8576b"
            ],
            [
             0.6666666666666666,
             "#ed7953"
            ],
            [
             0.7777777777777778,
             "#fb9f3a"
            ],
            [
             0.8888888888888888,
             "#fdca26"
            ],
            [
             1,
             "#f0f921"
            ]
           ],
           "sequentialminus": [
            [
             0,
             "#0d0887"
            ],
            [
             0.1111111111111111,
             "#46039f"
            ],
            [
             0.2222222222222222,
             "#7201a8"
            ],
            [
             0.3333333333333333,
             "#9c179e"
            ],
            [
             0.4444444444444444,
             "#bd3786"
            ],
            [
             0.5555555555555556,
             "#d8576b"
            ],
            [
             0.6666666666666666,
             "#ed7953"
            ],
            [
             0.7777777777777778,
             "#fb9f3a"
            ],
            [
             0.8888888888888888,
             "#fdca26"
            ],
            [
             1,
             "#f0f921"
            ]
           ]
          },
          "colorway": [
           "#636efa",
           "#EF553B",
           "#00cc96",
           "#ab63fa",
           "#FFA15A",
           "#19d3f3",
           "#FF6692",
           "#B6E880",
           "#FF97FF",
           "#FECB52"
          ],
          "font": {
           "color": "#2a3f5f"
          },
          "geo": {
           "bgcolor": "white",
           "lakecolor": "white",
           "landcolor": "white",
           "showlakes": true,
           "showland": true,
           "subunitcolor": "#C8D4E3"
          },
          "hoverlabel": {
           "align": "left"
          },
          "hovermode": "closest",
          "mapbox": {
           "style": "light"
          },
          "paper_bgcolor": "white",
          "plot_bgcolor": "white",
          "polar": {
           "angularaxis": {
            "gridcolor": "#EBF0F8",
            "linecolor": "#EBF0F8",
            "ticks": ""
           },
           "bgcolor": "white",
           "radialaxis": {
            "gridcolor": "#EBF0F8",
            "linecolor": "#EBF0F8",
            "ticks": ""
           }
          },
          "scene": {
           "xaxis": {
            "backgroundcolor": "white",
            "gridcolor": "#DFE8F3",
            "gridwidth": 2,
            "linecolor": "#EBF0F8",
            "showbackground": true,
            "ticks": "",
            "zerolinecolor": "#EBF0F8"
           },
           "yaxis": {
            "backgroundcolor": "white",
            "gridcolor": "#DFE8F3",
            "gridwidth": 2,
            "linecolor": "#EBF0F8",
            "showbackground": true,
            "ticks": "",
            "zerolinecolor": "#EBF0F8"
           },
           "zaxis": {
            "backgroundcolor": "white",
            "gridcolor": "#DFE8F3",
            "gridwidth": 2,
            "linecolor": "#EBF0F8",
            "showbackground": true,
            "ticks": "",
            "zerolinecolor": "#EBF0F8"
           }
          },
          "shapedefaults": {
           "line": {
            "color": "#2a3f5f"
           }
          },
          "ternary": {
           "aaxis": {
            "gridcolor": "#DFE8F3",
            "linecolor": "#A2B1C6",
            "ticks": ""
           },
           "baxis": {
            "gridcolor": "#DFE8F3",
            "linecolor": "#A2B1C6",
            "ticks": ""
           },
           "bgcolor": "white",
           "caxis": {
            "gridcolor": "#DFE8F3",
            "linecolor": "#A2B1C6",
            "ticks": ""
           }
          },
          "title": {
           "x": 0.05
          },
          "xaxis": {
           "automargin": true,
           "gridcolor": "#EBF0F8",
           "linecolor": "#EBF0F8",
           "ticks": "",
           "title": {
            "standoff": 15
           },
           "zerolinecolor": "#EBF0F8",
           "zerolinewidth": 2
          },
          "yaxis": {
           "automargin": true,
           "gridcolor": "#EBF0F8",
           "linecolor": "#EBF0F8",
           "ticks": "",
           "title": {
            "standoff": 15
           },
           "zerolinecolor": "#EBF0F8",
           "zerolinewidth": 2
          }
         }
        },
        "title": {
         "text": "Relative Observed Emergency Frequency vs. Relative Production Amount for IFE Dataset"
        },
        "xaxis": {
         "title": {
          "text": "Plane Model"
         }
        },
        "yaxis": {
         "title": {
          "text": "Relative Frequency"
         }
        }
       }
      }
     },
     "metadata": {},
     "output_type": "display_data"
    }
   ],
   "source": [
    "df_ife_production.sort_values(by='production_amt',ascending=False,inplace=True)\n",
    "\n",
    "# Plot using Plotly\n",
    "fig = go.Figure()\n",
    "\n",
    "# Add bars for relative production frequency\n",
    "fig.add_trace(go.Bar(\n",
    "    x=df_ife_production['productionLine'],\n",
    "    y=df_ife_production['production_amt_rel'],\n",
    "    name='Relative Production Frequency',\n",
    "    marker_color='blue'\n",
    "))\n",
    "\n",
    "# Add bars for relative emergency frequency\n",
    "fig.add_trace(go.Bar(\n",
    "    x=df_ife_production['productionLine'],\n",
    "    y=df_ife_production['ife_count_rel'],\n",
    "    name='Relative Emergency Frequency',\n",
    "    marker_color='red'\n",
    "))\n",
    "\n",
    "# Customize layout\n",
    "fig.update_layout(\n",
    "    title='Relative Observed Emergency Frequency vs. Relative Production Amount for IFE Dataset',\n",
    "    xaxis=dict(title='Plane Model'),\n",
    "    yaxis=dict(title='Relative Frequency'),\n",
    "    barmode='group',  # Group bars side by side\n",
    "    legend=dict(title='Legend'),\n",
    "    template='plotly_white'\n",
    ")\n",
    "\n",
    "# Show the plot\n",
    "fig.show()"
   ]
  },
  {
   "cell_type": "code",
   "execution_count": 254,
   "metadata": {},
   "outputs": [],
   "source": [
    "def colordef_ife(cat,residual_under) :\n",
    "    if cat in residual_under :\n",
    "        return 'green'\n",
    "    else :\n",
    "        return 'red'\n",
    "\n",
    "def colordef_prod(cat,residual_under) :\n",
    "    if cat in residual_under :\n",
    "        return 'orange'\n",
    "    else :\n",
    "        return 'orange'"
   ]
  },
  {
   "cell_type": "code",
   "execution_count": 257,
   "metadata": {},
   "outputs": [
    {
     "data": {
      "application/vnd.plotly.v1+json": {
       "config": {
        "plotlyServerURL": "https://plot.ly"
       },
       "data": [
        {
         "marker": {
          "color": [
           "red",
           "red",
           "green",
           "green",
           "green",
           "green",
           "lightgray",
           "lightgray",
           "lightgray",
           "lightgray",
           "red",
           "red",
           "lightgray",
           "green",
           "lightgray",
           "lightgray",
           "lightgray",
           "lightgray",
           "lightgray",
           "lightgray",
           "lightgray",
           "lightgray",
           "lightgray",
           "lightgray",
           "lightgray",
           "lightgray",
           "lightgray",
           "lightgray",
           "lightgray",
           "lightgray",
           "lightgray",
           "red",
           "lightgray",
           "lightgray",
           "lightgray",
           "lightgray",
           "lightgray"
          ]
         },
         "name": "Observed Emergency Frequency",
         "type": "bar",
         "x": [
          "Boeing 737 NG",
          "Airbus A320",
          "Airbus A320 NEO",
          "Boeing 737 Classic",
          "Canadair CRJ",
          "Boeing 727",
          "Airbus A321",
          "Boeing 777",
          "Airbus A330",
          "Boeing 747",
          "Airbus A319",
          "Boeing 767",
          "Bombardier DHC-8",
          "ATR 72",
          "Boeing 787",
          "Boeing 737 Original",
          "Embraer ERJ145",
          "Boeing 757",
          "Airbus A350",
          "Airbus A300",
          "Embraer ERJ190",
          "Canadair CRJ 900",
          "BAe Avro RJ",
          "Airbus A340",
          "Airbus A220",
          "Canadair CRJ 700",
          "Fokker 100",
          "Airbus A380",
          "Canadair CRJ 100",
          "McDonnell Douglas MD-11",
          "Sukhoi Superjet 100",
          "Embraer ERJ170",
          "Boeing 717",
          "McDonnell Douglas MD-88",
          "Embraer ERJ135",
          "McDonnell Douglas MD-90",
          "Embraer ERJ140"
         ],
         "y": [
          157,
          99,
          1,
          5,
          1,
          1,
          35,
          36,
          32,
          17,
          44,
          36,
          8,
          2,
          25,
          1,
          6,
          25,
          2,
          10,
          2,
          15,
          2,
          3,
          3,
          1,
          1,
          5,
          8,
          7,
          3,
          33,
          3,
          1,
          1,
          2,
          1
         ]
        },
        {
         "marker": {
          "color": [
           "orange",
           "orange",
           "orange",
           "orange",
           "orange",
           "orange",
           "gray",
           "gray",
           "gray",
           "gray",
           "orange",
           "orange",
           "gray",
           "orange",
           "gray",
           "gray",
           "gray",
           "gray",
           "gray",
           "gray",
           "gray",
           "gray",
           "gray",
           "gray",
           "gray",
           "gray",
           "gray",
           "gray",
           "gray",
           "gray",
           "gray",
           "orange",
           "gray",
           "gray",
           "gray",
           "gray",
           "gray"
          ]
         },
         "name": "Expected Emergency Frequency",
         "type": "bar",
         "x": [
          "Boeing 737 NG",
          "Airbus A320",
          "Airbus A320 NEO",
          "Boeing 737 Classic",
          "Canadair CRJ",
          "Boeing 727",
          "Airbus A321",
          "Boeing 777",
          "Airbus A330",
          "Boeing 747",
          "Airbus A319",
          "Boeing 767",
          "Bombardier DHC-8",
          "ATR 72",
          "Boeing 787",
          "Boeing 737 Original",
          "Embraer ERJ145",
          "Boeing 757",
          "Airbus A350",
          "Airbus A300",
          "Embraer ERJ190",
          "Canadair CRJ 900",
          "BAe Avro RJ",
          "Airbus A340",
          "Airbus A220",
          "Canadair CRJ 700",
          "Fokker 100",
          "Airbus A380",
          "Canadair CRJ 100",
          "McDonnell Douglas MD-11",
          "Sukhoi Superjet 100",
          "Embraer ERJ170",
          "Boeing 717",
          "McDonnell Douglas MD-88",
          "Embraer ERJ135",
          "McDonnell Douglas MD-90",
          "Embraer ERJ140"
         ],
         "y": [
          102.89560339323178,
          70.13440664051811,
          52.16345890723342,
          28.814238803247285,
          28.20701450332938,
          26.5010033749886,
          26.298595275015963,
          25.647997810818207,
          23.811867189637873,
          23.00223478974733,
          22.091398339870473,
          19.590212533065767,
          18.303475326096873,
          17.85528596187175,
          16.987822676274742,
          16.64083736203594,
          15.990239897838183,
          15.542050533613063,
          9.036075891635502,
          8.255358934598194,
          8.125239441758643,
          7.445726534707653,
          5.624053634953936,
          5.5373073063942355,
          5.349356927848217,
          4.785505792210161,
          4.105992885159171,
          3.7011766852139014,
          3.3831068138283316,
          2.992748335309678,
          2.9349174496032107,
          3.224071878135547,
          2.2987777068320714,
          2.183115935419137,
          1.749384292620633,
          1.7060111283407826,
          1.0843291069962602
         ]
        }
       ],
       "layout": {
        "barmode": "group",
        "height": 800,
        "legend": {
         "title": {
          "text": "Legend"
         }
        },
        "paper_bgcolor": "rgb(254, 246, 224)",
        "template": {
         "data": {
          "bar": [
           {
            "error_x": {
             "color": "#2a3f5f"
            },
            "error_y": {
             "color": "#2a3f5f"
            },
            "marker": {
             "line": {
              "color": "#E5ECF6",
              "width": 0.5
             },
             "pattern": {
              "fillmode": "overlay",
              "size": 10,
              "solidity": 0.2
             }
            },
            "type": "bar"
           }
          ],
          "barpolar": [
           {
            "marker": {
             "line": {
              "color": "#E5ECF6",
              "width": 0.5
             },
             "pattern": {
              "fillmode": "overlay",
              "size": 10,
              "solidity": 0.2
             }
            },
            "type": "barpolar"
           }
          ],
          "carpet": [
           {
            "aaxis": {
             "endlinecolor": "#2a3f5f",
             "gridcolor": "white",
             "linecolor": "white",
             "minorgridcolor": "white",
             "startlinecolor": "#2a3f5f"
            },
            "baxis": {
             "endlinecolor": "#2a3f5f",
             "gridcolor": "white",
             "linecolor": "white",
             "minorgridcolor": "white",
             "startlinecolor": "#2a3f5f"
            },
            "type": "carpet"
           }
          ],
          "choropleth": [
           {
            "colorbar": {
             "outlinewidth": 0,
             "ticks": ""
            },
            "type": "choropleth"
           }
          ],
          "contour": [
           {
            "colorbar": {
             "outlinewidth": 0,
             "ticks": ""
            },
            "colorscale": [
             [
              0,
              "#0d0887"
             ],
             [
              0.1111111111111111,
              "#46039f"
             ],
             [
              0.2222222222222222,
              "#7201a8"
             ],
             [
              0.3333333333333333,
              "#9c179e"
             ],
             [
              0.4444444444444444,
              "#bd3786"
             ],
             [
              0.5555555555555556,
              "#d8576b"
             ],
             [
              0.6666666666666666,
              "#ed7953"
             ],
             [
              0.7777777777777778,
              "#fb9f3a"
             ],
             [
              0.8888888888888888,
              "#fdca26"
             ],
             [
              1,
              "#f0f921"
             ]
            ],
            "type": "contour"
           }
          ],
          "contourcarpet": [
           {
            "colorbar": {
             "outlinewidth": 0,
             "ticks": ""
            },
            "type": "contourcarpet"
           }
          ],
          "heatmap": [
           {
            "colorbar": {
             "outlinewidth": 0,
             "ticks": ""
            },
            "colorscale": [
             [
              0,
              "#0d0887"
             ],
             [
              0.1111111111111111,
              "#46039f"
             ],
             [
              0.2222222222222222,
              "#7201a8"
             ],
             [
              0.3333333333333333,
              "#9c179e"
             ],
             [
              0.4444444444444444,
              "#bd3786"
             ],
             [
              0.5555555555555556,
              "#d8576b"
             ],
             [
              0.6666666666666666,
              "#ed7953"
             ],
             [
              0.7777777777777778,
              "#fb9f3a"
             ],
             [
              0.8888888888888888,
              "#fdca26"
             ],
             [
              1,
              "#f0f921"
             ]
            ],
            "type": "heatmap"
           }
          ],
          "heatmapgl": [
           {
            "colorbar": {
             "outlinewidth": 0,
             "ticks": ""
            },
            "colorscale": [
             [
              0,
              "#0d0887"
             ],
             [
              0.1111111111111111,
              "#46039f"
             ],
             [
              0.2222222222222222,
              "#7201a8"
             ],
             [
              0.3333333333333333,
              "#9c179e"
             ],
             [
              0.4444444444444444,
              "#bd3786"
             ],
             [
              0.5555555555555556,
              "#d8576b"
             ],
             [
              0.6666666666666666,
              "#ed7953"
             ],
             [
              0.7777777777777778,
              "#fb9f3a"
             ],
             [
              0.8888888888888888,
              "#fdca26"
             ],
             [
              1,
              "#f0f921"
             ]
            ],
            "type": "heatmapgl"
           }
          ],
          "histogram": [
           {
            "marker": {
             "pattern": {
              "fillmode": "overlay",
              "size": 10,
              "solidity": 0.2
             }
            },
            "type": "histogram"
           }
          ],
          "histogram2d": [
           {
            "colorbar": {
             "outlinewidth": 0,
             "ticks": ""
            },
            "colorscale": [
             [
              0,
              "#0d0887"
             ],
             [
              0.1111111111111111,
              "#46039f"
             ],
             [
              0.2222222222222222,
              "#7201a8"
             ],
             [
              0.3333333333333333,
              "#9c179e"
             ],
             [
              0.4444444444444444,
              "#bd3786"
             ],
             [
              0.5555555555555556,
              "#d8576b"
             ],
             [
              0.6666666666666666,
              "#ed7953"
             ],
             [
              0.7777777777777778,
              "#fb9f3a"
             ],
             [
              0.8888888888888888,
              "#fdca26"
             ],
             [
              1,
              "#f0f921"
             ]
            ],
            "type": "histogram2d"
           }
          ],
          "histogram2dcontour": [
           {
            "colorbar": {
             "outlinewidth": 0,
             "ticks": ""
            },
            "colorscale": [
             [
              0,
              "#0d0887"
             ],
             [
              0.1111111111111111,
              "#46039f"
             ],
             [
              0.2222222222222222,
              "#7201a8"
             ],
             [
              0.3333333333333333,
              "#9c179e"
             ],
             [
              0.4444444444444444,
              "#bd3786"
             ],
             [
              0.5555555555555556,
              "#d8576b"
             ],
             [
              0.6666666666666666,
              "#ed7953"
             ],
             [
              0.7777777777777778,
              "#fb9f3a"
             ],
             [
              0.8888888888888888,
              "#fdca26"
             ],
             [
              1,
              "#f0f921"
             ]
            ],
            "type": "histogram2dcontour"
           }
          ],
          "mesh3d": [
           {
            "colorbar": {
             "outlinewidth": 0,
             "ticks": ""
            },
            "type": "mesh3d"
           }
          ],
          "parcoords": [
           {
            "line": {
             "colorbar": {
              "outlinewidth": 0,
              "ticks": ""
             }
            },
            "type": "parcoords"
           }
          ],
          "pie": [
           {
            "automargin": true,
            "type": "pie"
           }
          ],
          "scatter": [
           {
            "fillpattern": {
             "fillmode": "overlay",
             "size": 10,
             "solidity": 0.2
            },
            "type": "scatter"
           }
          ],
          "scatter3d": [
           {
            "line": {
             "colorbar": {
              "outlinewidth": 0,
              "ticks": ""
             }
            },
            "marker": {
             "colorbar": {
              "outlinewidth": 0,
              "ticks": ""
             }
            },
            "type": "scatter3d"
           }
          ],
          "scattercarpet": [
           {
            "marker": {
             "colorbar": {
              "outlinewidth": 0,
              "ticks": ""
             }
            },
            "type": "scattercarpet"
           }
          ],
          "scattergeo": [
           {
            "marker": {
             "colorbar": {
              "outlinewidth": 0,
              "ticks": ""
             }
            },
            "type": "scattergeo"
           }
          ],
          "scattergl": [
           {
            "marker": {
             "colorbar": {
              "outlinewidth": 0,
              "ticks": ""
             }
            },
            "type": "scattergl"
           }
          ],
          "scattermapbox": [
           {
            "marker": {
             "colorbar": {
              "outlinewidth": 0,
              "ticks": ""
             }
            },
            "type": "scattermapbox"
           }
          ],
          "scatterpolar": [
           {
            "marker": {
             "colorbar": {
              "outlinewidth": 0,
              "ticks": ""
             }
            },
            "type": "scatterpolar"
           }
          ],
          "scatterpolargl": [
           {
            "marker": {
             "colorbar": {
              "outlinewidth": 0,
              "ticks": ""
             }
            },
            "type": "scatterpolargl"
           }
          ],
          "scatterternary": [
           {
            "marker": {
             "colorbar": {
              "outlinewidth": 0,
              "ticks": ""
             }
            },
            "type": "scatterternary"
           }
          ],
          "surface": [
           {
            "colorbar": {
             "outlinewidth": 0,
             "ticks": ""
            },
            "colorscale": [
             [
              0,
              "#0d0887"
             ],
             [
              0.1111111111111111,
              "#46039f"
             ],
             [
              0.2222222222222222,
              "#7201a8"
             ],
             [
              0.3333333333333333,
              "#9c179e"
             ],
             [
              0.4444444444444444,
              "#bd3786"
             ],
             [
              0.5555555555555556,
              "#d8576b"
             ],
             [
              0.6666666666666666,
              "#ed7953"
             ],
             [
              0.7777777777777778,
              "#fb9f3a"
             ],
             [
              0.8888888888888888,
              "#fdca26"
             ],
             [
              1,
              "#f0f921"
             ]
            ],
            "type": "surface"
           }
          ],
          "table": [
           {
            "cells": {
             "fill": {
              "color": "#EBF0F8"
             },
             "line": {
              "color": "white"
             }
            },
            "header": {
             "fill": {
              "color": "#C8D4E3"
             },
             "line": {
              "color": "white"
             }
            },
            "type": "table"
           }
          ]
         },
         "layout": {
          "annotationdefaults": {
           "arrowcolor": "#2a3f5f",
           "arrowhead": 0,
           "arrowwidth": 1
          },
          "autotypenumbers": "strict",
          "coloraxis": {
           "colorbar": {
            "outlinewidth": 0,
            "ticks": ""
           }
          },
          "colorscale": {
           "diverging": [
            [
             0,
             "#8e0152"
            ],
            [
             0.1,
             "#c51b7d"
            ],
            [
             0.2,
             "#de77ae"
            ],
            [
             0.3,
             "#f1b6da"
            ],
            [
             0.4,
             "#fde0ef"
            ],
            [
             0.5,
             "#f7f7f7"
            ],
            [
             0.6,
             "#e6f5d0"
            ],
            [
             0.7,
             "#b8e186"
            ],
            [
             0.8,
             "#7fbc41"
            ],
            [
             0.9,
             "#4d9221"
            ],
            [
             1,
             "#276419"
            ]
           ],
           "sequential": [
            [
             0,
             "#0d0887"
            ],
            [
             0.1111111111111111,
             "#46039f"
            ],
            [
             0.2222222222222222,
             "#7201a8"
            ],
            [
             0.3333333333333333,
             "#9c179e"
            ],
            [
             0.4444444444444444,
             "#bd3786"
            ],
            [
             0.5555555555555556,
             "#d8576b"
            ],
            [
             0.6666666666666666,
             "#ed7953"
            ],
            [
             0.7777777777777778,
             "#fb9f3a"
            ],
            [
             0.8888888888888888,
             "#fdca26"
            ],
            [
             1,
             "#f0f921"
            ]
           ],
           "sequentialminus": [
            [
             0,
             "#0d0887"
            ],
            [
             0.1111111111111111,
             "#46039f"
            ],
            [
             0.2222222222222222,
             "#7201a8"
            ],
            [
             0.3333333333333333,
             "#9c179e"
            ],
            [
             0.4444444444444444,
             "#bd3786"
            ],
            [
             0.5555555555555556,
             "#d8576b"
            ],
            [
             0.6666666666666666,
             "#ed7953"
            ],
            [
             0.7777777777777778,
             "#fb9f3a"
            ],
            [
             0.8888888888888888,
             "#fdca26"
            ],
            [
             1,
             "#f0f921"
            ]
           ]
          },
          "colorway": [
           "#636efa",
           "#EF553B",
           "#00cc96",
           "#ab63fa",
           "#FFA15A",
           "#19d3f3",
           "#FF6692",
           "#B6E880",
           "#FF97FF",
           "#FECB52"
          ],
          "font": {
           "color": "#2a3f5f"
          },
          "geo": {
           "bgcolor": "white",
           "lakecolor": "white",
           "landcolor": "#E5ECF6",
           "showlakes": true,
           "showland": true,
           "subunitcolor": "white"
          },
          "hoverlabel": {
           "align": "left"
          },
          "hovermode": "closest",
          "mapbox": {
           "style": "light"
          },
          "paper_bgcolor": "white",
          "plot_bgcolor": "#E5ECF6",
          "polar": {
           "angularaxis": {
            "gridcolor": "white",
            "linecolor": "white",
            "ticks": ""
           },
           "bgcolor": "#E5ECF6",
           "radialaxis": {
            "gridcolor": "white",
            "linecolor": "white",
            "ticks": ""
           }
          },
          "scene": {
           "xaxis": {
            "backgroundcolor": "#E5ECF6",
            "gridcolor": "white",
            "gridwidth": 2,
            "linecolor": "white",
            "showbackground": true,
            "ticks": "",
            "zerolinecolor": "white"
           },
           "yaxis": {
            "backgroundcolor": "#E5ECF6",
            "gridcolor": "white",
            "gridwidth": 2,
            "linecolor": "white",
            "showbackground": true,
            "ticks": "",
            "zerolinecolor": "white"
           },
           "zaxis": {
            "backgroundcolor": "#E5ECF6",
            "gridcolor": "white",
            "gridwidth": 2,
            "linecolor": "white",
            "showbackground": true,
            "ticks": "",
            "zerolinecolor": "white"
           }
          },
          "shapedefaults": {
           "line": {
            "color": "#2a3f5f"
           }
          },
          "ternary": {
           "aaxis": {
            "gridcolor": "white",
            "linecolor": "white",
            "ticks": ""
           },
           "baxis": {
            "gridcolor": "white",
            "linecolor": "white",
            "ticks": ""
           },
           "bgcolor": "#E5ECF6",
           "caxis": {
            "gridcolor": "white",
            "linecolor": "white",
            "ticks": ""
           }
          },
          "title": {
           "x": 0.05
          },
          "xaxis": {
           "automargin": true,
           "gridcolor": "white",
           "linecolor": "white",
           "ticks": "",
           "title": {
            "standoff": 15
           },
           "zerolinecolor": "white",
           "zerolinewidth": 2
          },
          "yaxis": {
           "automargin": true,
           "gridcolor": "white",
           "linecolor": "white",
           "ticks": "",
           "title": {
            "standoff": 15
           },
           "zerolinecolor": "white",
           "zerolinewidth": 2
          }
         }
        },
        "title": {
         "text": "Highlighted Outliers (Z-Test): Expected and Observed Emergency Frequencies vs. Aircraft Model"
        },
        "width": 1400,
        "xaxis": {
         "tickangle": 60,
         "title": {
          "text": "Aircraft Model"
         }
        },
        "yaxis": {
         "title": {
          "text": "Frequency"
         }
        }
       }
      }
     },
     "metadata": {},
     "output_type": "display_data"
    }
   ],
   "source": [
    "# Create a list of colors, highlighting the specific category\n",
    "df_residual_under = list(df_ife_production[df_ife_production['productionLine'].isin(residual_under)])\n",
    "df_residual_over = list(df_ife_production[df_ife_production['productionLine'].isin(residual_over)])\n",
    "residual_all = list(residual_under+residual_over)\n",
    "df_ife_production.sort_values(by='production_amt',ascending=False,inplace=True)\n",
    "\n",
    "color_ife = [colordef_ife(cat,residual_under) if cat in residual_all else 'lightgray' for cat in list(df_ife_production['productionLine'])]\n",
    "color_prod = [colordef_prod(cat,residual_under) if cat in residual_all else 'gray' for cat in list(df_ife_production['productionLine'])]\n",
    "\n",
    "# Plot using Plotly\n",
    "fig = go.Figure()\n",
    "\n",
    "# Add bars for relative emergency frequency\n",
    "fig.add_trace(go.Bar(\n",
    "    x=df_ife_production['productionLine'],\n",
    "    y=df_ife_production['ife_count'],\n",
    "    name='Observed Emergency Frequency',\n",
    "    marker_color=color_ife\n",
    "))\n",
    "\n",
    "# Add bars for relative production frequency\n",
    "fig.add_trace(go.Bar(\n",
    "    x=df_ife_production['productionLine'],\n",
    "    y=df_ife_production['ExpectedEmergencies'],\n",
    "    name='Expected Emergency Frequency',\n",
    "    marker_color=color_prod\n",
    "))\n",
    "\n",
    "# Customize layout\n",
    "fig.update_layout(\n",
    "    title='Highlighted Outliers (Z-Test): Expected and Observed Emergency Frequencies vs. Aircraft Model',\n",
    "    xaxis=dict(title='Aircraft Model'),\n",
    "    yaxis=dict(title='Frequency'),\n",
    "    barmode='group',  # Group bars side by side\n",
    "    legend=dict(title='Legend'),\n",
    "    width=1400, \n",
    "    height=800,\n",
    "    paper_bgcolor='rgb(254, 246, 224)'\n",
    "    # template='plotly_white'\n",
    ")\n",
    "\n",
    "fig.update_xaxes(tickangle=60)\n",
    "\n",
    "# Show the plot\n",
    "fig.show()"
   ]
  },
  {
   "cell_type": "markdown",
   "metadata": {},
   "source": [
    "### Save Dataframe"
   ]
  },
  {
   "cell_type": "code",
   "execution_count": 223,
   "metadata": {},
   "outputs": [],
   "source": [
    "df_ife_production.sort_values(by='productionLine', inplace=True)\n",
    "df_ife_production.to_csv('../data/processed/squawk7700_categorical_statistical_comparison.csv')"
   ]
  }
 ],
 "metadata": {
  "kernelspec": {
   "display_name": "VIZ",
   "language": "python",
   "name": "python3"
  },
  "language_info": {
   "codemirror_mode": {
    "name": "ipython",
    "version": 3
   },
   "file_extension": ".py",
   "mimetype": "text/x-python",
   "name": "python",
   "nbconvert_exporter": "python",
   "pygments_lexer": "ipython3",
   "version": "3.10.15"
  }
 },
 "nbformat": 4,
 "nbformat_minor": 2
}
