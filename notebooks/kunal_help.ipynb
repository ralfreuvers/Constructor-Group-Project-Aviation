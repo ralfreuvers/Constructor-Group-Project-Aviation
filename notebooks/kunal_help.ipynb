{
 "cells": [
  {
   "cell_type": "markdown",
   "metadata": {},
   "source": [
    "# Plots"
   ]
  },
  {
   "cell_type": "code",
   "execution_count": 2,
   "metadata": {},
   "outputs": [
    {
     "name": "stdout",
     "output_type": "stream",
     "text": [
      "Intel MKL WARNING: Support of Intel(R) Streaming SIMD Extensions 4.2 (Intel(R) SSE4.2) enabled only processors has been deprecated. Intel oneAPI Math Kernel Library 2025.0 will require Intel(R) Advanced Vector Extensions (Intel(R) AVX) instructions.\n",
      "Intel MKL WARNING: Support of Intel(R) Streaming SIMD Extensions 4.2 (Intel(R) SSE4.2) enabled only processors has been deprecated. Intel oneAPI Math Kernel Library 2025.0 will require Intel(R) Advanced Vector Extensions (Intel(R) AVX) instructions.\n"
     ]
    }
   ],
   "source": [
    "# disable any warnings\n",
    "import warnings \n",
    "warnings.filterwarnings('ignore')\n",
    "\n",
    "import pandas as pd\n",
    "import plotly.graph_objects as go\n",
    "import plotly.express as px\n",
    "import numpy as np"
   ]
  },
  {
   "cell_type": "code",
   "execution_count": 3,
   "metadata": {},
   "outputs": [
    {
     "name": "stdout",
     "output_type": "stream",
     "text": [
      "<class 'pandas.core.frame.DataFrame'>\n",
      "RangeIndex: 635 entries, 0 to 634\n",
      "Data columns (total 20 columns):\n",
      " #   Column          Non-Null Count  Dtype  \n",
      "---  ------          --------------  -----  \n",
      " 0   flight_id       635 non-null    object \n",
      " 1   icao24          635 non-null    object \n",
      " 2   registration    635 non-null    object \n",
      " 3   typecode        635 non-null    object \n",
      " 4   origin          623 non-null    object \n",
      " 5   landing         447 non-null    object \n",
      " 6   destination     621 non-null    object \n",
      " 7   diverted        219 non-null    object \n",
      " 8   tweet_problem   301 non-null    object \n",
      " 9   tweet_result    301 non-null    object \n",
      " 10  tweet_fueldump  301 non-null    object \n",
      " 11  avh_id          84 non-null     object \n",
      " 12  avh_problem     84 non-null     object \n",
      " 13  avh_result      84 non-null     object \n",
      " 14  avh_fueldump    84 non-null     object \n",
      " 15  airlineName     635 non-null    object \n",
      " 16  isFreighter     635 non-null    bool   \n",
      " 17  productionLine  635 non-null    object \n",
      " 18  ageYears        635 non-null    float64\n",
      " 19  manufacturer    635 non-null    object \n",
      "dtypes: bool(1), float64(1), object(18)\n",
      "memory usage: 95.0+ KB\n"
     ]
    }
   ],
   "source": [
    "df = pd.read_csv('../data/processed/squawk7700_processed_final_v2.csv')\n",
    "df.info()"
   ]
  },
  {
   "cell_type": "markdown",
   "metadata": {},
   "source": [
    "## Age BAR"
   ]
  },
  {
   "cell_type": "markdown",
   "metadata": {},
   "source": [
    "##### Data prep"
   ]
  },
  {
   "cell_type": "code",
   "execution_count": 4,
   "metadata": {},
   "outputs": [],
   "source": [
    "bins = np.arange(0, df['ageYears'].max() + 5, 5)\n",
    "df['age_categories'] = pd.cut(df['ageYears'], bins=bins, right=False)"
   ]
  },
  {
   "cell_type": "markdown",
   "metadata": {},
   "source": [
    "### Relevant for Flight Emergencies:\n",
    "- **typecode**: Indicates the aircraft type; some types may have higher incident rates.\n",
    "- **origin**: The airport of departure; relevant for analyzing patterns related to specific airports.\n",
    "- **landing**: The landing airport; crucial for understanding emergency landing patterns.\n",
    "- **destination**: Indicates the planned route.\n",
    "- **diverted**: Directly relevant as it indicates whether the flight was diverted.\n",
    "- **tweet_problem**: Likely contains information about problems during the flight.\n",
    "- **tweet_result**: Could indicate the outcome of the emergency.\n",
    "- **tweet_fueldump**: Indicates whether fuel was dumped, often associated with emergencies.\n",
    "- **avh_problem**: Emergency-related problems reported.\n",
    "- **avh_result**: Results related to emergency actions.\n",
    "- **avh_fueldump**: Fuel dumping, which is relevant for emergencies.\n",
    "- **manufacturer**: Aircraft manufacturer could indicate patterns of issues with specific makes/models.\n",
    "\n",
    "### Not Relevant for Flight Emergency Analysis:\n",
    "- **flight_id**: Unique identifier for a flight; only useful for tracking, not for analysis.\n",
    "- **icao24**: Aircraft identifier; not directly linked to emergency analysis.\n",
    "- **registration**: Registration of the aircraft; not emergency-related.\n",
    "- **airlineName**: Airline name; might provide limited insight unless correlated with emergencies.\n",
    "- **productionLine**: Not directly relevant unless investigating manufacturing patterns.\n",
    "- **age_categories**: Aircraft age might have limited relevance unless analyzing age-specific issues."
   ]
  },
  {
   "cell_type": "code",
   "execution_count": 5,
   "metadata": {},
   "outputs": [
    {
     "data": {
      "text/html": [
       "<div>\n",
       "<style scoped>\n",
       "    .dataframe tbody tr th:only-of-type {\n",
       "        vertical-align: middle;\n",
       "    }\n",
       "\n",
       "    .dataframe tbody tr th {\n",
       "        vertical-align: top;\n",
       "    }\n",
       "\n",
       "    .dataframe thead th {\n",
       "        text-align: right;\n",
       "    }\n",
       "</style>\n",
       "<table border=\"1\" class=\"dataframe\">\n",
       "  <thead>\n",
       "    <tr style=\"text-align: right;\">\n",
       "      <th></th>\n",
       "      <th>flight_id</th>\n",
       "      <th>icao24</th>\n",
       "      <th>registration</th>\n",
       "      <th>typecode</th>\n",
       "      <th>origin</th>\n",
       "      <th>landing</th>\n",
       "      <th>destination</th>\n",
       "      <th>diverted</th>\n",
       "      <th>tweet_problem</th>\n",
       "      <th>tweet_result</th>\n",
       "      <th>...</th>\n",
       "      <th>avh_id</th>\n",
       "      <th>avh_problem</th>\n",
       "      <th>avh_result</th>\n",
       "      <th>avh_fueldump</th>\n",
       "      <th>airlineName</th>\n",
       "      <th>isFreighter</th>\n",
       "      <th>productionLine</th>\n",
       "      <th>ageYears</th>\n",
       "      <th>manufacturer</th>\n",
       "      <th>age_categories</th>\n",
       "    </tr>\n",
       "  </thead>\n",
       "  <tbody>\n",
       "    <tr>\n",
       "      <th>0</th>\n",
       "      <td>ARG1511_20180101</td>\n",
       "      <td>e06442</td>\n",
       "      <td>LV-FQB</td>\n",
       "      <td>B738</td>\n",
       "      <td>SACO</td>\n",
       "      <td>SABE</td>\n",
       "      <td>SABE</td>\n",
       "      <td>NaN</td>\n",
       "      <td>NaN</td>\n",
       "      <td>NaN</td>\n",
       "      <td>...</td>\n",
       "      <td>NaN</td>\n",
       "      <td>NaN</td>\n",
       "      <td>NaN</td>\n",
       "      <td>NaN</td>\n",
       "      <td>Aerolineas Argentinas</td>\n",
       "      <td>False</td>\n",
       "      <td>Boeing 737 NG</td>\n",
       "      <td>13.2</td>\n",
       "      <td>Boeing</td>\n",
       "      <td>[10.0, 15.0)</td>\n",
       "    </tr>\n",
       "    <tr>\n",
       "      <th>1</th>\n",
       "      <td>DAL14_20180101</td>\n",
       "      <td>a14c29</td>\n",
       "      <td>N183DN</td>\n",
       "      <td>B763</td>\n",
       "      <td>KATL</td>\n",
       "      <td>NaN</td>\n",
       "      <td>EDDF</td>\n",
       "      <td>NaN</td>\n",
       "      <td>NaN</td>\n",
       "      <td>NaN</td>\n",
       "      <td>...</td>\n",
       "      <td>NaN</td>\n",
       "      <td>NaN</td>\n",
       "      <td>NaN</td>\n",
       "      <td>NaN</td>\n",
       "      <td>Delta Air Lines</td>\n",
       "      <td>False</td>\n",
       "      <td>Boeing 767</td>\n",
       "      <td>31.6</td>\n",
       "      <td>Boeing</td>\n",
       "      <td>[30.0, 35.0)</td>\n",
       "    </tr>\n",
       "    <tr>\n",
       "      <th>2</th>\n",
       "      <td>JBU263_20180108</td>\n",
       "      <td>aa600a</td>\n",
       "      <td>N768JB</td>\n",
       "      <td>A320</td>\n",
       "      <td>KJFK</td>\n",
       "      <td>NaN</td>\n",
       "      <td>KSEA</td>\n",
       "      <td>NaN</td>\n",
       "      <td>NaN</td>\n",
       "      <td>NaN</td>\n",
       "      <td>...</td>\n",
       "      <td>NaN</td>\n",
       "      <td>NaN</td>\n",
       "      <td>NaN</td>\n",
       "      <td>NaN</td>\n",
       "      <td>JetBlue Airways</td>\n",
       "      <td>False</td>\n",
       "      <td>Airbus A320</td>\n",
       "      <td>15.9</td>\n",
       "      <td>Airbus</td>\n",
       "      <td>[15.0, 20.0)</td>\n",
       "    </tr>\n",
       "    <tr>\n",
       "      <th>3</th>\n",
       "      <td>DAL65_20180108</td>\n",
       "      <td>ab2855</td>\n",
       "      <td>N818NW</td>\n",
       "      <td>A333</td>\n",
       "      <td>KATL</td>\n",
       "      <td>KLAX</td>\n",
       "      <td>KLAX</td>\n",
       "      <td>NaN</td>\n",
       "      <td>NaN</td>\n",
       "      <td>NaN</td>\n",
       "      <td>...</td>\n",
       "      <td>NaN</td>\n",
       "      <td>NaN</td>\n",
       "      <td>NaN</td>\n",
       "      <td>NaN</td>\n",
       "      <td>Delta Air Lines</td>\n",
       "      <td>False</td>\n",
       "      <td>Airbus A330</td>\n",
       "      <td>17.4</td>\n",
       "      <td>Airbus</td>\n",
       "      <td>[15.0, 20.0)</td>\n",
       "    </tr>\n",
       "    <tr>\n",
       "      <th>4</th>\n",
       "      <td>EDW24_20180111</td>\n",
       "      <td>4b1901</td>\n",
       "      <td>HB-JMF</td>\n",
       "      <td>A343</td>\n",
       "      <td>LSZH</td>\n",
       "      <td>LSZH</td>\n",
       "      <td>MMUN</td>\n",
       "      <td>LSZH</td>\n",
       "      <td>engine</td>\n",
       "      <td>return</td>\n",
       "      <td>...</td>\n",
       "      <td>4b382175</td>\n",
       "      <td>engine</td>\n",
       "      <td>return</td>\n",
       "      <td>unknown</td>\n",
       "      <td>Edelweiss Air</td>\n",
       "      <td>False</td>\n",
       "      <td>Airbus A340</td>\n",
       "      <td>21.1</td>\n",
       "      <td>Airbus</td>\n",
       "      <td>[20.0, 25.0)</td>\n",
       "    </tr>\n",
       "  </tbody>\n",
       "</table>\n",
       "<p>5 rows × 21 columns</p>\n",
       "</div>"
      ],
      "text/plain": [
       "          flight_id  icao24 registration typecode origin landing destination  \\\n",
       "0  ARG1511_20180101  e06442       LV-FQB     B738   SACO    SABE        SABE   \n",
       "1    DAL14_20180101  a14c29       N183DN     B763   KATL     NaN        EDDF   \n",
       "2   JBU263_20180108  aa600a       N768JB     A320   KJFK     NaN        KSEA   \n",
       "3    DAL65_20180108  ab2855       N818NW     A333   KATL    KLAX        KLAX   \n",
       "4    EDW24_20180111  4b1901       HB-JMF     A343   LSZH    LSZH        MMUN   \n",
       "\n",
       "  diverted tweet_problem tweet_result  ...    avh_id avh_problem avh_result  \\\n",
       "0      NaN           NaN          NaN  ...       NaN         NaN        NaN   \n",
       "1      NaN           NaN          NaN  ...       NaN         NaN        NaN   \n",
       "2      NaN           NaN          NaN  ...       NaN         NaN        NaN   \n",
       "3      NaN           NaN          NaN  ...       NaN         NaN        NaN   \n",
       "4     LSZH        engine       return  ...  4b382175      engine     return   \n",
       "\n",
       "  avh_fueldump            airlineName isFreighter  productionLine ageYears  \\\n",
       "0          NaN  Aerolineas Argentinas       False   Boeing 737 NG     13.2   \n",
       "1          NaN        Delta Air Lines       False      Boeing 767     31.6   \n",
       "2          NaN        JetBlue Airways       False     Airbus A320     15.9   \n",
       "3          NaN        Delta Air Lines       False     Airbus A330     17.4   \n",
       "4      unknown          Edelweiss Air       False     Airbus A340     21.1   \n",
       "\n",
       "   manufacturer age_categories  \n",
       "0        Boeing   [10.0, 15.0)  \n",
       "1        Boeing   [30.0, 35.0)  \n",
       "2        Airbus   [15.0, 20.0)  \n",
       "3        Airbus   [15.0, 20.0)  \n",
       "4        Airbus   [20.0, 25.0)  \n",
       "\n",
       "[5 rows x 21 columns]"
      ]
     },
     "execution_count": 5,
     "metadata": {},
     "output_type": "execute_result"
    }
   ],
   "source": [
    "df.head()"
   ]
  },
  {
   "cell_type": "code",
   "execution_count": 6,
   "metadata": {},
   "outputs": [
    {
     "data": {
      "text/plain": [
       "flight_id           0\n",
       "icao24              0\n",
       "registration        0\n",
       "typecode            0\n",
       "origin             12\n",
       "landing           188\n",
       "destination        14\n",
       "diverted          416\n",
       "tweet_problem     334\n",
       "tweet_result      334\n",
       "tweet_fueldump    334\n",
       "avh_id            551\n",
       "avh_problem       551\n",
       "avh_result        551\n",
       "avh_fueldump      551\n",
       "airlineName         0\n",
       "isFreighter         0\n",
       "productionLine      0\n",
       "ageYears            0\n",
       "manufacturer        0\n",
       "age_categories      0\n",
       "dtype: int64"
      ]
     },
     "execution_count": 6,
     "metadata": {},
     "output_type": "execute_result"
    }
   ],
   "source": [
    "df.isna().sum()"
   ]
  },
  {
   "cell_type": "code",
   "execution_count": 7,
   "metadata": {},
   "outputs": [
    {
     "data": {
      "text/html": [
       "<div>\n",
       "<style scoped>\n",
       "    .dataframe tbody tr th:only-of-type {\n",
       "        vertical-align: middle;\n",
       "    }\n",
       "\n",
       "    .dataframe tbody tr th {\n",
       "        vertical-align: top;\n",
       "    }\n",
       "\n",
       "    .dataframe thead th {\n",
       "        text-align: right;\n",
       "    }\n",
       "</style>\n",
       "<table border=\"1\" class=\"dataframe\">\n",
       "  <thead>\n",
       "    <tr style=\"text-align: right;\">\n",
       "      <th></th>\n",
       "      <th>flight_id</th>\n",
       "      <th>icao24</th>\n",
       "      <th>registration</th>\n",
       "      <th>typecode</th>\n",
       "      <th>origin</th>\n",
       "      <th>landing</th>\n",
       "      <th>destination</th>\n",
       "      <th>diverted</th>\n",
       "      <th>tweet_problem</th>\n",
       "      <th>tweet_result</th>\n",
       "      <th>...</th>\n",
       "      <th>avh_id</th>\n",
       "      <th>avh_problem</th>\n",
       "      <th>avh_result</th>\n",
       "      <th>avh_fueldump</th>\n",
       "      <th>airlineName</th>\n",
       "      <th>isFreighter</th>\n",
       "      <th>productionLine</th>\n",
       "      <th>ageYears</th>\n",
       "      <th>manufacturer</th>\n",
       "      <th>age_categories</th>\n",
       "    </tr>\n",
       "  </thead>\n",
       "  <tbody>\n",
       "    <tr>\n",
       "      <th>4</th>\n",
       "      <td>EDW24_20180111</td>\n",
       "      <td>4b1901</td>\n",
       "      <td>HB-JMF</td>\n",
       "      <td>A343</td>\n",
       "      <td>LSZH</td>\n",
       "      <td>LSZH</td>\n",
       "      <td>MMUN</td>\n",
       "      <td>LSZH</td>\n",
       "      <td>engine</td>\n",
       "      <td>return</td>\n",
       "      <td>...</td>\n",
       "      <td>4b382175</td>\n",
       "      <td>engine</td>\n",
       "      <td>return</td>\n",
       "      <td>unknown</td>\n",
       "      <td>Edelweiss Air</td>\n",
       "      <td>False</td>\n",
       "      <td>Airbus A340</td>\n",
       "      <td>21.1</td>\n",
       "      <td>Airbus</td>\n",
       "      <td>[20.0, 25.0)</td>\n",
       "    </tr>\n",
       "    <tr>\n",
       "      <th>16</th>\n",
       "      <td>AFR032_20180209</td>\n",
       "      <td>3949e1</td>\n",
       "      <td>F-GSPB</td>\n",
       "      <td>B772</td>\n",
       "      <td>LFPO</td>\n",
       "      <td>LFPO</td>\n",
       "      <td>KJFK</td>\n",
       "      <td>LFPO</td>\n",
       "      <td>technical</td>\n",
       "      <td>return</td>\n",
       "      <td>...</td>\n",
       "      <td>4b4b9911</td>\n",
       "      <td>engine</td>\n",
       "      <td>return</td>\n",
       "      <td>unknown</td>\n",
       "      <td>Air France</td>\n",
       "      <td>False</td>\n",
       "      <td>Boeing 777</td>\n",
       "      <td>26.6</td>\n",
       "      <td>Boeing</td>\n",
       "      <td>[25.0, 30.0)</td>\n",
       "    </tr>\n",
       "    <tr>\n",
       "      <th>21</th>\n",
       "      <td>BGA143F_20180226</td>\n",
       "      <td>394a65</td>\n",
       "      <td>F-GSTF</td>\n",
       "      <td>A3ST</td>\n",
       "      <td>EGNR</td>\n",
       "      <td>EDHI</td>\n",
       "      <td>EDHI</td>\n",
       "      <td>NaN</td>\n",
       "      <td>NaN</td>\n",
       "      <td>NaN</td>\n",
       "      <td>...</td>\n",
       "      <td>4b57310c</td>\n",
       "      <td>smoke_burn_smell_flames</td>\n",
       "      <td>planned</td>\n",
       "      <td>unknown</td>\n",
       "      <td>Airbus Transport International</td>\n",
       "      <td>False</td>\n",
       "      <td>Airbus A300</td>\n",
       "      <td>23.9</td>\n",
       "      <td>Airbus</td>\n",
       "      <td>[20.0, 25.0)</td>\n",
       "    </tr>\n",
       "    <tr>\n",
       "      <th>24</th>\n",
       "      <td>RYR3ZK_20180228</td>\n",
       "      <td>4ca678</td>\n",
       "      <td>EI-FOV</td>\n",
       "      <td>B738</td>\n",
       "      <td>LPPT</td>\n",
       "      <td>LPPT</td>\n",
       "      <td>LPPR</td>\n",
       "      <td>LPPT</td>\n",
       "      <td>unclear</td>\n",
       "      <td>return</td>\n",
       "      <td>...</td>\n",
       "      <td>4b592dcf</td>\n",
       "      <td>cabin_pressure</td>\n",
       "      <td>return</td>\n",
       "      <td>unknown</td>\n",
       "      <td>Ryanair</td>\n",
       "      <td>False</td>\n",
       "      <td>Boeing 737 NG</td>\n",
       "      <td>8.7</td>\n",
       "      <td>Boeing</td>\n",
       "      <td>[5.0, 10.0)</td>\n",
       "    </tr>\n",
       "    <tr>\n",
       "      <th>27</th>\n",
       "      <td>DAL445_20180303</td>\n",
       "      <td>ab7ae4</td>\n",
       "      <td>N839MH</td>\n",
       "      <td>B764</td>\n",
       "      <td>LIRF</td>\n",
       "      <td>LFPG</td>\n",
       "      <td>KJFK</td>\n",
       "      <td>LFPG</td>\n",
       "      <td>unclear</td>\n",
       "      <td>diverted</td>\n",
       "      <td>...</td>\n",
       "      <td>4b5b3cf5</td>\n",
       "      <td>instrument</td>\n",
       "      <td>diverted</td>\n",
       "      <td>fueldump</td>\n",
       "      <td>Delta Air Lines</td>\n",
       "      <td>False</td>\n",
       "      <td>Boeing 767</td>\n",
       "      <td>23.8</td>\n",
       "      <td>Boeing</td>\n",
       "      <td>[20.0, 25.0)</td>\n",
       "    </tr>\n",
       "  </tbody>\n",
       "</table>\n",
       "<p>5 rows × 21 columns</p>\n",
       "</div>"
      ],
      "text/plain": [
       "           flight_id  icao24 registration typecode origin landing destination  \\\n",
       "4     EDW24_20180111  4b1901       HB-JMF     A343   LSZH    LSZH        MMUN   \n",
       "16   AFR032_20180209  3949e1       F-GSPB     B772   LFPO    LFPO        KJFK   \n",
       "21  BGA143F_20180226  394a65       F-GSTF     A3ST   EGNR    EDHI        EDHI   \n",
       "24   RYR3ZK_20180228  4ca678       EI-FOV     B738   LPPT    LPPT        LPPR   \n",
       "27   DAL445_20180303  ab7ae4       N839MH     B764   LIRF    LFPG        KJFK   \n",
       "\n",
       "   diverted tweet_problem tweet_result  ...    avh_id  \\\n",
       "4      LSZH        engine       return  ...  4b382175   \n",
       "16     LFPO     technical       return  ...  4b4b9911   \n",
       "21      NaN           NaN          NaN  ...  4b57310c   \n",
       "24     LPPT       unclear       return  ...  4b592dcf   \n",
       "27     LFPG       unclear     diverted  ...  4b5b3cf5   \n",
       "\n",
       "                avh_problem avh_result avh_fueldump  \\\n",
       "4                    engine     return      unknown   \n",
       "16                   engine     return      unknown   \n",
       "21  smoke_burn_smell_flames    planned      unknown   \n",
       "24           cabin_pressure     return      unknown   \n",
       "27               instrument   diverted     fueldump   \n",
       "\n",
       "                       airlineName isFreighter  productionLine ageYears  \\\n",
       "4                    Edelweiss Air       False     Airbus A340     21.1   \n",
       "16                      Air France       False      Boeing 777     26.6   \n",
       "21  Airbus Transport International       False     Airbus A300     23.9   \n",
       "24                         Ryanair       False   Boeing 737 NG      8.7   \n",
       "27                 Delta Air Lines       False      Boeing 767     23.8   \n",
       "\n",
       "    manufacturer age_categories  \n",
       "4         Airbus   [20.0, 25.0)  \n",
       "16        Boeing   [25.0, 30.0)  \n",
       "21        Airbus   [20.0, 25.0)  \n",
       "24        Boeing    [5.0, 10.0)  \n",
       "27        Boeing   [20.0, 25.0)  \n",
       "\n",
       "[5 rows x 21 columns]"
      ]
     },
     "execution_count": 7,
     "metadata": {},
     "output_type": "execute_result"
    }
   ],
   "source": [
    "# let's subset non-null values, one dataframe for avh-related and other for tweet-related\n",
    "\n",
    "# Subset data for avh-related columns\n",
    "df_avh = df[df[['avh_problem', 'avh_result', 'avh_fueldump']].notnull().any(axis=1)]\n",
    "\n",
    "# Subset data for tweet-related columns\n",
    "df_tweet = df[df[['tweet_problem', 'tweet_result', 'tweet_fueldump']].notnull().any(axis=1)]\n",
    "\n",
    "df_avh.head()"
   ]
  },
  {
   "cell_type": "code",
   "execution_count": 8,
   "metadata": {},
   "outputs": [
    {
     "data": {
      "text/plain": [
       "{'avh_problem': array(['engine', 'smoke_burn_smell_flames', 'cabin_pressure',\n",
       "        'instrument', 'hot_air_leak', 'cracked_windshield',\n",
       "        'weather_damage', 'hydraulics', 'landing_gear', 'fuel_leak',\n",
       "        'medical', 'misc', 'slats', 'maintenance', 'air_condition', 'bird',\n",
       "        'brakes', 'heating', 'flaps'], dtype=object),\n",
       " 'avh_result': array(['return', 'planned', 'diverted'], dtype=object),\n",
       " 'avh_fueldump': array(['unknown', 'fueldump', 'hold_to_reduce'], dtype=object)}"
      ]
     },
     "execution_count": 8,
     "metadata": {},
     "output_type": "execute_result"
    }
   ],
   "source": [
    "# List of avh-related columns\n",
    "avh_columns = ['avh_problem', 'avh_result', 'avh_fueldump']\n",
    "\n",
    "# Display distinct values for each avh-related column\n",
    "distinct_avh_values = {col: df[col].dropna().unique() for col in avh_columns}\n",
    "\n",
    "distinct_avh_values\n"
   ]
  },
  {
   "cell_type": "code",
   "execution_count": 9,
   "metadata": {},
   "outputs": [
    {
     "data": {
      "image/png": "[encoded data removed]",
      "text/plain": [
       "<Figure size 800x1800 with 3 Axes>"
      ]
     },
     "metadata": {},
     "output_type": "display_data"
    }
   ],
   "source": [
    "import matplotlib.pyplot as plt\n",
    "\n",
    "fig, axes = plt.subplots(3, 1, figsize=(8, 18))\n",
    "\n",
    "columns = ['avh_problem', 'avh_result', 'avh_fueldump']\n",
    "\n",
    "for i, col in enumerate(columns):\n",
    "    counts = df[col].value_counts()\n",
    "    axes[i].barh(counts.index, counts.values, color='skyblue')\n",
    "    axes[i].invert_yaxis()\n",
    "    axes[i].set_title(f'Most Common {col.replace(\"_\", \" \").capitalize()}')\n",
    "    axes[i].set_xlabel('Count')\n",
    "    axes[i].set_ylabel(col.replace(\"_\", \" \").capitalize())\n",
    "\n",
    "plt.tight_layout()\n",
    "plt.show()\n"
   ]
  },
  {
   "cell_type": "code",
   "execution_count": 11,
   "metadata": {},
   "outputs": [
    {
     "data": {
      "text/html": [
       "<div>\n",
       "<style scoped>\n",
       "    .dataframe tbody tr th:only-of-type {\n",
       "        vertical-align: middle;\n",
       "    }\n",
       "\n",
       "    .dataframe tbody tr th {\n",
       "        vertical-align: top;\n",
       "    }\n",
       "\n",
       "    .dataframe thead th {\n",
       "        text-align: right;\n",
       "    }\n",
       "</style>\n",
       "<table border=\"1\" class=\"dataframe\">\n",
       "  <thead>\n",
       "    <tr style=\"text-align: right;\">\n",
       "      <th></th>\n",
       "      <th>typecode</th>\n",
       "      <th>avh_problem</th>\n",
       "      <th>count</th>\n",
       "    </tr>\n",
       "  </thead>\n",
       "  <tbody>\n",
       "    <tr>\n",
       "      <th>47</th>\n",
       "      <td>BCS3</td>\n",
       "      <td>engine</td>\n",
       "      <td>3</td>\n",
       "    </tr>\n",
       "    <tr>\n",
       "      <th>6</th>\n",
       "      <td>A320</td>\n",
       "      <td>smoke_burn_smell_flames</td>\n",
       "      <td>3</td>\n",
       "    </tr>\n",
       "    <tr>\n",
       "      <th>0</th>\n",
       "      <td>A319</td>\n",
       "      <td>cabin_pressure</td>\n",
       "      <td>2</td>\n",
       "    </tr>\n",
       "    <tr>\n",
       "      <th>21</th>\n",
       "      <td>B738</td>\n",
       "      <td>cabin_pressure</td>\n",
       "      <td>2</td>\n",
       "    </tr>\n",
       "    <tr>\n",
       "      <th>38</th>\n",
       "      <td>B772</td>\n",
       "      <td>engine</td>\n",
       "      <td>2</td>\n",
       "    </tr>\n",
       "    <tr>\n",
       "      <th>33</th>\n",
       "      <td>B763</td>\n",
       "      <td>fuel_leak</td>\n",
       "      <td>2</td>\n",
       "    </tr>\n",
       "    <tr>\n",
       "      <th>31</th>\n",
       "      <td>B752</td>\n",
       "      <td>cabin_pressure</td>\n",
       "      <td>2</td>\n",
       "    </tr>\n",
       "    <tr>\n",
       "      <th>30</th>\n",
       "      <td>B748</td>\n",
       "      <td>smoke_burn_smell_flames</td>\n",
       "      <td>2</td>\n",
       "    </tr>\n",
       "    <tr>\n",
       "      <th>7</th>\n",
       "      <td>A321</td>\n",
       "      <td>cabin_pressure</td>\n",
       "      <td>2</td>\n",
       "    </tr>\n",
       "    <tr>\n",
       "      <th>11</th>\n",
       "      <td>A333</td>\n",
       "      <td>cabin_pressure</td>\n",
       "      <td>2</td>\n",
       "    </tr>\n",
       "  </tbody>\n",
       "</table>\n",
       "</div>"
      ],
      "text/plain": [
       "   typecode              avh_problem  count\n",
       "47     BCS3                   engine      3\n",
       "6      A320  smoke_burn_smell_flames      3\n",
       "0      A319           cabin_pressure      2\n",
       "21     B738           cabin_pressure      2\n",
       "38     B772                   engine      2\n",
       "33     B763                fuel_leak      2\n",
       "31     B752           cabin_pressure      2\n",
       "30     B748  smoke_burn_smell_flames      2\n",
       "7      A321           cabin_pressure      2\n",
       "11     A333           cabin_pressure      2"
      ]
     },
     "execution_count": 11,
     "metadata": {},
     "output_type": "execute_result"
    }
   ],
   "source": [
    "subset_categories = ['engine', 'cabin_pressure', 'smoke_burn_smell_flames', 'hydraulics','misc', 'fuel_leak', 'cracked_windshield', 'instrument', 'landing_gear']\n",
    "filtered_df = df[df['avh_problem'].isin(subset_categories)]\n",
    "\n",
    "grouped = filtered_df.groupby(['typecode', 'avh_problem']).size().reset_index(name='count')\n",
    "most_common_problems_by_aircraft = grouped.loc[grouped.groupby('typecode')['count'].idxmax()]\n",
    "most_common_problems_by_aircraft = most_common_problems_by_aircraft.sort_values(by='count', ascending=False)\n",
    "most_common_problems_by_aircraft.head(10)\n",
    "\n"
   ]
  },
  {
   "cell_type": "code",
   "execution_count": 27,
   "metadata": {},
   "outputs": [
    {
     "data": {
      "text/html": [
       "<div>\n",
       "<style scoped>\n",
       "    .dataframe tbody tr th:only-of-type {\n",
       "        vertical-align: middle;\n",
       "    }\n",
       "\n",
       "    .dataframe tbody tr th {\n",
       "        vertical-align: top;\n",
       "    }\n",
       "\n",
       "    .dataframe thead th {\n",
       "        text-align: right;\n",
       "    }\n",
       "</style>\n",
       "<table border=\"1\" class=\"dataframe\">\n",
       "  <thead>\n",
       "    <tr style=\"text-align: right;\">\n",
       "      <th></th>\n",
       "      <th>typecode</th>\n",
       "      <th>problem_list</th>\n",
       "      <th>problem_count</th>\n",
       "    </tr>\n",
       "  </thead>\n",
       "  <tbody>\n",
       "    <tr>\n",
       "      <th>0</th>\n",
       "      <td>A319</td>\n",
       "      <td>[cabin_pressure, smoke_burn_smell_flames]</td>\n",
       "      <td>2</td>\n",
       "    </tr>\n",
       "    <tr>\n",
       "      <th>1</th>\n",
       "      <td>A320</td>\n",
       "      <td>[cabin_pressure, engine, fuel_leak, hydraulics...</td>\n",
       "      <td>5</td>\n",
       "    </tr>\n",
       "    <tr>\n",
       "      <th>2</th>\n",
       "      <td>A321</td>\n",
       "      <td>[cabin_pressure, engine, smoke_burn_smell_flames]</td>\n",
       "      <td>3</td>\n",
       "    </tr>\n",
       "    <tr>\n",
       "      <th>4</th>\n",
       "      <td>A333</td>\n",
       "      <td>[cabin_pressure, engine, hydraulics]</td>\n",
       "      <td>3</td>\n",
       "    </tr>\n",
       "    <tr>\n",
       "      <th>12</th>\n",
       "      <td>B738</td>\n",
       "      <td>[cabin_pressure, engine, fuel_leak, hydraulics...</td>\n",
       "      <td>7</td>\n",
       "    </tr>\n",
       "    <tr>\n",
       "      <th>16</th>\n",
       "      <td>B752</td>\n",
       "      <td>[cabin_pressure, smoke_burn_smell_flames]</td>\n",
       "      <td>2</td>\n",
       "    </tr>\n",
       "    <tr>\n",
       "      <th>17</th>\n",
       "      <td>B763</td>\n",
       "      <td>[fuel_leak, hydraulics, smoke_burn_smell_flames]</td>\n",
       "      <td>3</td>\n",
       "    </tr>\n",
       "    <tr>\n",
       "      <th>18</th>\n",
       "      <td>B764</td>\n",
       "      <td>[cracked_windshield, instrument]</td>\n",
       "      <td>2</td>\n",
       "    </tr>\n",
       "    <tr>\n",
       "      <th>19</th>\n",
       "      <td>B772</td>\n",
       "      <td>[engine, landing_gear, smoke_burn_smell_flames]</td>\n",
       "      <td>3</td>\n",
       "    </tr>\n",
       "    <tr>\n",
       "      <th>21</th>\n",
       "      <td>B788</td>\n",
       "      <td>[cracked_windshield, engine]</td>\n",
       "      <td>2</td>\n",
       "    </tr>\n",
       "    <tr>\n",
       "      <th>22</th>\n",
       "      <td>B789</td>\n",
       "      <td>[engine, instrument, misc]</td>\n",
       "      <td>3</td>\n",
       "    </tr>\n",
       "    <tr>\n",
       "      <th>25</th>\n",
       "      <td>DH8D</td>\n",
       "      <td>[cabin_pressure, engine]</td>\n",
       "      <td>2</td>\n",
       "    </tr>\n",
       "    <tr>\n",
       "      <th>27</th>\n",
       "      <td>E75L</td>\n",
       "      <td>[cabin_pressure, smoke_burn_smell_flames]</td>\n",
       "      <td>2</td>\n",
       "    </tr>\n",
       "  </tbody>\n",
       "</table>\n",
       "</div>"
      ],
      "text/plain": [
       "   typecode                                       problem_list  problem_count\n",
       "0      A319          [cabin_pressure, smoke_burn_smell_flames]              2\n",
       "1      A320  [cabin_pressure, engine, fuel_leak, hydraulics...              5\n",
       "2      A321  [cabin_pressure, engine, smoke_burn_smell_flames]              3\n",
       "4      A333               [cabin_pressure, engine, hydraulics]              3\n",
       "12     B738  [cabin_pressure, engine, fuel_leak, hydraulics...              7\n",
       "16     B752          [cabin_pressure, smoke_burn_smell_flames]              2\n",
       "17     B763   [fuel_leak, hydraulics, smoke_burn_smell_flames]              3\n",
       "18     B764                   [cracked_windshield, instrument]              2\n",
       "19     B772    [engine, landing_gear, smoke_burn_smell_flames]              3\n",
       "21     B788                       [cracked_windshield, engine]              2\n",
       "22     B789                         [engine, instrument, misc]              3\n",
       "25     DH8D                           [cabin_pressure, engine]              2\n",
       "27     E75L          [cabin_pressure, smoke_burn_smell_flames]              2"
      ]
     },
     "execution_count": 27,
     "metadata": {},
     "output_type": "execute_result"
    }
   ],
   "source": [
    "multiple_problems = filtered_df.groupby(['typecode', 'avh_problem']).size().reset_index(name='count')\n",
    "problem_list = multiple_problems.groupby('typecode')['avh_problem'].apply(list).reset_index(name='problem_list')\n",
    "problem_list['problem_count'] = problem_list['problem_list'].apply(len)\n",
    "multiple_instances = problem_list[problem_list['problem_count'] > 1]\n",
    "\n",
    "multiple_instances\n"
   ]
  },
  {
   "cell_type": "code",
   "execution_count": 12,
   "metadata": {},
   "outputs": [
    {
     "data": {
      "text/html": [
       "<div>\n",
       "<style scoped>\n",
       "    .dataframe tbody tr th:only-of-type {\n",
       "        vertical-align: middle;\n",
       "    }\n",
       "\n",
       "    .dataframe tbody tr th {\n",
       "        vertical-align: top;\n",
       "    }\n",
       "\n",
       "    .dataframe thead th {\n",
       "        text-align: right;\n",
       "    }\n",
       "</style>\n",
       "<table border=\"1\" class=\"dataframe\">\n",
       "  <thead>\n",
       "    <tr style=\"text-align: right;\">\n",
       "      <th></th>\n",
       "      <th>typecode</th>\n",
       "      <th>repeated_problems</th>\n",
       "    </tr>\n",
       "  </thead>\n",
       "  <tbody>\n",
       "    <tr>\n",
       "      <th>0</th>\n",
       "      <td>A319</td>\n",
       "      <td>[cabin_pressure]</td>\n",
       "    </tr>\n",
       "    <tr>\n",
       "      <th>1</th>\n",
       "      <td>A320</td>\n",
       "      <td>[fuel_leak, hydraulics, smoke_burn_smell_flames]</td>\n",
       "    </tr>\n",
       "    <tr>\n",
       "      <th>2</th>\n",
       "      <td>A321</td>\n",
       "      <td>[cabin_pressure, engine]</td>\n",
       "    </tr>\n",
       "    <tr>\n",
       "      <th>3</th>\n",
       "      <td>A333</td>\n",
       "      <td>[cabin_pressure]</td>\n",
       "    </tr>\n",
       "    <tr>\n",
       "      <th>4</th>\n",
       "      <td>B738</td>\n",
       "      <td>[cabin_pressure, engine]</td>\n",
       "    </tr>\n",
       "    <tr>\n",
       "      <th>5</th>\n",
       "      <td>B748</td>\n",
       "      <td>[smoke_burn_smell_flames]</td>\n",
       "    </tr>\n",
       "    <tr>\n",
       "      <th>6</th>\n",
       "      <td>B752</td>\n",
       "      <td>[cabin_pressure, smoke_burn_smell_flames]</td>\n",
       "    </tr>\n",
       "    <tr>\n",
       "      <th>7</th>\n",
       "      <td>B763</td>\n",
       "      <td>[fuel_leak]</td>\n",
       "    </tr>\n",
       "    <tr>\n",
       "      <th>8</th>\n",
       "      <td>B772</td>\n",
       "      <td>[engine, smoke_burn_smell_flames]</td>\n",
       "    </tr>\n",
       "    <tr>\n",
       "      <th>9</th>\n",
       "      <td>BCS3</td>\n",
       "      <td>[engine]</td>\n",
       "    </tr>\n",
       "  </tbody>\n",
       "</table>\n",
       "</div>"
      ],
      "text/plain": [
       "  typecode                                 repeated_problems\n",
       "0     A319                                  [cabin_pressure]\n",
       "1     A320  [fuel_leak, hydraulics, smoke_burn_smell_flames]\n",
       "2     A321                          [cabin_pressure, engine]\n",
       "3     A333                                  [cabin_pressure]\n",
       "4     B738                          [cabin_pressure, engine]\n",
       "5     B748                         [smoke_burn_smell_flames]\n",
       "6     B752         [cabin_pressure, smoke_burn_smell_flames]\n",
       "7     B763                                       [fuel_leak]\n",
       "8     B772                 [engine, smoke_burn_smell_flames]\n",
       "9     BCS3                                          [engine]"
      ]
     },
     "execution_count": 12,
     "metadata": {},
     "output_type": "execute_result"
    }
   ],
   "source": [
    "# Group by typecode and avh_problem to check if a problem occurred multiple times for the same aircraft\n",
    "problem_occurrences = filtered_df.groupby(['typecode', 'avh_problem']).size().reset_index(name='occurrence_count')\n",
    "\n",
    "# Filter rows where the same problem occurred at least twice\n",
    "problems_occurred_twice = problem_occurrences[problem_occurrences['occurrence_count'] > 1]\n",
    "\n",
    "# Create a new dataframe with typecode and a list of such problems\n",
    "repeated_problems_same_aircraft = problems_occurred_twice.groupby('typecode')['avh_problem'].apply(list).reset_index(name='repeated_problems')\n",
    "\n",
    "repeated_problems_same_aircraft\n"
   ]
  },
  {
   "cell_type": "code",
   "execution_count": 39,
   "metadata": {},
   "outputs": [
    {
     "data": {
      "text/html": [
       "<div>\n",
       "<style scoped>\n",
       "    .dataframe tbody tr th:only-of-type {\n",
       "        vertical-align: middle;\n",
       "    }\n",
       "\n",
       "    .dataframe tbody tr th {\n",
       "        vertical-align: top;\n",
       "    }\n",
       "\n",
       "    .dataframe thead th {\n",
       "        text-align: right;\n",
       "    }\n",
       "</style>\n",
       "<table border=\"1\" class=\"dataframe\">\n",
       "  <thead>\n",
       "    <tr style=\"text-align: right;\">\n",
       "      <th></th>\n",
       "      <th>flight_id</th>\n",
       "      <th>icao24</th>\n",
       "      <th>registration</th>\n",
       "      <th>typecode</th>\n",
       "      <th>origin</th>\n",
       "      <th>landing</th>\n",
       "      <th>destination</th>\n",
       "      <th>diverted</th>\n",
       "      <th>tweet_problem</th>\n",
       "      <th>tweet_result</th>\n",
       "      <th>...</th>\n",
       "      <th>avh_id</th>\n",
       "      <th>avh_problem</th>\n",
       "      <th>avh_result</th>\n",
       "      <th>avh_fueldump</th>\n",
       "      <th>airlineName</th>\n",
       "      <th>isFreighter</th>\n",
       "      <th>productionLine</th>\n",
       "      <th>ageYears</th>\n",
       "      <th>manufacturer</th>\n",
       "      <th>age_categories</th>\n",
       "    </tr>\n",
       "  </thead>\n",
       "  <tbody>\n",
       "    <tr>\n",
       "      <th>123</th>\n",
       "      <td>AZA875_20180719</td>\n",
       "      <td>4ca82e</td>\n",
       "      <td>EI-DTN</td>\n",
       "      <td>A320</td>\n",
       "      <td>GMMN</td>\n",
       "      <td>NaN</td>\n",
       "      <td>LIRF</td>\n",
       "      <td>LIEE</td>\n",
       "      <td>unclear</td>\n",
       "      <td>diverted</td>\n",
       "      <td>...</td>\n",
       "      <td>4bb636ac</td>\n",
       "      <td>fuel_leak</td>\n",
       "      <td>diverted</td>\n",
       "      <td>unknown</td>\n",
       "      <td>ITA Airways</td>\n",
       "      <td>False</td>\n",
       "      <td>Airbus A320</td>\n",
       "      <td>15.0</td>\n",
       "      <td>Airbus</td>\n",
       "      <td>[15.0, 20.0)</td>\n",
       "    </tr>\n",
       "    <tr>\n",
       "      <th>182</th>\n",
       "      <td>AFR17DA_20181017</td>\n",
       "      <td>392af8</td>\n",
       "      <td>F-GKXY</td>\n",
       "      <td>A320</td>\n",
       "      <td>LIRF</td>\n",
       "      <td>LIMC</td>\n",
       "      <td>LFPG</td>\n",
       "      <td>LIMC</td>\n",
       "      <td>technical</td>\n",
       "      <td>diverted</td>\n",
       "      <td>...</td>\n",
       "      <td>4bf2321a</td>\n",
       "      <td>fuel_leak</td>\n",
       "      <td>diverted</td>\n",
       "      <td>unknown</td>\n",
       "      <td>Air France</td>\n",
       "      <td>False</td>\n",
       "      <td>Airbus A320</td>\n",
       "      <td>15.0</td>\n",
       "      <td>Airbus</td>\n",
       "      <td>[15.0, 20.0)</td>\n",
       "    </tr>\n",
       "  </tbody>\n",
       "</table>\n",
       "<p>2 rows × 21 columns</p>\n",
       "</div>"
      ],
      "text/plain": [
       "            flight_id  icao24 registration typecode origin landing  \\\n",
       "123   AZA875_20180719  4ca82e       EI-DTN     A320   GMMN     NaN   \n",
       "182  AFR17DA_20181017  392af8       F-GKXY     A320   LIRF    LIMC   \n",
       "\n",
       "    destination diverted tweet_problem tweet_result  ...    avh_id  \\\n",
       "123        LIRF     LIEE       unclear     diverted  ...  4bb636ac   \n",
       "182        LFPG     LIMC     technical     diverted  ...  4bf2321a   \n",
       "\n",
       "    avh_problem avh_result avh_fueldump  airlineName isFreighter  \\\n",
       "123   fuel_leak   diverted      unknown  ITA Airways       False   \n",
       "182   fuel_leak   diverted      unknown   Air France       False   \n",
       "\n",
       "     productionLine ageYears  manufacturer age_categories  \n",
       "123     Airbus A320     15.0        Airbus   [15.0, 20.0)  \n",
       "182     Airbus A320     15.0        Airbus   [15.0, 20.0)  \n",
       "\n",
       "[2 rows x 21 columns]"
      ]
     },
     "execution_count": 39,
     "metadata": {},
     "output_type": "execute_result"
    }
   ],
   "source": [
    "df_avh[(df_avh['avh_problem']=='cabin_pressure') & (df_avh['typecode']=='A319')]\n",
    "\n",
    "df_avh[(df_avh['avh_problem']=='fuel_leak') & (df_avh['typecode']=='A320')]"
   ]
  },
  {
   "cell_type": "code",
   "execution_count": 10,
   "metadata": {},
   "outputs": [
    {
     "data": {
      "text/html": [
       "<div>\n",
       "<style scoped>\n",
       "    .dataframe tbody tr th:only-of-type {\n",
       "        vertical-align: middle;\n",
       "    }\n",
       "\n",
       "    .dataframe tbody tr th {\n",
       "        vertical-align: top;\n",
       "    }\n",
       "\n",
       "    .dataframe thead th {\n",
       "        text-align: right;\n",
       "    }\n",
       "</style>\n",
       "<table border=\"1\" class=\"dataframe\">\n",
       "  <thead>\n",
       "    <tr style=\"text-align: right;\">\n",
       "      <th></th>\n",
       "      <th>age_categories</th>\n",
       "      <th>count</th>\n",
       "      <th>age_categories_str</th>\n",
       "    </tr>\n",
       "  </thead>\n",
       "  <tbody>\n",
       "    <tr>\n",
       "      <th>0</th>\n",
       "      <td>[0.0, 5.0)</td>\n",
       "      <td>0</td>\n",
       "      <td>[0.0, 5.0)</td>\n",
       "    </tr>\n",
       "    <tr>\n",
       "      <th>1</th>\n",
       "      <td>[5.0, 10.0)</td>\n",
       "      <td>155</td>\n",
       "      <td>[5.0, 10.0)</td>\n",
       "    </tr>\n",
       "    <tr>\n",
       "      <th>2</th>\n",
       "      <td>[10.0, 15.0)</td>\n",
       "      <td>121</td>\n",
       "      <td>[10.0, 15.0)</td>\n",
       "    </tr>\n",
       "    <tr>\n",
       "      <th>3</th>\n",
       "      <td>[15.0, 20.0)</td>\n",
       "      <td>115</td>\n",
       "      <td>[15.0, 20.0)</td>\n",
       "    </tr>\n",
       "    <tr>\n",
       "      <th>4</th>\n",
       "      <td>[20.0, 25.0)</td>\n",
       "      <td>132</td>\n",
       "      <td>[20.0, 25.0)</td>\n",
       "    </tr>\n",
       "    <tr>\n",
       "      <th>5</th>\n",
       "      <td>[25.0, 30.0)</td>\n",
       "      <td>67</td>\n",
       "      <td>[25.0, 30.0)</td>\n",
       "    </tr>\n",
       "    <tr>\n",
       "      <th>6</th>\n",
       "      <td>[30.0, 35.0)</td>\n",
       "      <td>37</td>\n",
       "      <td>[30.0, 35.0)</td>\n",
       "    </tr>\n",
       "    <tr>\n",
       "      <th>7</th>\n",
       "      <td>[35.0, 40.0)</td>\n",
       "      <td>6</td>\n",
       "      <td>[35.0, 40.0)</td>\n",
       "    </tr>\n",
       "    <tr>\n",
       "      <th>8</th>\n",
       "      <td>[40.0, 45.0)</td>\n",
       "      <td>0</td>\n",
       "      <td>[40.0, 45.0)</td>\n",
       "    </tr>\n",
       "    <tr>\n",
       "      <th>9</th>\n",
       "      <td>[45.0, 50.0)</td>\n",
       "      <td>2</td>\n",
       "      <td>[45.0, 50.0)</td>\n",
       "    </tr>\n",
       "  </tbody>\n",
       "</table>\n",
       "</div>"
      ],
      "text/plain": [
       "  age_categories  count age_categories_str\n",
       "0     [0.0, 5.0)      0         [0.0, 5.0)\n",
       "1    [5.0, 10.0)    155        [5.0, 10.0)\n",
       "2   [10.0, 15.0)    121       [10.0, 15.0)\n",
       "3   [15.0, 20.0)    115       [15.0, 20.0)\n",
       "4   [20.0, 25.0)    132       [20.0, 25.0)\n",
       "5   [25.0, 30.0)     67       [25.0, 30.0)\n",
       "6   [30.0, 35.0)     37       [30.0, 35.0)\n",
       "7   [35.0, 40.0)      6       [35.0, 40.0)\n",
       "8   [40.0, 45.0)      0       [40.0, 45.0)\n",
       "9   [45.0, 50.0)      2       [45.0, 50.0)"
      ]
     },
     "execution_count": 10,
     "metadata": {},
     "output_type": "execute_result"
    }
   ],
   "source": [
    "age_category_counts = df['age_categories'].value_counts().sort_index().reset_index()\n",
    "age_category_counts['age_categories_str'] = age_category_counts['age_categories'].astype(str)\n",
    "age_category_counts"
   ]
  },
  {
   "cell_type": "code",
   "execution_count": 32,
   "metadata": {},
   "outputs": [
    {
     "data": {
      "text/plain": [
       "Interval(0.0, 5.0, closed='left')"
      ]
     },
     "execution_count": 32,
     "metadata": {},
     "output_type": "execute_result"
    }
   ],
   "source": [
    "age_category_counts['age_categories'][0]"
   ]
  },
  {
   "cell_type": "markdown",
   "metadata": {},
   "source": [
    "##### Plot"
   ]
  },
  {
   "cell_type": "code",
   "execution_count": 8,
   "metadata": {},
   "outputs": [
    {
     "data": {
      "application/vnd.plotly.v1+json": {
       "config": {
        "plotlyServerURL": "https://plot.ly"
       },
       "data": [
        {
         "marker": {
          "color": "red"
         },
         "name": "Age",
         "type": "bar",
         "x": [
          "[0.0, 5.0)",
          "[5.0, 10.0)",
          "[10.0, 15.0)",
          "[15.0, 20.0)",
          "[20.0, 25.0)",
          "[25.0, 30.0)",
          "[30.0, 35.0)",
          "[35.0, 40.0)",
          "[40.0, 45.0)",
          "[45.0, 50.0)"
         ],
         "y": [
          0,
          155,
          121,
          115,
          132,
          67,
          37,
          6,
          0,
          2
         ]
        }
       ],
       "layout": {
        "template": {
         "data": {
          "bar": [
           {
            "error_x": {
             "color": "#2a3f5f"
            },
            "error_y": {
             "color": "#2a3f5f"
            },
            "marker": {
             "line": {
              "color": "#E5ECF6",
              "width": 0.5
             },
             "pattern": {
              "fillmode": "overlay",
              "size": 10,
              "solidity": 0.2
             }
            },
            "type": "bar"
           }
          ],
          "barpolar": [
           {
            "marker": {
             "line": {
              "color": "#E5ECF6",
              "width": 0.5
             },
             "pattern": {
              "fillmode": "overlay",
              "size": 10,
              "solidity": 0.2
             }
            },
            "type": "barpolar"
           }
          ],
          "carpet": [
           {
            "aaxis": {
             "endlinecolor": "#2a3f5f",
             "gridcolor": "white",
             "linecolor": "white",
             "minorgridcolor": "white",
             "startlinecolor": "#2a3f5f"
            },
            "baxis": {
             "endlinecolor": "#2a3f5f",
             "gridcolor": "white",
             "linecolor": "white",
             "minorgridcolor": "white",
             "startlinecolor": "#2a3f5f"
            },
            "type": "carpet"
           }
          ],
          "choropleth": [
           {
            "colorbar": {
             "outlinewidth": 0,
             "ticks": ""
            },
            "type": "choropleth"
           }
          ],
          "contour": [
           {
            "colorbar": {
             "outlinewidth": 0,
             "ticks": ""
            },
            "colorscale": [
             [
              0,
              "#0d0887"
             ],
             [
              0.1111111111111111,
              "#46039f"
             ],
             [
              0.2222222222222222,
              "#7201a8"
             ],
             [
              0.3333333333333333,
              "#9c179e"
             ],
             [
              0.4444444444444444,
              "#bd3786"
             ],
             [
              0.5555555555555556,
              "#d8576b"
             ],
             [
              0.6666666666666666,
              "#ed7953"
             ],
             [
              0.7777777777777778,
              "#fb9f3a"
             ],
             [
              0.8888888888888888,
              "#fdca26"
             ],
             [
              1,
              "#f0f921"
             ]
            ],
            "type": "contour"
           }
          ],
          "contourcarpet": [
           {
            "colorbar": {
             "outlinewidth": 0,
             "ticks": ""
            },
            "type": "contourcarpet"
           }
          ],
          "heatmap": [
           {
            "colorbar": {
             "outlinewidth": 0,
             "ticks": ""
            },
            "colorscale": [
             [
              0,
              "#0d0887"
             ],
             [
              0.1111111111111111,
              "#46039f"
             ],
             [
              0.2222222222222222,
              "#7201a8"
             ],
             [
              0.3333333333333333,
              "#9c179e"
             ],
             [
              0.4444444444444444,
              "#bd3786"
             ],
             [
              0.5555555555555556,
              "#d8576b"
             ],
             [
              0.6666666666666666,
              "#ed7953"
             ],
             [
              0.7777777777777778,
              "#fb9f3a"
             ],
             [
              0.8888888888888888,
              "#fdca26"
             ],
             [
              1,
              "#f0f921"
             ]
            ],
            "type": "heatmap"
           }
          ],
          "heatmapgl": [
           {
            "colorbar": {
             "outlinewidth": 0,
             "ticks": ""
            },
            "colorscale": [
             [
              0,
              "#0d0887"
             ],
             [
              0.1111111111111111,
              "#46039f"
             ],
             [
              0.2222222222222222,
              "#7201a8"
             ],
             [
              0.3333333333333333,
              "#9c179e"
             ],
             [
              0.4444444444444444,
              "#bd3786"
             ],
             [
              0.5555555555555556,
              "#d8576b"
             ],
             [
              0.6666666666666666,
              "#ed7953"
             ],
             [
              0.7777777777777778,
              "#fb9f3a"
             ],
             [
              0.8888888888888888,
              "#fdca26"
             ],
             [
              1,
              "#f0f921"
             ]
            ],
            "type": "heatmapgl"
           }
          ],
          "histogram": [
           {
            "marker": {
             "pattern": {
              "fillmode": "overlay",
              "size": 10,
              "solidity": 0.2
             }
            },
            "type": "histogram"
           }
          ],
          "histogram2d": [
           {
            "colorbar": {
             "outlinewidth": 0,
             "ticks": ""
            },
            "colorscale": [
             [
              0,
              "#0d0887"
             ],
             [
              0.1111111111111111,
              "#46039f"
             ],
             [
              0.2222222222222222,
              "#7201a8"
             ],
             [
              0.3333333333333333,
              "#9c179e"
             ],
             [
              0.4444444444444444,
              "#bd3786"
             ],
             [
              0.5555555555555556,
              "#d8576b"
             ],
             [
              0.6666666666666666,
              "#ed7953"
             ],
             [
              0.7777777777777778,
              "#fb9f3a"
             ],
             [
              0.8888888888888888,
              "#fdca26"
             ],
             [
              1,
              "#f0f921"
             ]
            ],
            "type": "histogram2d"
           }
          ],
          "histogram2dcontour": [
           {
            "colorbar": {
             "outlinewidth": 0,
             "ticks": ""
            },
            "colorscale": [
             [
              0,
              "#0d0887"
             ],
             [
              0.1111111111111111,
              "#46039f"
             ],
             [
              0.2222222222222222,
              "#7201a8"
             ],
             [
              0.3333333333333333,
              "#9c179e"
             ],
             [
              0.4444444444444444,
              "#bd3786"
             ],
             [
              0.5555555555555556,
              "#d8576b"
             ],
             [
              0.6666666666666666,
              "#ed7953"
             ],
             [
              0.7777777777777778,
              "#fb9f3a"
             ],
             [
              0.8888888888888888,
              "#fdca26"
             ],
             [
              1,
              "#f0f921"
             ]
            ],
            "type": "histogram2dcontour"
           }
          ],
          "mesh3d": [
           {
            "colorbar": {
             "outlinewidth": 0,
             "ticks": ""
            },
            "type": "mesh3d"
           }
          ],
          "parcoords": [
           {
            "line": {
             "colorbar": {
              "outlinewidth": 0,
              "ticks": ""
             }
            },
            "type": "parcoords"
           }
          ],
          "pie": [
           {
            "automargin": true,
            "type": "pie"
           }
          ],
          "scatter": [
           {
            "fillpattern": {
             "fillmode": "overlay",
             "size": 10,
             "solidity": 0.2
            },
            "type": "scatter"
           }
          ],
          "scatter3d": [
           {
            "line": {
             "colorbar": {
              "outlinewidth": 0,
              "ticks": ""
             }
            },
            "marker": {
             "colorbar": {
              "outlinewidth": 0,
              "ticks": ""
             }
            },
            "type": "scatter3d"
           }
          ],
          "scattercarpet": [
           {
            "marker": {
             "colorbar": {
              "outlinewidth": 0,
              "ticks": ""
             }
            },
            "type": "scattercarpet"
           }
          ],
          "scattergeo": [
           {
            "marker": {
             "colorbar": {
              "outlinewidth": 0,
              "ticks": ""
             }
            },
            "type": "scattergeo"
           }
          ],
          "scattergl": [
           {
            "marker": {
             "colorbar": {
              "outlinewidth": 0,
              "ticks": ""
             }
            },
            "type": "scattergl"
           }
          ],
          "scattermapbox": [
           {
            "marker": {
             "colorbar": {
              "outlinewidth": 0,
              "ticks": ""
             }
            },
            "type": "scattermapbox"
           }
          ],
          "scatterpolar": [
           {
            "marker": {
             "colorbar": {
              "outlinewidth": 0,
              "ticks": ""
             }
            },
            "type": "scatterpolar"
           }
          ],
          "scatterpolargl": [
           {
            "marker": {
             "colorbar": {
              "outlinewidth": 0,
              "ticks": ""
             }
            },
            "type": "scatterpolargl"
           }
          ],
          "scatterternary": [
           {
            "marker": {
             "colorbar": {
              "outlinewidth": 0,
              "ticks": ""
             }
            },
            "type": "scatterternary"
           }
          ],
          "surface": [
           {
            "colorbar": {
             "outlinewidth": 0,
             "ticks": ""
            },
            "colorscale": [
             [
              0,
              "#0d0887"
             ],
             [
              0.1111111111111111,
              "#46039f"
             ],
             [
              0.2222222222222222,
              "#7201a8"
             ],
             [
              0.3333333333333333,
              "#9c179e"
             ],
             [
              0.4444444444444444,
              "#bd3786"
             ],
             [
              0.5555555555555556,
              "#d8576b"
             ],
             [
              0.6666666666666666,
              "#ed7953"
             ],
             [
              0.7777777777777778,
              "#fb9f3a"
             ],
             [
              0.8888888888888888,
              "#fdca26"
             ],
             [
              1,
              "#f0f921"
             ]
            ],
            "type": "surface"
           }
          ],
          "table": [
           {
            "cells": {
             "fill": {
              "color": "#EBF0F8"
             },
             "line": {
              "color": "white"
             }
            },
            "header": {
             "fill": {
              "color": "#C8D4E3"
             },
             "line": {
              "color": "white"
             }
            },
            "type": "table"
           }
          ]
         },
         "layout": {
          "annotationdefaults": {
           "arrowcolor": "#2a3f5f",
           "arrowhead": 0,
           "arrowwidth": 1
          },
          "autotypenumbers": "strict",
          "coloraxis": {
           "colorbar": {
            "outlinewidth": 0,
            "ticks": ""
           }
          },
          "colorscale": {
           "diverging": [
            [
             0,
             "#8e0152"
            ],
            [
             0.1,
             "#c51b7d"
            ],
            [
             0.2,
             "#de77ae"
            ],
            [
             0.3,
             "#f1b6da"
            ],
            [
             0.4,
             "#fde0ef"
            ],
            [
             0.5,
             "#f7f7f7"
            ],
            [
             0.6,
             "#e6f5d0"
            ],
            [
             0.7,
             "#b8e186"
            ],
            [
             0.8,
             "#7fbc41"
            ],
            [
             0.9,
             "#4d9221"
            ],
            [
             1,
             "#276419"
            ]
           ],
           "sequential": [
            [
             0,
             "#0d0887"
            ],
            [
             0.1111111111111111,
             "#46039f"
            ],
            [
             0.2222222222222222,
             "#7201a8"
            ],
            [
             0.3333333333333333,
             "#9c179e"
            ],
            [
             0.4444444444444444,
             "#bd3786"
            ],
            [
             0.5555555555555556,
             "#d8576b"
            ],
            [
             0.6666666666666666,
             "#ed7953"
            ],
            [
             0.7777777777777778,
             "#fb9f3a"
            ],
            [
             0.8888888888888888,
             "#fdca26"
            ],
            [
             1,
             "#f0f921"
            ]
           ],
           "sequentialminus": [
            [
             0,
             "#0d0887"
            ],
            [
             0.1111111111111111,
             "#46039f"
            ],
            [
             0.2222222222222222,
             "#7201a8"
            ],
            [
             0.3333333333333333,
             "#9c179e"
            ],
            [
             0.4444444444444444,
             "#bd3786"
            ],
            [
             0.5555555555555556,
             "#d8576b"
            ],
            [
             0.6666666666666666,
             "#ed7953"
            ],
            [
             0.7777777777777778,
             "#fb9f3a"
            ],
            [
             0.8888888888888888,
             "#fdca26"
            ],
            [
             1,
             "#f0f921"
            ]
           ]
          },
          "colorway": [
           "#636efa",
           "#EF553B",
           "#00cc96",
           "#ab63fa",
           "#FFA15A",
           "#19d3f3",
           "#FF6692",
           "#B6E880",
           "#FF97FF",
           "#FECB52"
          ],
          "font": {
           "color": "#2a3f5f"
          },
          "geo": {
           "bgcolor": "white",
           "lakecolor": "white",
           "landcolor": "#E5ECF6",
           "showlakes": true,
           "showland": true,
           "subunitcolor": "white"
          },
          "hoverlabel": {
           "align": "left"
          },
          "hovermode": "closest",
          "mapbox": {
           "style": "light"
          },
          "paper_bgcolor": "white",
          "plot_bgcolor": "#E5ECF6",
          "polar": {
           "angularaxis": {
            "gridcolor": "white",
            "linecolor": "white",
            "ticks": ""
           },
           "bgcolor": "#E5ECF6",
           "radialaxis": {
            "gridcolor": "white",
            "linecolor": "white",
            "ticks": ""
           }
          },
          "scene": {
           "xaxis": {
            "backgroundcolor": "#E5ECF6",
            "gridcolor": "white",
            "gridwidth": 2,
            "linecolor": "white",
            "showbackground": true,
            "ticks": "",
            "zerolinecolor": "white"
           },
           "yaxis": {
            "backgroundcolor": "#E5ECF6",
            "gridcolor": "white",
            "gridwidth": 2,
            "linecolor": "white",
            "showbackground": true,
            "ticks": "",
            "zerolinecolor": "white"
           },
           "zaxis": {
            "backgroundcolor": "#E5ECF6",
            "gridcolor": "white",
            "gridwidth": 2,
            "linecolor": "white",
            "showbackground": true,
            "ticks": "",
            "zerolinecolor": "white"
           }
          },
          "shapedefaults": {
           "line": {
            "color": "#2a3f5f"
           }
          },
          "ternary": {
           "aaxis": {
            "gridcolor": "white",
            "linecolor": "white",
            "ticks": ""
           },
           "baxis": {
            "gridcolor": "white",
            "linecolor": "white",
            "ticks": ""
           },
           "bgcolor": "#E5ECF6",
           "caxis": {
            "gridcolor": "white",
            "linecolor": "white",
            "ticks": ""
           }
          },
          "title": {
           "x": 0.05
          },
          "xaxis": {
           "automargin": true,
           "gridcolor": "white",
           "linecolor": "white",
           "ticks": "",
           "title": {
            "standoff": 15
           },
           "zerolinecolor": "white",
           "zerolinewidth": 2
          },
          "yaxis": {
           "automargin": true,
           "gridcolor": "white",
           "linecolor": "white",
           "ticks": "",
           "title": {
            "standoff": 15
           },
           "zerolinecolor": "white",
           "zerolinewidth": 2
          }
         }
        },
        "title": {
         "font": {
          "size": 24
         },
         "text": "Number of IFE Aircrafts per Age Category"
        },
        "xaxis": {
         "title": {
          "text": "Age Category (Years)"
         }
        },
        "yaxis": {
         "title": {
          "text": "IFE Aircraft Frequency"
         }
        }
       }
      }
     },
     "metadata": {},
     "output_type": "display_data"
    }
   ],
   "source": [
    "fig = go.Figure(data=[\n",
    "    go.Bar(x=age_category_counts['age_categories_str'], y=age_category_counts['count'], name=\"Age\", marker_color=\"red\")\n",
    "])\n",
    "\n",
    "fig.update_layout(\n",
    "    title={'text': \"Number of IFE Aircrafts per Age Category\", 'font': {\"size\": 24}},\n",
    "    xaxis_title=\"Age Category (Years)\",\n",
    "    yaxis_title=\"IFE Aircraft Frequency\"\n",
    ")"
   ]
  },
  {
   "cell_type": "markdown",
   "metadata": {},
   "source": [
    "## Frequency per type BAR"
   ]
  },
  {
   "cell_type": "markdown",
   "metadata": {},
   "source": [
    "##### Data prep"
   ]
  },
  {
   "cell_type": "code",
   "execution_count": 57,
   "metadata": {},
   "outputs": [
    {
     "data": {
      "text/plain": [
       "Index(['Airbus A320', 'Boeing 737-800', 'Airbus A319', 'Boeing 737',\n",
       "       'Embraer 175', 'Boeing 767-300', 'Airbus A321', 'Boeing 757-200',\n",
       "       'Boeing 737-700', 'Boeing 787-8', 'Boeing 777-200', 'Boeing 777',\n",
       "       'Airbus A330', 'Canadair CRJ 900', 'Airbus A330-200', 'Boeing 737-900',\n",
       "       'Boeing 777-300', 'Boeing 787-9', 'Boeing 747-400',\n",
       "       'Airbus A320 (Sharklets)', 'De Havilland Canada DHC-8-400 Dash 8Q',\n",
       "       'Embraer 145', 'Airbus A330-300', 'Boeing 747',\n",
       "       'McDonnell Douglas MD-11', 'Canadair CRJ 200', 'Boeing 767-400',\n",
       "       'Airbus A340-300', 'Embraer 170', 'Airbus A300-600', 'Airbus A380-800',\n",
       "       'Airbus A321 (Sharklets)', 'Boeing 737-600', 'Boeing 767', 'Boeing 757',\n",
       "       'Embraer Pheom 300', 'De Havilland Canada DHC-8-200 Dash 8 / 8Q',\n",
       "       'Cessna 172', 'ATR 72', 'Boeing 747-8', 'Airbus A300', 'Boeing 717',\n",
       "       'Canadair CRJ-701ER', 'BAe Avro RJ85', 'Bombardier Challenger 300',\n",
       "       'Airbus A220-300', 'Sukhoi Superjet 100', 'Boeing 737-400',\n",
       "       'Airbus A350-900', 'Challenger 350', 'Embraer 135', 'Boeing 737-200',\n",
       "       'Boeing 737-800 (winglets)', 'Embraer 190', 'Canadair CRJ 100',\n",
       "       'Boeing 737-300', 'Canadair CRJ 700', 'Canadair CRJ 900NG',\n",
       "       'Airbus A340', 'McDonnell Douglas MD-90', 'Fokker 100', 'Embraer 195',\n",
       "       'Airbus A300-600F', 'HDJT', 'Airbus A318', 'Gulfstream G280',\n",
       "       'Boeing 787-10', 'Hawker 400XP', 'Hawker 800',\n",
       "       'Boeing 737-700 (winglets)', 'McDonnell Douglas MD-83',\n",
       "       'McDonnell Douglas MD-88', 'PA34', 'Pilatus PC-12', 'Piper Archer',\n",
       "       'S92', 'SW3', 'Airbus A320 NEO',\n",
       "       'De Havilland Canada DHC-8-300 Dash 8 / 8Q', 'Embraer 140',\n",
       "       'Diamond DV20', 'Boeing 727-100 Freighter', 'Bombardier Challenger 350',\n",
       "       'Bombardier Learjet 45', 'Airbus A380', 'Canadair CRJ Freighter',\n",
       "       'Canadair CRJ-702ER', 'Canadair Regional Jet', 'Cessna 182',\n",
       "       'Cessna 208 Caravan', 'Cessna 510 Citation Mustang',\n",
       "       'Cessna 525A Citation CJ2', 'Cessna 560 Citation Excel',\n",
       "       'Cessna 680A Citation Latitude', 'Challenger 300', 'Airbus A340-600',\n",
       "       'Beechcraft 200 Super King Air', 'Airbus A340-500',\n",
       "       'Cessna 750 Citation X'],\n",
       "      dtype='object', name='typeName')"
      ]
     },
     "execution_count": 57,
     "metadata": {},
     "output_type": "execute_result"
    }
   ],
   "source": [
    "type_name_frequency = df.groupby('typeName').flight_id.count().sort_values(ascending=False)\n",
    "type_name_frequency.index"
   ]
  },
  {
   "cell_type": "code",
   "execution_count": 52,
   "metadata": {},
   "outputs": [
    {
     "data": {
      "text/plain": [
       "0      Boeing 737-800\n",
       "1      Boeing 767-300\n",
       "2         Airbus A320\n",
       "3         Airbus A330\n",
       "4         Airbus A340\n",
       "            ...      \n",
       "863      Boeing 787-8\n",
       "864      Boeing 787-8\n",
       "865    Boeing 737-800\n",
       "866    Boeing 737-800\n",
       "867       Embraer 175\n",
       "Name: typeName, Length: 868, dtype: object"
      ]
     },
     "execution_count": 52,
     "metadata": {},
     "output_type": "execute_result"
    }
   ],
   "source": [
    "df['typeName']"
   ]
  },
  {
   "cell_type": "markdown",
   "metadata": {},
   "source": [
    "##### Plot"
   ]
  },
  {
   "cell_type": "code",
   "execution_count": null,
   "metadata": {},
   "outputs": [],
   "source": [
    "fig2 = go.Figure(data=[\n",
    "    go.Bar(x=type_name_frequency.head(10).index, y=type_name_frequency.head(10).values, name=\"Type\", marker_color=\"green\")\n",
    "])\n",
    "\n",
    "fig2.update_layout(\n",
    "    title={'text': \"Top 10 Most Frequent IFE Aircrafts\", 'font': {\"size\": 24}},\n",
    "    xaxis_title=\"Aircraft Type\",\n",
    "    yaxis_title=\"IFE Aircraft Frequency\",\n",
    ")"
   ]
  },
  {
   "cell_type": "markdown",
   "metadata": {},
   "source": [
    "## Age + Frequency SCATTER"
   ]
  },
  {
   "cell_type": "markdown",
   "metadata": {},
   "source": [
    "##### Data Prep"
   ]
  },
  {
   "cell_type": "code",
   "execution_count": 76,
   "metadata": {},
   "outputs": [
    {
     "data": {
      "text/html": [
       "<div>\n",
       "<style scoped>\n",
       "    .dataframe tbody tr th:only-of-type {\n",
       "        vertical-align: middle;\n",
       "    }\n",
       "\n",
       "    .dataframe tbody tr th {\n",
       "        vertical-align: top;\n",
       "    }\n",
       "\n",
       "    .dataframe thead th {\n",
       "        text-align: right;\n",
       "    }\n",
       "</style>\n",
       "<table border=\"1\" class=\"dataframe\">\n",
       "  <thead>\n",
       "    <tr style=\"text-align: right;\">\n",
       "      <th></th>\n",
       "      <th>typeName</th>\n",
       "      <th>frequency</th>\n",
       "    </tr>\n",
       "  </thead>\n",
       "  <tbody>\n",
       "    <tr>\n",
       "      <th>0</th>\n",
       "      <td>Airbus A320</td>\n",
       "      <td>115</td>\n",
       "    </tr>\n",
       "    <tr>\n",
       "      <th>1</th>\n",
       "      <td>Boeing 737-800</td>\n",
       "      <td>112</td>\n",
       "    </tr>\n",
       "    <tr>\n",
       "      <th>2</th>\n",
       "      <td>Airbus A319</td>\n",
       "      <td>55</td>\n",
       "    </tr>\n",
       "    <tr>\n",
       "      <th>3</th>\n",
       "      <td>Boeing 737</td>\n",
       "      <td>47</td>\n",
       "    </tr>\n",
       "    <tr>\n",
       "      <th>4</th>\n",
       "      <td>Embraer 175</td>\n",
       "      <td>40</td>\n",
       "    </tr>\n",
       "    <tr>\n",
       "      <th>...</th>\n",
       "      <td>...</td>\n",
       "      <td>...</td>\n",
       "    </tr>\n",
       "    <tr>\n",
       "      <th>94</th>\n",
       "      <td>Challenger 300</td>\n",
       "      <td>1</td>\n",
       "    </tr>\n",
       "    <tr>\n",
       "      <th>95</th>\n",
       "      <td>Airbus A340-600</td>\n",
       "      <td>1</td>\n",
       "    </tr>\n",
       "    <tr>\n",
       "      <th>96</th>\n",
       "      <td>Beechcraft 200 Super King Air</td>\n",
       "      <td>1</td>\n",
       "    </tr>\n",
       "    <tr>\n",
       "      <th>97</th>\n",
       "      <td>Airbus A340-500</td>\n",
       "      <td>1</td>\n",
       "    </tr>\n",
       "    <tr>\n",
       "      <th>98</th>\n",
       "      <td>Cessna 750 Citation X</td>\n",
       "      <td>1</td>\n",
       "    </tr>\n",
       "  </tbody>\n",
       "</table>\n",
       "<p>99 rows × 2 columns</p>\n",
       "</div>"
      ],
      "text/plain": [
       "                         typeName  frequency\n",
       "0                     Airbus A320        115\n",
       "1                  Boeing 737-800        112\n",
       "2                     Airbus A319         55\n",
       "3                      Boeing 737         47\n",
       "4                     Embraer 175         40\n",
       "..                            ...        ...\n",
       "94                 Challenger 300          1\n",
       "95                Airbus A340-600          1\n",
       "96  Beechcraft 200 Super King Air          1\n",
       "97                Airbus A340-500          1\n",
       "98          Cessna 750 Citation X          1\n",
       "\n",
       "[99 rows x 2 columns]"
      ]
     },
     "execution_count": 76,
     "metadata": {},
     "output_type": "execute_result"
    }
   ],
   "source": [
    "type_name_frequency_df = type_name_frequency.reset_index()\n",
    "type_name_frequency_df.rename(columns={'flight_id':'frequency'},inplace=True)\n",
    "type_name_frequency_df"
   ]
  },
  {
   "cell_type": "code",
   "execution_count": 74,
   "metadata": {},
   "outputs": [
    {
     "data": {
      "text/html": [
       "<div>\n",
       "<style scoped>\n",
       "    .dataframe tbody tr th:only-of-type {\n",
       "        vertical-align: middle;\n",
       "    }\n",
       "\n",
       "    .dataframe tbody tr th {\n",
       "        vertical-align: top;\n",
       "    }\n",
       "\n",
       "    .dataframe thead th {\n",
       "        text-align: right;\n",
       "    }\n",
       "</style>\n",
       "<table border=\"1\" class=\"dataframe\">\n",
       "  <thead>\n",
       "    <tr style=\"text-align: right;\">\n",
       "      <th></th>\n",
       "      <th>typeName</th>\n",
       "      <th>ageYears_median</th>\n",
       "    </tr>\n",
       "  </thead>\n",
       "  <tbody>\n",
       "    <tr>\n",
       "      <th>0</th>\n",
       "      <td>ATR 72</td>\n",
       "      <td>10.90</td>\n",
       "    </tr>\n",
       "    <tr>\n",
       "      <th>1</th>\n",
       "      <td>Airbus A220-300</td>\n",
       "      <td>6.80</td>\n",
       "    </tr>\n",
       "    <tr>\n",
       "      <th>2</th>\n",
       "      <td>Airbus A300</td>\n",
       "      <td>27.05</td>\n",
       "    </tr>\n",
       "    <tr>\n",
       "      <th>3</th>\n",
       "      <td>Airbus A300-600</td>\n",
       "      <td>31.80</td>\n",
       "    </tr>\n",
       "    <tr>\n",
       "      <th>4</th>\n",
       "      <td>Airbus A300-600F</td>\n",
       "      <td>26.10</td>\n",
       "    </tr>\n",
       "    <tr>\n",
       "      <th>...</th>\n",
       "      <td>...</td>\n",
       "      <td>...</td>\n",
       "    </tr>\n",
       "    <tr>\n",
       "      <th>72</th>\n",
       "      <td>Hawker 400XP</td>\n",
       "      <td>19.40</td>\n",
       "    </tr>\n",
       "    <tr>\n",
       "      <th>73</th>\n",
       "      <td>McDonnell Douglas MD-11</td>\n",
       "      <td>32.40</td>\n",
       "    </tr>\n",
       "    <tr>\n",
       "      <th>74</th>\n",
       "      <td>McDonnell Douglas MD-88</td>\n",
       "      <td>37.70</td>\n",
       "    </tr>\n",
       "    <tr>\n",
       "      <th>75</th>\n",
       "      <td>McDonnell Douglas MD-90</td>\n",
       "      <td>25.65</td>\n",
       "    </tr>\n",
       "    <tr>\n",
       "      <th>76</th>\n",
       "      <td>Sukhoi Superjet 100</td>\n",
       "      <td>10.40</td>\n",
       "    </tr>\n",
       "  </tbody>\n",
       "</table>\n",
       "<p>77 rows × 2 columns</p>\n",
       "</div>"
      ],
      "text/plain": [
       "                   typeName  ageYears_median\n",
       "0                    ATR 72            10.90\n",
       "1           Airbus A220-300             6.80\n",
       "2               Airbus A300            27.05\n",
       "3           Airbus A300-600            31.80\n",
       "4          Airbus A300-600F            26.10\n",
       "..                      ...              ...\n",
       "72             Hawker 400XP            19.40\n",
       "73  McDonnell Douglas MD-11            32.40\n",
       "74  McDonnell Douglas MD-88            37.70\n",
       "75  McDonnell Douglas MD-90            25.65\n",
       "76      Sukhoi Superjet 100            10.40\n",
       "\n",
       "[77 rows x 2 columns]"
      ]
     },
     "execution_count": 74,
     "metadata": {},
     "output_type": "execute_result"
    }
   ],
   "source": [
    "median_age = df.groupby('typeName').ageYears.median()\n",
    "median_age.dropna(inplace=True)\n",
    "median_age_df = median_age.reset_index()\n",
    "median_age_df.rename(columns={'ageYears':'ageYears_median'}, inplace=True)\n",
    "median_age_df"
   ]
  },
  {
   "cell_type": "code",
   "execution_count": 78,
   "metadata": {},
   "outputs": [
    {
     "data": {
      "text/html": [
       "<div>\n",
       "<style scoped>\n",
       "    .dataframe tbody tr th:only-of-type {\n",
       "        vertical-align: middle;\n",
       "    }\n",
       "\n",
       "    .dataframe tbody tr th {\n",
       "        vertical-align: top;\n",
       "    }\n",
       "\n",
       "    .dataframe thead th {\n",
       "        text-align: right;\n",
       "    }\n",
       "</style>\n",
       "<table border=\"1\" class=\"dataframe\">\n",
       "  <thead>\n",
       "    <tr style=\"text-align: right;\">\n",
       "      <th></th>\n",
       "      <th>typeName</th>\n",
       "      <th>frequency</th>\n",
       "      <th>ageYears_median</th>\n",
       "    </tr>\n",
       "  </thead>\n",
       "  <tbody>\n",
       "    <tr>\n",
       "      <th>0</th>\n",
       "      <td>Airbus A320</td>\n",
       "      <td>115</td>\n",
       "      <td>15.0</td>\n",
       "    </tr>\n",
       "    <tr>\n",
       "      <th>1</th>\n",
       "      <td>Boeing 737-800</td>\n",
       "      <td>112</td>\n",
       "      <td>13.6</td>\n",
       "    </tr>\n",
       "    <tr>\n",
       "      <th>2</th>\n",
       "      <td>Airbus A319</td>\n",
       "      <td>55</td>\n",
       "      <td>19.7</td>\n",
       "    </tr>\n",
       "    <tr>\n",
       "      <th>3</th>\n",
       "      <td>Boeing 737</td>\n",
       "      <td>47</td>\n",
       "      <td>8.4</td>\n",
       "    </tr>\n",
       "    <tr>\n",
       "      <th>4</th>\n",
       "      <td>Embraer 175</td>\n",
       "      <td>40</td>\n",
       "      <td>8.0</td>\n",
       "    </tr>\n",
       "    <tr>\n",
       "      <th>...</th>\n",
       "      <td>...</td>\n",
       "      <td>...</td>\n",
       "      <td>...</td>\n",
       "    </tr>\n",
       "    <tr>\n",
       "      <th>72</th>\n",
       "      <td>Cessna 510 Citation Mustang</td>\n",
       "      <td>1</td>\n",
       "      <td>15.5</td>\n",
       "    </tr>\n",
       "    <tr>\n",
       "      <th>73</th>\n",
       "      <td>Cessna 560 Citation Excel</td>\n",
       "      <td>1</td>\n",
       "      <td>16.6</td>\n",
       "    </tr>\n",
       "    <tr>\n",
       "      <th>74</th>\n",
       "      <td>Challenger 300</td>\n",
       "      <td>1</td>\n",
       "      <td>16.1</td>\n",
       "    </tr>\n",
       "    <tr>\n",
       "      <th>75</th>\n",
       "      <td>Airbus A340-600</td>\n",
       "      <td>1</td>\n",
       "      <td>18.0</td>\n",
       "    </tr>\n",
       "    <tr>\n",
       "      <th>76</th>\n",
       "      <td>Airbus A340-500</td>\n",
       "      <td>1</td>\n",
       "      <td>16.3</td>\n",
       "    </tr>\n",
       "  </tbody>\n",
       "</table>\n",
       "<p>77 rows × 3 columns</p>\n",
       "</div>"
      ],
      "text/plain": [
       "                       typeName  frequency  ageYears_median\n",
       "0                   Airbus A320        115             15.0\n",
       "1                Boeing 737-800        112             13.6\n",
       "2                   Airbus A319         55             19.7\n",
       "3                    Boeing 737         47              8.4\n",
       "4                   Embraer 175         40              8.0\n",
       "..                          ...        ...              ...\n",
       "72  Cessna 510 Citation Mustang          1             15.5\n",
       "73    Cessna 560 Citation Excel          1             16.6\n",
       "74               Challenger 300          1             16.1\n",
       "75              Airbus A340-600          1             18.0\n",
       "76              Airbus A340-500          1             16.3\n",
       "\n",
       "[77 rows x 3 columns]"
      ]
     },
     "execution_count": 78,
     "metadata": {},
     "output_type": "execute_result"
    }
   ],
   "source": [
    "freq_medianage_merged = type_name_frequency_df.merge(median_age_df, on='typeName')\n",
    "freq_medianage_merged"
   ]
  },
  {
   "cell_type": "markdown",
   "metadata": {},
   "source": [
    "##### Plot"
   ]
  },
  {
   "cell_type": "code",
   "execution_count": null,
   "metadata": {},
   "outputs": [],
   "source": [
    "fig3 = go.Figure(data=[\n",
    "    go.Scatter(x=freq_medianage_merged['ageYears_median'], y=freq_medianage_merged['frequency'], name=\"Type\",mode='markers',hovertext=freq_medianage_merged['typeName'], marker_color=\"blue\")\n",
    "])\n",
    "\n",
    "fig3.update_layout(\n",
    "    title={'text': \"Age and Frequency per Aircraft Type\", 'font': {\"size\": 24}},\n",
    "    xaxis_title=\"Median Age (Years)\",\n",
    "    yaxis_title=\"IFE Aircraft Frequency\",\n",
    ")"
   ]
  }
 ],
 "metadata": {
  "kernelspec": {
   "display_name": "Python 3",
   "language": "python",
   "name": "python3"
  },
  "language_info": {
   "codemirror_mode": {
    "name": "ipython",
    "version": 3
   },
   "file_extension": ".py",
   "mimetype": "text/x-python",
   "name": "python",
   "nbconvert_exporter": "python",
   "pygments_lexer": "ipython3",
   "version": "3.11.7"
  }
 },
 "nbformat": 4,
 "nbformat_minor": 2
}
